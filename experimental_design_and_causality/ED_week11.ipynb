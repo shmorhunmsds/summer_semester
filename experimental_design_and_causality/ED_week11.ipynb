{
 "cells": [
  {
   "cell_type": "markdown",
   "id": "6bdd94d0",
   "metadata": {},
   "source": [
    "# Topic Overview \n",
    "Event studies offer a simple yet powerful framework for identifying causal effects by analyzing how outcomes change around the time of a specific event. The basic premise is to observe whether a noticeable shift in an outcome can be attributed to an event, such as a policy change, a market announcement, or even a personal superstition. However, distinguishing real effects from coincidental patterns requires careful reasoning about what would have happened in the absence of the event. This often involves constructing a counterfactual — an informed estimate of the outcome had the event not occurred — by drawing on historical trends, comparisons to similar units, or local averages. While conceptually intuitive, event studies face challenges due to time-varying confounders and random variation and are often best suited to short time horizons where the effect of an event is expected to appear quickly and clearly. \n",
    "\n",
    "## Learning Objectives \n",
    "- Perform event studies using methods developed for financial markets. \n",
    "- Perform event studies with multiple affected groups. \n",
    "- Use placebo tests with event studies. "
   ]
  },
  {
   "cell_type": "markdown",
   "id": "953b5558",
   "metadata": {},
   "source": [
    "## 1.1 Lesson: Foundations of Event Studies\n",
    "Event studies are perhaps the most basic kind of causal inference. The idea is to notice a change that occurred over time, when a particular event happened. However, that event was not the only thing that changed over time. Perhaps some other time-dependent variable caused the change? For example, could it be that the event was caused by: \n",
    "- the heat of the summer (as opposed to the winter), \n",
    "- the onset of the weekend (as opposed to the weekdays), \n",
    "- or the implementation of a particular law? "
   ]
  },
  {
   "cell_type": "markdown",
   "id": "fbd88b89",
   "metadata": {},
   "source": [
    "### What are Event Studies?\n",
    "When a major event happens, like a company announcing earnings or a new product launch, something in the data often shifts.  For example, a stock price might suddenly jump or drop right after the news is released. \n",
    "\n",
    "According to the **Efficient Market Hypothesis** \n",
    "- this reaction should be fast and short lived. \n",
    "- The market quickly absorbs all the relevant information from the announcement, and prices adjust accordingly. \n",
    "- After that, the effect fades, and the stock returns to moving with the usual market forces. \n",
    "\n",
    "In **event studies**, our goal is to figure out whether: \n",
    "- a specific change like a sudden spike in a stock's price was actually caused by the event or if it was just a coincidence. \n",
    "\n",
    "Did the announcement trigger the jump, or was the change due to something else happening at the same time: \n",
    "- a confounder? \n",
    "- Or maybe it wasn't a real change at all, a random fluctuation we're over analyzing. \n",
    "\n",
    "Event studies help us dig into this by looking at patterns before and after the event, comparing to similar cases, and estimating what would have happened without the event.  It's all about separating real impact from random noise. \n",
    "\n",
    "Here we see a stock price making a clear leap at a specific point in time. It looks like a strong signal, an obvious effect. But what if there were noise layered on top of that signal? Would the jump still stand out? That depends on the amount of noise. The stock price leaps up by five or six points. So if the noise stays within that range, the leap will likely still be visible.  But if the noise is larger, say fluctuations of 10 or more points, then the jump could get lost in the background. \n",
    "\n",
    "It might become hard to tell whether there was a meaningful change at all, but it also depends on how much data we have. More data means we have more ability to detect the leap. \n",
    "\n",
    "This illustrates a key idea in **event studies**: \n",
    "- Even real effects can be hard to detect if the surrounding noise is too high. \n",
    "- Signal clarity depends not just on the size of the effect, but on the level of randomness we're trying to see it through. \n",
    "\n",
    "Here is the same data, but with a large amount of noise on top. \n",
    "- Here it might be hard to see that there is a leap at 50 seconds. Again, a lot of it depends on the density of our samples. \n",
    "- With sparser data, we have a hard time detecting the leap up. With more frequent sampling, we could detect it. In this example, we can detect a non-zero treatment effect at the p = 0.05 level. \n",
    "\n",
    "There's also some evidence, though less strong, that the slope changed after the event. \n",
    "\n",
    "However, we can't detect a clear linear trend before the leap. In the code, \n",
    "- `x` represents a variable that increases linearly over time, while treated is a step function that turns on after the event. So a significant coefficient on x means we can detect a linear trend before the event. \n",
    "- A significant coefficient on `treated` means we detect a clear jump at the event. \n",
    "- And a significant coefficient on `x_treated`, the interaction between x and treated indicates a change in slope after the event. \n",
    "\n",
    "For any of these effects to be considered statistically significant, the t-value must exceed 1.96, which corresponds to the conventional p less than 0.05 threshold. \n",
    "\n",
    "This gives us a structured way to test whether a sudden change or a change in trend is statistically\n",
    "meaningful. That is, it's not just random noise.\n",
    "\n",
    "A further example of event studies is superstitions. \n",
    "\n",
    "For example, \n",
    "- if an event occurs (you begin wearing a new jacket to baseball games) and it seems to cause an effect (your team begins to win the games), then did the event cause the effect? Of course, one way to rule out this superstition might be that you may not believe that there can be any causal (physical) mechanism that would connect the jacket wearing with the baseball wins. \n",
    "- But suppose you’re willing to allow that there might be some possibly supernatural mechanism. Then one simple way to check would be to see if the team really began to win the games when you started to wear the jacket — or whether it actually started to win a bit before or a bit after that. \n",
    "- If you notice that the winning streak actually began a month prior to the jacket or if it began a month after, then it seems likely that the jacket is not the cause. \n",
    "- You might also want to check if the pattern is consistent with chance — maybe the winning streak is really just random noise. \n",
    "- If your team won 4 out of 10 games prior to the jacket-wearing but 6 out of 10 after, that doesn’t seem like enough of a difference to remove all doubts as to the origin of the change. \n",
    "\n",
    "### Prediction and Deviation\n",
    "We need to predict what would have happened in the absence of the event. In the previous example, we ask ourselves: What would have happened if we hadn’t worn the jacket? Perhaps the team would have won 4 out of 10 games, as it did before. This means that the 2/10 increase can be attributed to the event (assuming it’s not noise). There are at least three ways to predict this counterfactual: \n",
    "\n",
    "1. Assume that what happened before the event is what would happen after. Thus, the 4/10 wins before would translate to 4/10 after. \n",
    "2. Assume that any trends will continue. Thus, if the team is gradually winning more and more games, that trend might be ongoing. If the team won 1 of the first 5 games and 3 of the next 5, will it win 5 of the 5 after that? (Increasing by 2 every 5 games.) That might be our conclusion if we assume a linear trend. Perhaps then our team won more games not because of the jacket but because it was on an upward trend overall. \n",
    "3. We can compare our trend to similar cases. For example, if we look at other teams similar to ours — say, other teams that won only a few games — did they win more and more games after we started to wear the jacket? If so, then it seems unlikely that the jacket was the cause; something else was causing the change. Perhaps it was regression to the mean: Teams that win fewer games by chance are likely to return to an average number of wins. Of course, it is also possible that the jacket magically affected all teams like ours.\n",
    "\n",
    "Note that in case (1), we must convince ourselves that the trend is level — we do not want to assume there is no trend if there actually is one. Or we could consider the data only in the immediate vicinity of the event (a few games before and after the jacket is first worn). \n",
    "\n",
    "In all cases, event studies usually analyze a fairly short post-event time period, also known as a “short horizon.” Thus, if our wins increase from 1 of 5 to 3 of 5 to 5 of 5, it would be unreasonable (and, indeed, impossible) to expect them to then increase to 7 of 5 and 9 of 5. \n",
    "\n"
   ]
  },
  {
   "cell_type": "markdown",
   "id": "6bc8033d",
   "metadata": {},
   "source": [
    "## 1.2 Lesson: Event Study Methods and Models\n",
    "\n",
    "### Event Studies in the Stock Market\n",
    "\n",
    "#### Event Studies\n",
    "Measure how events impact a company's stock price\n",
    "- earnings announcements\n",
    "- product launches\n",
    "- regulatory changes\n",
    "- mergers \n",
    "\n",
    "**Fundamental question:** *Did the event cause a significant change in the stocks return?*\n",
    "\n",
    "We need to be able to compare the event against it's counterfactual - Estimate what the stock's return **would have been** if the event had not occurred. \n",
    "\n",
    "An event study of the stock market would likely have these components:\n",
    "1. **The Estimation Period** - The period before the event providing the baseline data used to estimate the normal return of the stock (what we'd expect it to return if the event never happened)\n",
    "2. **The Event Window/Observation Period** - This includes the event day and a few days before and after, we use this window to observe how the stock actually behaves around the time of the event. \n",
    "3. **An Abnormal Return (AR)** - The difference between an abnormal return and the predicted return. If this value is significantly different from 0, it suggests that the event had a real effect on the stock's performance. \n",
    "\n",
    "#### To Calculate Abnormal Returns:\n",
    "- **The Mean Adjusted Returns Model:*** Assumes the stock's predicted return is simply its historical average return over the estimation period\n",
    "    - Very easy to use, but very basic, not accounting for broader market trends or influences.\n",
    "- **The Market-Adjusted Returns Model:** Assumes the stock's return should move in line with a market index like the S&P 500.\n",
    "    - Good for controlling for market-wide movements, but assumes all stocks are equally sensitive to the market, which isn't always true.\n",
    "    - This model only works if the event doesn't effect the entire market.\n",
    "- **The Market Model:** A more refined approach that uses regression analysis to estimate how the stock typically moves relative to the market.\n",
    "    - The regression provides 3 key parameters:\n",
    "    1. **$\\alpha$ (alpha):** This captures the stock's average return that is not explained by the market.\n",
    "    2. **$\\beta$ (beta):** This measures how sensitive the stock is to movements in the overall market.\n",
    "    3. **$\\varepsilon$ (epsilon):** This is the residual or the error term - the part of the return that can't be explaiend by the model.\n",
    "    $$\\mathbf{Outcome}_t = \\alpha + \\beta \\cdot \\left(\\text{Market return at time } t \\right) + \\varepsilon$$\n",
    "\n",
    "#### Event STudies\n",
    "- Help us isolate the **causal impact** of an event, including\n",
    "    - Pre-event abnormal returns\n",
    "    - Post-event abnormal returns\n",
    "\n",
    "To help determine whether the abnormal returns are truly meaningful, we could use a statistical test such as a T-test. \n",
    "\n",
    "#### T-Test\n",
    "Helps assess whether the observed returns differ from what would normally happen. For example, if the abnormal return is positive but falls within the range of typical daily fluctuations, we might not conclude that the event had a significant effect. \n",
    "\n",
    " \n",
    "Stock returns do not necessarily exhibit persistent trends: \n",
    "- Just because a stock increased by 5% in January does not imply it will increase by another 5% in February. \n",
    "- If things were that simple, it would be easy to make a lot of money in the stock market: just sell off all the low-return stocks and buy the high-return ones. \n",
    "- But this strategy doesn’t work consistently, as future returns are not predictable solely from past returns. \n",
    "\n",
    "However, we need some model to guess the counterfactual: What would have happened without a given event? Suppose we own shares in a clothing corporation, and the company announces unexpectedly strong quarterly earnings. \n",
    "\n",
    "We start by picking an “estimation period” prior to an event and an “observation period” after it. Our goal then is to estimate the stock’s predicted return in both periods (even though we know the actual return in both). \n",
    "\n",
    "The following models might work:\n",
    "\n",
    "1. **Mean-Adjusted Returns Model:**  The predicted return in the estimation period is the mean return from that period.\n",
    "- The predicted return in the observation is the same\n",
    "- The abnormal return (AR) is just the data minus this mean return.\n",
    "- Thus, if the stock return was 5% in the estimation period, a flat trend is assumed where the expected return in the observation is also 5%.\n",
    "- If the return increased to 10%, then the abnormal return is 5%.\n",
    "- Note: When comparing returns across periods, ensure they are normalized to the same time scale (e.g., weekly return vs. monthly return), or annualized appropriately. Otherwise, differences may reflect duration rather than performance.\n",
    "\n",
    "2. **Market-adjusted returns model:** The predicted return in the estimation period is the market return in that period — the average return for all stocks. \n",
    "- The predicted return in the observation period is the market return in the observation period. \n",
    "- This model assumes that the event only affected the individual stock and not the broader market. \n",
    "- If the event had a broader economic impact, the market return would no longer serve as a valid counterfactual. \n",
    "- If the market return increased from 5% to 10%, that was because of external factors, not because of the clothing corporation’s profit announcement. \n",
    "- If the profit announcement was somehow so important that the market was affected by it, then the market return is a poor predictor of what the target return “would have been.” \n",
    "- However, if we can use the market return, then the abnormal return is relative to the market return, whether in the estimation or observation period.\n",
    "\n",
    "3. **Market model:** Using historical data from the estimation period, we can fit a linear regression of the target stock's returns ($\\mathbf{R}$) on market returns ($\\mathbf{R}_\\text{market}$), estimating parameters $\\alpha$ (alpha) and $\\mathbf{\\beta}$ (beta) in the equation:\n",
    "$$\\mathbf{R} \\; = \\;  \\alpha + \\beta \\times \\mathbf{R}_\\text{market} + \\varepsilon$$\n",
    "- We fit the alpha and beta on $\\mathbf{R}$ and $\\mathbf{R}_\\text{market}$ in the estimation period, and we can then use alpha and beta to predict $\\mathbf{R}$ in both periods from $\\mathbf{R}_\\text{market}$ in both periods.\n",
    "- #2 is a special case of this where we assume that $\\alpha = 0$ and $\\beta = 1$, while #1 assumes $\\beta = 0$.\n",
    "- we can then compute the **AR**, which is the actual $\\mathbf{R}$ minus the predicted $\\mathbf{R}$ (which is the residual of the regression). \n",
    "    - A statistically significant **AR** before the event may indicate information leakage or market anticipation. \n",
    "    - A rising **AR** could suggest that some investors had prior knowledge of the positive earnings surprise. Since something out of the ordinary was happening prior ot the event, perhaps we \"should have known\" that the event was coming\n",
    "- After the event, the **AR** is assumed to result from the event. It will usually stop changing just after the event, as demonstrated by the **Efficient Market Hypothesis:** The target return stops increasing or decreasing relative to the market return because all of the effect has been priced in already.\n",
    "- Statistical tests, such as a t-test, can be used to assess whether abnormal returns around the event date are significantly different from zero, controlling for normal return variation. This helps determine whether the event had a measurable impact. For instance, we might use a t-test that compares the AR on the day after the event with the standard deviation of ARs, measured from the estimation period. \n",
    "\n",
    "### Event Studies with Regression\n",
    "\n",
    "#### Event Studies With One Group\n",
    "This event study assumes that there might be a change in the value of the data after the event ($\\beta_2$) or a change in the slope of the trend ($\\beta_3$).\n",
    "\n",
    "**Basic Regression Model:** Break down event into key components:\n",
    "$$ \\text{Outcome} \\; = \\; \\beta_0 + \\beta_1 \\cdot t + \\beta_2 \\cdot \\text{After} + \\beta_3 \\cdot \\left(t \\times \\text{After}\\right) + \\varepsilon$$\n",
    "\n",
    "where:\n",
    "- $t$ is the time, usually cnetered around the event (e.g., $t$ = 0 on the event date)\n",
    "- $\\text{After}$: A binary indicator that equals $1$ after the event, and $0$ before\n",
    "- $t \\times \\text{After}$ an interation term that allows the trend to change after the event (the product of the two).\n",
    "\n",
    "**How to interpret the coefficients:**\n",
    "- $\\beta_0$ - the expected outcome at time zero (often just before the event)\n",
    "- $\\beta_1$ - the trend in the outcome before the event (slope of the line)\n",
    "- $\\beta_2$ - the immediate level shift after the event (a jump up or down)\n",
    "- $\\beta_3$ - the change in the trend after the event (a new slope)\n",
    "\n",
    "\n",
    "While this model can be powerful, its validity depends on some important assumptions:\n",
    "- **linearity:** it assumes linearity — both before and after the event. If the true relationship isn’t linear, adding higher-order polynomial terms might help, but this increases the risk of overfitting, especially with limited data.\n",
    "- **no autocorrelation:** if the datapoints are correlated over time (which is common in timeseries) there might look like there is an event effect when there isn't. the risk of this increases if the event date was chosen after noticing a trend.\n",
    "- **no confounding events:** other events happening around the same time can distort the analysis. \n",
    "\n",
    "\n",
    "This event study assumes that there might be a change in the value of the data after the event ($\\beta_2$) or a change in the slope of the trend ($\\beta_3$).\n",
    "\n",
    "\n",
    "Second, and more subtly, the presence of **autocorrelation** can create the illusion of a meaningful slope change even when no event effect exists. \n",
    "\n",
    "For example:\n",
    "- If a stock tends to move in the same direction for several periods — a behavior known as momentum or “inertia” — you might observe an upward trend after the event purely by chance. \n",
    "- In such cases, the model could mistakenly attribute this autocorrelated trend to the event itself, inflating the estimate of $\\beta_3$. \n",
    "- This is particularly problematic when the event date is selected ex post, based on when such a trend appears to begin.\n",
    "\n",
    "### Event Studies with Multiple Affected Groups:\n",
    "When you're analyzing how an event affects multiple entities, such as a portfolio of 10 stocks or regions. You have several modeling choices, each with tradeoffs:\n",
    "#### Approach 1:\n",
    "Average all the individual time series into a single composite series and apply the single-group model. We could average together the 10 time series, ignoring any differences between the 10 stocks. This is easy to implement, but assumes all groups are affected in the same way, ignoring variation between them.\n",
    "#### Approach 2: \n",
    "Run the basic regression model separately for each stock or unit. This allows for individual differences in response. No information is pooled, making it hard to detect patterns or common effects.\n",
    "#### Approach 3: \n",
    "Pool all the data and include a fixed effect for each group. (where there is a fixed effect $beta_i$ for group $i$) and an event study (where there is a different trend and intercept before the event vs. after). Thus:\n",
    "\n",
    "$$Y_{it} \\; = \\; \\beta_i + \\beta_1 \\cdot t + \\beta_2 \\cdot \\text{After} + \\beta_3 \\left(t \\cdot \\text{After}\\right) + \\varepsilon_{it}$$\n",
    "\n",
    "where, \n",
    "- $Y_{it}$ is the outcome for group $i$ at time $t$. \n",
    "- $\\beta_1$ captures group-specific baseline levels (fixed effects). \n",
    "- $\\beta_1, \\beta_2, \\beta_3$ are assumed to be constant across all groups. \n",
    "\n",
    "This model controls for group differences in baseline levels, uses pooled data for more statistical power, however, it assumes the groups share the same trend in response to the event, which may not be realistic. \n",
    "\n",
    "#### Approach 4:\n",
    "Model the average outocme across groups at each point in time. This model looks like\n",
    "$$Y_t = \\beta_0 + \\beta_t + \\varepsilon_{it}$$\n",
    "\n",
    "- $\\beta_t$ captures the deviation fromt he baseline at each time point.\n",
    "- no trend is explicitly modeled, the focus is on time-specific shifts. its flexible and simple to estimate, and useful for exploratory analysis, but it doesn't account for underlying patterns \n",
    "\n",
    "Suppose that news of a merger may have affected any of 10 different stocks. Each stock has its own time series. We’ll call one stock a “group,” in the sense of a group of samples. What are our options? \n",
    "\n",
    "1. We could average together the 10 time series, ignoring any differences between the 10 stocks. \n",
    "2. We could treat each stock separately, running a separate event study for each one. \n",
    "3. We do a cross between a fixed effects study (where there is a fixed effect $beta_i$ for group $i$) and an event study (where there is a different trend and intercept before the event vs. after). Thus:\n",
    "$$Y_{it} \\; = \\; \\beta_i + \\beta_1t + \\beta_2, \\text{After} + \\beta_3 \\left(t \\times \\text{After}\\right) + \\varepsilon_{it}$$\n",
    "\n",
    "This assumes that all stocks have the same linear trend before and after ($\\beta_1$ vs. $\\beta_1 + \\beta_3$) and the same discontinuous effect before/after ($\\beta_2$). \n",
    "\n",
    "(This equation assumes that we have taken an average over $i$ at each time step $t$, as in #1.)\n",
    "\n",
    "This just identifies the estimated value at each time ﻿t﻿, with no assumption of a linear trend. The estimated $beta_t$ is just the mean value of all stocks at the given time $t$, where $\\beta_0$ is for the period just before the event, so the estimated value at time 0 is $\\beta_0$ and the estimated value at another time $t$ is $\\beta_0 + \\beta_t$. \n",
    "\n",
    "For example, if we have $t = -1, 0$, and 1, with $t = 0$ being just before the event and $t = 1$ just after, then the predicted values will be $\\beta_0 + \\beta_{-1}$ at time $-1, \\beta_0$ at time 0, and $\\beta_0 + \\beta_1$ at time 1. An equivalent formulation would be $\\alpha (-1)$ at time $-1$, $\\alpha_0$ at time 0, and $\\alpha_1$ at time 1. Why separate out $\\beta_0$? \n",
    "\n",
    "What you want is that a nonzero and significant $\\beta_1, $\\beta_2$, etc., implies some effect from the event, instead of having to consider effects like $\\alpha_1 - \\alpha _0$ with two parts. However, this method can’t control for a trend. E.g., if $\\beta_{-2} = -2$, $\\beta_{-1} = -1$, and $\\beta_1 = 1$, then there appears to be a linear trend ($\\beta$ increases by 1 point per time step); so even if $\\beta_1$ is significant, it does not necessarily mean that there is an effect from the event. \n",
    "\n",
    "When you have multiple groups, it might not make sense to use the rest of the market as a counterfactual because it’s implausible that 10 groups were affected but the market wasn’t affected. You could only do this if you have reason to believe that the market was not affected by the event and all of these groups are affected."
   ]
  },
  {
   "cell_type": "markdown",
   "id": "fe2a75fc",
   "metadata": {},
   "source": [
    "## 1.3 Lesson: Time Series Forecasting and Model Validity\n",
    "\n",
    "### Forecasting Properly with Time Series Methods\n",
    "To predict the counterfactual, we really want time series with **Autoregressive Integrated Moving Average (ARIMA)** or something similar. The assigned reading this week considers **Autoregressive Moving Average (ARMA) only**.\n",
    "\n",
    "**AR(1) (autoregression)** would mean that each value of $Y$ is regressed on the previous value:\n",
    "$$Y_t = \\beta_0 + \\beta_1 Y_{t - 1} + \\varepsilon$$\n",
    "\n",
    "**AR(2)** would regress on the two previous values:\n",
    "$$Y_t = \\mu + \\beta_1 Y_{t - 1} + \\beta_2 Y_{t-2} + \\varepsilon$$\n",
    "\n",
    "Then a **MA(1)** (Moving average) would look like:\n",
    "$$Y_t = \\mu \\left(\\varepsilon_t + \\theta\\varepsilon_{t - 1}\\right)$$\n",
    "\n",
    "Where epsilons are assumed to be independent and identically (and normally) distributed with standard deviation sigma.\n",
    "\n",
    "Because the decomposition of the error term into $\\varepsilon_t$ and $\\theta \\varepsilon_{t-1}$ is unknown, we cannot use linear regression to compute this MA(1). However, if you know $\\theta$, $\\mu$, and $\\varepsilon_0$, then you know the epsilons:\n",
    "\n",
    "$$\\varepsilon_t = Y_t - \\mu - \\theta \\cdot \\varepsilon_{t-1}$$\n",
    "\n",
    "You can then predict the likelihood of the data by finding the a priori probability of each $\\varepsilon_tT and multiplying them together. \n",
    "\n",
    "- You also need sigma if you are to guess this probability. You want to choose the mu, theta, sigma, and $\\varepsilon_0$ that maximize this likelihood. \n",
    "- This is called maximum likelihood estimation. So, you guess $\\theta$, $\\mu$, $\\sigma$, and $\\varepsilon_0$ and iteratively improve on them. Just by guessing these four values, you can compute the moving average, and you can try to find the best possible values. \n",
    "\n",
    "We can then combine AR and MA to get an ARMA model like:\n",
    "\n",
    "$$Y_t = \\beta_0 + \\beta_1 Y_{t-1} + \\beta_2 Y_{t-2} + \\left(\\varepsilon_t + \\theta \\varepsilon_{t-1} \\right)$$\n",
    "\n",
    "Although the AR part of ARMA could be computed with linear regression, once the MA part is included, we must use maximum likelihood estimation instead due to the epsilons being unmeasurable. \n",
    "\n",
    "Other approaches include: ARIMA, ARIMAX, and SARIMAX.\n",
    "\n",
    "### The Joint-Test Problem\n",
    "The **joint-test problem** refers to the fact that when you test for the significance of an effect, you're not just testing whether the effect is zero — you're also implicitly assuming that your model is correctly specified. That is, your test result depends on both the presence of a real effect and the correctness of your model assumptions (e.g., functional form, independence, stationarity, no omitted variables). \n",
    "\n",
    "But since you can never fully verify that your model is correct, you’re never purely testing just the effect — you're also testing the validity of the model at the same time. This uncertainty limits how confidently we can interpret statistical significance. \n",
    "\n",
    "In causal inference, identifying the correct adjustment set (e.g., blocking back-door paths) depends on assumptions about the data-generating process that you can't directly test. \n",
    "\n",
    "**One way to partially address the joint-test problem is through placebo testing.** In a placebo test, you pretend that a treatment occurred at a time when it actually didn’t (or in a group that wasn’t treated) and then check whether your model still finds a \"significant\" effect. If it does, that’s a red flag: Your model may be picking up patterns in the data that are unrelated to the actual event. \n",
    "\n",
    "For example, suppose your model interprets oscillations in a stock price as evidence of an event-driven effect — but similar oscillations occur throughout the dataset, regardless of any events. Then the model might falsely flag significance both during the real event and during the placebo window. That would indicate your model is responding to general features of the data, not to the event itself. To address this, you might do many placebo tests (say, 1,000) and check the distribution of the effects. If the main event is stronger than 95% of the placebo events, then you have, in effect, a p < 0.05 result. "
   ]
  },
  {
   "cell_type": "markdown",
   "id": "e9d0987e",
   "metadata": {},
   "source": [
    "**Treatment variable:** The variable we want to know the effect of. How does it affect the outcome?\n",
    "\n",
    "**Counterfactual:** In research, a counterfactual refers to a hypothetical situation that contrasts with what actually happened, essentially exploring what might have been if a specific event or condition had been different. It's a way to understand the potential impact of a particular intervention or factor by imagining an alternative scenario and comparing it to the real-world outcome. "
   ]
  },
  {
   "cell_type": "code",
   "execution_count": 1,
   "id": "167ee4e7",
   "metadata": {},
   "outputs": [
    {
     "data": {
      "text/plain": [
       "<matplotlib.lines.Line2D at 0x3070f3ed0>"
      ]
     },
     "execution_count": 1,
     "metadata": {},
     "output_type": "execute_result"
    },
    {
     "data": {
      "image/png": "[encoded data removed]",
      "text/plain": [
       "<Figure size 640x480 with 1 Axes>"
      ]
     },
     "metadata": {},
     "output_type": "display_data"
    }
   ],
   "source": [
    "import pandas as pd\n",
    "import numpy as np\n",
    "import statsmodels.formula.api as smf\n",
    "import seaborn.objects as so\n",
    "import matplotlib.pyplot as plt\n",
    "# Use a seed to make the results consistent\n",
    "rng = np.random.default_rng(10)\n",
    "# Ten groups with ten periods each\n",
    "id = pd.DataFrame({'id': range(0,10), 'key': 1})\n",
    "t = pd.DataFrame({'t': range(1,11), 'key': 1})\n",
    "d = id.merge(t, on = 'key')\n",
    "# Add an event in period 6 with a one-period effect\n",
    "d['Y'] = rng.normal(0,1,100) + 1*(d['t'] == 6)\n",
    "\n",
    "# Estimate our model using time 5 as reference\n",
    "m = smf.ols('Y~C(t, Treatment(reference = 5))', data = d)\n",
    "\n",
    "# Fit with SEs clustered at the group level\n",
    "m = m.fit(cov_type = 'cluster',cov_kwds={'groups': d['id']})\n",
    "\n",
    "# Get coefficients and CIs \n",
    "# The original table will have an intercept up top\n",
    "# But we'll overwrite it with our 5 reference\n",
    "p = pd.DataFrame({'t': [5,1,2,3,4,6,7,8,9,10],\n",
    "    'b': m.params, 'se': m.bse, \n",
    "    'ci_top': list(m.conf_int().iloc[:,1]),\n",
    "    'ci_bottom': list(m.conf_int().iloc[:,0])})\n",
    "# Add our period-5 zero\n",
    "p.iloc[0] = [5, 0, 0, 0, 0]\n",
    "\n",
    "# Plot the estimates as connected lines with error bars\n",
    "fig = plt.figure()\n",
    "(so.Plot(p, x = 't', y = 'b', ymax = 'ci_top', ymin = 'ci_bottom')\n",
    " .on(fig).add(so.Line()).add(so.Range()).plot())\n",
    "fig.axes[0].axvline(5, linestyle = '--')\n",
    "fig.axes[0].axhline(0)"
   ]
  },
  {
   "cell_type": "code",
   "execution_count": 3,
   "id": "c0a92de1",
   "metadata": {},
   "outputs": [
    {
     "data": {
      "application/vnd.microsoft.datawrangler.viewer.v0+json": {
       "columns": [
        {
         "name": "index",
         "rawType": "int64",
         "type": "integer"
        },
        {
         "name": "id",
         "rawType": "int64",
         "type": "integer"
        },
        {
         "name": "key",
         "rawType": "int64",
         "type": "integer"
        },
        {
         "name": "t",
         "rawType": "int64",
         "type": "integer"
        },
        {
         "name": "Y",
         "rawType": "float64",
         "type": "float"
        }
       ],
       "ref": "c4d48125-d670-47a7-81f7-2596641717f9",
       "rows": [
        [
         "0",
         "0",
         "1",
         "1",
         "-1.103338449065532"
        ],
        [
         "1",
         "0",
         "1",
         "2",
         "-0.7250246402444398"
        ],
        [
         "2",
         "0",
         "1",
         "3",
         "-0.7818052573180567"
        ],
        [
         "3",
         "0",
         "1",
         "4",
         "0.2669758563943925"
        ],
        [
         "4",
         "0",
         "1",
         "5",
         "-0.24858072943889084"
        ],
        [
         "5",
         "0",
         "1",
         "6",
         "1.1264830515118498"
        ],
        [
         "6",
         "0",
         "1",
         "7",
         "0.8430425708043379"
        ],
        [
         "7",
         "0",
         "1",
         "8",
         "0.8579365494757685"
        ],
        [
         "8",
         "0",
         "1",
         "9",
         "0.47518364194858514"
        ],
        [
         "9",
         "0",
         "1",
         "10",
         "-0.4507685980824168"
        ],
        [
         "10",
         "1",
         "1",
         "1",
         "-0.7549322818237513"
        ],
        [
         "11",
         "1",
         "1",
         "2",
         "-0.8148141073390911"
        ],
        [
         "12",
         "1",
         "1",
         "3",
         "-0.3438548577942607"
        ],
        [
         "13",
         "1",
         "1",
         "4",
         "-0.05138009378693365"
        ],
        [
         "14",
         "1",
         "1",
         "5",
         "-0.972273677374357"
        ],
        [
         "15",
         "1",
         "1",
         "6",
         "-0.13448753295702276"
        ],
        [
         "16",
         "1",
         "1",
         "7",
         "0.30570521940427436"
        ],
        [
         "17",
         "1",
         "1",
         "8",
         "-1.8516850300587613"
        ],
        [
         "18",
         "1",
         "1",
         "9",
         "-0.1770535081731753"
        ],
        [
         "19",
         "1",
         "1",
         "10",
         "0.42582566727720134"
        ],
        [
         "20",
         "2",
         "1",
         "1",
         "-0.9853556064014685"
        ],
        [
         "21",
         "2",
         "1",
         "2",
         "-1.1129541306361368"
        ],
        [
         "22",
         "2",
         "1",
         "3",
         "-0.7606260324368407"
        ],
        [
         "23",
         "2",
         "1",
         "4",
         "0.6480245888364551"
        ],
        [
         "24",
         "2",
         "1",
         "5",
         "-0.12983135641150817"
        ],
        [
         "25",
         "2",
         "1",
         "6",
         "-0.8695972328417114"
        ],
        [
         "26",
         "2",
         "1",
         "7",
         "-0.42334910981158214"
        ],
        [
         "27",
         "2",
         "1",
         "8",
         "1.013896799797998"
        ],
        [
         "28",
         "2",
         "1",
         "9",
         "0.983715344494681"
        ],
        [
         "29",
         "2",
         "1",
         "10",
         "0.6300419507298725"
        ],
        [
         "30",
         "3",
         "1",
         "1",
         "-0.23805880511791805"
        ],
        [
         "31",
         "3",
         "1",
         "2",
         "-1.8449398759528108"
        ],
        [
         "32",
         "3",
         "1",
         "3",
         "0.16957772908778576"
        ],
        [
         "33",
         "3",
         "1",
         "4",
         "-0.17597776424923472"
        ],
        [
         "34",
         "3",
         "1",
         "5",
         "0.07679986448808807"
        ],
        [
         "35",
         "3",
         "1",
         "6",
         "2.5423041109956315"
        ],
        [
         "36",
         "3",
         "1",
         "7",
         "0.18368353864928177"
        ],
        [
         "37",
         "3",
         "1",
         "8",
         "0.2763338112116042"
        ],
        [
         "38",
         "3",
         "1",
         "9",
         "0.60509748714115"
        ],
        [
         "39",
         "3",
         "1",
         "10",
         "-0.25656890687358347"
        ],
        [
         "40",
         "4",
         "1",
         "1",
         "-0.6643563363880756"
        ],
        [
         "41",
         "4",
         "1",
         "2",
         "-0.7373730463555963"
        ],
        [
         "42",
         "4",
         "1",
         "3",
         "0.7669664848521094"
        ],
        [
         "43",
         "4",
         "1",
         "4",
         "0.5045526940525952"
        ],
        [
         "44",
         "4",
         "1",
         "5",
         "-0.48954647183368644"
        ],
        [
         "45",
         "4",
         "1",
         "6",
         "2.152695318344823"
        ],
        [
         "46",
         "4",
         "1",
         "7",
         "0.1843314807437683"
        ],
        [
         "47",
         "4",
         "1",
         "8",
         "-1.3402183858497783"
        ],
        [
         "48",
         "4",
         "1",
         "9",
         "0.6058789654488664"
        ],
        [
         "49",
         "4",
         "1",
         "10",
         "-0.13948567840174828"
        ]
       ],
       "shape": {
        "columns": 4,
        "rows": 100
       }
      },
      "text/html": [
       "<div>\n",
       "<style scoped>\n",
       "    .dataframe tbody tr th:only-of-type {\n",
       "        vertical-align: middle;\n",
       "    }\n",
       "\n",
       "    .dataframe tbody tr th {\n",
       "        vertical-align: top;\n",
       "    }\n",
       "\n",
       "    .dataframe thead th {\n",
       "        text-align: right;\n",
       "    }\n",
       "</style>\n",
       "<table border=\"1\" class=\"dataframe\">\n",
       "  <thead>\n",
       "    <tr style=\"text-align: right;\">\n",
       "      <th></th>\n",
       "      <th>id</th>\n",
       "      <th>key</th>\n",
       "      <th>t</th>\n",
       "      <th>Y</th>\n",
       "    </tr>\n",
       "  </thead>\n",
       "  <tbody>\n",
       "    <tr>\n",
       "      <th>0</th>\n",
       "      <td>0</td>\n",
       "      <td>1</td>\n",
       "      <td>1</td>\n",
       "      <td>-1.103338</td>\n",
       "    </tr>\n",
       "    <tr>\n",
       "      <th>1</th>\n",
       "      <td>0</td>\n",
       "      <td>1</td>\n",
       "      <td>2</td>\n",
       "      <td>-0.725025</td>\n",
       "    </tr>\n",
       "    <tr>\n",
       "      <th>2</th>\n",
       "      <td>0</td>\n",
       "      <td>1</td>\n",
       "      <td>3</td>\n",
       "      <td>-0.781805</td>\n",
       "    </tr>\n",
       "    <tr>\n",
       "      <th>3</th>\n",
       "      <td>0</td>\n",
       "      <td>1</td>\n",
       "      <td>4</td>\n",
       "      <td>0.266976</td>\n",
       "    </tr>\n",
       "    <tr>\n",
       "      <th>4</th>\n",
       "      <td>0</td>\n",
       "      <td>1</td>\n",
       "      <td>5</td>\n",
       "      <td>-0.248581</td>\n",
       "    </tr>\n",
       "    <tr>\n",
       "      <th>...</th>\n",
       "      <td>...</td>\n",
       "      <td>...</td>\n",
       "      <td>...</td>\n",
       "      <td>...</td>\n",
       "    </tr>\n",
       "    <tr>\n",
       "      <th>95</th>\n",
       "      <td>9</td>\n",
       "      <td>1</td>\n",
       "      <td>6</td>\n",
       "      <td>0.526401</td>\n",
       "    </tr>\n",
       "    <tr>\n",
       "      <th>96</th>\n",
       "      <td>9</td>\n",
       "      <td>1</td>\n",
       "      <td>7</td>\n",
       "      <td>-0.086423</td>\n",
       "    </tr>\n",
       "    <tr>\n",
       "      <th>97</th>\n",
       "      <td>9</td>\n",
       "      <td>1</td>\n",
       "      <td>8</td>\n",
       "      <td>0.386684</td>\n",
       "    </tr>\n",
       "    <tr>\n",
       "      <th>98</th>\n",
       "      <td>9</td>\n",
       "      <td>1</td>\n",
       "      <td>9</td>\n",
       "      <td>1.734767</td>\n",
       "    </tr>\n",
       "    <tr>\n",
       "      <th>99</th>\n",
       "      <td>9</td>\n",
       "      <td>1</td>\n",
       "      <td>10</td>\n",
       "      <td>1.065003</td>\n",
       "    </tr>\n",
       "  </tbody>\n",
       "</table>\n",
       "<p>100 rows × 4 columns</p>\n",
       "</div>"
      ],
      "text/plain": [
       "    id  key   t         Y\n",
       "0    0    1   1 -1.103338\n",
       "1    0    1   2 -0.725025\n",
       "2    0    1   3 -0.781805\n",
       "3    0    1   4  0.266976\n",
       "4    0    1   5 -0.248581\n",
       "..  ..  ...  ..       ...\n",
       "95   9    1   6  0.526401\n",
       "96   9    1   7 -0.086423\n",
       "97   9    1   8  0.386684\n",
       "98   9    1   9  1.734767\n",
       "99   9    1  10  1.065003\n",
       "\n",
       "[100 rows x 4 columns]"
      ]
     },
     "execution_count": 3,
     "metadata": {},
     "output_type": "execute_result"
    }
   ],
   "source": [
    "d"
   ]
  },
  {
   "cell_type": "markdown",
   "id": "680ad1f4",
   "metadata": {},
   "source": []
  },
  {
   "cell_type": "code",
   "execution_count": 8,
   "id": "2f20ecb2",
   "metadata": {},
   "outputs": [
    {
     "name": "stdout",
     "output_type": "stream",
     "text": [
      "Current grade: 96.84%\n"
     ]
    }
   ],
   "source": [
    "coding = 430 / 440\n",
    "reading = 102 / 110\n",
    "reflections = 97 / 100\n",
    "yellowdig = 100 / 100 \n",
    "\n",
    "current_grade = (coding * .52) + (reading * .14) + (reflections * .32) + (yellowdig * .02)\n",
    "print(f\"Current grade: {current_grade:.2%}\")"
   ]
  },
  {
   "cell_type": "code",
   "execution_count": 7,
   "id": "081c5e37",
   "metadata": {},
   "outputs": [
    {
     "name": "stdout",
     "output_type": "stream",
     "text": [
      "Model-based SE of β_X: 0.03328759427785401\n"
     ]
    }
   ],
   "source": [
    "import numpy as np\n",
    "import statsmodels.api as sm\n",
    "\n",
    "# simulate one dataset\n",
    "num = 10_000\n",
    "Z = np.random.normal(0, 1, num)\n",
    "X = Z + np.random.normal(0, 1, num)\n",
    "# note the heteroskedastic noise: variance = X**2\n",
    "Y = 1.5*X + 2.3*Z + np.random.normal(0, X**2, num)\n",
    "\n",
    "# fit OLS\n",
    "XZ = sm.add_constant(np.column_stack((X, Z)))\n",
    "model = sm.OLS(Y, XZ).fit()\n",
    "\n",
    "# grab the (model‐based) standard error of β_X\n",
    "se_model = model.bse[1]   # index 1 corresponds to X\n",
    "print(\"Model-based SE of β_X:\", se_model)"
   ]
  },
  {
   "cell_type": "code",
   "execution_count": 6,
   "id": "6fc87bf8",
   "metadata": {},
   "outputs": [
    {
     "name": "stdout",
     "output_type": "stream",
     "text": [
      "Empirical SE of β_X (across 100 sims): 0.05640550831670762\n"
     ]
    }
   ],
   "source": [
    "import numpy as np\n",
    "import statsmodels.api as sm\n",
    "\n",
    "def one_beta():\n",
    "    Z = np.random.normal(0, 1, num)\n",
    "    X = Z + np.random.normal(0, 1, num)\n",
    "    Y = 1.5*X + 2.3*Z + np.random.normal(0, X**2, num)\n",
    "    XZ = sm.add_constant(np.column_stack((X, Z)))\n",
    "    return sm.OLS(Y, XZ).fit().params[1]  # β̂_X\n",
    "\n",
    "# run 100 MC replications\n",
    "num = 10_000\n",
    "M = 100\n",
    "betas = np.array([one_beta() for _ in range(M)])\n",
    "\n",
    "se_empirical = betas.std(ddof=1)\n",
    "print(\"Empirical SE of β_X (across 100 sims):\", se_empirical)"
   ]
  }
 ],
 "metadata": {
  "kernelspec": {
   "display_name": "Python (uv)",
   "language": "python",
   "name": "uv"
  },
  "language_info": {
   "codemirror_mode": {
    "name": "ipython",
    "version": 3
   },
   "file_extension": ".py",
   "mimetype": "text/x-python",
   "name": "python",
   "nbconvert_exporter": "python",
   "pygments_lexer": "ipython3",
   "version": "3.11.7"
  }
 },
 "nbformat": 4,
 "nbformat_minor": 5
}
