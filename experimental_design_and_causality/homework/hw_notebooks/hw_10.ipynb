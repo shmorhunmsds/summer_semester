{
 "cells": [
  {
   "cell_type": "code",
   "execution_count": 8,
   "id": "5d86610a",
   "metadata": {},
   "outputs": [],
   "source": [
    "import numpy as np\n",
    "import statsmodels.api as sm\n",
    "import matplotlib.pyplot as plt\n",
    "import pandas as pd\n",
    "from scipy.optimize import curve_fit"
   ]
  },
  {
   "cell_type": "markdown",
   "id": "5f325170",
   "metadata": {},
   "source": [
    "# Coding Quiz 10\n",
    "\n",
    "## Question 1:\n",
    "Use the data in homework_10.1.csv and find the fixed effect (the constant term in the regression) for each time (0 through 11). Which of these describes the pattern:\n",
    "- Option A - The effects vary randomly.\n",
    "- Option B - The effects decrease from month 0 to about 5 or 6 but then eventually increase again.\n",
    "- Option C - The effects increase from month 0 to about 5 or 6 but then eventually decrease again.\n",
    "- Option D - The effects gradually increase from month 0 to 11. "
   ]
  },
  {
   "cell_type": "code",
   "execution_count": 3,
   "id": "1158519d",
   "metadata": {},
   "outputs": [
    {
     "data": {
      "application/vnd.microsoft.datawrangler.viewer.v0+json": {
       "columns": [
        {
         "name": "index",
         "rawType": "int64",
         "type": "integer"
        },
        {
         "name": "city",
         "rawType": "int64",
         "type": "integer"
        },
        {
         "name": "time",
         "rawType": "int64",
         "type": "integer"
        },
        {
         "name": "X",
         "rawType": "float64",
         "type": "float"
        },
        {
         "name": "y",
         "rawType": "float64",
         "type": "float"
        }
       ],
       "ref": "c5dff35a-91fb-4140-90ac-838288172d05",
       "rows": [
        [
         "0",
         "0",
         "0",
         "0.144043571160878",
         "7.552716445928269"
        ],
        [
         "1",
         "0",
         "1",
         "1.454273506962975",
         "10.077829366718872"
        ],
        [
         "2",
         "0",
         "2",
         "0.7610377251469934",
         "12.372730568998117"
        ],
        [
         "3",
         "0",
         "3",
         "0.1216750164928284",
         "11.48926332844895"
        ],
        [
         "4",
         "0",
         "4",
         "0.4438632327454256",
         "13.104832547972215"
        ],
        [
         "5",
         "0",
         "5",
         "0.3336743273742668",
         "13.883890984546346"
        ],
        [
         "6",
         "0",
         "6",
         "1.494079073157606",
         "15.940642458669997"
        ],
        [
         "7",
         "0",
         "7",
         "-0.2051582637658008",
         "11.011181912921836"
        ],
        [
         "8",
         "0",
         "8",
         "0.3130677016509013",
         "12.65224059351637"
        ],
        [
         "9",
         "0",
         "9",
         "-0.8540957393017248",
         "11.15524468699885"
        ],
        [
         "10",
         "0",
         "10",
         "-2.5529898158340787",
         "4.861952174020617"
        ],
        [
         "11",
         "0",
         "11",
         "0.6536185954403606",
         "10.257251085759597"
        ],
        [
         "12",
         "1",
         "0",
         "0.8644361988595057",
         "0.6417189023559624"
        ],
        [
         "13",
         "1",
         "1",
         "-0.7421650204064419",
         "1.2982077925569595"
        ],
        [
         "14",
         "1",
         "2",
         "2.2697546239876076",
         "8.377224654623825"
        ],
        [
         "15",
         "1",
         "3",
         "-1.4543656745987648",
         "2.2623652192487924"
        ],
        [
         "16",
         "1",
         "4",
         "0.045758517301446",
         "6.017089205070245"
        ],
        [
         "17",
         "1",
         "5",
         "-0.1871838500258336",
         "5.681351384299889"
        ],
        [
         "18",
         "1",
         "6",
         "1.5327792143584575",
         "11.54793258721414"
        ],
        [
         "19",
         "1",
         "7",
         "1.469358769900285",
         "9.802228077139988"
        ],
        [
         "20",
         "1",
         "8",
         "0.1549474256969163",
         "7.733673583200271"
        ],
        [
         "21",
         "1",
         "9",
         "0.3781625196021735",
         "6.445197512357"
        ],
        [
         "22",
         "1",
         "10",
         "-0.8877857476301128",
         "3.2488517965998582"
        ],
        [
         "23",
         "1",
         "11",
         "-1.980796468223927",
         "-1.1537067241846966"
        ],
        [
         "24",
         "2",
         "0",
         "-0.3479121493261526",
         "3.101246349685865"
        ],
        [
         "25",
         "2",
         "1",
         "0.15634896910398",
         "5.221316511600637"
        ],
        [
         "26",
         "2",
         "2",
         "1.2302906807277207",
         "9.951645215140209"
        ],
        [
         "27",
         "2",
         "3",
         "1.2023798487844113",
         "11.359623576257148"
        ],
        [
         "28",
         "2",
         "4",
         "-0.3873268174079523",
         "10.13387375921854"
        ],
        [
         "29",
         "2",
         "5",
         "-0.3023027505753355",
         "10.14738308335452"
        ],
        [
         "30",
         "2",
         "6",
         "-1.0485529650670926",
         "7.743468551899332"
        ],
        [
         "31",
         "2",
         "7",
         "-1.4200179371789752",
         "6.502361378027433"
        ],
        [
         "32",
         "2",
         "8",
         "-1.7062701906250126",
         "7.455543165463856"
        ],
        [
         "33",
         "2",
         "9",
         "1.9507753952317897",
         "11.69740784674293"
        ],
        [
         "34",
         "2",
         "10",
         "-0.5096521817516535",
         "4.71526854645178"
        ],
        [
         "35",
         "2",
         "11",
         "-0.4380743016111864",
         "5.44665561008328"
        ],
        [
         "36",
         "3",
         "0",
         "-1.2527953600499262",
         "7.898899579218808"
        ],
        [
         "37",
         "3",
         "1",
         "0.7774903558319101",
         "12.02206725306866"
        ],
        [
         "38",
         "3",
         "2",
         "-1.6138978475579515",
         "9.691005687792895"
        ],
        [
         "39",
         "3",
         "3",
         "-0.2127402802139687",
         "12.336813888868525"
        ],
        [
         "40",
         "3",
         "4",
         "-0.8954665611936756",
         "11.507171588785264"
        ],
        [
         "41",
         "3",
         "5",
         "0.386902497859262",
         "16.177557826268085"
        ],
        [
         "42",
         "3",
         "6",
         "-0.510805137568873",
         "13.888250645680811"
        ],
        [
         "43",
         "3",
         "7",
         "-1.180632184122412",
         "12.792491192411854"
        ],
        [
         "44",
         "3",
         "8",
         "-0.0281822283386548",
         "15.987353974550311"
        ],
        [
         "45",
         "3",
         "9",
         "0.4283318705304176",
         "14.790571709460648"
        ],
        [
         "46",
         "3",
         "10",
         "0.0665172223831678",
         "12.767506964995018"
        ],
        [
         "47",
         "3",
         "11",
         "0.3024718977397814",
         "11.392675781936074"
        ],
        [
         "48",
         "4",
         "0",
         "-0.6343220936809636",
         "8.038743680844197"
        ],
        [
         "49",
         "4",
         "1",
         "-0.3627411659871381",
         "10.479042852368693"
        ]
       ],
       "shape": {
        "columns": 4,
        "rows": 360
       }
      },
      "text/html": [
       "<div>\n",
       "<style scoped>\n",
       "    .dataframe tbody tr th:only-of-type {\n",
       "        vertical-align: middle;\n",
       "    }\n",
       "\n",
       "    .dataframe tbody tr th {\n",
       "        vertical-align: top;\n",
       "    }\n",
       "\n",
       "    .dataframe thead th {\n",
       "        text-align: right;\n",
       "    }\n",
       "</style>\n",
       "<table border=\"1\" class=\"dataframe\">\n",
       "  <thead>\n",
       "    <tr style=\"text-align: right;\">\n",
       "      <th></th>\n",
       "      <th>city</th>\n",
       "      <th>time</th>\n",
       "      <th>X</th>\n",
       "      <th>y</th>\n",
       "    </tr>\n",
       "  </thead>\n",
       "  <tbody>\n",
       "    <tr>\n",
       "      <th>0</th>\n",
       "      <td>0</td>\n",
       "      <td>0</td>\n",
       "      <td>0.144044</td>\n",
       "      <td>7.552716</td>\n",
       "    </tr>\n",
       "    <tr>\n",
       "      <th>1</th>\n",
       "      <td>0</td>\n",
       "      <td>1</td>\n",
       "      <td>1.454274</td>\n",
       "      <td>10.077829</td>\n",
       "    </tr>\n",
       "    <tr>\n",
       "      <th>2</th>\n",
       "      <td>0</td>\n",
       "      <td>2</td>\n",
       "      <td>0.761038</td>\n",
       "      <td>12.372731</td>\n",
       "    </tr>\n",
       "    <tr>\n",
       "      <th>3</th>\n",
       "      <td>0</td>\n",
       "      <td>3</td>\n",
       "      <td>0.121675</td>\n",
       "      <td>11.489263</td>\n",
       "    </tr>\n",
       "    <tr>\n",
       "      <th>4</th>\n",
       "      <td>0</td>\n",
       "      <td>4</td>\n",
       "      <td>0.443863</td>\n",
       "      <td>13.104833</td>\n",
       "    </tr>\n",
       "    <tr>\n",
       "      <th>...</th>\n",
       "      <td>...</td>\n",
       "      <td>...</td>\n",
       "      <td>...</td>\n",
       "      <td>...</td>\n",
       "    </tr>\n",
       "    <tr>\n",
       "      <th>355</th>\n",
       "      <td>9</td>\n",
       "      <td>7</td>\n",
       "      <td>0.160928</td>\n",
       "      <td>6.829939</td>\n",
       "    </tr>\n",
       "    <tr>\n",
       "      <th>356</th>\n",
       "      <td>9</td>\n",
       "      <td>8</td>\n",
       "      <td>-0.190653</td>\n",
       "      <td>5.756958</td>\n",
       "    </tr>\n",
       "    <tr>\n",
       "      <th>357</th>\n",
       "      <td>9</td>\n",
       "      <td>9</td>\n",
       "      <td>-0.394850</td>\n",
       "      <td>6.793439</td>\n",
       "    </tr>\n",
       "    <tr>\n",
       "      <th>358</th>\n",
       "      <td>9</td>\n",
       "      <td>10</td>\n",
       "      <td>-0.267734</td>\n",
       "      <td>5.386801</td>\n",
       "    </tr>\n",
       "    <tr>\n",
       "      <th>359</th>\n",
       "      <td>9</td>\n",
       "      <td>11</td>\n",
       "      <td>-1.128011</td>\n",
       "      <td>2.370970</td>\n",
       "    </tr>\n",
       "  </tbody>\n",
       "</table>\n",
       "<p>360 rows × 4 columns</p>\n",
       "</div>"
      ],
      "text/plain": [
       "     city  time         X          y\n",
       "0       0     0  0.144044   7.552716\n",
       "1       0     1  1.454274  10.077829\n",
       "2       0     2  0.761038  12.372731\n",
       "3       0     3  0.121675  11.489263\n",
       "4       0     4  0.443863  13.104833\n",
       "..    ...   ...       ...        ...\n",
       "355     9     7  0.160928   6.829939\n",
       "356     9     8 -0.190653   5.756958\n",
       "357     9     9 -0.394850   6.793439\n",
       "358     9    10 -0.267734   5.386801\n",
       "359     9    11 -1.128011   2.370970\n",
       "\n",
       "[360 rows x 4 columns]"
      ]
     },
     "execution_count": 3,
     "metadata": {},
     "output_type": "execute_result"
    }
   ],
   "source": [
    "df = pd.read_csv('homework_10.1.csv', index_col=0)\n",
    "df"
   ]
  },
  {
   "cell_type": "code",
   "execution_count": 9,
   "id": "cb99dba0",
   "metadata": {},
   "outputs": [
    {
     "data": {
      "text/plain": [
       "{0: 2.560533928742988,\n",
       " 1: 4.812815242679989,\n",
       " 2: 6.364950616423025,\n",
       " 3: 7.179399191897816,\n",
       " 4: 8.053076440867905,\n",
       " 5: 9.122902599339945,\n",
       " 6: 8.750663383651567,\n",
       " 7: 8.316077371753956,\n",
       " 8: 8.075792834431955,\n",
       " 9: 7.815888085291215,\n",
       " 10: 5.521174535100574,\n",
       " 11: 4.492187939253872}"
      ]
     },
     "execution_count": 9,
     "metadata": {},
     "output_type": "execute_result"
    }
   ],
   "source": [
    "# Estimate fixed effects for each time period using dummy variables\n",
    "import statsmodels.formula.api as smf\n",
    "\n",
    "# Fit OLS with time dummies only (no city effects, just time fixed effects)\n",
    "fe_time = smf.ols('y ~ C(time)', data=df).fit()\n",
    "\n",
    "# Extract the fixed effects (intercept and time dummies)\n",
    "fixed_effects = fe_time.params\n",
    "\n",
    "# The constant is for time=0, and each C(time)[T.x] is the effect relative to time=0\n",
    "fixed_effects_per_time = {t: fixed_effects['Intercept'] + fixed_effects.get(f'C(time)[T.{t}]', 0) for t in range(12)}\n",
    "fixed_effects_per_time"
   ]
  },
  {
   "cell_type": "code",
   "execution_count": 11,
   "id": "9e12d867",
   "metadata": {},
   "outputs": [
    {
     "data": {
      "text/plain": [
       "{0: 10.871199370503561,\n",
       " 1: 5.315070941478359,\n",
       " 2: 7.929660438406206,\n",
       " 3: 12.874988521722786,\n",
       " 4: 10.636539431330007,\n",
       " 5: -0.14797355505949028,\n",
       " 6: 7.979321861682254,\n",
       " 7: 3.1923377883787696,\n",
       " 8: 3.3690644903821134,\n",
       " 9: 5.534342519037807}"
      ]
     },
     "execution_count": 11,
     "metadata": {},
     "output_type": "execute_result"
    }
   ],
   "source": [
    "# Estimate fixed effects for each city using dummy variables\n",
    "fe_city = smf.ols('y ~ C(city)', data=df).fit()\n",
    "\n",
    "# Extract the fixed effects (intercept and city dummies)\n",
    "city_effects = fe_city.params\n",
    "\n",
    "# The constant is for city=0, and each C(city)[T.x] is the effect relative to city=0\n",
    "fixed_effects_per_city = {c: city_effects['Intercept'] + city_effects.get(f'C(city)[T.{c}]', 0) for c in range(10)}\n",
    "fixed_effects_per_city"
   ]
  },
  {
   "cell_type": "code",
   "execution_count": 13,
   "id": "39a88ce2",
   "metadata": {},
   "outputs": [],
   "source": [
    "num = 1000\n",
    "X = np.clip(np.random.normal(3, 1, (num,)), 0.01, 100)\n",
    "Z = np.clip(np.random.normal(3, 1, (num,)), 0.01, 100)\n",
    "Y = np.log(X + Z) + np.random.normal(0, 1, (num,)) \n",
    "df = pd.DataFrame({'X': X, 'Z': Z, 'Y': Y})"
   ]
  },
  {
   "cell_type": "code",
   "execution_count": 14,
   "id": "09080fb1",
   "metadata": {},
   "outputs": [
    {
     "data": {
      "application/vnd.microsoft.datawrangler.viewer.v0+json": {
       "columns": [
        {
         "name": "index",
         "rawType": "int64",
         "type": "integer"
        },
        {
         "name": "X",
         "rawType": "float64",
         "type": "float"
        },
        {
         "name": "Z",
         "rawType": "float64",
         "type": "float"
        },
        {
         "name": "Y",
         "rawType": "float64",
         "type": "float"
        }
       ],
       "ref": "e10b760c-5254-4ce9-8ff5-98e8b03daaea",
       "rows": [
        [
         "0",
         "3.0803027879931815",
         "3.663465065341133",
         "2.330886523469938"
        ],
        [
         "1",
         "3.2448042515519964",
         "3.164956492630849",
         "2.070196772369584"
        ],
        [
         "2",
         "3.0980129136223824",
         "2.0051861887528712",
         "2.6256438231541903"
        ],
        [
         "3",
         "2.6598017592385297",
         "3.910396734448282",
         "0.6364074328170086"
        ],
        [
         "4",
         "2.000599552362125",
         "3.912994127173138",
         "3.555588311062789"
        ],
        [
         "5",
         "4.130893458020038",
         "1.9102319339381066",
         "2.6907395729252164"
        ],
        [
         "6",
         "3.355121349993956",
         "4.533920414605914",
         "2.653180126693954"
        ],
        [
         "7",
         "3.1783639292346586",
         "3.9353181207815284",
         "1.3197487643684152"
        ],
        [
         "8",
         "2.894505896362414",
         "3.131550101753298",
         "0.4495218477530054"
        ],
        [
         "9",
         "2.4566430518085838",
         "2.660025107513033",
         "1.8627779780983524"
        ],
        [
         "10",
         "0.9699157765612805",
         "3.346181541119678",
         "1.0907421296786515"
        ],
        [
         "11",
         "2.751520365295944",
         "0.48381121762855095",
         "0.7533131227333534"
        ],
        [
         "12",
         "3.5436137476061633",
         "2.815325249511625",
         "2.2180171973241176"
        ],
        [
         "13",
         "3.754976864410385",
         "2.7591808022667053",
         "2.60471387299851"
        ],
        [
         "14",
         "2.4780851488731925",
         "2.535833344823255",
         "0.9191616977931869"
        ],
        [
         "15",
         "3.1227288481199453",
         "3.934770103295654",
         "0.8866502289595246"
        ],
        [
         "16",
         "3.499657136955345",
         "2.4279074011052986",
         "0.7166959459534616"
        ],
        [
         "17",
         "3.1564783194920913",
         "1.4076026578638083",
         "1.708674870479483"
        ],
        [
         "18",
         "3.897656680734668",
         "2.63916844357194",
         "1.9735834295939825"
        ],
        [
         "19",
         "3.087993559826156",
         "3.22650439981457",
         "2.7201894572692673"
        ],
        [
         "20",
         "2.594664198777177",
         "4.1764143525130315",
         "3.326534048892258"
        ],
        [
         "21",
         "2.152271889280455",
         "2.5498734430826837",
         "0.7375281354863259"
        ],
        [
         "22",
         "3.59240138367157",
         "3.2242781618025758",
         "0.978982139737847"
        ],
        [
         "23",
         "2.9812017299471036",
         "1.0495879376273871",
         "2.8798805210859575"
        ],
        [
         "24",
         "2.204011903990989",
         "4.065224705811074",
         "2.6258319834563437"
        ],
        [
         "25",
         "2.5416109824451447",
         "3.345206282103053",
         "1.590306108788013"
        ],
        [
         "26",
         "3.6165174492757286",
         "3.8145750690650866",
         "2.7130292937935545"
        ],
        [
         "27",
         "3.9631943025770484",
         "0.5124502533558277",
         "2.188064384113658"
        ],
        [
         "28",
         "3.0806963571148143",
         "1.9696028637847656",
         "2.3776503935900974"
        ],
        [
         "29",
         "4.874842027895575",
         "3.677651055598388",
         "3.37661503084097"
        ],
        [
         "30",
         "3.5451476619808457",
         "3.9678937180765104",
         "1.0512164726639768"
        ],
        [
         "31",
         "2.3525393860145654",
         "2.9771119971150792",
         "2.471624297102158"
        ],
        [
         "32",
         "4.205339898796531",
         "4.626562726959115",
         "2.1787476844985294"
        ],
        [
         "33",
         "3.7135536343596356",
         "2.341679763151487",
         "1.2663356523859548"
        ],
        [
         "34",
         "3.0967335003236283",
         "3.2409088182689376",
         "1.801482705548179"
        ],
        [
         "35",
         "2.3346723616349",
         "3.0069416884981854",
         "1.881738845246357"
        ],
        [
         "36",
         "4.212379950503133",
         "4.995491796337653",
         "2.014195013518008"
        ],
        [
         "37",
         "4.685272157618309",
         "2.827901450864976",
         "1.912664774721376"
        ],
        [
         "38",
         "2.4731554859140523",
         "5.22448432964022",
         "3.3856310339385924"
        ],
        [
         "39",
         "2.256095105479413",
         "2.949774005025996",
         "2.4663866300917996"
        ],
        [
         "40",
         "4.163019875235467",
         "4.313782467647606",
         "3.557117953934239"
        ],
        [
         "41",
         "0.10082986784328352",
         "0.6383634598929344",
         "-0.6963765207891087"
        ],
        [
         "42",
         "1.6417002679972197",
         "4.332924052955924",
         "3.0096507436392943"
        ],
        [
         "43",
         "2.8484452403693656",
         "3.427024432883082",
         "2.3564704284060802"
        ],
        [
         "44",
         "2.6767934262247617",
         "3.112569739396551",
         "3.509602144766122"
        ],
        [
         "45",
         "4.104902970672781",
         "4.396396262310064",
         "3.2057546155313954"
        ],
        [
         "46",
         "0.718183020925458",
         "4.40533404732271",
         "2.727761860216105"
        ],
        [
         "47",
         "3.3640805049438898",
         "4.416042071633931",
         "2.6217245272862897"
        ],
        [
         "48",
         "4.325324268853321",
         "3.874155094654749",
         "2.6366711558208324"
        ],
        [
         "49",
         "4.378632666435682",
         "3.4140693680634326",
         "1.7980622440193281"
        ]
       ],
       "shape": {
        "columns": 3,
        "rows": 1000
       }
      },
      "text/html": [
       "<div>\n",
       "<style scoped>\n",
       "    .dataframe tbody tr th:only-of-type {\n",
       "        vertical-align: middle;\n",
       "    }\n",
       "\n",
       "    .dataframe tbody tr th {\n",
       "        vertical-align: top;\n",
       "    }\n",
       "\n",
       "    .dataframe thead th {\n",
       "        text-align: right;\n",
       "    }\n",
       "</style>\n",
       "<table border=\"1\" class=\"dataframe\">\n",
       "  <thead>\n",
       "    <tr style=\"text-align: right;\">\n",
       "      <th></th>\n",
       "      <th>X</th>\n",
       "      <th>Z</th>\n",
       "      <th>Y</th>\n",
       "    </tr>\n",
       "  </thead>\n",
       "  <tbody>\n",
       "    <tr>\n",
       "      <th>0</th>\n",
       "      <td>3.080303</td>\n",
       "      <td>3.663465</td>\n",
       "      <td>2.330887</td>\n",
       "    </tr>\n",
       "    <tr>\n",
       "      <th>1</th>\n",
       "      <td>3.244804</td>\n",
       "      <td>3.164956</td>\n",
       "      <td>2.070197</td>\n",
       "    </tr>\n",
       "    <tr>\n",
       "      <th>2</th>\n",
       "      <td>3.098013</td>\n",
       "      <td>2.005186</td>\n",
       "      <td>2.625644</td>\n",
       "    </tr>\n",
       "    <tr>\n",
       "      <th>3</th>\n",
       "      <td>2.659802</td>\n",
       "      <td>3.910397</td>\n",
       "      <td>0.636407</td>\n",
       "    </tr>\n",
       "    <tr>\n",
       "      <th>4</th>\n",
       "      <td>2.000600</td>\n",
       "      <td>3.912994</td>\n",
       "      <td>3.555588</td>\n",
       "    </tr>\n",
       "    <tr>\n",
       "      <th>...</th>\n",
       "      <td>...</td>\n",
       "      <td>...</td>\n",
       "      <td>...</td>\n",
       "    </tr>\n",
       "    <tr>\n",
       "      <th>995</th>\n",
       "      <td>2.496458</td>\n",
       "      <td>1.965517</td>\n",
       "      <td>0.465655</td>\n",
       "    </tr>\n",
       "    <tr>\n",
       "      <th>996</th>\n",
       "      <td>4.808224</td>\n",
       "      <td>4.196177</td>\n",
       "      <td>1.739227</td>\n",
       "    </tr>\n",
       "    <tr>\n",
       "      <th>997</th>\n",
       "      <td>3.853521</td>\n",
       "      <td>1.874653</td>\n",
       "      <td>0.783601</td>\n",
       "    </tr>\n",
       "    <tr>\n",
       "      <th>998</th>\n",
       "      <td>2.710847</td>\n",
       "      <td>1.837531</td>\n",
       "      <td>1.545752</td>\n",
       "    </tr>\n",
       "    <tr>\n",
       "      <th>999</th>\n",
       "      <td>2.452220</td>\n",
       "      <td>2.391674</td>\n",
       "      <td>1.864612</td>\n",
       "    </tr>\n",
       "  </tbody>\n",
       "</table>\n",
       "<p>1000 rows × 3 columns</p>\n",
       "</div>"
      ],
      "text/plain": [
       "            X         Z         Y\n",
       "0    3.080303  3.663465  2.330887\n",
       "1    3.244804  3.164956  2.070197\n",
       "2    3.098013  2.005186  2.625644\n",
       "3    2.659802  3.910397  0.636407\n",
       "4    2.000600  3.912994  3.555588\n",
       "..        ...       ...       ...\n",
       "995  2.496458  1.965517  0.465655\n",
       "996  4.808224  4.196177  1.739227\n",
       "997  3.853521  1.874653  0.783601\n",
       "998  2.710847  1.837531  1.545752\n",
       "999  2.452220  2.391674  1.864612\n",
       "\n",
       "[1000 rows x 3 columns]"
      ]
     },
     "execution_count": 14,
     "metadata": {},
     "output_type": "execute_result"
    }
   ],
   "source": [
    "df"
   ]
  },
  {
   "cell_type": "markdown",
   "id": "a0681eda",
   "metadata": {},
   "source": [
    "## Question 3\n",
    "For the following data, model np.exp(Y) as a function of X and Z. \n",
    "\n",
    "`num = 10000`\n",
    "\n",
    "`X = np.clip(np.random.normal(3, 1, (num,)), 0.01, 100)`\n",
    "\n",
    "`Z = np.clip(np.random.normal(3, 1, (num,)), 0.01, 100)`\n",
    "\n",
    "`Y = np.log(X + Z) + np.random.normal(0, 1, (num,))`\n",
    "\n",
    "With enough data, the coefficients of X and Y are closest to:"
   ]
  },
  {
   "cell_type": "code",
   "execution_count": 15,
   "id": "e2df990c",
   "metadata": {},
   "outputs": [],
   "source": [
    "import numpy as np\n",
    "from sklearn.linear_model import LinearRegression\n",
    "\n",
    "# 1) simulate one dataset\n",
    "n = 10_000\n",
    "X = np.clip(np.random.normal(3,1,n), 0.01, 100)\n",
    "Z = np.clip(np.random.normal(3,1,n), 0.01, 100)\n",
    "Y = np.log(X + Z) + np.random.normal(0,1,n)\n",
    "\n",
    "# 2) form the response\n",
    "R = np.exp(Y)\n",
    "\n",
    "# 3) fit the linear model\n",
    "model = LinearRegression().fit(np.column_stack((X,Z)), R)\n",
    "beta_X, beta_Z = model.coef_"
   ]
  },
  {
   "cell_type": "code",
   "execution_count": 16,
   "id": "4d6076c6",
   "metadata": {},
   "outputs": [],
   "source": [
    "M = 500              # number of Monte Carlo runs\n",
    "betas = np.zeros((M, 2))\n",
    "for m in range(M):\n",
    "    # simulate X, Z, Y, form R, fit model ...\n",
    "    betas[m] = LinearRegression().fit(\n",
    "        np.column_stack((X,Z)), np.exp(Y)\n",
    "    ).coef_\n",
    "# then examine betas[:,0] and betas[:,1]\n",
    "avg_beta_X = betas[:,0].mean()\n",
    "avg_beta_Z = betas[:,1].mean()"
   ]
  },
  {
   "cell_type": "code",
   "execution_count": 17,
   "id": "9e630284",
   "metadata": {},
   "outputs": [
    {
     "name": "stdout",
     "output_type": "stream",
     "text": [
      "Average beta_X: 1.6823305043023216, Average beta_Z: 1.7489755757710623\n"
     ]
    }
   ],
   "source": [
    "print(f\"Average beta_X: {avg_beta_X}, Average beta_Z: {avg_beta_Z}\")"
   ]
  },
  {
   "cell_type": "code",
   "execution_count": 28,
   "id": "3b514f75",
   "metadata": {},
   "outputs": [
    {
     "name": "stdout",
     "output_type": "stream",
     "text": [
      "Model-based SE of β_X: 0.03376468368033493\n"
     ]
    }
   ],
   "source": [
    "import numpy as np\n",
    "import statsmodels.api as sm\n",
    "\n",
    "# simulate one dataset\n",
    "num = 10_000\n",
    "Z = np.random.normal(0, 1, num)\n",
    "X = Z + np.random.normal(0, 1, num)\n",
    "# note the heteroskedastic noise: variance = X**2\n",
    "Y = 1.5*X + 2.3*Z + np.random.normal(0, X**2, num)\n",
    "\n",
    "# fit OLS\n",
    "XZ = sm.add_constant(np.column_stack((X, Z)))\n",
    "model = sm.OLS(Y, XZ).fit()\n",
    "\n",
    "# grab the (model‐based) standard error of β_X\n",
    "se_model = model.bse[1]   # index 1 corresponds to X\n",
    "print(\"Model-based SE of β_X:\", se_model)"
   ]
  },
  {
   "cell_type": "code",
   "execution_count": 23,
   "id": "57a54661",
   "metadata": {},
   "outputs": [
    {
     "name": "stdout",
     "output_type": "stream",
     "text": [
      "Empirical SE of β_X (across 100 sims): 0.05163886880051964\n"
     ]
    }
   ],
   "source": [
    "import numpy as np\n",
    "import statsmodels.api as sm\n",
    "\n",
    "def one_beta():\n",
    "    Z = np.random.normal(0, 1, num)\n",
    "    X = Z + np.random.normal(0, 1, num)\n",
    "    Y = 1.5*X + 2.3*Z + np.random.normal(0, X**2, num)\n",
    "    XZ = sm.add_constant(np.column_stack((X, Z)))\n",
    "    return sm.OLS(Y, XZ).fit().params[1]  # β̂_X\n",
    "\n",
    "# run 100 MC replications\n",
    "num = 10_000\n",
    "M = 100\n",
    "betas = np.array([one_beta() for _ in range(M)])\n",
    "\n",
    "se_empirical = betas.std(ddof=1)\n",
    "print(\"Empirical SE of β_X (across 100 sims):\", se_empirical)"
   ]
  },
  {
   "cell_type": "code",
   "execution_count": null,
   "id": "d12e7da2",
   "metadata": {},
   "outputs": [],
   "source": []
  }
 ],
 "metadata": {
  "kernelspec": {
   "display_name": "Python (uv)",
   "language": "python",
   "name": "uv"
  },
  "language_info": {
   "codemirror_mode": {
    "name": "ipython",
    "version": 3
   },
   "file_extension": ".py",
   "mimetype": "text/x-python",
   "name": "python",
   "nbconvert_exporter": "python",
   "pygments_lexer": "ipython3",
   "version": "3.11.7"
  }
 },
 "nbformat": 4,
 "nbformat_minor": 5
}
