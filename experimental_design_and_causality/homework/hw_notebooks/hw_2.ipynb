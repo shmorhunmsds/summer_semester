{
 "cells": [
  {
   "cell_type": "markdown",
   "id": "7d13b157",
   "metadata": {},
   "source": [
    "# Homework 2"
   ]
  },
  {
   "cell_type": "code",
   "execution_count": 1,
   "id": "88179d41",
   "metadata": {},
   "outputs": [],
   "source": [
    "import pandas as pd\n",
    "import numpy as np\n",
    "from sklearn.linear_model import LinearRegression"
   ]
  },
  {
   "cell_type": "markdown",
   "id": "af6847c5",
   "metadata": {},
   "source": [
    "For questions 1 and 2: \n",
    "- Do a regression to estimate the fixed effect of each group. We assume that there is one single linear coefficient for all the data, plus the fixed effect of each group. Use the file homework_2.1.csv.  The variables G1, G2, and G3 are the outcomes and the time is the treatment."
   ]
  },
  {
   "cell_type": "code",
   "execution_count": 2,
   "id": "0db46b7b",
   "metadata": {},
   "outputs": [
    {
     "data": {
      "text/html": [
       "<div>\n",
       "<style scoped>\n",
       "    .dataframe tbody tr th:only-of-type {\n",
       "        vertical-align: middle;\n",
       "    }\n",
       "\n",
       "    .dataframe tbody tr th {\n",
       "        vertical-align: top;\n",
       "    }\n",
       "\n",
       "    .dataframe thead th {\n",
       "        text-align: right;\n",
       "    }\n",
       "</style>\n",
       "<table border=\"1\" class=\"dataframe\">\n",
       "  <thead>\n",
       "    <tr style=\"text-align: right;\">\n",
       "      <th></th>\n",
       "      <th>time</th>\n",
       "      <th>G1</th>\n",
       "      <th>G2</th>\n",
       "      <th>G3</th>\n",
       "    </tr>\n",
       "  </thead>\n",
       "  <tbody>\n",
       "    <tr>\n",
       "      <th>0</th>\n",
       "      <td>0</td>\n",
       "      <td>0.882026</td>\n",
       "      <td>1.441575</td>\n",
       "      <td>0.065409</td>\n",
       "    </tr>\n",
       "    <tr>\n",
       "      <th>1</th>\n",
       "      <td>1</td>\n",
       "      <td>0.210079</td>\n",
       "      <td>-0.163880</td>\n",
       "      <td>0.140310</td>\n",
       "    </tr>\n",
       "    <tr>\n",
       "      <th>2</th>\n",
       "      <td>2</td>\n",
       "      <td>0.509369</td>\n",
       "      <td>-0.115242</td>\n",
       "      <td>0.819830</td>\n",
       "    </tr>\n",
       "    <tr>\n",
       "      <th>3</th>\n",
       "      <td>3</td>\n",
       "      <td>1.150447</td>\n",
       "      <td>1.014698</td>\n",
       "      <td>0.607632</td>\n",
       "    </tr>\n",
       "    <tr>\n",
       "      <th>4</th>\n",
       "      <td>4</td>\n",
       "      <td>0.973779</td>\n",
       "      <td>-0.046562</td>\n",
       "      <td>0.610066</td>\n",
       "    </tr>\n",
       "    <tr>\n",
       "      <th>...</th>\n",
       "      <td>...</td>\n",
       "      <td>...</td>\n",
       "      <td>...</td>\n",
       "      <td>...</td>\n",
       "    </tr>\n",
       "    <tr>\n",
       "      <th>95</th>\n",
       "      <td>95</td>\n",
       "      <td>1.303287</td>\n",
       "      <td>1.364227</td>\n",
       "      <td>1.768446</td>\n",
       "    </tr>\n",
       "    <tr>\n",
       "      <th>96</th>\n",
       "      <td>96</td>\n",
       "      <td>0.965250</td>\n",
       "      <td>1.845895</td>\n",
       "      <td>1.258862</td>\n",
       "    </tr>\n",
       "    <tr>\n",
       "      <th>97</th>\n",
       "      <td>97</td>\n",
       "      <td>1.862935</td>\n",
       "      <td>1.881752</td>\n",
       "      <td>1.511477</td>\n",
       "    </tr>\n",
       "    <tr>\n",
       "      <th>98</th>\n",
       "      <td>98</td>\n",
       "      <td>1.043456</td>\n",
       "      <td>2.561618</td>\n",
       "      <td>1.030275</td>\n",
       "    </tr>\n",
       "    <tr>\n",
       "      <th>99</th>\n",
       "      <td>99</td>\n",
       "      <td>1.190995</td>\n",
       "      <td>2.158264</td>\n",
       "      <td>1.425028</td>\n",
       "    </tr>\n",
       "  </tbody>\n",
       "</table>\n",
       "<p>100 rows × 4 columns</p>\n",
       "</div>"
      ],
      "text/plain": [
       "    time        G1        G2        G3\n",
       "0      0  0.882026  1.441575  0.065409\n",
       "1      1  0.210079 -0.163880  0.140310\n",
       "2      2  0.509369 -0.115242  0.819830\n",
       "3      3  1.150447  1.014698  0.607632\n",
       "4      4  0.973779 -0.046562  0.610066\n",
       "..   ...       ...       ...       ...\n",
       "95    95  1.303287  1.364227  1.768446\n",
       "96    96  0.965250  1.845895  1.258862\n",
       "97    97  1.862935  1.881752  1.511477\n",
       "98    98  1.043456  2.561618  1.030275\n",
       "99    99  1.190995  2.158264  1.425028\n",
       "\n",
       "[100 rows x 4 columns]"
      ]
     },
     "execution_count": 2,
     "metadata": {},
     "output_type": "execute_result"
    }
   ],
   "source": [
    "df = pd.read_csv('homework_2.1.csv', index_col=0)\n",
    "df"
   ]
  },
  {
   "cell_type": "code",
   "execution_count": 4,
   "id": "d981396e",
   "metadata": {},
   "outputs": [
    {
     "name": "stdout",
     "output_type": "stream",
     "text": [
      "   time group   outcome\n",
      "0     0    G1  0.882026\n",
      "1     1    G1  0.210079\n",
      "2     2    G1  0.509369\n",
      "3     3    G1  1.150447\n",
      "4     4    G1  0.973779\n"
     ]
    }
   ],
   "source": [
    "# 1b. Melt into long form so that each (group, time) is its own row\n",
    "#    Resulting columns: [time, group, outcome]\n",
    "df_long = df.melt(\n",
    "    id_vars=\"time\",\n",
    "    value_vars=[\"G1\", \"G2\", \"G3\"],\n",
    "    var_name=\"group\",\n",
    "    value_name=\"outcome\"\n",
    ")\n",
    "print(df_long.head())"
   ]
  },
  {
   "cell_type": "markdown",
   "id": "9e17b0b9",
   "metadata": {},
   "source": [
    "2. Compute group‐specific means of both “outcome” and “time”\n",
    "\n",
    "We need:\n",
    "- $\\bar{y}_g$ = mean outcome for each group $g\\in\\{G1,G2,G3\\}$.\n",
    "- $\\bar{t}_g$ = mean “time” for each group g."
   ]
  },
  {
   "cell_type": "code",
   "execution_count": 5,
   "id": "f6ff97c4",
   "metadata": {},
   "outputs": [],
   "source": [
    "# 2a. Compute group means in a separate DataFrame\n",
    "group_means = df_long.groupby(\"group\").agg(\n",
    "    mean_outcome = (\"outcome\", \"mean\"),\n",
    "    mean_time    = (\"time\",    \"mean\")\n",
    ").reset_index()\n",
    "\n",
    "# group_means looks like:\n",
    "#   group | mean_outcome | mean_time\n",
    "#   ------|--------------|----------\n",
    "#    \"G1\" |     0.524904  |   49.5\n",
    "#    \"G2\" |     1.036006  |   49.5\n",
    "#    \"G3\" |     0.715384  |   49.5\n",
    "\n",
    "# 2b. Merge those group‐means back into the long DataFrame\n",
    "df_long = df_long.merge(group_means, on=\"group\")\n",
    "\n",
    "# Now df_long columns are:\n",
    "#   time | group | outcome | mean_outcome | mean_time"
   ]
  },
  {
   "cell_type": "code",
   "execution_count": 6,
   "id": "692cb394",
   "metadata": {},
   "outputs": [
    {
     "data": {
      "text/html": [
       "<div>\n",
       "<style scoped>\n",
       "    .dataframe tbody tr th:only-of-type {\n",
       "        vertical-align: middle;\n",
       "    }\n",
       "\n",
       "    .dataframe tbody tr th {\n",
       "        vertical-align: top;\n",
       "    }\n",
       "\n",
       "    .dataframe thead th {\n",
       "        text-align: right;\n",
       "    }\n",
       "</style>\n",
       "<table border=\"1\" class=\"dataframe\">\n",
       "  <thead>\n",
       "    <tr style=\"text-align: right;\">\n",
       "      <th></th>\n",
       "      <th>time</th>\n",
       "      <th>group</th>\n",
       "      <th>outcome</th>\n",
       "      <th>mean_outcome</th>\n",
       "      <th>mean_time</th>\n",
       "    </tr>\n",
       "  </thead>\n",
       "  <tbody>\n",
       "    <tr>\n",
       "      <th>0</th>\n",
       "      <td>0</td>\n",
       "      <td>G1</td>\n",
       "      <td>0.882026</td>\n",
       "      <td>0.524904</td>\n",
       "      <td>49.5</td>\n",
       "    </tr>\n",
       "    <tr>\n",
       "      <th>1</th>\n",
       "      <td>1</td>\n",
       "      <td>G1</td>\n",
       "      <td>0.210079</td>\n",
       "      <td>0.524904</td>\n",
       "      <td>49.5</td>\n",
       "    </tr>\n",
       "    <tr>\n",
       "      <th>2</th>\n",
       "      <td>2</td>\n",
       "      <td>G1</td>\n",
       "      <td>0.509369</td>\n",
       "      <td>0.524904</td>\n",
       "      <td>49.5</td>\n",
       "    </tr>\n",
       "    <tr>\n",
       "      <th>3</th>\n",
       "      <td>3</td>\n",
       "      <td>G1</td>\n",
       "      <td>1.150447</td>\n",
       "      <td>0.524904</td>\n",
       "      <td>49.5</td>\n",
       "    </tr>\n",
       "    <tr>\n",
       "      <th>4</th>\n",
       "      <td>4</td>\n",
       "      <td>G1</td>\n",
       "      <td>0.973779</td>\n",
       "      <td>0.524904</td>\n",
       "      <td>49.5</td>\n",
       "    </tr>\n",
       "    <tr>\n",
       "      <th>...</th>\n",
       "      <td>...</td>\n",
       "      <td>...</td>\n",
       "      <td>...</td>\n",
       "      <td>...</td>\n",
       "      <td>...</td>\n",
       "    </tr>\n",
       "    <tr>\n",
       "      <th>295</th>\n",
       "      <td>95</td>\n",
       "      <td>G3</td>\n",
       "      <td>1.768446</td>\n",
       "      <td>0.715384</td>\n",
       "      <td>49.5</td>\n",
       "    </tr>\n",
       "    <tr>\n",
       "      <th>296</th>\n",
       "      <td>96</td>\n",
       "      <td>G3</td>\n",
       "      <td>1.258862</td>\n",
       "      <td>0.715384</td>\n",
       "      <td>49.5</td>\n",
       "    </tr>\n",
       "    <tr>\n",
       "      <th>297</th>\n",
       "      <td>97</td>\n",
       "      <td>G3</td>\n",
       "      <td>1.511477</td>\n",
       "      <td>0.715384</td>\n",
       "      <td>49.5</td>\n",
       "    </tr>\n",
       "    <tr>\n",
       "      <th>298</th>\n",
       "      <td>98</td>\n",
       "      <td>G3</td>\n",
       "      <td>1.030275</td>\n",
       "      <td>0.715384</td>\n",
       "      <td>49.5</td>\n",
       "    </tr>\n",
       "    <tr>\n",
       "      <th>299</th>\n",
       "      <td>99</td>\n",
       "      <td>G3</td>\n",
       "      <td>1.425028</td>\n",
       "      <td>0.715384</td>\n",
       "      <td>49.5</td>\n",
       "    </tr>\n",
       "  </tbody>\n",
       "</table>\n",
       "<p>300 rows × 5 columns</p>\n",
       "</div>"
      ],
      "text/plain": [
       "     time group   outcome  mean_outcome  mean_time\n",
       "0       0    G1  0.882026      0.524904       49.5\n",
       "1       1    G1  0.210079      0.524904       49.5\n",
       "2       2    G1  0.509369      0.524904       49.5\n",
       "3       3    G1  1.150447      0.524904       49.5\n",
       "4       4    G1  0.973779      0.524904       49.5\n",
       "..    ...   ...       ...           ...        ...\n",
       "295    95    G3  1.768446      0.715384       49.5\n",
       "296    96    G3  1.258862      0.715384       49.5\n",
       "297    97    G3  1.511477      0.715384       49.5\n",
       "298    98    G3  1.030275      0.715384       49.5\n",
       "299    99    G3  1.425028      0.715384       49.5\n",
       "\n",
       "[300 rows x 5 columns]"
      ]
     },
     "execution_count": 6,
     "metadata": {},
     "output_type": "execute_result"
    }
   ],
   "source": [
    "df_long"
   ]
  },
  {
   "cell_type": "markdown",
   "id": "0076dfca",
   "metadata": {},
   "source": [
    "\n",
    "Because each group (“G1”, “G2”, “G3”) has exactly 100 time‐points $\\{0,1,2,\\dots,99 \\} $, you’ll see $ \\text{ meantime } = 49.5$ for all three groups."
   ]
  },
  {
   "cell_type": "markdown",
   "id": "114559e1",
   "metadata": {},
   "source": []
  },
  {
   "cell_type": "code",
   "execution_count": 1,
   "id": "4e6ec79a",
   "metadata": {},
   "outputs": [
    {
     "name": "stdout",
     "output_type": "stream",
     "text": [
      "   Unnamed: 0  X          Y         Z\n",
      "0           0  0   1.182435 -0.725820\n",
      "1           1  0   2.714474  0.563476\n",
      "2           2  0   0.077612 -0.435632\n",
      "3           3  0  -0.154449 -0.104553\n",
      "4           4  0  22.298992 -2.321273\n",
      "\n",
      "Naive mean-difference (bootstrap) :\n",
      "  • Mean estimate = 2.9208\n",
      "  • Std. Dev.     = 0.1767\n",
      "  • 95% CI       = (2.5783, 3.2827)\n",
      "\n",
      "Regression-adjusted (Y ~ X + Z) (bootstrap) :\n",
      "  • Mean estimate = 2.8197\n",
      "  • Std. Dev.     = 0.1694\n",
      "  • 95% CI       = (2.4819, 3.1531)\n",
      "\n",
      "Skewness:\n",
      "  • Naive distribution skew = 0.0872\n",
      "  • Reg-adj distribution skew = 0.0270\n"
     ]
    }
   ],
   "source": [
    "import pandas as pd\n",
    "import numpy as np\n",
    "import statsmodels.api as sm\n",
    "\n",
    "# 1) LOAD THE DATASET\n",
    "df = pd.read_csv(\"homework_2.2.csv\")   # columns: [X, Y, Z]\n",
    "\n",
    "# Quick sanity check:\n",
    "print(df.head())\n",
    "#    X          Y         Z\n",
    "# 0  0   1.182435 -0.725820\n",
    "# 1  0   2.714474  0.563476\n",
    "# 2  0   0.077612 -0.435632\n",
    "# 3  0  -0.154449 -0.104553\n",
    "# 4  0  22.298992 -2.321273\n",
    "# …\n",
    "\n",
    "\n",
    "# 2) SET UP BOOTSTRAP PARAMETERS\n",
    "n_boot = 1000\n",
    "np.random.seed(42)   # for reproducibility\n",
    "\n",
    "# Lists to store each iteration’s estimate:\n",
    "naive_effects      = []\n",
    "regression_effects = []\n",
    "\n",
    "\n",
    "# 3) BOOTSTRAP LOOP\n",
    "for _ in range(n_boot):\n",
    "    # 3a. Sample with replacement\n",
    "    bs_sample = df.sample(frac=1, replace=True)\n",
    "    \n",
    "    # 3b. Naive mean-difference:\n",
    "    mean_treated   = bs_sample.loc[bs_sample[\"X\"] == 1, \"Y\"].mean()\n",
    "    mean_untreated = bs_sample.loc[bs_sample[\"X\"] == 0, \"Y\"].mean()\n",
    "    naive_effects.append(mean_treated - mean_untreated)\n",
    "    \n",
    "    # 3c. Regression-adjusted effect:\n",
    "    #      Refit OLS: Y ~ X + Z (with intercept)\n",
    "    X_reg = sm.add_constant(bs_sample[[\"X\", \"Z\"]])\n",
    "    y_reg = bs_sample[\"Y\"]\n",
    "    model  = sm.OLS(y_reg, X_reg).fit()\n",
    "    \n",
    "    #      Extract the coefficient on “X”\n",
    "    regression_effects.append(model.params[\"X\"])\n",
    "\n",
    "\n",
    "# 4) COMPUTE SUMMARIES\n",
    "\n",
    "# 4a. Naive effect summary\n",
    "naive_arr = np.array(naive_effects)\n",
    "print(\"\\nNaive mean-difference (bootstrap) :\")\n",
    "print(f\"  • Mean estimate = {naive_arr.mean():.4f}\")\n",
    "print(f\"  • Std. Dev.     = {naive_arr.std(ddof=1):.4f}\")\n",
    "ci_lo = np.quantile(naive_arr, 0.025)\n",
    "ci_hi = np.quantile(naive_arr, 0.975)\n",
    "print(f\"  • 95% CI       = ({ci_lo:.4f}, {ci_hi:.4f})\")\n",
    "\n",
    "\n",
    "# 4b. Regression-adjusted effect summary\n",
    "reg_arr = np.array(regression_effects)\n",
    "print(\"\\nRegression-adjusted (Y ~ X + Z) (bootstrap) :\")\n",
    "print(f\"  • Mean estimate = {reg_arr.mean():.4f}\")\n",
    "print(f\"  • Std. Dev.     = {reg_arr.std(ddof=1):.4f}\")\n",
    "ci_lo2 = np.quantile(reg_arr, 0.025)\n",
    "ci_hi2 = np.quantile(reg_arr, 0.975)\n",
    "print(f\"  • 95% CI       = ({ci_lo2:.4f}, {ci_hi2:.4f})\")\n",
    "\n",
    "\n",
    "# 5) OPTIONAL: LOOK AT SKEWNESS OR HISTOGRAM\n",
    "from scipy.stats import skew\n",
    "print(\"\\nSkewness:\")\n",
    "print(f\"  • Naive distribution skew = {skew(naive_arr):.4f}\")\n",
    "print(f\"  • Reg-adj distribution skew = {skew(reg_arr):.4f}\")\n",
    "\n",
    "\n",
    "# 6) OPTIONAL: PLOT BOTH HISTOGRAMS (UNCOMMENT IF YOU WANT TO SEE PLOTS)\n",
    "# import matplotlib.pyplot as plt\n",
    "# plt.figure(figsize=(12,4))\n",
    "# plt.subplot(1,2,1)\n",
    "# plt.hist(naive_arr, bins=30, edgecolor=\"k\", alpha=0.7)\n",
    "# plt.title(\"Bootstrap: Naive mean-difference\")\n",
    "# plt.xlabel(\"Effect estimate\"); plt.ylabel(\"Frequency\")\n",
    "# \n",
    "# plt.subplot(1,2,2)\n",
    "# plt.hist(reg_arr, bins=30, edgecolor=\"k\", alpha=0.7)\n",
    "# plt.title(\"Bootstrap: Regression-adjusted (X ~ Z)\")\n",
    "# plt.xlabel(\"Effect estimate\"); plt.ylabel(\"Frequency\")\n",
    "# plt.tight_layout()\n",
    "# plt.show()"
   ]
  },
  {
   "cell_type": "code",
   "execution_count": 2,
   "id": "3fe192a3",
   "metadata": {},
   "outputs": [
    {
     "data": {
      "application/vnd.microsoft.datawrangler.viewer.v0+json": {
       "columns": [
        {
         "name": "index",
         "rawType": "int64",
         "type": "integer"
        },
        {
         "name": "Unnamed: 0",
         "rawType": "int64",
         "type": "integer"
        },
        {
         "name": "X",
         "rawType": "int64",
         "type": "integer"
        },
        {
         "name": "Y",
         "rawType": "float64",
         "type": "float"
        },
        {
         "name": "Z",
         "rawType": "float64",
         "type": "float"
        }
       ],
       "ref": "07b7e5eb-30cc-4516-bd01-a3ebce0e6323",
       "rows": [
        [
         "0",
         "0",
         "0",
         "1.182435050121405",
         "-0.7258203210453938"
        ],
        [
         "1",
         "1",
         "0",
         "2.7144743504747493",
         "0.5634755202984244"
        ],
        [
         "2",
         "2",
         "0",
         "0.0776124002986314",
         "-0.4356320862270805"
        ],
        [
         "3",
         "3",
         "0",
         "-0.1544489192406309",
         "-0.1045525476931216"
        ],
        [
         "4",
         "4",
         "0",
         "22.298992149684803",
         "-2.3212728325081056"
        ],
        [
         "5",
         "5",
         "0",
         "-0.1990067442709893",
         "-0.2140943657467135"
        ],
        [
         "6",
         "6",
         "0",
         "2.563258134397972",
         "0.5434054256457874"
        ],
        [
         "7",
         "7",
         "1",
         "3.369376355344481",
         "-0.5374541021663481"
        ],
        [
         "8",
         "8",
         "1",
         "2.962495982646306",
         "-0.3802753353325444"
        ],
        [
         "9",
         "9",
         "0",
         "0.883325243306435",
         "0.2654729301058086"
        ],
        [
         "10",
         "10",
         "0",
         "-0.1851115247399178",
         "-0.1454317395181371"
        ],
        [
         "11",
         "11",
         "0",
         "1.5409410828808094",
         "0.3900747550744413"
        ],
        [
         "12",
         "12",
         "0",
         "-0.1837130061158466",
         "-0.1429263740697099"
        ],
        [
         "13",
         "13",
         "1",
         "2.9727605015605687",
         "-0.0141180473738408"
        ],
        [
         "14",
         "14",
         "0",
         "0.3824022700281098",
         "-0.5412923292510717"
        ],
        [
         "15",
         "15",
         "0",
         "6.019916795869897",
         "0.9153400195339444"
        ],
        [
         "16",
         "16",
         "0",
         "4.486198048627532",
         "0.7681113622541089"
        ],
        [
         "17",
         "17",
         "1",
         "3.254917764697123",
         "0.1016348006106466"
        ],
        [
         "18",
         "18",
         "0",
         "4.89486678316651",
         "0.8094421016746339"
        ],
        [
         "19",
         "19",
         "1",
         "3.000912324991753",
         "0.0004556434684505"
        ],
        [
         "20",
         "20",
         "1",
         "2.803569083883356",
         "-0.2267173497314221"
        ],
        [
         "21",
         "21",
         "0",
         "10.777431175668916",
         "1.281717326325701"
        ],
        [
         "22",
         "22",
         "0",
         "-0.1199879951010322",
         "-0.0734994032433303"
        ],
        [
         "23",
         "23",
         "0",
         "7.859859677634667",
         "1.0696345677110928"
        ],
        [
         "24",
         "24",
         "0",
         "4.720471025672454",
         "0.7920152242453191"
        ],
        [
         "25",
         "25",
         "0",
         "1.2564213596673168",
         "0.3397075800222407"
        ],
        [
         "26",
         "26",
         "0",
         "3.2737209704856554",
         "0.6335131637215642"
        ],
        [
         "27",
         "27",
         "1",
         "2.863495072549852",
         "-0.3126899042060573"
        ],
        [
         "28",
         "28",
         "0",
         "1.399983181116199",
         "0.3656824517547276"
        ],
        [
         "29",
         "29",
         "0",
         "1.166421312746581",
         "0.3227659730216918"
        ],
        [
         "30",
         "30",
         "0",
         "-0.178202854172604",
         "-0.1339740265843873"
        ],
        [
         "31",
         "31",
         "0",
         "1.062717447687648",
         "0.3025370529001116"
        ],
        [
         "32",
         "32",
         "0",
         "10.467659045423474",
         "-1.6606614286290629"
        ],
        [
         "33",
         "33",
         "0",
         "0.5268491218934107",
         "0.1812739492526104"
        ],
        [
         "34",
         "34",
         "0",
         "-0.1334715119620805",
         "-0.3153503255634066"
        ],
        [
         "35",
         "35",
         "0",
         "3.059202950790335",
         "-1.0073664534510132"
        ],
        [
         "36",
         "36",
         "0",
         "1.303843781233775",
         "-0.7484238837311473"
        ],
        [
         "37",
         "37",
         "0",
         "11.301627916227975",
         "-1.71668242662912"
        ],
        [
         "38",
         "38",
         "1",
         "2.809156869836116",
         "-0.1572054446544513"
        ],
        [
         "39",
         "39",
         "0",
         "5.438104694993773",
         "0.8618949755031119"
        ],
        [
         "40",
         "40",
         "0",
         "2.9649663273239346",
         "-0.9956087389318866"
        ],
        [
         "41",
         "41",
         "0",
         "4.390898638147398",
         "-1.158216952276195"
        ],
        [
         "42",
         "42",
         "0",
         "11.315996900398655",
         "1.3176295266235865"
        ],
        [
         "43",
         "43",
         "0",
         "9.928915334966938",
         "-1.623300062177118"
        ],
        [
         "44",
         "44",
         "0",
         "0.5216020232669851",
         "0.1798952548445387"
        ],
        [
         "45",
         "45",
         "0",
         "3.723729964628553",
         "0.6858589012510461"
        ],
        [
         "46",
         "46",
         "0",
         "0.1387722686192367",
         "0.0602968569227207"
        ],
        [
         "47",
         "47",
         "0",
         "0.6155961265910879",
         "-0.6038802115952422"
        ],
        [
         "48",
         "48",
         "0",
         "7.598927918118386",
         "1.048913761483825"
        ],
        [
         "49",
         "49",
         "0",
         "20.9596971499737",
         "-2.257167817654831"
        ]
       ],
       "shape": {
        "columns": 4,
        "rows": 10000
       }
      },
      "text/html": [
       "<div>\n",
       "<style scoped>\n",
       "    .dataframe tbody tr th:only-of-type {\n",
       "        vertical-align: middle;\n",
       "    }\n",
       "\n",
       "    .dataframe tbody tr th {\n",
       "        vertical-align: top;\n",
       "    }\n",
       "\n",
       "    .dataframe thead th {\n",
       "        text-align: right;\n",
       "    }\n",
       "</style>\n",
       "<table border=\"1\" class=\"dataframe\">\n",
       "  <thead>\n",
       "    <tr style=\"text-align: right;\">\n",
       "      <th></th>\n",
       "      <th>Unnamed: 0</th>\n",
       "      <th>X</th>\n",
       "      <th>Y</th>\n",
       "      <th>Z</th>\n",
       "    </tr>\n",
       "  </thead>\n",
       "  <tbody>\n",
       "    <tr>\n",
       "      <th>0</th>\n",
       "      <td>0</td>\n",
       "      <td>0</td>\n",
       "      <td>1.182435</td>\n",
       "      <td>-0.725820</td>\n",
       "    </tr>\n",
       "    <tr>\n",
       "      <th>1</th>\n",
       "      <td>1</td>\n",
       "      <td>0</td>\n",
       "      <td>2.714474</td>\n",
       "      <td>0.563476</td>\n",
       "    </tr>\n",
       "    <tr>\n",
       "      <th>2</th>\n",
       "      <td>2</td>\n",
       "      <td>0</td>\n",
       "      <td>0.077612</td>\n",
       "      <td>-0.435632</td>\n",
       "    </tr>\n",
       "    <tr>\n",
       "      <th>3</th>\n",
       "      <td>3</td>\n",
       "      <td>0</td>\n",
       "      <td>-0.154449</td>\n",
       "      <td>-0.104553</td>\n",
       "    </tr>\n",
       "    <tr>\n",
       "      <th>4</th>\n",
       "      <td>4</td>\n",
       "      <td>0</td>\n",
       "      <td>22.298992</td>\n",
       "      <td>-2.321273</td>\n",
       "    </tr>\n",
       "    <tr>\n",
       "      <th>...</th>\n",
       "      <td>...</td>\n",
       "      <td>...</td>\n",
       "      <td>...</td>\n",
       "      <td>...</td>\n",
       "    </tr>\n",
       "    <tr>\n",
       "      <th>9995</th>\n",
       "      <td>9995</td>\n",
       "      <td>0</td>\n",
       "      <td>0.019371</td>\n",
       "      <td>-0.409462</td>\n",
       "    </tr>\n",
       "    <tr>\n",
       "      <th>9996</th>\n",
       "      <td>9996</td>\n",
       "      <td>0</td>\n",
       "      <td>2.581533</td>\n",
       "      <td>0.545860</td>\n",
       "    </tr>\n",
       "    <tr>\n",
       "      <th>9997</th>\n",
       "      <td>9997</td>\n",
       "      <td>0</td>\n",
       "      <td>0.209599</td>\n",
       "      <td>-0.486216</td>\n",
       "    </tr>\n",
       "    <tr>\n",
       "      <th>9998</th>\n",
       "      <td>9998</td>\n",
       "      <td>0</td>\n",
       "      <td>16.829356</td>\n",
       "      <td>-2.045500</td>\n",
       "    </tr>\n",
       "    <tr>\n",
       "      <th>9999</th>\n",
       "      <td>9999</td>\n",
       "      <td>1</td>\n",
       "      <td>10.479564</td>\n",
       "      <td>1.039320</td>\n",
       "    </tr>\n",
       "  </tbody>\n",
       "</table>\n",
       "<p>10000 rows × 4 columns</p>\n",
       "</div>"
      ],
      "text/plain": [
       "      Unnamed: 0  X          Y         Z\n",
       "0              0  0   1.182435 -0.725820\n",
       "1              1  0   2.714474  0.563476\n",
       "2              2  0   0.077612 -0.435632\n",
       "3              3  0  -0.154449 -0.104553\n",
       "4              4  0  22.298992 -2.321273\n",
       "...          ... ..        ...       ...\n",
       "9995        9995  0   0.019371 -0.409462\n",
       "9996        9996  0   2.581533  0.545860\n",
       "9997        9997  0   0.209599 -0.486216\n",
       "9998        9998  0  16.829356 -2.045500\n",
       "9999        9999  1  10.479564  1.039320\n",
       "\n",
       "[10000 rows x 4 columns]"
      ]
     },
     "execution_count": 2,
     "metadata": {},
     "output_type": "execute_result"
    }
   ],
   "source": [
    "df"
   ]
  },
  {
   "cell_type": "code",
   "execution_count": null,
   "id": "345dbf6c",
   "metadata": {},
   "outputs": [],
   "source": []
  }
 ],
 "metadata": {
  "kernelspec": {
   "display_name": "Python (uv)",
   "language": "python",
   "name": "uv"
  },
  "language_info": {
   "codemirror_mode": {
    "name": "ipython",
    "version": 3
   },
   "file_extension": ".py",
   "mimetype": "text/x-python",
   "name": "python",
   "nbconvert_exporter": "python",
   "pygments_lexer": "ipython3",
   "version": "3.11.7"
  }
 },
 "nbformat": 4,
 "nbformat_minor": 5
}
