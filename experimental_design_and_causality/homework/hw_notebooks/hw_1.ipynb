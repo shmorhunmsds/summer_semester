{
 "cells": [
  {
   "cell_type": "code",
   "execution_count": 1,
   "id": "e9cf9263",
   "metadata": {},
   "outputs": [],
   "source": [
    "import pandas as pd\n",
    "import numpy as np\n",
    "from sklearn.linear_model import LinearRegression"
   ]
  },
  {
   "cell_type": "markdown",
   "id": "9f7623b6",
   "metadata": {},
   "source": [
    "For questions 1 to 3:\n",
    "\n",
    "Perform a linear regression to predict Y from X1, X2, and X3. Use the file homework_1.1.csv."
   ]
  },
  {
   "cell_type": "code",
   "execution_count": 10,
   "id": "3fa95431",
   "metadata": {},
   "outputs": [
    {
     "data": {
      "text/html": [
       "<div>\n",
       "<style scoped>\n",
       "    .dataframe tbody tr th:only-of-type {\n",
       "        vertical-align: middle;\n",
       "    }\n",
       "\n",
       "    .dataframe tbody tr th {\n",
       "        vertical-align: top;\n",
       "    }\n",
       "\n",
       "    .dataframe thead th {\n",
       "        text-align: right;\n",
       "    }\n",
       "</style>\n",
       "<table border=\"1\" class=\"dataframe\">\n",
       "  <thead>\n",
       "    <tr style=\"text-align: right;\">\n",
       "      <th></th>\n",
       "      <th>X1</th>\n",
       "      <th>X2</th>\n",
       "      <th>X3</th>\n",
       "      <th>Y</th>\n",
       "    </tr>\n",
       "  </thead>\n",
       "  <tbody>\n",
       "    <tr>\n",
       "      <th>0</th>\n",
       "      <td>-0.440646</td>\n",
       "      <td>-0.390227</td>\n",
       "      <td>0.156718</td>\n",
       "      <td>-0.877671</td>\n",
       "    </tr>\n",
       "    <tr>\n",
       "      <th>1</th>\n",
       "      <td>-3.810099</td>\n",
       "      <td>-1.304665</td>\n",
       "      <td>-1.105117</td>\n",
       "      <td>-10.130388</td>\n",
       "    </tr>\n",
       "    <tr>\n",
       "      <th>2</th>\n",
       "      <td>-1.425451</td>\n",
       "      <td>-0.340049</td>\n",
       "      <td>1.115908</td>\n",
       "      <td>0.284068</td>\n",
       "    </tr>\n",
       "    <tr>\n",
       "      <th>3</th>\n",
       "      <td>-1.325750</td>\n",
       "      <td>0.161906</td>\n",
       "      <td>-0.254670</td>\n",
       "      <td>-1.994344</td>\n",
       "    </tr>\n",
       "    <tr>\n",
       "      <th>4</th>\n",
       "      <td>3.120263</td>\n",
       "      <td>1.487343</td>\n",
       "      <td>-1.164839</td>\n",
       "      <td>2.030030</td>\n",
       "    </tr>\n",
       "  </tbody>\n",
       "</table>\n",
       "</div>"
      ],
      "text/plain": [
       "         X1        X2        X3          Y\n",
       "0 -0.440646 -0.390227  0.156718  -0.877671\n",
       "1 -3.810099 -1.304665 -1.105117 -10.130388\n",
       "2 -1.425451 -0.340049  1.115908   0.284068\n",
       "3 -1.325750  0.161906 -0.254670  -1.994344\n",
       "4  3.120263  1.487343 -1.164839   2.030030"
      ]
     },
     "execution_count": 10,
     "metadata": {},
     "output_type": "execute_result"
    }
   ],
   "source": [
    "df = pd.read_csv('homework_1.1.csv', index_col=0)\n",
    "df.head()"
   ]
  },
  {
   "cell_type": "code",
   "execution_count": 12,
   "id": "8bfd3d6a",
   "metadata": {},
   "outputs": [
    {
     "data": {
      "text/plain": [
       "Index(['X1', 'X2', 'X3', 'Y'], dtype='object')"
      ]
     },
     "execution_count": 12,
     "metadata": {},
     "output_type": "execute_result"
    }
   ],
   "source": [
    "df.columns"
   ]
  },
  {
   "cell_type": "code",
   "execution_count": 22,
   "id": "d63b2cfe",
   "metadata": {},
   "outputs": [
    {
     "name": "stdout",
     "output_type": "stream",
     "text": [
      "Coefficients: [1.00713766 1.96456859 2.97548854]\n",
      "Intercept: 0.0026430033841689515\n"
     ]
    }
   ],
   "source": [
    "from scipy import stats\n",
    "X = df[['X1', 'X2', 'X3']]\n",
    "y = df['Y']\n",
    "\n",
    "# Create a Linear Regression model\n",
    "linreg = LinearRegression()\n",
    "linreg.fit(X, y)\n",
    "\n",
    "# Get the coefficients and intercept\n",
    "coefficients = linreg.coef_\n",
    "intercept = linreg.intercept_\n",
    "\n",
    "print(f\"Coefficients: {coefficients}\")\n",
    "print(f\"Intercept: {intercept}\")"
   ]
  },
  {
   "cell_type": "code",
   "execution_count": 17,
   "id": "4f4c7a54",
   "metadata": {},
   "outputs": [],
   "source": [
    "\n",
    "# Prepare arrays for the independent variables and the dependent variable\n",
    "X1 = df[['X1']].values\n",
    "X2 = df[['X2']].values\n",
    "X3 = df[['X3']].values\n",
    "Y = df['Y'].values\n",
    "\n",
    "# Fit simple regressions\n",
    "model_X1 = LinearRegression().fit(X1, Y)\n",
    "model_X2 = LinearRegression().fit(X2, Y)\n",
    "model_X3 = LinearRegression().fit(X3, Y)\n",
    "\n",
    "# Fit multiple regression\n",
    "X_all = df[['X1', 'X2', 'X3']].values\n",
    "model_all = LinearRegression().fit(X_all, Y)\n",
    "\n",
    "# Get coefficients\n",
    "simple_coefs = {\n",
    "    'X1': model_X1.coef_[0],\n",
    "    'X2': model_X2.coef_[0],\n",
    "    'X3': model_X3.coef_[0]\n",
    "}\n",
    "\n",
    "multiple_coefs = dict(zip(['X1', 'X2', 'X3'], model_all.coef_))\n",
    "\n",
    "# Compute the absolute differences\n",
    "differences = {xi: abs(simple_coefs[xi] - multiple_coefs[xi]) for xi in simple_coefs}\n",
    "\n",
    "# Combine all in a DataFrame\n",
    "coef_comparison = pd.DataFrame({\n",
    "    'Simple Regression Coef': simple_coefs,\n",
    "    'Multiple Regression Coef': multiple_coefs,\n",
    "    'Absolute Difference': differences\n",
    "})"
   ]
  },
  {
   "cell_type": "code",
   "execution_count": 18,
   "id": "e89fff6a",
   "metadata": {},
   "outputs": [
    {
     "data": {
      "text/html": [
       "<div>\n",
       "<style scoped>\n",
       "    .dataframe tbody tr th:only-of-type {\n",
       "        vertical-align: middle;\n",
       "    }\n",
       "\n",
       "    .dataframe tbody tr th {\n",
       "        vertical-align: top;\n",
       "    }\n",
       "\n",
       "    .dataframe thead th {\n",
       "        text-align: right;\n",
       "    }\n",
       "</style>\n",
       "<table border=\"1\" class=\"dataframe\">\n",
       "  <thead>\n",
       "    <tr style=\"text-align: right;\">\n",
       "      <th></th>\n",
       "      <th>Simple Regression Coef</th>\n",
       "      <th>Multiple Regression Coef</th>\n",
       "      <th>Absolute Difference</th>\n",
       "    </tr>\n",
       "  </thead>\n",
       "  <tbody>\n",
       "    <tr>\n",
       "      <th>X2</th>\n",
       "      <td>4.083613</td>\n",
       "      <td>1.964569</td>\n",
       "      <td>2.119044</td>\n",
       "    </tr>\n",
       "    <tr>\n",
       "      <th>X1</th>\n",
       "      <td>1.841761</td>\n",
       "      <td>1.007138</td>\n",
       "      <td>0.834623</td>\n",
       "    </tr>\n",
       "    <tr>\n",
       "      <th>X3</th>\n",
       "      <td>3.097041</td>\n",
       "      <td>2.975489</td>\n",
       "      <td>0.121553</td>\n",
       "    </tr>\n",
       "  </tbody>\n",
       "</table>\n",
       "</div>"
      ],
      "text/plain": [
       "    Simple Regression Coef  Multiple Regression Coef  Absolute Difference\n",
       "X2                4.083613                  1.964569             2.119044\n",
       "X1                1.841761                  1.007138             0.834623\n",
       "X3                3.097041                  2.975489             0.121553"
      ]
     },
     "execution_count": 18,
     "metadata": {},
     "output_type": "execute_result"
    }
   ],
   "source": [
    "coef_comparison.sort_values(by='Absolute Difference', ascending=False)"
   ]
  },
  {
   "cell_type": "code",
   "execution_count": 23,
   "id": "fcbe7a20",
   "metadata": {},
   "outputs": [
    {
     "data": {
      "text/html": [
       "<div>\n",
       "<style scoped>\n",
       "    .dataframe tbody tr th:only-of-type {\n",
       "        vertical-align: middle;\n",
       "    }\n",
       "\n",
       "    .dataframe tbody tr th {\n",
       "        vertical-align: top;\n",
       "    }\n",
       "\n",
       "    .dataframe thead th {\n",
       "        text-align: right;\n",
       "    }\n",
       "</style>\n",
       "<table border=\"1\" class=\"dataframe\">\n",
       "  <thead>\n",
       "    <tr style=\"text-align: right;\">\n",
       "      <th></th>\n",
       "      <th>Coefficient</th>\n",
       "      <th>Std Error</th>\n",
       "      <th>t-Statistic</th>\n",
       "    </tr>\n",
       "  </thead>\n",
       "  <tbody>\n",
       "    <tr>\n",
       "      <th>Intercept</th>\n",
       "      <td>0.002643</td>\n",
       "      <td>0.015904</td>\n",
       "      <td>0.166181</td>\n",
       "    </tr>\n",
       "    <tr>\n",
       "      <th>X1</th>\n",
       "      <td>1.007138</td>\n",
       "      <td>0.016515</td>\n",
       "      <td>60.984011</td>\n",
       "    </tr>\n",
       "    <tr>\n",
       "      <th>X2</th>\n",
       "      <td>1.964569</td>\n",
       "      <td>0.036870</td>\n",
       "      <td>53.283212</td>\n",
       "    </tr>\n",
       "    <tr>\n",
       "      <th>X3</th>\n",
       "      <td>2.975489</td>\n",
       "      <td>0.015131</td>\n",
       "      <td>196.645240</td>\n",
       "    </tr>\n",
       "  </tbody>\n",
       "</table>\n",
       "</div>"
      ],
      "text/plain": [
       "           Coefficient  Std Error  t-Statistic\n",
       "Intercept     0.002643   0.015904     0.166181\n",
       "X1            1.007138   0.016515    60.984011\n",
       "X2            1.964569   0.036870    53.283212\n",
       "X3            2.975489   0.015131   196.645240"
      ]
     },
     "execution_count": 23,
     "metadata": {},
     "output_type": "execute_result"
    }
   ],
   "source": [
    "# Add intercept column to X\n",
    "X = np.column_stack((np.ones(X_all.shape[0]), X_all))  # Adds intercept\n",
    "n, p = X.shape\n",
    "\n",
    "# Compute beta manually\n",
    "beta_hat = np.linalg.inv(X.T @ X) @ X.T @ Y\n",
    "\n",
    "# Residuals and variance estimate\n",
    "residuals = Y - X @ beta_hat\n",
    "sigma_squared = (residuals @ residuals) / (n - p)\n",
    "\n",
    "# Variance-covariance matrix\n",
    "var_beta_hat = sigma_squared * np.linalg.inv(X.T @ X)\n",
    "\n",
    "# Standard errors\n",
    "standard_errors = np.sqrt(np.diag(var_beta_hat))\n",
    "\n",
    "# t-statistics\n",
    "t_statistics = beta_hat / standard_errors\n",
    "\n",
    "# Prepare output DataFrame\n",
    "coef_labels = ['Intercept', 'X1', 'X2', 'X3']\n",
    "t_stats_df = pd.DataFrame({\n",
    "    'Coefficient': beta_hat,\n",
    "    'Std Error': standard_errors,\n",
    "    't-Statistic': t_statistics\n",
    "}, index=coef_labels)\n",
    "\n",
    "t_stats_df"
   ]
  },
  {
   "cell_type": "code",
   "execution_count": 24,
   "id": "f50ce89e",
   "metadata": {},
   "outputs": [
    {
     "data": {
      "text/html": [
       "<div>\n",
       "<style scoped>\n",
       "    .dataframe tbody tr th:only-of-type {\n",
       "        vertical-align: middle;\n",
       "    }\n",
       "\n",
       "    .dataframe tbody tr th {\n",
       "        vertical-align: top;\n",
       "    }\n",
       "\n",
       "    .dataframe thead th {\n",
       "        text-align: right;\n",
       "    }\n",
       "</style>\n",
       "<table border=\"1\" class=\"dataframe\">\n",
       "  <thead>\n",
       "    <tr style=\"text-align: right;\">\n",
       "      <th></th>\n",
       "      <th>Coefficient</th>\n",
       "      <th>Std Error</th>\n",
       "      <th>t-Statistic</th>\n",
       "      <th>p-Value</th>\n",
       "    </tr>\n",
       "  </thead>\n",
       "  <tbody>\n",
       "    <tr>\n",
       "      <th>Intercept</th>\n",
       "      <td>0.002643</td>\n",
       "      <td>0.015904</td>\n",
       "      <td>0.166181</td>\n",
       "      <td>0.868049</td>\n",
       "    </tr>\n",
       "    <tr>\n",
       "      <th>X1</th>\n",
       "      <td>1.007138</td>\n",
       "      <td>0.016515</td>\n",
       "      <td>60.984011</td>\n",
       "      <td>0.000000</td>\n",
       "    </tr>\n",
       "    <tr>\n",
       "      <th>X2</th>\n",
       "      <td>1.964569</td>\n",
       "      <td>0.036870</td>\n",
       "      <td>53.283212</td>\n",
       "      <td>0.000000</td>\n",
       "    </tr>\n",
       "    <tr>\n",
       "      <th>X3</th>\n",
       "      <td>2.975489</td>\n",
       "      <td>0.015131</td>\n",
       "      <td>196.645240</td>\n",
       "      <td>0.000000</td>\n",
       "    </tr>\n",
       "  </tbody>\n",
       "</table>\n",
       "</div>"
      ],
      "text/plain": [
       "           Coefficient  Std Error  t-Statistic   p-Value\n",
       "Intercept     0.002643   0.015904     0.166181  0.868049\n",
       "X1            1.007138   0.016515    60.984011  0.000000\n",
       "X2            1.964569   0.036870    53.283212  0.000000\n",
       "X3            2.975489   0.015131   196.645240  0.000000"
      ]
     },
     "execution_count": 24,
     "metadata": {},
     "output_type": "execute_result"
    }
   ],
   "source": [
    "from scipy import stats\n",
    "\n",
    "# Degrees of freedom\n",
    "df_resid = n - p\n",
    "\n",
    "# Compute two-tailed p-values\n",
    "p_values = 2 * (1 - stats.t.cdf(np.abs(t_statistics), df=df_resid))\n",
    "\n",
    "# Add to the existing DataFrame\n",
    "t_stats_df['p-Value'] = p_values\n",
    "\n",
    "t_stats_df"
   ]
  },
  {
   "cell_type": "markdown",
   "id": "f0f4dbac",
   "metadata": {},
   "source": [
    "X3 is the most significant predictor of Y, because it has the largest t-statistic (≈196.65), indicating the strongest signal relative to its standard error."
   ]
  },
  {
   "cell_type": "code",
   "execution_count": 37,
   "id": "174677d5",
   "metadata": {},
   "outputs": [
    {
     "data": {
      "text/html": [
       "<div>\n",
       "<style scoped>\n",
       "    .dataframe tbody tr th:only-of-type {\n",
       "        vertical-align: middle;\n",
       "    }\n",
       "\n",
       "    .dataframe tbody tr th {\n",
       "        vertical-align: top;\n",
       "    }\n",
       "\n",
       "    .dataframe thead th {\n",
       "        text-align: right;\n",
       "    }\n",
       "</style>\n",
       "<table border=\"1\" class=\"dataframe\">\n",
       "  <thead>\n",
       "    <tr style=\"text-align: right;\">\n",
       "      <th></th>\n",
       "      <th>X</th>\n",
       "      <th>Y_x1</th>\n",
       "      <th>Z_x1</th>\n",
       "      <th>Y_x0</th>\n",
       "      <th>Z_x0</th>\n",
       "      <th>Z_distance</th>\n",
       "    </tr>\n",
       "  </thead>\n",
       "  <tbody>\n",
       "    <tr>\n",
       "      <th>0</th>\n",
       "      <td>1</td>\n",
       "      <td>1.215189</td>\n",
       "      <td>0.715189</td>\n",
       "      <td>0.716327</td>\n",
       "      <td>0.716327</td>\n",
       "      <td>0.001138</td>\n",
       "    </tr>\n",
       "    <tr>\n",
       "      <th>1</th>\n",
       "      <td>1</td>\n",
       "      <td>1.145894</td>\n",
       "      <td>0.645894</td>\n",
       "      <td>0.653108</td>\n",
       "      <td>0.653108</td>\n",
       "      <td>0.007214</td>\n",
       "    </tr>\n",
       "    <tr>\n",
       "      <th>2</th>\n",
       "      <td>1</td>\n",
       "      <td>0.937587</td>\n",
       "      <td>0.437587</td>\n",
       "      <td>0.437032</td>\n",
       "      <td>0.437032</td>\n",
       "      <td>0.000555</td>\n",
       "    </tr>\n",
       "    <tr>\n",
       "      <th>3</th>\n",
       "      <td>1</td>\n",
       "      <td>1.391773</td>\n",
       "      <td>0.891773</td>\n",
       "      <td>0.778157</td>\n",
       "      <td>0.778157</td>\n",
       "      <td>0.113616</td>\n",
       "    </tr>\n",
       "    <tr>\n",
       "      <th>4</th>\n",
       "      <td>1</td>\n",
       "      <td>1.463663</td>\n",
       "      <td>0.963663</td>\n",
       "      <td>0.778157</td>\n",
       "      <td>0.778157</td>\n",
       "      <td>0.185506</td>\n",
       "    </tr>\n",
       "  </tbody>\n",
       "</table>\n",
       "</div>"
      ],
      "text/plain": [
       "   X      Y_x1      Z_x1      Y_x0      Z_x0  Z_distance\n",
       "0  1  1.215189  0.715189  0.716327  0.716327    0.001138\n",
       "1  1  1.145894  0.645894  0.653108  0.653108    0.007214\n",
       "2  1  0.937587  0.437587  0.437032  0.437032    0.000555\n",
       "3  1  1.391773  0.891773  0.778157  0.778157    0.113616\n",
       "4  1  1.463663  0.963663  0.778157  0.778157    0.185506"
      ]
     },
     "execution_count": 37,
     "metadata": {},
     "output_type": "execute_result"
    }
   ],
   "source": [
    "from sklearn.neighbors import NearestNeighbors\n",
    "\n",
    "df2 = pd.read_csv('homework_1.2.csv', index_col=0)\n",
    "\n",
    "# Split data by X value\n",
    "df2_x0 = df2[df2['X'] == 0].reset_index(drop=True)\n",
    "df2_x1 = df2[df2['X'] == 1].reset_index(drop=True)\n",
    "\n",
    "# Fit NearestNeighbors on Z values from X == 0\n",
    "nn = NearestNeighbors(n_neighbors=1)\n",
    "nn.fit(df2_x0[['Z']])\n",
    "\n",
    "# Find nearest neighbor in X=0 for each row in X=1 based on Z\n",
    "distances, indices = nn.kneighbors(df2_x1[['Z']])\n",
    "\n",
    "# Get matched rows\n",
    "matches = df2_x0.iloc[indices.flatten()].reset_index(drop=True)\n",
    "\n",
    "# Combine X=1 rows with their matched X=0 rows\n",
    "matched_df = df2_x1.copy()\n",
    "matched_df = matched_df.rename(columns={\"Y\": \"Y_x1\", \"Z\": \"Z_x1\"})\n",
    "matched_df['Y_x0'] = matches['Y']\n",
    "matched_df['Z_x0'] = matches['Z']\n",
    "matched_df['Z_distance'] = distances.flatten()\n",
    "\n",
    "# Show the matched dataframe\n",
    "matched_df.head()"
   ]
  },
  {
   "cell_type": "markdown",
   "id": "fc693970",
   "metadata": {},
   "source": [
    "What is the effect? (The difference between the average Y value for X = 0 values vs. the average Y value for X = 1, where the X = 0 sample has the best match for each X = 1 value). So we use the matched sample of X = 0 and the full sample of X = 1."
   ]
  },
  {
   "cell_type": "code",
   "execution_count": 38,
   "id": "111c3547",
   "metadata": {},
   "outputs": [
    {
     "data": {
      "text/plain": [
       "(1.1255971378548504, 0.5822370726634649, 0.5433600651913855)"
      ]
     },
     "execution_count": 38,
     "metadata": {},
     "output_type": "execute_result"
    }
   ],
   "source": [
    "# Compute the average Y for X=1 (original sample)\n",
    "avg_y_x1 = matched_df['Y_x1'].mean()\n",
    "\n",
    "# Compute the average Y for matched X=0 (best matches)\n",
    "avg_y_x0_matched = matched_df['Y_x0'].mean()\n",
    "\n",
    "# Compute the effect\n",
    "effect = avg_y_x1 - avg_y_x0_matched\n",
    "\n",
    "avg_y_x1, avg_y_x0_matched, effect"
   ]
  },
  {
   "cell_type": "markdown",
   "id": "c77af368",
   "metadata": {},
   "source": [
    "What is the distance of the farthest match in this set?"
   ]
  },
  {
   "cell_type": "code",
   "execution_count": 39,
   "id": "a96d74e8",
   "metadata": {},
   "outputs": [
    {
     "data": {
      "text/plain": [
       "0.2102170871093757"
      ]
     },
     "execution_count": 39,
     "metadata": {},
     "output_type": "execute_result"
    }
   ],
   "source": [
    "# Find the maximum Z-distance among all matches\n",
    "max_distance = matched_df['Z_distance'].max()\n",
    "max_distance"
   ]
  },
  {
   "cell_type": "markdown",
   "id": "63404c1a",
   "metadata": {},
   "source": [
    "For questions 6 and 7:\n",
    "\n",
    "\n",
    "\n",
    "Use NearestNeighbors to match data based on variables Z, given the file homework_1.2.csv. \n",
    "Try approach B: Pick all of the matches in X = 0 that are within a distance 0.2 of each X = 1. Duplicates are okay, in case a given sample with X = 0 is a good match for multiple items with X = 1. "
   ]
  },
  {
   "cell_type": "code",
   "execution_count": 40,
   "id": "b199d7b1",
   "metadata": {},
   "outputs": [
    {
     "data": {
      "text/html": [
       "<div>\n",
       "<style scoped>\n",
       "    .dataframe tbody tr th:only-of-type {\n",
       "        vertical-align: middle;\n",
       "    }\n",
       "\n",
       "    .dataframe tbody tr th {\n",
       "        vertical-align: top;\n",
       "    }\n",
       "\n",
       "    .dataframe thead th {\n",
       "        text-align: right;\n",
       "    }\n",
       "</style>\n",
       "<table border=\"1\" class=\"dataframe\">\n",
       "  <thead>\n",
       "    <tr style=\"text-align: right;\">\n",
       "      <th></th>\n",
       "      <th>X1_index</th>\n",
       "      <th>X1_Y</th>\n",
       "      <th>X1_Z</th>\n",
       "      <th>X0_Y</th>\n",
       "      <th>X0_Z</th>\n",
       "      <th>Z_distance</th>\n",
       "    </tr>\n",
       "  </thead>\n",
       "  <tbody>\n",
       "    <tr>\n",
       "      <th>0</th>\n",
       "      <td>0</td>\n",
       "      <td>1.215189</td>\n",
       "      <td>0.715189</td>\n",
       "      <td>0.548814</td>\n",
       "      <td>0.548814</td>\n",
       "      <td>0.166376</td>\n",
       "    </tr>\n",
       "    <tr>\n",
       "      <th>1</th>\n",
       "      <td>0</td>\n",
       "      <td>1.215189</td>\n",
       "      <td>0.715189</td>\n",
       "      <td>0.602763</td>\n",
       "      <td>0.602763</td>\n",
       "      <td>0.112426</td>\n",
       "    </tr>\n",
       "    <tr>\n",
       "      <th>2</th>\n",
       "      <td>0</td>\n",
       "      <td>1.215189</td>\n",
       "      <td>0.715189</td>\n",
       "      <td>0.544883</td>\n",
       "      <td>0.544883</td>\n",
       "      <td>0.170306</td>\n",
       "    </tr>\n",
       "    <tr>\n",
       "      <th>3</th>\n",
       "      <td>0</td>\n",
       "      <td>1.215189</td>\n",
       "      <td>0.715189</td>\n",
       "      <td>0.528895</td>\n",
       "      <td>0.528895</td>\n",
       "      <td>0.186294</td>\n",
       "    </tr>\n",
       "    <tr>\n",
       "      <th>4</th>\n",
       "      <td>0</td>\n",
       "      <td>1.215189</td>\n",
       "      <td>0.715189</td>\n",
       "      <td>0.568045</td>\n",
       "      <td>0.568045</td>\n",
       "      <td>0.147145</td>\n",
       "    </tr>\n",
       "  </tbody>\n",
       "</table>\n",
       "</div>"
      ],
      "text/plain": [
       "   X1_index      X1_Y      X1_Z      X0_Y      X0_Z  Z_distance\n",
       "0         0  1.215189  0.715189  0.548814  0.548814    0.166376\n",
       "1         0  1.215189  0.715189  0.602763  0.602763    0.112426\n",
       "2         0  1.215189  0.715189  0.544883  0.544883    0.170306\n",
       "3         0  1.215189  0.715189  0.528895  0.528895    0.186294\n",
       "4         0  1.215189  0.715189  0.568045  0.568045    0.147145"
      ]
     },
     "execution_count": 40,
     "metadata": {},
     "output_type": "execute_result"
    }
   ],
   "source": [
    "# Use NearestNeighbors with a radius search instead of n_neighbors\n",
    "nn_radius = NearestNeighbors(radius=0.2)\n",
    "nn_radius.fit(df2_x0[['Z']])\n",
    "\n",
    "# For each X=1 row, find all neighbors within distance 0.2 from X=0\n",
    "radius_matches = nn_radius.radius_neighbors(df2_x1[['Z']], return_distance=True)\n",
    "\n",
    "# Count how many matches were found in total (including duplicates)\n",
    "total_matches = sum(len(neighs) for neighs in radius_matches[1])\n",
    "\n",
    "# Prepare list of all matched pairs\n",
    "matched_pairs = []\n",
    "for i, (dist_list, idx_list) in enumerate(zip(*radius_matches)):\n",
    "    for dist, idx in zip(dist_list, idx_list):\n",
    "        matched_pairs.append({\n",
    "            'X1_index': i,\n",
    "            'X1_Y': df2_x1.iloc[i]['Y'],\n",
    "            'X1_Z': df2_x1.iloc[i]['Z'],\n",
    "            'X0_Y': df2_x0.iloc[idx]['Y'],\n",
    "            'X0_Z': df2_x0.iloc[idx]['Z'],\n",
    "            'Z_distance': dist\n",
    "        })\n",
    "\n",
    "# Convert to DataFrame\n",
    "matched_radius_df = pd.DataFrame(matched_pairs)\n",
    "matched_radius_df.head()"
   ]
  },
  {
   "cell_type": "code",
   "execution_count": 41,
   "id": "df89cd76",
   "metadata": {},
   "outputs": [
    {
     "data": {
      "text/plain": [
       "0.5688516533881482"
      ]
     },
     "execution_count": 41,
     "metadata": {},
     "output_type": "execute_result"
    }
   ],
   "source": [
    "# Group by each X=1 observation and compute mean Y for its matched X=0 neighbors\n",
    "grouped_effects = matched_radius_df.groupby('X1_index').agg(\n",
    "    mean_Y_x1=('X1_Y', 'first'),   # same for all rows in the group\n",
    "    mean_Y_x0=('X0_Y', 'mean')     # average across matched neighbors\n",
    ")\n",
    "\n",
    "# Compute the difference for each group\n",
    "grouped_effects['effect'] = grouped_effects['mean_Y_x1'] - grouped_effects['mean_Y_x0']\n",
    "\n",
    "# Compute the overall average effect across all groups\n",
    "overall_effect = grouped_effects['effect'].mean()\n",
    "overall_effect"
   ]
  },
  {
   "cell_type": "code",
   "execution_count": null,
   "id": "c89342f5",
   "metadata": {},
   "outputs": [],
   "source": []
  }
 ],
 "metadata": {
  "kernelspec": {
   "display_name": "Python (uv)",
   "language": "python",
   "name": "uv"
  },
  "language_info": {
   "codemirror_mode": {
    "name": "ipython",
    "version": 3
   },
   "file_extension": ".py",
   "mimetype": "text/x-python",
   "name": "python",
   "nbconvert_exporter": "python",
   "pygments_lexer": "ipython3",
   "version": "3.11.7"
  }
 },
 "nbformat": 4,
 "nbformat_minor": 5
}
