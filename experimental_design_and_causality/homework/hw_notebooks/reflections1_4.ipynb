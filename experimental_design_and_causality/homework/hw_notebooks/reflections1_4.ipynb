{
 "cells": [
  {
   "cell_type": "code",
   "execution_count": 1,
   "id": "c049ec36",
   "metadata": {},
   "outputs": [],
   "source": [
    "import matplotlib.pyplot as plt\n",
    "import numpy as np\n",
    "import pandas as pd\n",
    "import scipy\n",
    "import statsmodels.api as sm\n",
    "import seaborn as sns\n",
    "from sklearn.neighbors import NearestNeighbors\n",
    "from statsmodels.stats.outliers_influence import variance_inflation_factor\n",
    "from sklearn.preprocessing import StandardScaler"
   ]
  },
  {
   "cell_type": "markdown",
   "id": "d6a44c19",
   "metadata": {},
   "source": [
    "# Reflections Notebook:"
   ]
  },
  {
   "cell_type": "markdown",
   "id": "89931b56",
   "metadata": {},
   "source": [
    "## HW Reflection 1"
   ]
  },
  {
   "cell_type": "markdown",
   "id": "5f9e9ec3",
   "metadata": {},
   "source": [
    "### Question 1\n",
    "1. **In Coding Quiz 1, you are asked to find the distance of the farthest match in a set.  Is this farthest match distance too far to be a meaningful match?  How can you decide this?**\n",
    "\n",
    "- Here's my answer code from HW 1, where we:\n",
    "    - Split the sample dataset by group\n",
    "    - Fit the `NearestNeighbors(n_neighbors=1)` model to group `0`\n",
    "    - Find the nearest neighbor from group `0` in group `1` and calculate the distance between the two samples:"
   ]
  },
  {
   "cell_type": "code",
   "execution_count": 2,
   "id": "08530d4b",
   "metadata": {},
   "outputs": [
    {
     "data": {
      "text/html": [
       "<div>\n",
       "<style scoped>\n",
       "    .dataframe tbody tr th:only-of-type {\n",
       "        vertical-align: middle;\n",
       "    }\n",
       "\n",
       "    .dataframe tbody tr th {\n",
       "        vertical-align: top;\n",
       "    }\n",
       "\n",
       "    .dataframe thead th {\n",
       "        text-align: right;\n",
       "    }\n",
       "</style>\n",
       "<table border=\"1\" class=\"dataframe\">\n",
       "  <thead>\n",
       "    <tr style=\"text-align: right;\">\n",
       "      <th></th>\n",
       "      <th>X</th>\n",
       "      <th>Y_x1</th>\n",
       "      <th>Z_x1</th>\n",
       "      <th>Y_x0</th>\n",
       "      <th>Z_x0</th>\n",
       "      <th>Z_distance</th>\n",
       "    </tr>\n",
       "  </thead>\n",
       "  <tbody>\n",
       "    <tr>\n",
       "      <th>0</th>\n",
       "      <td>1</td>\n",
       "      <td>1.215189</td>\n",
       "      <td>0.715189</td>\n",
       "      <td>0.716327</td>\n",
       "      <td>0.716327</td>\n",
       "      <td>0.001138</td>\n",
       "    </tr>\n",
       "    <tr>\n",
       "      <th>1</th>\n",
       "      <td>1</td>\n",
       "      <td>1.145894</td>\n",
       "      <td>0.645894</td>\n",
       "      <td>0.653108</td>\n",
       "      <td>0.653108</td>\n",
       "      <td>0.007214</td>\n",
       "    </tr>\n",
       "    <tr>\n",
       "      <th>2</th>\n",
       "      <td>1</td>\n",
       "      <td>0.937587</td>\n",
       "      <td>0.437587</td>\n",
       "      <td>0.437032</td>\n",
       "      <td>0.437032</td>\n",
       "      <td>0.000555</td>\n",
       "    </tr>\n",
       "    <tr>\n",
       "      <th>3</th>\n",
       "      <td>1</td>\n",
       "      <td>1.391773</td>\n",
       "      <td>0.891773</td>\n",
       "      <td>0.778157</td>\n",
       "      <td>0.778157</td>\n",
       "      <td>0.113616</td>\n",
       "    </tr>\n",
       "    <tr>\n",
       "      <th>4</th>\n",
       "      <td>1</td>\n",
       "      <td>1.463663</td>\n",
       "      <td>0.963663</td>\n",
       "      <td>0.778157</td>\n",
       "      <td>0.778157</td>\n",
       "      <td>0.185506</td>\n",
       "    </tr>\n",
       "  </tbody>\n",
       "</table>\n",
       "</div>"
      ],
      "text/plain": [
       "   X      Y_x1      Z_x1      Y_x0      Z_x0  Z_distance\n",
       "0  1  1.215189  0.715189  0.716327  0.716327    0.001138\n",
       "1  1  1.145894  0.645894  0.653108  0.653108    0.007214\n",
       "2  1  0.937587  0.437587  0.437032  0.437032    0.000555\n",
       "3  1  1.391773  0.891773  0.778157  0.778157    0.113616\n",
       "4  1  1.463663  0.963663  0.778157  0.778157    0.185506"
      ]
     },
     "execution_count": 2,
     "metadata": {},
     "output_type": "execute_result"
    }
   ],
   "source": [
    "# coding quiz 1 work\n",
    "df2 = pd.read_csv('homework_1.2.csv', index_col=0)\n",
    "\n",
    "# Split data by X value\n",
    "df2_x0 = df2[df2['X'] == 0].reset_index(drop=True) # create a new dataframe for X == 0\n",
    "df2_x1 = df2[df2['X'] == 1].reset_index(drop=True) # create a new dataframe for X == 1\n",
    "\n",
    "# Fit NearestNeighbors on Z values from X == 0\n",
    "nn = NearestNeighbors(n_neighbors=1) #initialize NearestNeighbors with 1 neighbor\n",
    "nn.fit(df2_x0[['Z']]) # Fit the model using Z values from X == 0\n",
    "\n",
    "# Find nearest neighbor in X=0 for each row in X=1 based on Z\n",
    "distances, indices = nn.kneighbors(df2_x1[['Z']]) # Get distances and indices of nearest neighbors\n",
    "\n",
    "# Get matched rows\n",
    "matches = df2_x0.iloc[indices.flatten()].reset_index(drop=True) # Get the rows from df2_x0 that correspond to the indices found in df2_x1\n",
    "\n",
    "# Combine X=1 rows with their matched X=0 rows\n",
    "matched_df = df2_x1.copy()\n",
    "matched_df = matched_df.rename(columns={\"Y\": \"Y_x1\", \"Z\": \"Z_x1\"})\n",
    "matched_df['Y_x0'] = matches['Y']\n",
    "matched_df['Z_x0'] = matches['Z']\n",
    "matched_df['Z_distance'] = distances.flatten()\n",
    "\n",
    "# Show the matched dataframe\n",
    "matched_df.head()"
   ]
  },
  {
   "cell_type": "code",
   "execution_count": 3,
   "id": "9f46b91f",
   "metadata": {},
   "outputs": [
    {
     "data": {
      "text/plain": [
       "0.2102170871093757"
      ]
     },
     "execution_count": 3,
     "metadata": {},
     "output_type": "execute_result"
    }
   ],
   "source": [
    "# Find the maximum Z-distance among all matches\n",
    "max_distance = matched_df['Z_distance'].max()\n",
    "max_distance"
   ]
  },
  {
   "cell_type": "markdown",
   "id": "5e778cc3",
   "metadata": {},
   "source": [
    "The `max_distance` value is just the highest delta between the respective `Z` values where `X == 1` and `X == 0`.\n",
    "\n",
    "To decide whether the \"farthest\" match is too far to be meaningful, one might calculate summary statistics of all of the Z-distances, or plot the Z-distance values in a histogram to get an idea of whether that `max_distance` value is represents a significant outlier compared to the rest of the matches.\n",
    "\n",
    "First, I've pulled some simple descriptive statistics using pd.describe for the `Z_distance` values:"
   ]
  },
  {
   "cell_type": "code",
   "execution_count": 4,
   "id": "d55d2bbd",
   "metadata": {},
   "outputs": [
    {
     "data": {
      "text/html": [
       "<div>\n",
       "<style scoped>\n",
       "    .dataframe tbody tr th:only-of-type {\n",
       "        vertical-align: middle;\n",
       "    }\n",
       "\n",
       "    .dataframe tbody tr th {\n",
       "        vertical-align: top;\n",
       "    }\n",
       "\n",
       "    .dataframe thead th {\n",
       "        text-align: right;\n",
       "    }\n",
       "</style>\n",
       "<table border=\"1\" class=\"dataframe\">\n",
       "  <thead>\n",
       "    <tr style=\"text-align: right;\">\n",
       "      <th></th>\n",
       "      <th>count</th>\n",
       "      <th>mean</th>\n",
       "      <th>std</th>\n",
       "      <th>min</th>\n",
       "      <th>25%</th>\n",
       "      <th>50%</th>\n",
       "      <th>75%</th>\n",
       "      <th>max</th>\n",
       "    </tr>\n",
       "  </thead>\n",
       "  <tbody>\n",
       "    <tr>\n",
       "      <th>Z_distance</th>\n",
       "      <td>48.0</td>\n",
       "      <td>0.049788</td>\n",
       "      <td>0.068388</td>\n",
       "      <td>0.000389</td>\n",
       "      <td>0.002509</td>\n",
       "      <td>0.01326</td>\n",
       "      <td>0.055794</td>\n",
       "      <td>0.210217</td>\n",
       "    </tr>\n",
       "  </tbody>\n",
       "</table>\n",
       "</div>"
      ],
      "text/plain": [
       "            count      mean       std       min       25%      50%       75%  \\\n",
       "Z_distance   48.0  0.049788  0.068388  0.000389  0.002509  0.01326  0.055794   \n",
       "\n",
       "                 max  \n",
       "Z_distance  0.210217  "
      ]
     },
     "execution_count": 4,
     "metadata": {},
     "output_type": "execute_result"
    }
   ],
   "source": [
    "# Create a summary statistics table\n",
    "distances = distances.flatten()\n",
    "dist_series = pd.Series(distances, name='Z_distance')\n",
    "summary_stats = dist_series.describe().to_frame().T\n",
    "summary_stats"
   ]
  },
  {
   "cell_type": "code",
   "execution_count": 5,
   "id": "7ced3217",
   "metadata": {},
   "outputs": [
    {
     "data": {
      "text/plain": [
       "2.3458567940931934"
      ]
     },
     "execution_count": 5,
     "metadata": {},
     "output_type": "execute_result"
    }
   ],
   "source": [
    "# Calculate the number of standard deviations from the mean for the maximum distance\n",
    "mean = matched_df['Z_distance'].mean()\n",
    "std = matched_df['Z_distance'].std()\n",
    "num_std = (max_distance - mean) / std\n",
    "num_std"
   ]
  },
  {
   "cell_type": "markdown",
   "id": "6895c77a",
   "metadata": {},
   "source": [
    "You can see that max_distance is more than 2 standard deviations from the mean distance in `Z_distance`\n",
    "\n",
    "Then, if plotted as a histogram:"
   ]
  },
  {
   "cell_type": "code",
   "execution_count": 6,
   "id": "fc96c754",
   "metadata": {},
   "outputs": [
    {
     "data": {
      "image/png": "[encoded data removed]",
      "text/plain": [
       "<Figure size 640x480 with 1 Axes>"
      ]
     },
     "metadata": {},
     "output_type": "display_data"
    }
   ],
   "source": [
    "# Plot histogram of distances\n",
    "plt.figure()\n",
    "plt.hist(distances, bins=20)\n",
    "plt.xlabel('Z-distance')\n",
    "plt.ylabel('Frequency')\n",
    "plt.title('Histogram of Z-distance for Matches')\n",
    "plt.show()"
   ]
  },
  {
   "cell_type": "markdown",
   "id": "ba54a5fe",
   "metadata": {},
   "source": [
    "From the histogram alone you can see that the max \"Z-Distance\" value is already quite a bit higher than the bulk of the NearestNeighbor matches. \n",
    "\n",
    "For good measure, we can do a couple of basic statistical tests to validate just how far above the max distance value we found sits relative to the overall distribution, such as IQR and z_score. I've gone ahead and calculated both stats and compiled them into a dataframe. \n",
    "\n",
    "Here we've set an `upper_fence` variable that is the $75 \\% + 1.5 \\times \\text{IQR}$ and calculated the z-score for the distance between each match:"
   ]
  },
  {
   "cell_type": "code",
   "execution_count": 7,
   "id": "fac69dbc",
   "metadata": {},
   "outputs": [
    {
     "data": {
      "text/html": [
       "<div>\n",
       "<style scoped>\n",
       "    .dataframe tbody tr th:only-of-type {\n",
       "        vertical-align: middle;\n",
       "    }\n",
       "\n",
       "    .dataframe tbody tr th {\n",
       "        vertical-align: top;\n",
       "    }\n",
       "\n",
       "    .dataframe thead th {\n",
       "        text-align: right;\n",
       "    }\n",
       "</style>\n",
       "<table border=\"1\" class=\"dataframe\">\n",
       "  <thead>\n",
       "    <tr style=\"text-align: right;\">\n",
       "      <th></th>\n",
       "      <th>distance</th>\n",
       "      <th>z_score</th>\n",
       "      <th>iqr_outlier</th>\n",
       "      <th>z_score_outlier</th>\n",
       "    </tr>\n",
       "  </thead>\n",
       "  <tbody>\n",
       "    <tr>\n",
       "      <th>29</th>\n",
       "      <td>0.210217</td>\n",
       "      <td>2.345857</td>\n",
       "      <td>True</td>\n",
       "      <td>True</td>\n",
       "    </tr>\n",
       "    <tr>\n",
       "      <th>10</th>\n",
       "      <td>0.200462</td>\n",
       "      <td>2.203208</td>\n",
       "      <td>True</td>\n",
       "      <td>True</td>\n",
       "    </tr>\n",
       "    <tr>\n",
       "      <th>37</th>\n",
       "      <td>0.198604</td>\n",
       "      <td>2.176050</td>\n",
       "      <td>True</td>\n",
       "      <td>True</td>\n",
       "    </tr>\n",
       "    <tr>\n",
       "      <th>36</th>\n",
       "      <td>0.198303</td>\n",
       "      <td>2.171640</td>\n",
       "      <td>True</td>\n",
       "      <td>True</td>\n",
       "    </tr>\n",
       "  </tbody>\n",
       "</table>\n",
       "</div>"
      ],
      "text/plain": [
       "    distance   z_score  iqr_outlier  z_score_outlier\n",
       "29  0.210217  2.345857         True             True\n",
       "10  0.200462  2.203208         True             True\n",
       "37  0.198604  2.176050         True             True\n",
       "36  0.198303  2.171640         True             True"
      ]
     },
     "execution_count": 7,
     "metadata": {},
     "output_type": "execute_result"
    }
   ],
   "source": [
    "# Create a series for ease of analysis\n",
    "dist_series = pd.Series(distances, name='distance')\n",
    "\n",
    "# Compute IQR-based outlier thresholds\n",
    "Q1 = dist_series.quantile(0.25)\n",
    "Q3 = dist_series.quantile(0.75)\n",
    "IQR = Q3 - Q1\n",
    "upper_fence = Q3 + 1.5 * IQR\n",
    "\n",
    "# Compute z-scores\n",
    "mean = dist_series.mean()\n",
    "std = dist_series.std()\n",
    "z_scores = (dist_series - mean) / std\n",
    "\n",
    "# Build a DataFrame with flags\n",
    "outlier_df = pd.DataFrame({'distance': dist_series, 'z_score': z_scores})\n",
    "outlier_df['iqr_outlier'] = outlier_df['distance'] > upper_fence\n",
    "outlier_df['z_score_outlier'] = outlier_df['z_score'].abs() > 2\n",
    "\n",
    "# Summary of thresholds\n",
    "thresholds = pd.DataFrame({\n",
    "    'Q1': [Q1],\n",
    "    'Q3': [Q3],\n",
    "    'IQR': [IQR],\n",
    "    'Upper Fence (Q3 + 1.5*IQR)': [upper_fence],\n",
    "    'Mean': [mean],\n",
    "    'Std Dev': [std]\n",
    "})\n",
    "\n",
    "# show points that are outliers by both methods\n",
    "outlier_df[outlier_df['iqr_outlier'] & outlier_df['z_score_outlier']].sort_values(by='distance', ascending=False)\n"
   ]
  },
  {
   "cell_type": "markdown",
   "id": "0efb031c",
   "metadata": {},
   "source": [
    "You can see our `max_distance` is flagged as part of our outlier tests. That might simply be enough to exclude these from our final dataset, but if we wanted to quantify how these outliers might impact our model:\n",
    "\n",
    "In the below codeblock, I've made a copy of the earlier dataframe for the treatment group (where `X == 1`), and included that sample's:\n",
    "- `Y` value (`Y_x1`), \n",
    "- `Z` value (`Z_x1`), \n",
    "- `Y` value for its corresponding control group match (`Y_x0`),\n",
    "- The `Z_distance` variable,\n",
    "- The difference between treatment outcomes for the sampled pair (`Y_diff`)"
   ]
  },
  {
   "cell_type": "code",
   "execution_count": 8,
   "id": "f454e0d6",
   "metadata": {},
   "outputs": [
    {
     "data": {
      "text/html": [
       "<div>\n",
       "<style scoped>\n",
       "    .dataframe tbody tr th:only-of-type {\n",
       "        vertical-align: middle;\n",
       "    }\n",
       "\n",
       "    .dataframe tbody tr th {\n",
       "        vertical-align: top;\n",
       "    }\n",
       "\n",
       "    .dataframe thead th {\n",
       "        text-align: right;\n",
       "    }\n",
       "</style>\n",
       "<table border=\"1\" class=\"dataframe\">\n",
       "  <thead>\n",
       "    <tr style=\"text-align: right;\">\n",
       "      <th></th>\n",
       "      <th>X</th>\n",
       "      <th>Y_x1</th>\n",
       "      <th>Z_x1</th>\n",
       "      <th>Y_x0</th>\n",
       "      <th>Z_distance</th>\n",
       "      <th>Y_diff</th>\n",
       "    </tr>\n",
       "  </thead>\n",
       "  <tbody>\n",
       "    <tr>\n",
       "      <th>0</th>\n",
       "      <td>1</td>\n",
       "      <td>1.215189</td>\n",
       "      <td>0.715189</td>\n",
       "      <td>0.716327</td>\n",
       "      <td>0.001138</td>\n",
       "      <td>0.498862</td>\n",
       "    </tr>\n",
       "    <tr>\n",
       "      <th>1</th>\n",
       "      <td>1</td>\n",
       "      <td>1.145894</td>\n",
       "      <td>0.645894</td>\n",
       "      <td>0.653108</td>\n",
       "      <td>0.007214</td>\n",
       "      <td>0.492786</td>\n",
       "    </tr>\n",
       "    <tr>\n",
       "      <th>2</th>\n",
       "      <td>1</td>\n",
       "      <td>0.937587</td>\n",
       "      <td>0.437587</td>\n",
       "      <td>0.437032</td>\n",
       "      <td>0.000555</td>\n",
       "      <td>0.500555</td>\n",
       "    </tr>\n",
       "    <tr>\n",
       "      <th>3</th>\n",
       "      <td>1</td>\n",
       "      <td>1.391773</td>\n",
       "      <td>0.891773</td>\n",
       "      <td>0.778157</td>\n",
       "      <td>0.113616</td>\n",
       "      <td>0.613616</td>\n",
       "    </tr>\n",
       "    <tr>\n",
       "      <th>4</th>\n",
       "      <td>1</td>\n",
       "      <td>1.463663</td>\n",
       "      <td>0.963663</td>\n",
       "      <td>0.778157</td>\n",
       "      <td>0.185506</td>\n",
       "      <td>0.685506</td>\n",
       "    </tr>\n",
       "  </tbody>\n",
       "</table>\n",
       "</div>"
      ],
      "text/plain": [
       "   X      Y_x1      Z_x1      Y_x0  Z_distance    Y_diff\n",
       "0  1  1.215189  0.715189  0.716327    0.001138  0.498862\n",
       "1  1  1.145894  0.645894  0.653108    0.007214  0.492786\n",
       "2  1  0.937587  0.437587  0.437032    0.000555  0.500555\n",
       "3  1  1.391773  0.891773  0.778157    0.113616  0.613616\n",
       "4  1  1.463663  0.963663  0.778157    0.185506  0.685506"
      ]
     },
     "execution_count": 8,
     "metadata": {},
     "output_type": "execute_result"
    }
   ],
   "source": [
    "# Build matched_df\n",
    "matched_df = df2_x1.copy().reset_index(drop=True) # create a new dataframe for X == 1\n",
    "matched_df = matched_df.rename(columns={\"Y\": \"Y_x1\", \"Z\": \"Z_x1\"}) # rename columns to match the previous matched_df\n",
    "matched_df['Y_x0'] = matches['Y'] # get the Y values from the matched X=0 rows\n",
    "matched_df['Z_distance'] = distances.flatten() # get the distances from the nearest neighbors\n",
    "matched_df['Y_diff'] = matched_df['Y_x1'] - matched_df['Y_x0'] # calculate the difference in outcomes\n",
    "matched_df.head()"
   ]
  },
  {
   "cell_type": "markdown",
   "id": "4e9078c3",
   "metadata": {},
   "source": [
    "Then we calculate the correlation between `Z_distance` and `Y_diff` an OLS regression model to regress on a relationship between sample distance and treatment outcome"
   ]
  },
  {
   "cell_type": "code",
   "execution_count": 9,
   "id": "1b844423",
   "metadata": {},
   "outputs": [
    {
     "name": "stdout",
     "output_type": "stream",
     "text": [
      "0.9726186789218421\n"
     ]
    }
   ],
   "source": [
    "# Correlation between distance and outcome difference\n",
    "corr = matched_df['Z_distance'].corr(matched_df['Y_diff']) # calculate the correlation between Z-distance and outcome difference\n",
    "print(corr)"
   ]
  },
  {
   "cell_type": "markdown",
   "id": "ce0e69cd",
   "metadata": {},
   "source": [
    "and finally, create OLS regression model to regress on a relationship between sample distance and treatment outcome"
   ]
  },
  {
   "cell_type": "code",
   "execution_count": 10,
   "id": "4204d897",
   "metadata": {},
   "outputs": [],
   "source": [
    "# Regression of outcome difference on distance\n",
    "X = sm.add_constant(matched_df['Z_distance']) # add a constant term for the intercept\n",
    "model = sm.OLS(matched_df['Y_diff'], X).fit() # fit the OLS regression model"
   ]
  },
  {
   "cell_type": "code",
   "execution_count": 11,
   "id": "751fa662",
   "metadata": {},
   "outputs": [
    {
     "data": {
      "text/html": [
       "<table class=\"simpletable\">\n",
       "<caption>OLS Regression Results</caption>\n",
       "<tr>\n",
       "  <th>Dep. Variable:</th>         <td>Y_diff</td>      <th>  R-squared:         </th> <td>   0.946</td>\n",
       "</tr>\n",
       "<tr>\n",
       "  <th>Model:</th>                   <td>OLS</td>       <th>  Adj. R-squared:    </th> <td>   0.945</td>\n",
       "</tr>\n",
       "<tr>\n",
       "  <th>Method:</th>             <td>Least Squares</td>  <th>  F-statistic:       </th> <td>   805.6</td>\n",
       "</tr>\n",
       "<tr>\n",
       "  <th>Date:</th>             <td>Sun, 15 Jun 2025</td> <th>  Prob (F-statistic):</th> <td>8.46e-31</td>\n",
       "</tr>\n",
       "<tr>\n",
       "  <th>Time:</th>                 <td>20:53:26</td>     <th>  Log-Likelihood:    </th> <td>  128.25</td>\n",
       "</tr>\n",
       "<tr>\n",
       "  <th>No. Observations:</th>      <td>    48</td>      <th>  AIC:               </th> <td>  -252.5</td>\n",
       "</tr>\n",
       "<tr>\n",
       "  <th>Df Residuals:</th>          <td>    46</td>      <th>  BIC:               </th> <td>  -248.8</td>\n",
       "</tr>\n",
       "<tr>\n",
       "  <th>Df Model:</th>              <td>     1</td>      <th>                     </th>     <td> </td>   \n",
       "</tr>\n",
       "<tr>\n",
       "  <th>Covariance Type:</th>      <td>nonrobust</td>    <th>                     </th>     <td> </td>   \n",
       "</tr>\n",
       "</table>\n",
       "<table class=\"simpletable\">\n",
       "<tr>\n",
       "       <td></td>         <th>coef</th>     <th>std err</th>      <th>t</th>      <th>P>|t|</th>  <th>[0.025</th>    <th>0.975]</th>  \n",
       "</tr>\n",
       "<tr>\n",
       "  <th>const</th>      <td>    0.4919</td> <td>    0.003</td> <td>  160.673</td> <td> 0.000</td> <td>    0.486</td> <td>    0.498</td>\n",
       "</tr>\n",
       "<tr>\n",
       "  <th>Z_distance</th> <td>    1.0343</td> <td>    0.036</td> <td>   28.384</td> <td> 0.000</td> <td>    0.961</td> <td>    1.108</td>\n",
       "</tr>\n",
       "</table>\n",
       "<table class=\"simpletable\">\n",
       "<tr>\n",
       "  <th>Omnibus:</th>       <td>65.705</td> <th>  Durbin-Watson:     </th> <td>   1.888</td> \n",
       "</tr>\n",
       "<tr>\n",
       "  <th>Prob(Omnibus):</th> <td> 0.000</td> <th>  Jarque-Bera (JB):  </th> <td> 492.746</td> \n",
       "</tr>\n",
       "<tr>\n",
       "  <th>Skew:</th>          <td>-3.644</td> <th>  Prob(JB):          </th> <td>1.00e-107</td>\n",
       "</tr>\n",
       "<tr>\n",
       "  <th>Kurtosis:</th>      <td>16.902</td> <th>  Cond. No.          </th> <td>    14.8</td> \n",
       "</tr>\n",
       "</table><br/><br/>Notes:<br/>[1] Standard Errors assume that the covariance matrix of the errors is correctly specified."
      ],
      "text/latex": [
       "\\begin{center}\n",
       "\\begin{tabular}{lclc}\n",
       "\\toprule\n",
       "\\textbf{Dep. Variable:}    &     Y\\_diff      & \\textbf{  R-squared:         } &     0.946   \\\\\n",
       "\\textbf{Model:}            &       OLS        & \\textbf{  Adj. R-squared:    } &     0.945   \\\\\n",
       "\\textbf{Method:}           &  Least Squares   & \\textbf{  F-statistic:       } &     805.6   \\\\\n",
       "\\textbf{Date:}             & Sun, 15 Jun 2025 & \\textbf{  Prob (F-statistic):} &  8.46e-31   \\\\\n",
       "\\textbf{Time:}             &     20:53:26     & \\textbf{  Log-Likelihood:    } &    128.25   \\\\\n",
       "\\textbf{No. Observations:} &          48      & \\textbf{  AIC:               } &    -252.5   \\\\\n",
       "\\textbf{Df Residuals:}     &          46      & \\textbf{  BIC:               } &    -248.8   \\\\\n",
       "\\textbf{Df Model:}         &           1      & \\textbf{                     } &             \\\\\n",
       "\\textbf{Covariance Type:}  &    nonrobust     & \\textbf{                     } &             \\\\\n",
       "\\bottomrule\n",
       "\\end{tabular}\n",
       "\\begin{tabular}{lcccccc}\n",
       "                     & \\textbf{coef} & \\textbf{std err} & \\textbf{t} & \\textbf{P$> |$t$|$} & \\textbf{[0.025} & \\textbf{0.975]}  \\\\\n",
       "\\midrule\n",
       "\\textbf{const}       &       0.4919  &        0.003     &   160.673  &         0.000        &        0.486    &        0.498     \\\\\n",
       "\\textbf{Z\\_distance} &       1.0343  &        0.036     &    28.384  &         0.000        &        0.961    &        1.108     \\\\\n",
       "\\bottomrule\n",
       "\\end{tabular}\n",
       "\\begin{tabular}{lclc}\n",
       "\\textbf{Omnibus:}       & 65.705 & \\textbf{  Durbin-Watson:     } &     1.888  \\\\\n",
       "\\textbf{Prob(Omnibus):} &  0.000 & \\textbf{  Jarque-Bera (JB):  } &   492.746  \\\\\n",
       "\\textbf{Skew:}          & -3.644 & \\textbf{  Prob(JB):          } & 1.00e-107  \\\\\n",
       "\\textbf{Kurtosis:}      & 16.902 & \\textbf{  Cond. No.          } &      14.8  \\\\\n",
       "\\bottomrule\n",
       "\\end{tabular}\n",
       "%\\caption{OLS Regression Results}\n",
       "\\end{center}\n",
       "\n",
       "Notes: \\newline\n",
       " [1] Standard Errors assume that the covariance matrix of the errors is correctly specified."
      ],
      "text/plain": [
       "<class 'statsmodels.iolib.summary.Summary'>\n",
       "\"\"\"\n",
       "                            OLS Regression Results                            \n",
       "==============================================================================\n",
       "Dep. Variable:                 Y_diff   R-squared:                       0.946\n",
       "Model:                            OLS   Adj. R-squared:                  0.945\n",
       "Method:                 Least Squares   F-statistic:                     805.6\n",
       "Date:                Sun, 15 Jun 2025   Prob (F-statistic):           8.46e-31\n",
       "Time:                        20:53:26   Log-Likelihood:                 128.25\n",
       "No. Observations:                  48   AIC:                            -252.5\n",
       "Df Residuals:                      46   BIC:                            -248.8\n",
       "Df Model:                           1                                         \n",
       "Covariance Type:            nonrobust                                         \n",
       "==============================================================================\n",
       "                 coef    std err          t      P>|t|      [0.025      0.975]\n",
       "------------------------------------------------------------------------------\n",
       "const          0.4919      0.003    160.673      0.000       0.486       0.498\n",
       "Z_distance     1.0343      0.036     28.384      0.000       0.961       1.108\n",
       "==============================================================================\n",
       "Omnibus:                       65.705   Durbin-Watson:                   1.888\n",
       "Prob(Omnibus):                  0.000   Jarque-Bera (JB):              492.746\n",
       "Skew:                          -3.644   Prob(JB):                    1.00e-107\n",
       "Kurtosis:                      16.902   Cond. No.                         14.8\n",
       "==============================================================================\n",
       "\n",
       "Notes:\n",
       "[1] Standard Errors assume that the covariance matrix of the errors is correctly specified.\n",
       "\"\"\""
      ]
     },
     "execution_count": 11,
     "metadata": {},
     "output_type": "execute_result"
    }
   ],
   "source": [
    "model.summary()"
   ]
  },
  {
   "cell_type": "markdown",
   "id": "2f426210",
   "metadata": {},
   "source": [
    "and then finally, if we were to plot the difference in treatment effect vs the distance between samples:"
   ]
  },
  {
   "cell_type": "code",
   "execution_count": 12,
   "id": "8478395f",
   "metadata": {},
   "outputs": [
    {
     "data": {
      "image/png": "[encoded data removed]",
      "text/plain": [
       "<Figure size 640x480 with 1 Axes>"
      ]
     },
     "metadata": {},
     "output_type": "display_data"
    }
   ],
   "source": [
    "# Scatter plot\n",
    "plt.figure()\n",
    "plt.scatter(matched_df['Z_distance'], matched_df['Y_diff'])\n",
    "plt.xlabel('Z-distance')\n",
    "plt.ylabel('Outcome Difference (Y_treated - Y_control)')\n",
    "plt.title('Outcome Difference vs. Match Distance')\n",
    "plt.show()"
   ]
  },
  {
   "cell_type": "markdown",
   "id": "03bf7963",
   "metadata": {},
   "source": [
    "We see that there is certainly an upward relationship between treatment effect as the distance between matches increase. The clustered pairs at the bottom all hover around the .5 mark (plus random noise). As z-distance increases, so does the outcome difference, with our max_distance sample all the way at the top of the chart. \n",
    "\n",
    "To summarize: \n",
    "- The `max_distance` value found in the homework question suggests that the sampled pair is significantly further apart than the majority of the dataset. This can be observed both using descriptive statistics and as part of a histogram.\n",
    "- The `max-distance` value also flags as an outlier when IQR and z-score tests are applied to the dataset.\n",
    "- There is correlation the distance between sampled pairs (`Z_distance`) and treatment outcomes (`y_diff`), suggesting that larger difference between samples might actually exaggerate the effect of treatement.\n",
    "\n",
    "Yes, this outlier pair is too far apart to be a meaningful match, and this would likely introduce bias into the experiment exaggerating the effect of treatment. \n"
   ]
  },
  {
   "cell_type": "markdown",
   "id": "b6f11d12",
   "metadata": {},
   "source": [
    "### Question 2\n",
    "\n",
    "2. **In Coding Quiz 1, there are two approaches to matching:** \n",
    "- **(A) Picking the best match X = 0 corresponding to each X = 1 using Z values.**\n",
    "- **(B) Using radius_neighbors to pick all matches X = 0 within a distance of 0.2 of each X = 1.**\n",
    "- **Invent your own type of matching similar to 1 and 2 (or look one up on the internet), which has a different way to pick the matches in X = 0.  Clearly explain the approach you invented or found.**"
   ]
  },
  {
   "cell_type": "markdown",
   "id": "d1e2ca92",
   "metadata": {},
   "source": [
    "I googled \"causal inference sample matching techniques\" and chose the \"optimal\" or \"hungarian\" algorithm. This algorithm \"picks 1:1 pairs so that the sum of all distances is as small as possible\", rather than greedily taking each treatment’s single nearest neighbor independently:\n",
    "(https://math.stackexchange.com/questions/4351035/an-optimal-non-bipartite-matching-python-implementation)\n",
    "\n",
    "Let's reload the dataset and implement the algorithm: "
   ]
  },
  {
   "cell_type": "code",
   "execution_count": 13,
   "id": "0dfd1120",
   "metadata": {},
   "outputs": [],
   "source": [
    "# Load the data\n",
    "df2 = pd.read_csv('homework_1.2.csv', index_col=0)\n",
    "\n",
    "# Split into control (X=0) and treatment (X=1)\n",
    "df0 = df2[df2['X'] == 0].reset_index(drop=True)\n",
    "df1 = df2[df2['X'] == 1].reset_index(drop=True)"
   ]
  },
  {
   "cell_type": "markdown",
   "id": "e7adf9a3",
   "metadata": {},
   "source": [
    "\"The Hungarian algorithm, also known as the Munkres algorithm, is a combinatorial optimization algorithm that solves the assignment problem in polynomial time. It finds the minimum cost assignment in a bipartite graph, where each node in one set must be matched with exactly one node in the other set.\" \n",
    "(https://www.google.com/search?q=hungarian+algorithm+python&rlz=1C5CHFA_enUS1111US1111&oq=hungarian+algor&gs_lcrp=EgZjaHJvbWUqDAgBEAAYQxiABBiKBTIPCAAQABhDGLEDGIAEGIoFMgwIARAAGEMYgAQYigUyDAgCEAAYQxiABBiKBTIMCAMQABhDGIAEGIoFMgwIBBAAGEMYgAQYigUyDAgFEAAYQxiABBiKBTIMCAYQABhDGIAEGIoFMgwIBxAAGEMYgAQYigXSAQgyNzk1ajBqNKgCBrACAfEFBLBf1Q6jIXI&sourceid=chrome&ie=UTF-8)\n",
    "\n",
    "See the documentation here: https://docs.scipy.org/doc/scipy/reference/generated/scipy.optimize.linear_sum_assignment.html\n",
    "\n",
    "We can use this method to find assign matches between the treated and control groups, using `Z_difference` as the optimization parameter. \n",
    "\n",
    "There are a couple of ways to implement the hungarian algorithm in python. I've decided to go with the `scipy.optimize` module's `linear_sum_assignment` method. "
   ]
  },
  {
   "cell_type": "markdown",
   "id": "7d56b173",
   "metadata": {},
   "source": [
    "First - we build a matrix of the absolute difference between treated and control groups $(N_{treated} \\times N_{control})$. This is our \"cost matrix\":\n",
    "$$C_{ij} \\; = \\; | Z_i - Z_j|$$"
   ]
  },
  {
   "cell_type": "code",
   "execution_count": 14,
   "id": "395591e1",
   "metadata": {},
   "outputs": [],
   "source": [
    "# Build matrix of absolute Z-distances\n",
    "matrix = np.abs(df1['Z'].values.reshape(-1, 1) - df0['Z'].values.reshape(1, -1)) #take the absolute difference between Z in treatment and control groups"
   ]
  },
  {
   "cell_type": "markdown",
   "id": "d70be135",
   "metadata": {},
   "source": [
    "Then we create our optimal assignment by setting the `row_ind` (row index), `col_ind` (column index) varaibles to the linear_sum_assignment of our matrix of sample differences."
   ]
  },
  {
   "cell_type": "code",
   "execution_count": 15,
   "id": "03e353e0",
   "metadata": {},
   "outputs": [
    {
     "name": "stdout",
     "output_type": "stream",
     "text": [
      "Optimal assignment indices: [ 0  1  2  3  4  5  6  7  8  9 10 11 12 13 14 15 16 17 18 19 20 21 22 23\n",
      " 24 25 26 27 28 29 30 31 32 33 34 35 36 37 38 39 40 41 42 43 44 45 46 47] [43 17 42  9 35 14  0  5 31 20 45  3 22 15 34 25 10 24  4 26  2 12 39 27\n",
      " 33 11 23 29 13 41 38 32 49 46 30 21 18 28  1 44 37 40 36  6 47 19  7 48]\n"
     ]
    }
   ],
   "source": [
    "from scipy.optimize import linear_sum_assignment\n",
    "\n",
    "# Solve optimal assignment\n",
    "row_ind, col_ind = linear_sum_assignment(matrix)\n",
    "\n",
    "print(\"Optimal assignment indices:\", row_ind, col_ind)"
   ]
  },
  {
   "cell_type": "markdown",
   "id": "24a4d26e",
   "metadata": {},
   "source": [
    "Then we reconstruct the matched_df using our optimized assignment indices. In this dataframe we have: \n",
    "- Paired treated $i$ with control $j$ for each entry in the index arrays.\n",
    "- Computed each pair's outcome difference, which can then be used to get the **ATE**"
   ]
  },
  {
   "cell_type": "code",
   "execution_count": 16,
   "id": "00bd6a44",
   "metadata": {},
   "outputs": [
    {
     "data": {
      "text/html": [
       "<div>\n",
       "<style scoped>\n",
       "    .dataframe tbody tr th:only-of-type {\n",
       "        vertical-align: middle;\n",
       "    }\n",
       "\n",
       "    .dataframe tbody tr th {\n",
       "        vertical-align: top;\n",
       "    }\n",
       "\n",
       "    .dataframe thead th {\n",
       "        text-align: right;\n",
       "    }\n",
       "</style>\n",
       "<table border=\"1\" class=\"dataframe\">\n",
       "  <thead>\n",
       "    <tr style=\"text-align: right;\">\n",
       "      <th></th>\n",
       "      <th>X1_index</th>\n",
       "      <th>X0_index</th>\n",
       "      <th>Z_x1</th>\n",
       "      <th>Z_x0</th>\n",
       "      <th>Z_distance</th>\n",
       "      <th>Y_x1</th>\n",
       "      <th>Y_x0</th>\n",
       "      <th>Y_diff</th>\n",
       "    </tr>\n",
       "  </thead>\n",
       "  <tbody>\n",
       "    <tr>\n",
       "      <th>0</th>\n",
       "      <td>0</td>\n",
       "      <td>43</td>\n",
       "      <td>0.715189</td>\n",
       "      <td>0.523248</td>\n",
       "      <td>0.191941</td>\n",
       "      <td>1.215189</td>\n",
       "      <td>0.523248</td>\n",
       "      <td>0.691941</td>\n",
       "    </tr>\n",
       "    <tr>\n",
       "      <th>1</th>\n",
       "      <td>1</td>\n",
       "      <td>17</td>\n",
       "      <td>0.645894</td>\n",
       "      <td>0.616934</td>\n",
       "      <td>0.028960</td>\n",
       "      <td>1.145894</td>\n",
       "      <td>0.616934</td>\n",
       "      <td>0.528960</td>\n",
       "    </tr>\n",
       "    <tr>\n",
       "      <th>2</th>\n",
       "      <td>2</td>\n",
       "      <td>42</td>\n",
       "      <td>0.437587</td>\n",
       "      <td>0.265389</td>\n",
       "      <td>0.172198</td>\n",
       "      <td>0.937587</td>\n",
       "      <td>0.265389</td>\n",
       "      <td>0.672198</td>\n",
       "    </tr>\n",
       "    <tr>\n",
       "      <th>3</th>\n",
       "      <td>3</td>\n",
       "      <td>9</td>\n",
       "      <td>0.891773</td>\n",
       "      <td>0.778157</td>\n",
       "      <td>0.113616</td>\n",
       "      <td>1.391773</td>\n",
       "      <td>0.778157</td>\n",
       "      <td>0.613616</td>\n",
       "    </tr>\n",
       "    <tr>\n",
       "      <th>4</th>\n",
       "      <td>4</td>\n",
       "      <td>35</td>\n",
       "      <td>0.963663</td>\n",
       "      <td>0.739264</td>\n",
       "      <td>0.224399</td>\n",
       "      <td>1.463663</td>\n",
       "      <td>0.739264</td>\n",
       "      <td>0.724399</td>\n",
       "    </tr>\n",
       "  </tbody>\n",
       "</table>\n",
       "</div>"
      ],
      "text/plain": [
       "   X1_index  X0_index      Z_x1      Z_x0  Z_distance      Y_x1      Y_x0  \\\n",
       "0         0        43  0.715189  0.523248    0.191941  1.215189  0.523248   \n",
       "1         1        17  0.645894  0.616934    0.028960  1.145894  0.616934   \n",
       "2         2        42  0.437587  0.265389    0.172198  0.937587  0.265389   \n",
       "3         3         9  0.891773  0.778157    0.113616  1.391773  0.778157   \n",
       "4         4        35  0.963663  0.739264    0.224399  1.463663  0.739264   \n",
       "\n",
       "     Y_diff  \n",
       "0  0.691941  \n",
       "1  0.528960  \n",
       "2  0.672198  \n",
       "3  0.613616  \n",
       "4  0.724399  "
      ]
     },
     "execution_count": 16,
     "metadata": {},
     "output_type": "execute_result"
    }
   ],
   "source": [
    "# Build matched pairs DataFrame\n",
    "matched_opt = pd.DataFrame({\n",
    "    'X1_index': row_ind,\n",
    "    'X0_index': col_ind,\n",
    "    'Z_x1': df1.loc[row_ind, 'Z'].values,\n",
    "    'Z_x0': df0.loc[col_ind, 'Z'].values,\n",
    "    'Z_distance': matrix[row_ind, col_ind],\n",
    "    'Y_x1': df1.loc[row_ind, 'Y'].values,\n",
    "    'Y_x0': df0.loc[col_ind, 'Y'].values,\n",
    "})\n",
    "matched_opt['Y_diff'] = matched_opt['Y_x1'] - matched_opt['Y_x0']\n",
    "\n",
    "matched_opt.head()"
   ]
  },
  {
   "cell_type": "markdown",
   "id": "398cd563",
   "metadata": {},
   "source": [
    "This approach differs from the nearest neighbors and fixed radius methods by using global optimization to choose sampled pairs. The biggest difference is that the algorithm does not use **replacement** or **resampling** while finding neighbors, and no control is reused.\n",
    "\n",
    "it would be useful in situations where replacement is not acceptable - such when as direct 1-to-1 correspondence is desired. "
   ]
  },
  {
   "cell_type": "markdown",
   "id": "382dab72",
   "metadata": {},
   "source": [
    "## HW Reflection 2"
   ]
  },
  {
   "cell_type": "markdown",
   "id": "6d4db9f9",
   "metadata": {},
   "source": [
    "### Question 1\n",
    "1. **Invent an example situation that would use fixed effects.**\n",
    "\n",
    "### My example - Cafe Foot Traffic and Live Music\n",
    "Record daily foot traffice for 3 cafes (`cafe_A`, `cafe_B`, and `cafe_C`) over a period of time (lets say 30 days). Each day we note:\n",
    "- $Y_{c, d}$ (the number of `customers` entering `cafe_C` on `day` $d$)\n",
    "- $X_{C, d}$ (the hours of live music that day at `cafe_C`)\n",
    "\n",
    "Different cafes have different “baseline” popularity (location, décor, regulars), but you believe each extra hour of live music draws in the same number of additional customers.\n",
    "\n",
    "### The Fixed Effects Model\n",
    "$Y_{c,d} \\; = \\; \\alpha_c + \\beta X_{c,d} + \\varepsilon_{c, d}$, \n",
    "\n",
    "where:\n",
    "\n",
    "- $\\alpha_c$ is `cafe_C`s baseline foot traffic (intercept)\n",
    "- $\\beta$ is the extra customers per hour of music \n",
    "- $\\varepsilon_{c, d}$ is random noise, such as weather, holidays, the quality of the barista working, \n",
    "\n",
    "The variable $\\alpha_c$ accounts for each cafe's baseline foot traffic, isolating $\\beta$ (the effect of an extra hour of live)"
   ]
  },
  {
   "cell_type": "markdown",
   "id": "538bc143",
   "metadata": {},
   "source": [
    "### Question 2\n",
    "\n",
    "2. Write a Python program that performs a bootstrap simulation to find the variance in the mean of the Pareto distribution when different samples are taken.  Explain what you had to do for this.  As you make the full sample size bigger (for the same distribution), what happens to the variance of the mean of the samples?  Does it stay about the same, get smaller, or get bigger?"
   ]
  },
  {
   "cell_type": "markdown",
   "id": "731ada12",
   "metadata": {},
   "source": [
    "### My explanation:\n",
    "1. Simulated Pareto draws using NumPy’s `np.random.pareto(alpha)`, (with shape 𝛼=3), shifted by +1 so that values start at 1.\n",
    "2. For each sample size $N \\in\\{10,50,100,500,1000\\}$, we:\n",
    "- Drew one “observed” sample of size N.\n",
    "- Ran 1,000 bootstrap resamples (sampling with replacement) from that sample.\n",
    "- Computed the mean of each resample, then took the variance of those 1,000 means.\n",
    "3. Plotted the resulting variances against sample size."
   ]
  },
  {
   "cell_type": "code",
   "execution_count": 17,
   "id": "278b5358",
   "metadata": {},
   "outputs": [
    {
     "name": "stdout",
     "output_type": "stream",
     "text": [
      "   sample_size  variance_bootstrap_means\n",
      "0           10                  0.008355\n",
      "1           50                  0.003479\n",
      "2          100                  0.006996\n",
      "3          500                  0.001336\n",
      "4         1000                  0.000329\n"
     ]
    },
    {
     "data": {
      "image/png": "[encoded data removed]",
      "text/plain": [
       "<Figure size 800x500 with 1 Axes>"
      ]
     },
     "metadata": {},
     "output_type": "display_data"
    }
   ],
   "source": [
    "# Pareto shape parameter\n",
    "alpha = 3.0\n",
    "sample_sizes = [10, 50, 100, 500, 1000]\n",
    "n_bootstrap = 1000\n",
    "\n",
    "# variance results\n",
    "variances = []\n",
    "\n",
    "# bootstrap simulation with replacement \n",
    "for N in sample_sizes:\n",
    "    sample = np.random.pareto(alpha, size=N) + 1\n",
    "    bootstrap_means = []\n",
    "\n",
    "    for _ in range(n_bootstrap):\n",
    "        bs = np.random.choice(sample, size=N, replace=True)\n",
    "        bootstrap_means.append(bs.mean())\n",
    "\n",
    "    variances.append(np.var(bootstrap_means, ddof=1))\n",
    "\n",
    "# Assemble into DataFrame\n",
    "df_stats = pd.DataFrame({\n",
    "    'sample_size': sample_sizes,\n",
    "    'variance_bootstrap_means': variances\n",
    "})\n",
    "print(df_stats)\n",
    "\n",
    "# Plot variance vs. sample size\n",
    "plt.figure(figsize=(8, 5))\n",
    "plt.plot(sample_sizes, variances, marker='o')\n",
    "plt.xlabel('Sample size (N)')\n",
    "plt.ylabel('Variance of bootstrap means')\n",
    "plt.title('Bootstrap variance of Pareto sample mean vs sample size')\n",
    "plt.grid(True)\n",
    "plt.show()"
   ]
  },
  {
   "cell_type": "markdown",
   "id": "32965cee",
   "metadata": {},
   "source": [
    "### What happens as sample size grows?\n",
    "The plot (and printed table) show a clear decrease in the variance of the bootstrap means as N increases. As the number of samples increases, the more stable its mean tends to be, so the sampling‐distribution (or bootstrap‐distribution) of the mean sharpens up and variance gets smaller."
   ]
  },
  {
   "cell_type": "markdown",
   "id": "c3086161",
   "metadata": {},
   "source": [
    "## Homework reflection 3"
   ]
  },
  {
   "cell_type": "markdown",
   "id": "d780bd51",
   "metadata": {},
   "source": [
    "### Question 1\n",
    "1. In the event study in Coding Quiz 3, how would we go about testing for a change in the second derivative as well?"
   ]
  },
  {
   "cell_type": "markdown",
   "id": "79c0522d",
   "metadata": {},
   "source": [
    "First, let's go ahead and load up my answer from the 3rd coding quiz:"
   ]
  },
  {
   "cell_type": "code",
   "execution_count": 18,
   "id": "891636b4",
   "metadata": {},
   "outputs": [
    {
     "name": "stdout",
     "output_type": "stream",
     "text": [
      "\n",
      "Event‐study for value1\n",
      "                            OLS Regression Results                            \n",
      "==============================================================================\n",
      "Dep. Variable:                 value1   R-squared:                       0.790\n",
      "Model:                            OLS   Adj. R-squared:                  0.783\n",
      "Method:                 Least Squares   F-statistic:                     120.2\n",
      "Date:                Sun, 15 Jun 2025   Prob (F-statistic):           2.18e-32\n",
      "Time:                        20:53:26   Log-Likelihood:                -135.33\n",
      "No. Observations:                 100   AIC:                             278.7\n",
      "Df Residuals:                      96   BIC:                             289.1\n",
      "Df Model:                           3                                         \n",
      "Covariance Type:            nonrobust                                         \n",
      "==============================================================================\n",
      "                 coef    std err          t      P>|t|      [0.025      0.975]\n",
      "------------------------------------------------------------------------------\n",
      "const          0.8464      0.266      3.178      0.002       0.318       1.375\n",
      "After          0.9035      0.382      2.362      0.020       0.144       1.663\n",
      "time          -0.0088      0.009     -0.940      0.349      -0.027       0.010\n",
      "t_After        0.1053      0.013      7.951      0.000       0.079       0.132\n",
      "==============================================================================\n",
      "Omnibus:                        0.205   Durbin-Watson:                   2.178\n",
      "Prob(Omnibus):                  0.902   Jarque-Bera (JB):                0.115\n",
      "Skew:                          -0.082   Prob(JB):                        0.944\n",
      "Kurtosis:                       2.981   Cond. No.                         252.\n",
      "==============================================================================\n",
      "\n",
      "Notes:\n",
      "[1] Standard Errors assume that the covariance matrix of the errors is correctly specified.\n",
      "\n",
      "Event‐study for value2\n",
      "                            OLS Regression Results                            \n",
      "==============================================================================\n",
      "Dep. Variable:                 value2   R-squared:                       0.569\n",
      "Model:                            OLS   Adj. R-squared:                  0.556\n",
      "Method:                 Least Squares   F-statistic:                     42.33\n",
      "Date:                Sun, 15 Jun 2025   Prob (F-statistic):           1.62e-17\n",
      "Time:                        20:53:26   Log-Likelihood:                -143.57\n",
      "No. Observations:                 100   AIC:                             295.1\n",
      "Df Residuals:                      96   BIC:                             305.6\n",
      "Df Model:                           3                                         \n",
      "Covariance Type:            nonrobust                                         \n",
      "==============================================================================\n",
      "                 coef    std err          t      P>|t|      [0.025      0.975]\n",
      "------------------------------------------------------------------------------\n",
      "const          0.4941      0.289      1.708      0.091      -0.080       1.068\n",
      "After          0.7012      0.415      1.688      0.095      -0.123       1.526\n",
      "time           0.0103      0.010      1.013      0.314      -0.010       0.030\n",
      "t_After        0.0369      0.014      2.567      0.012       0.008       0.065\n",
      "==============================================================================\n",
      "Omnibus:                        5.029   Durbin-Watson:                   2.069\n",
      "Prob(Omnibus):                  0.081   Jarque-Bera (JB):                2.782\n",
      "Skew:                           0.169   Prob(JB):                        0.249\n",
      "Kurtosis:                       2.256   Cond. No.                         252.\n",
      "==============================================================================\n",
      "\n",
      "Notes:\n",
      "[1] Standard Errors assume that the covariance matrix of the errors is correctly specified.\n",
      "\n",
      "Event‐study for value3\n",
      "                            OLS Regression Results                            \n",
      "==============================================================================\n",
      "Dep. Variable:                 value3   R-squared:                       0.807\n",
      "Model:                            OLS   Adj. R-squared:                  0.801\n",
      "Method:                 Least Squares   F-statistic:                     133.9\n",
      "Date:                Sun, 15 Jun 2025   Prob (F-statistic):           3.47e-34\n",
      "Time:                        20:53:26   Log-Likelihood:                -134.55\n",
      "No. Observations:                 100   AIC:                             277.1\n",
      "Df Residuals:                      96   BIC:                             287.5\n",
      "Df Model:                           3                                         \n",
      "Covariance Type:            nonrobust                                         \n",
      "==============================================================================\n",
      "                 coef    std err          t      P>|t|      [0.025      0.975]\n",
      "------------------------------------------------------------------------------\n",
      "const          0.0975      0.264      0.369      0.713      -0.427       0.622\n",
      "After          1.7926      0.379      4.724      0.000       1.039       2.546\n",
      "time           0.0109      0.009      1.176      0.243      -0.008       0.029\n",
      "t_After        0.0507      0.013      3.857      0.000       0.025       0.077\n",
      "==============================================================================\n",
      "Omnibus:                        0.424   Durbin-Watson:                   2.443\n",
      "Prob(Omnibus):                  0.809   Jarque-Bera (JB):                0.115\n",
      "Skew:                          -0.037   Prob(JB):                        0.944\n",
      "Kurtosis:                       3.149   Cond. No.                         252.\n",
      "==============================================================================\n",
      "\n",
      "Notes:\n",
      "[1] Standard Errors assume that the covariance matrix of the errors is correctly specified.\n"
     ]
    }
   ],
   "source": [
    "# Load the data\n",
    "df = pd.read_csv('homework_3.1.csv', index_col=0)\n",
    "\n",
    "# Define the event time\n",
    "t0 = df['time'].iloc[50]\n",
    "\n",
    "# Create event‐study variables\n",
    "df['After']   = (df['time'] >= t0).astype(int)\n",
    "df['t_After'] = (df['time'] - t0) * df['After']\n",
    "\n",
    "# Build the regressor matrix: constant, level shift, pre‐trend, post‐trend\n",
    "X = sm.add_constant(df[['After', 'time', 't_After']])\n",
    "\n",
    "# Run one OLS for each series\n",
    "for series in ['value1', 'value2', 'value3']:\n",
    "    y = df[series]\n",
    "    results = sm.OLS(df[series], X).fit()\n",
    "    print(f\"\\nEvent‐study for {series}\")\n",
    "    print(results.summary())"
   ]
  },
  {
   "cell_type": "markdown",
   "id": "12a8f96a",
   "metadata": {},
   "source": [
    "To test for a change in the second derivative (i.e. a change in curvature) at $t_0$, we would extend the event-study regression by adding:\n",
    "1. A quadratic time term, $t^2$, which lets the baseline trend be curved.\n",
    "2. An interaction of the post-event indicator with the squared time “distance,” $(t - t_0)^2 \\times \\mathrm{After}$.  Its coefficient measures how the curvature itself shifts once the event hits."
   ]
  },
  {
   "cell_type": "code",
   "execution_count": 19,
   "id": "829acb2d",
   "metadata": {},
   "outputs": [
    {
     "name": "stdout",
     "output_type": "stream",
     "text": [
      "\n",
      "Event‐study for value1\n",
      "                            OLS Regression Results                            \n",
      "==============================================================================\n",
      "Dep. Variable:                 value1   R-squared:                       0.791\n",
      "Model:                            OLS   Adj. R-squared:                  0.780\n",
      "Method:                 Least Squares   F-statistic:                     71.17\n",
      "Date:                Sun, 15 Jun 2025   Prob (F-statistic):           1.97e-30\n",
      "Time:                        20:53:26   Log-Likelihood:                -135.02\n",
      "No. Observations:                 100   AIC:                             282.0\n",
      "Df Residuals:                      94   BIC:                             297.7\n",
      "Df Model:                           5                                         \n",
      "Covariance Type:            nonrobust                                         \n",
      "==============================================================================\n",
      "                 coef    std err          t      P>|t|      [0.025      0.975]\n",
      "------------------------------------------------------------------------------\n",
      "const          0.0371      1.565      0.024      0.981      -3.071       3.145\n",
      "after          0.8948      0.579      1.546      0.126      -0.255       2.044\n",
      "time           0.0108      0.038      0.280      0.780      -0.066       0.087\n",
      "t_after        0.0656      0.053      1.228      0.222      -0.040       0.172\n",
      "time2          0.0004      0.001      0.525      0.601      -0.001       0.002\n",
      "t2_after    2.689e-05      0.001      0.026      0.979      -0.002       0.002\n",
      "==============================================================================\n",
      "Omnibus:                        0.067   Durbin-Watson:                   2.192\n",
      "Prob(Omnibus):                  0.967   Jarque-Bera (JB):                0.054\n",
      "Skew:                          -0.046   Prob(JB):                        0.973\n",
      "Kurtosis:                       2.932   Cond. No.                     2.11e+04\n",
      "==============================================================================\n",
      "\n",
      "Notes:\n",
      "[1] Standard Errors assume that the covariance matrix of the errors is correctly specified.\n",
      "[2] The condition number is large, 2.11e+04. This might indicate that there are\n",
      "strong multicollinearity or other numerical problems.\n",
      "\n",
      "Event‐study for value2\n",
      "                            OLS Regression Results                            \n",
      "==============================================================================\n",
      "Dep. Variable:                 value2   R-squared:                       0.582\n",
      "Model:                            OLS   Adj. R-squared:                  0.560\n",
      "Method:                 Least Squares   F-statistic:                     26.19\n",
      "Date:                Sun, 15 Jun 2025   Prob (F-statistic):           1.76e-16\n",
      "Time:                        20:53:26   Log-Likelihood:                -142.08\n",
      "No. Observations:                 100   AIC:                             296.2\n",
      "Df Residuals:                      94   BIC:                             311.8\n",
      "Df Model:                           5                                         \n",
      "Covariance Type:            nonrobust                                         \n",
      "==============================================================================\n",
      "                 coef    std err          t      P>|t|      [0.025      0.975]\n",
      "------------------------------------------------------------------------------\n",
      "const          1.1359      1.680      0.676      0.501      -2.199       4.471\n",
      "after          1.3422      0.621      2.160      0.033       0.109       2.576\n",
      "time          -0.0052      0.041     -0.127      0.900      -0.087       0.077\n",
      "t_after       -0.0108      0.057     -0.189      0.850      -0.125       0.103\n",
      "time2         -0.0003      0.001     -0.388      0.699      -0.002       0.001\n",
      "t2_after       0.0016      0.001      1.438      0.154      -0.001       0.004\n",
      "==============================================================================\n",
      "Omnibus:                        8.003   Durbin-Watson:                   2.140\n",
      "Prob(Omnibus):                  0.018   Jarque-Bera (JB):                3.584\n",
      "Skew:                           0.182   Prob(JB):                        0.167\n",
      "Kurtosis:                       2.147   Cond. No.                     2.11e+04\n",
      "==============================================================================\n",
      "\n",
      "Notes:\n",
      "[1] Standard Errors assume that the covariance matrix of the errors is correctly specified.\n",
      "[2] The condition number is large, 2.11e+04. This might indicate that there are\n",
      "strong multicollinearity or other numerical problems.\n",
      "\n",
      "Event‐study for value3\n",
      "                            OLS Regression Results                            \n",
      "==============================================================================\n",
      "Dep. Variable:                 value3   R-squared:                       0.807\n",
      "Model:                            OLS   Adj. R-squared:                  0.797\n",
      "Method:                 Least Squares   F-statistic:                     78.82\n",
      "Date:                Sun, 15 Jun 2025   Prob (F-statistic):           4.38e-32\n",
      "Time:                        20:53:26   Log-Likelihood:                -134.48\n",
      "No. Observations:                 100   AIC:                             281.0\n",
      "Df Residuals:                      94   BIC:                             296.6\n",
      "Df Model:                           5                                         \n",
      "Covariance Type:            nonrobust                                         \n",
      "==============================================================================\n",
      "                 coef    std err          t      P>|t|      [0.025      0.975]\n",
      "------------------------------------------------------------------------------\n",
      "const          0.0244      1.557      0.016      0.988      -3.067       3.115\n",
      "after          1.6755      0.576      2.910      0.005       0.532       2.819\n",
      "time           0.0127      0.038      0.332      0.741      -0.063       0.089\n",
      "t_after        0.0616      0.053      1.160      0.249      -0.044       0.167\n",
      "time2       3.471e-05      0.001      0.048      0.962      -0.001       0.001\n",
      "t2_after      -0.0003      0.001     -0.286      0.776      -0.002       0.002\n",
      "==============================================================================\n",
      "Omnibus:                        0.623   Durbin-Watson:                   2.447\n",
      "Prob(Omnibus):                  0.732   Jarque-Bera (JB):                0.244\n",
      "Skew:                          -0.065   Prob(JB):                        0.885\n",
      "Kurtosis:                       3.204   Cond. No.                     2.11e+04\n",
      "==============================================================================\n",
      "\n",
      "Notes:\n",
      "[1] Standard Errors assume that the covariance matrix of the errors is correctly specified.\n",
      "[2] The condition number is large, 2.11e+04. This might indicate that there are\n",
      "strong multicollinearity or other numerical problems.\n"
     ]
    }
   ],
   "source": [
    "event_study_2 = pd.read_csv('homework_3.1.csv', index_col=0)\n",
    "\n",
    "# Define the event time\n",
    "t0 = event_study_2['time'].iloc[50]\n",
    "\n",
    "# Create event‐study variables\n",
    "event_study_2['after']   = (event_study_2['time'] >= t0).astype(int)\n",
    "event_study_2['t_after'] = (event_study_2['time'] - t0) * event_study_2['after']\n",
    "\n",
    "# second additional terms for the 2nd derivative\n",
    "event_study_2['time_c']  = event_study_2['time'] - t0\n",
    "event_study_2['time2'] = event_study_2['time_c']**2\n",
    "event_study_2['t2_after'] = (event_study_2['time_c'])**2 * event_study_2['after']\n",
    "\n",
    "X = sm.add_constant(event_study_2[['after', 'time', 't_after', 'time2', 't2_after']])\n",
    "\n",
    "# Run one OLS for each series\n",
    "for series in ['value1', 'value2', 'value3']:\n",
    "    y       = event_study_2[series]\n",
    "    model   = sm.OLS(y, X)\n",
    "    results = model.fit()\n",
    "    print(f\"\\nEvent‐study for {series}\")\n",
    "    print(results.summary())"
   ]
  },
  {
   "cell_type": "markdown",
   "id": "9f4e8671",
   "metadata": {},
   "source": [
    "The expanded event‐study regression with both first‐ and second‐derivative terms would be written as:\n",
    "\n",
    "$$ Y_{i,t} \\; = \\; \\beta_0 + \\beta_1 \\text{after}_t + \\beta_2 t + \\beta_3 (t - t_0) \\text{after}_t + \\beta_4 t^2 + \\beta_5 (t - t_0)^2  \\text{after} t + \\varepsilon_{i,t}$$\n",
    "\n",
    "Where:\n",
    "- $\\beta_0$ is the baseline intercept (level before the event).\n",
    "- $\\beta_1$ captures the level shift at t_0.\n",
    "- $\\beta_2$ is the pre‐event slope (first derivative before t_0).\n",
    "- $\\beta_3$ is the change in slope at t_0 (i.e. how the first derivative jumps).\n",
    "- $\\beta_4$ is the baseline curvature (half the second derivative before t_0, since the derivative of t^2 is 2t).\n",
    "- $\\beta_5$ is the change in curvature at t_0 (i.e. how the second derivative shifts once the event occurs).\n",
    "- $\\varepsilon_{i,t}$ is the usual error term."
   ]
  },
  {
   "cell_type": "markdown",
   "id": "77d691f7",
   "metadata": {},
   "source": [
    "### Question 2\n",
    "\n",
    "2. **Create your own scenario that illustrates differences-in-differences. Describe the story behind the data and show whether there is a nonzero treatment effect.**\n",
    "\n",
    "### My Example – Coffee Chain Discount Program and Daily Sales\n",
    "\n",
    "A large coffee chain (`Chain A`) rolls out a **$1 off** discount on all lattes starting on **day 31**, while a competing chain (`Chain B`) keeps prices unchanged. We collect daily latte sales for both chains for **30 days before** and **30 days after** the discount launch.\n",
    "\n",
    "**Data structure**\n",
    "\n",
    "- $(Y_{g,t})$: number of lattes sold by chain $g \\in \\text{A (treated)}$, $\\text{B (control)}$ on day ($t$).  \n",
    "- $Treated_g$: equals 1 for Chain A, 0 for Chain B.  \n",
    "- $Post_t$: equals 1 when $t \\ge 31$, 0 otherwise.  \n",
    "\n",
    "**Differences-in-Differences model**  \n",
    "$Y_{g,t} = \\alpha + \\gamma\\,\\mathrm{Treated}_g + \\lambda\\,\\mathrm{Post}_t + \\tau\\,(\\mathrm{Treated}_g \\times \\mathrm{Post}_t) + \\varepsilon_{g,t}$\n",
    "\n",
    "\n",
    "- $\\alpha$: baseline average sales for control before discount.  \n",
    "- $\\gamma$: permanent gap between treated & control before discount.  \n",
    "- $\\lambda$: common time shock after day 30 (e.g., seasonal effects).  \n",
    "- $\\tau$: **DID estimator**, the **treatment effect** of the discount program.  \n",
    "\n",
    "and then if implemented in a simple dataframe:"
   ]
  },
  {
   "cell_type": "code",
   "execution_count": 20,
   "id": "8d123315",
   "metadata": {},
   "outputs": [
    {
     "name": "stdout",
     "output_type": "stream",
     "text": [
      "Period   After  Before  Change\n",
      "Chain                         \n",
      "Control    155     150       5\n",
      "Treated    175     145      30\n",
      "\n",
      "DID estimator (tau): 25\n"
     ]
    }
   ],
   "source": [
    "data = {('Control','Before'): 150,('Control','After'):  155,('Treated','Before'): 145,('Treated','After'):  175}\n",
    "df = (pd.Series(data).rename_axis(['Chain','Period']).reset_index(name='AvgSales').pivot(index='Chain', columns='Period', values='AvgSales'))\n",
    "df['Change'] = df['After'] - df['Before'] # period on period change\n",
    "tau_df = df.loc['Treated','Change'] - df.loc['Control','Change'] #DID Estimator Tau\n",
    "\n",
    "print(df)\n",
    "print(f\"\\nDID estimator (tau): {tau_df}\")"
   ]
  },
  {
   "cell_type": "markdown",
   "id": "cb611fcf",
   "metadata": {},
   "source": [
    "Since $\\tau = 25 > 0$, there is a positive treatment effect: Chain A sold on average 25 more lattes per day (beyond any general trend) thanks to the $1 discount.  "
   ]
  },
  {
   "cell_type": "markdown",
   "id": "8301d191",
   "metadata": {},
   "source": [
    "## Homework Reflection 4"
   ]
  },
  {
   "cell_type": "markdown",
   "id": "92dd5dd1",
   "metadata": {},
   "source": [
    "### Question 1\n",
    "1. The Coding Quiz gives two options for instrumental variables.  For the second item (dividing the range of W into multiple ranges), explain how you did it, show your code, and discuss any issues you encountered."
   ]
  },
  {
   "cell_type": "markdown",
   "id": "da20dadd",
   "metadata": {},
   "source": [
    "We've used `pd.cut` to cross-cut the dataset, creating narrow ranges of the dataset, then we calcluate the treatment effect  in each bin"
   ]
  },
  {
   "cell_type": "code",
   "execution_count": 27,
   "id": "719b78d4",
   "metadata": {},
   "outputs": [
    {
     "name": "stdout",
     "output_type": "stream",
     "text": [
      "Overall average ratio of Delta Y to Delta X: 0.9068703330024138\n"
     ]
    }
   ],
   "source": [
    "# Load the IV dataset\n",
    "df_iv = pd.read_csv('homework_4.1.csv', index_col=0)\n",
    "\n",
    "# Define bins for W (equal-width)\n",
    "n_bins = 10\n",
    "w_min, w_max = df_iv['W'].min(), df_iv['W'].max()\n",
    "bins = np.linspace(w_min, w_max, n_bins + 1)\n",
    "\n",
    "# Assign each observation to a W-bin\n",
    "df_iv['W_bin'] = pd.cut(df_iv['W'], bins)\n",
    "\n",
    "# Compute ΔY, ΔX, and ratio for each bin\n",
    "bin_stats = []\n",
    "for w_bin, group in df_iv.groupby('W_bin', observed=True):\n",
    "    y1 = group[group['Z'] == 1]['Y'].mean()\n",
    "    y0 = group[group['Z'] == 0]['Y'].mean()\n",
    "    x1 = group[group['Z'] == 1]['X'].mean()\n",
    "    x0 = group[group['Z'] == 0]['X'].mean()\n",
    "    delta_y = y1 - y0\n",
    "    delta_x = x1 - x0\n",
    "    ratio = delta_y / delta_x if delta_x != 0 else np.nan\n",
    "    bin_stats.append({\n",
    "        'W_bin': w_bin,\n",
    "        'delta_y': delta_y,\n",
    "        'delta_x': delta_x,\n",
    "        'Ratio delta_Y/delta_X': ratio,\n",
    "        'Count': len(group)\n",
    "    })\n",
    "\n",
    "iv_bins = pd.DataFrame(bin_stats)\n",
    "\n",
    "# Compute overall average ratio\n",
    "overall_ratio = iv_bins['Ratio delta_Y/delta_X'].mean()\n",
    "\n",
    "print(\"Overall average ratio of Delta Y to Delta X:\", overall_ratio)"
   ]
  },
  {
   "cell_type": "code",
   "execution_count": 22,
   "id": "cf00a1a4",
   "metadata": {},
   "outputs": [
    {
     "data": {
      "image/png": "[encoded data removed]",
      "text/plain": [
       "<Figure size 640x480 with 1 Axes>"
      ]
     },
     "metadata": {},
     "output_type": "display_data"
    }
   ],
   "source": [
    "# Plot histogram of the number of values in each W_bin\n",
    "df_iv['W_bin'].value_counts(sort=False).plot(kind='bar')\n",
    "plt.xlabel('W_bin')\n",
    "plt.ylabel('Count')\n",
    "plt.title('Number of Values in Each W_bin')\n",
    "plt.xticks(rotation=45)\n",
    "plt.tight_layout()\n",
    "plt.show()"
   ]
  },
  {
   "cell_type": "code",
   "execution_count": 23,
   "id": "58695a8e",
   "metadata": {},
   "outputs": [
    {
     "data": {
      "text/html": [
       "<div>\n",
       "<style scoped>\n",
       "    .dataframe tbody tr th:only-of-type {\n",
       "        vertical-align: middle;\n",
       "    }\n",
       "\n",
       "    .dataframe tbody tr th {\n",
       "        vertical-align: top;\n",
       "    }\n",
       "\n",
       "    .dataframe thead th {\n",
       "        text-align: right;\n",
       "    }\n",
       "</style>\n",
       "<table border=\"1\" class=\"dataframe\">\n",
       "  <thead>\n",
       "    <tr style=\"text-align: right;\">\n",
       "      <th></th>\n",
       "      <th>W_bin</th>\n",
       "      <th>delta_y</th>\n",
       "      <th>delta_x</th>\n",
       "      <th>Ratio delta_Y/delta_X</th>\n",
       "      <th>Count</th>\n",
       "    </tr>\n",
       "  </thead>\n",
       "  <tbody>\n",
       "    <tr>\n",
       "      <th>0</th>\n",
       "      <td>(-3.303, -2.495]</td>\n",
       "      <td>1.301296</td>\n",
       "      <td>1.150448</td>\n",
       "      <td>1.131121</td>\n",
       "      <td>35</td>\n",
       "    </tr>\n",
       "    <tr>\n",
       "      <th>1</th>\n",
       "      <td>(-2.495, -1.686]</td>\n",
       "      <td>1.593822</td>\n",
       "      <td>0.866809</td>\n",
       "      <td>1.838725</td>\n",
       "      <td>158</td>\n",
       "    </tr>\n",
       "    <tr>\n",
       "      <th>2</th>\n",
       "      <td>(-1.686, -0.877]</td>\n",
       "      <td>1.508296</td>\n",
       "      <td>1.047699</td>\n",
       "      <td>1.439628</td>\n",
       "      <td>773</td>\n",
       "    </tr>\n",
       "    <tr>\n",
       "      <th>3</th>\n",
       "      <td>(-0.877, -0.0687]</td>\n",
       "      <td>1.450616</td>\n",
       "      <td>0.945641</td>\n",
       "      <td>1.534002</td>\n",
       "      <td>1452</td>\n",
       "    </tr>\n",
       "    <tr>\n",
       "      <th>4</th>\n",
       "      <td>(-0.0687, 0.74]</td>\n",
       "      <td>1.716628</td>\n",
       "      <td>1.091757</td>\n",
       "      <td>1.572354</td>\n",
       "      <td>1474</td>\n",
       "    </tr>\n",
       "    <tr>\n",
       "      <th>5</th>\n",
       "      <td>(0.74, 1.549]</td>\n",
       "      <td>1.540164</td>\n",
       "      <td>1.021051</td>\n",
       "      <td>1.508410</td>\n",
       "      <td>789</td>\n",
       "    </tr>\n",
       "    <tr>\n",
       "      <th>6</th>\n",
       "      <td>(1.549, 2.357]</td>\n",
       "      <td>1.360196</td>\n",
       "      <td>1.037247</td>\n",
       "      <td>1.311352</td>\n",
       "      <td>272</td>\n",
       "    </tr>\n",
       "    <tr>\n",
       "      <th>7</th>\n",
       "      <td>(2.357, 3.166]</td>\n",
       "      <td>1.419933</td>\n",
       "      <td>0.937271</td>\n",
       "      <td>1.514965</td>\n",
       "      <td>38</td>\n",
       "    </tr>\n",
       "    <tr>\n",
       "      <th>8</th>\n",
       "      <td>(3.166, 3.975]</td>\n",
       "      <td>0.498795</td>\n",
       "      <td>-0.135222</td>\n",
       "      <td>-3.688723</td>\n",
       "      <td>7</td>\n",
       "    </tr>\n",
       "    <tr>\n",
       "      <th>9</th>\n",
       "      <td>(3.975, 4.783]</td>\n",
       "      <td>NaN</td>\n",
       "      <td>NaN</td>\n",
       "      <td>NaN</td>\n",
       "      <td>1</td>\n",
       "    </tr>\n",
       "  </tbody>\n",
       "</table>\n",
       "</div>"
      ],
      "text/plain": [
       "               W_bin   delta_y   delta_x  Ratio delta_Y/delta_X  Count\n",
       "0   (-3.303, -2.495]  1.301296  1.150448               1.131121     35\n",
       "1   (-2.495, -1.686]  1.593822  0.866809               1.838725    158\n",
       "2   (-1.686, -0.877]  1.508296  1.047699               1.439628    773\n",
       "3  (-0.877, -0.0687]  1.450616  0.945641               1.534002   1452\n",
       "4    (-0.0687, 0.74]  1.716628  1.091757               1.572354   1474\n",
       "5      (0.74, 1.549]  1.540164  1.021051               1.508410    789\n",
       "6     (1.549, 2.357]  1.360196  1.037247               1.311352    272\n",
       "7     (2.357, 3.166]  1.419933  0.937271               1.514965     38\n",
       "8     (3.166, 3.975]  0.498795 -0.135222              -3.688723      7\n",
       "9     (3.975, 4.783]       NaN       NaN                    NaN      1"
      ]
     },
     "execution_count": 23,
     "metadata": {},
     "output_type": "execute_result"
    }
   ],
   "source": [
    "iv_bins"
   ]
  },
  {
   "cell_type": "markdown",
   "id": "e2c9e388",
   "metadata": {},
   "source": [
    "In the above histogram results grid you'll see that the solution 1 is right around the middle of our histogram, whereas the average ratio we found across the multi-binned approach is much lower due to the way the overall ratio was captured (averaging the calculated ratio across the narrow bins)\n",
    "\n",
    "and then if we loop through some differnet combinations of bins we see that there is quite a bit of noise in the overall ration depending on the number of bins.\n",
    "\n",
    "### Issues\n",
    "- Bins with low numbers of observations (you can see above that our top bin had only one sample) would result in noisy or NaN ratios\n",
    "- Bin choice may impact results - pd.cut creates relatively wide bins as compared to the very narrow one used in this week's lecture\n",
    "- Averagin across all bins assumes that IV effect is constant, if it varies a simple average might mask varaition across the dataset. "
   ]
  },
  {
   "cell_type": "code",
   "execution_count": 24,
   "id": "9da40045",
   "metadata": {},
   "outputs": [
    {
     "data": {
      "text/html": [
       "<div>\n",
       "<style scoped>\n",
       "    .dataframe tbody tr th:only-of-type {\n",
       "        vertical-align: middle;\n",
       "    }\n",
       "\n",
       "    .dataframe tbody tr th {\n",
       "        vertical-align: top;\n",
       "    }\n",
       "\n",
       "    .dataframe thead th {\n",
       "        text-align: right;\n",
       "    }\n",
       "</style>\n",
       "<table border=\"1\" class=\"dataframe\">\n",
       "  <thead>\n",
       "    <tr style=\"text-align: right;\">\n",
       "      <th></th>\n",
       "      <th>n_bins</th>\n",
       "      <th>overall_ratio</th>\n",
       "    </tr>\n",
       "  </thead>\n",
       "  <tbody>\n",
       "    <tr>\n",
       "      <th>0</th>\n",
       "      <td>3</td>\n",
       "      <td>1.514339</td>\n",
       "    </tr>\n",
       "    <tr>\n",
       "      <th>1</th>\n",
       "      <td>4</td>\n",
       "      <td>1.580412</td>\n",
       "    </tr>\n",
       "    <tr>\n",
       "      <th>2</th>\n",
       "      <td>5</td>\n",
       "      <td>0.813105</td>\n",
       "    </tr>\n",
       "    <tr>\n",
       "      <th>3</th>\n",
       "      <td>6</td>\n",
       "      <td>1.470022</td>\n",
       "    </tr>\n",
       "    <tr>\n",
       "      <th>4</th>\n",
       "      <td>7</td>\n",
       "      <td>1.467543</td>\n",
       "    </tr>\n",
       "    <tr>\n",
       "      <th>5</th>\n",
       "      <td>8</td>\n",
       "      <td>1.549754</td>\n",
       "    </tr>\n",
       "    <tr>\n",
       "      <th>6</th>\n",
       "      <td>9</td>\n",
       "      <td>1.731162</td>\n",
       "    </tr>\n",
       "    <tr>\n",
       "      <th>7</th>\n",
       "      <td>10</td>\n",
       "      <td>0.906870</td>\n",
       "    </tr>\n",
       "    <tr>\n",
       "      <th>8</th>\n",
       "      <td>11</td>\n",
       "      <td>1.510249</td>\n",
       "    </tr>\n",
       "    <tr>\n",
       "      <th>9</th>\n",
       "      <td>12</td>\n",
       "      <td>1.527823</td>\n",
       "    </tr>\n",
       "    <tr>\n",
       "      <th>10</th>\n",
       "      <td>13</td>\n",
       "      <td>1.587631</td>\n",
       "    </tr>\n",
       "    <tr>\n",
       "      <th>11</th>\n",
       "      <td>14</td>\n",
       "      <td>1.608840</td>\n",
       "    </tr>\n",
       "    <tr>\n",
       "      <th>12</th>\n",
       "      <td>15</td>\n",
       "      <td>1.088960</td>\n",
       "    </tr>\n",
       "    <tr>\n",
       "      <th>13</th>\n",
       "      <td>16</td>\n",
       "      <td>0.804768</td>\n",
       "    </tr>\n",
       "    <tr>\n",
       "      <th>14</th>\n",
       "      <td>17</td>\n",
       "      <td>0.940388</td>\n",
       "    </tr>\n",
       "    <tr>\n",
       "      <th>15</th>\n",
       "      <td>18</td>\n",
       "      <td>1.594865</td>\n",
       "    </tr>\n",
       "    <tr>\n",
       "      <th>16</th>\n",
       "      <td>19</td>\n",
       "      <td>1.512336</td>\n",
       "    </tr>\n",
       "    <tr>\n",
       "      <th>17</th>\n",
       "      <td>20</td>\n",
       "      <td>1.614673</td>\n",
       "    </tr>\n",
       "  </tbody>\n",
       "</table>\n",
       "</div>"
      ],
      "text/plain": [
       "    n_bins  overall_ratio\n",
       "0        3       1.514339\n",
       "1        4       1.580412\n",
       "2        5       0.813105\n",
       "3        6       1.470022\n",
       "4        7       1.467543\n",
       "5        8       1.549754\n",
       "6        9       1.731162\n",
       "7       10       0.906870\n",
       "8       11       1.510249\n",
       "9       12       1.527823\n",
       "10      13       1.587631\n",
       "11      14       1.608840\n",
       "12      15       1.088960\n",
       "13      16       0.804768\n",
       "14      17       0.940388\n",
       "15      18       1.594865\n",
       "16      19       1.512336\n",
       "17      20       1.614673"
      ]
     },
     "execution_count": 24,
     "metadata": {},
     "output_type": "execute_result"
    }
   ],
   "source": [
    "# Try different numbers of bins and compute overall_ratio for each\n",
    "bin_range = range(3, 21)  # Try n_bins from 3 to 20\n",
    "overall_ratios = []\n",
    "\n",
    "for n in bin_range:\n",
    "    bins = np.linspace(w_min, w_max, n + 1)\n",
    "    df_iv['W_bin'] = pd.cut(df_iv['W'], bins)\n",
    "    bin_stats = []\n",
    "    for w_bin, group in df_iv.groupby('W_bin', observed=True):\n",
    "        y1 = group[group['Z'] == 1]['Y'].mean()\n",
    "        y0 = group[group['Z'] == 0]['Y'].mean()\n",
    "        x1 = group[group['Z'] == 1]['X'].mean()\n",
    "        x0 = group[group['Z'] == 0]['X'].mean()\n",
    "        delta_y = y1 - y0\n",
    "        delta_x = x1 - x0\n",
    "        ratio = delta_y / delta_x if delta_x != 0 else np.nan\n",
    "        bin_stats.append(ratio)\n",
    "    # Compute mean ratio, ignoring NaNs\n",
    "    overall_ratio = np.nanmean(bin_stats)\n",
    "    overall_ratios.append({'n_bins': n, 'overall_ratio': overall_ratio})\n",
    "\n",
    "# Assemble summary DataFrame\n",
    "summary_df = pd.DataFrame(overall_ratios)\n",
    "summary_df"
   ]
  },
  {
   "cell_type": "markdown",
   "id": "f79f6e9d",
   "metadata": {},
   "source": [
    "### Question 2\n",
    "\n",
    "2. Plot the college outcome (Y) vs. the test score (X) in a small range of test scores around 80. On the plot, compare it with the Y probability predicted by logistic regression. The ground truth Y value is 0 or 1; don't just plot 0 or 1 - that will make it unreadable.  Find some way to make it look better than that."
   ]
  },
  {
   "cell_type": "markdown",
   "id": "983292c3",
   "metadata": {},
   "source": [
    "In the below code block - I've attempted the following to compare the College outcome (Y), calculated by logistic regression vs student test scores:\n",
    "1. Set a narrow window of test scores (75 - 85), then filter to only those samples in the dataset.\n",
    "2. Fit the logistic regression model for X and Y in the narrow window\n",
    "3. model.predict to visualize samples that would be incorrectly or correctly classified by our logistic regression model \n",
    "4. add jitter to help space out the samples\n",
    "5. add a variable \"correct\" to determine whether a sample would be correctly or incorrectly classified\n",
    "6. create scatter plots for the correct and incorrectly classified samples, using different shapes and color for both\n",
    "7. plot the fit curve using `logit.predict_proba` "
   ]
  },
  {
   "cell_type": "code",
   "execution_count": 26,
   "id": "f16e8dff",
   "metadata": {},
   "outputs": [
    {
     "data": {
      "image/png": "[encoded data removed]",
      "text/plain": [
       "<Figure size 2000x600 with 1 Axes>"
      ]
     },
     "metadata": {},
     "output_type": "display_data"
    }
   ],
   "source": [
    "from sklearn.linear_model import LogisticRegression\n",
    "\n",
    "df = pd.read_csv('homework_4.2.a.csv')\n",
    "lower, upper = 75, 85\n",
    "df_window = df[(df['X'] >= lower) & (df['X'] <= upper)].copy()\n",
    "\n",
    "# Prepare features and labels\n",
    "X_window = df_window[['X']].values\n",
    "y_window = df_window['Y'].values\n",
    "\n",
    "# Fit logistic regression\n",
    "logit = LogisticRegression().fit(X_window, y_window)\n",
    "\n",
    "# Predict probability and class on the same window\n",
    "y_pred_prob = logit.predict_proba(X_window)[:, 1]\n",
    "y_pred_class = logit.predict(X_window)\n",
    "\n",
    "# Jitter true outcomes for plotting\n",
    "y_jitter = y_window + np.random.uniform(-0.02, 0.02, size=len(y_window))\n",
    "\n",
    "# Flag correctness\n",
    "correct = (y_pred_class == y_window)\n",
    "\n",
    "# Plot\n",
    "plt.figure(figsize=(20, 6))\n",
    "\n",
    "# Correctly classified: circles\n",
    "plt.scatter(df_window['X'][correct], y_jitter[correct], marker='o', alpha=0.2, s=20, label='Correctly classified')\n",
    "\n",
    "# Misclassified: crosses\n",
    "plt.scatter(df_window['X'][~correct], y_jitter[~correct], marker='x', alpha=0.7, label='Misclassified')\n",
    "\n",
    "# Logistic fit curve\n",
    "x_grid = np.linspace(lower, upper, 300).reshape(-1, 1)\n",
    "y_curve = logit.predict_proba(x_grid)[:, 1]\n",
    "plt.plot(x_grid.flatten(), y_curve, color='black', linewidth=2, label='Logistic fit')\n",
    "\n",
    "# Labels & legend\n",
    "plt.axvline(80, color='gray', linestyle='--', label='Cutoff = 80')\n",
    "plt.xlabel('Test Score (X)')\n",
    "plt.ylabel('Probability of admission (Y)')\n",
    "plt.title('Admission Outcome vs. Test Score (75–85)\\nCorrect vs. Misclassified')\n",
    "plt.legend()\n",
    "plt.grid(True)\n",
    "plt.show()"
   ]
  },
  {
   "cell_type": "code",
   "execution_count": null,
   "id": "2b3aa107",
   "metadata": {},
   "outputs": [],
   "source": []
  }
 ],
 "metadata": {
  "kernelspec": {
   "display_name": "Python (uv)",
   "language": "python",
   "name": "uv"
  },
  "language_info": {
   "codemirror_mode": {
    "name": "ipython",
    "version": 3
   },
   "file_extension": ".py",
   "mimetype": "text/x-python",
   "name": "python",
   "nbconvert_exporter": "python",
   "pygments_lexer": "ipython3",
   "version": "3.11.7"
  }
 },
 "nbformat": 4,
 "nbformat_minor": 5
}
