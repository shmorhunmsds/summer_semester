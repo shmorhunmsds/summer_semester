{
 "cells": [
  {
   "cell_type": "markdown",
   "id": "2c9ac53a",
   "metadata": {},
   "source": [
    "# Coding Quiz 4"
   ]
  },
  {
   "cell_type": "markdown",
   "id": "1a537db0",
   "metadata": {},
   "source": [
    "Given data about an instrumental variable, find the effect. X is the treatment, W the confounder, Y the outcome, and Z the instrument. Use homework_4.1.csv. "
   ]
  },
  {
   "cell_type": "code",
   "execution_count": 3,
   "id": "0f45fc11",
   "metadata": {},
   "outputs": [
    {
     "data": {
      "text/html": [
       "<div>\n",
       "<style scoped>\n",
       "    .dataframe tbody tr th:only-of-type {\n",
       "        vertical-align: middle;\n",
       "    }\n",
       "\n",
       "    .dataframe tbody tr th {\n",
       "        vertical-align: top;\n",
       "    }\n",
       "\n",
       "    .dataframe thead th {\n",
       "        text-align: right;\n",
       "    }\n",
       "</style>\n",
       "<table border=\"1\" class=\"dataframe\">\n",
       "  <thead>\n",
       "    <tr style=\"text-align: right;\">\n",
       "      <th></th>\n",
       "      <th>Z</th>\n",
       "      <th>W</th>\n",
       "      <th>X</th>\n",
       "      <th>Y</th>\n",
       "    </tr>\n",
       "  </thead>\n",
       "  <tbody>\n",
       "    <tr>\n",
       "      <th>0</th>\n",
       "      <td>0</td>\n",
       "      <td>-0.155644</td>\n",
       "      <td>-0.496971</td>\n",
       "      <td>0.282484</td>\n",
       "    </tr>\n",
       "    <tr>\n",
       "      <th>1</th>\n",
       "      <td>1</td>\n",
       "      <td>0.529539</td>\n",
       "      <td>2.284240</td>\n",
       "      <td>4.740596</td>\n",
       "    </tr>\n",
       "    <tr>\n",
       "      <th>2</th>\n",
       "      <td>1</td>\n",
       "      <td>0.910514</td>\n",
       "      <td>0.872232</td>\n",
       "      <td>3.449569</td>\n",
       "    </tr>\n",
       "    <tr>\n",
       "      <th>3</th>\n",
       "      <td>1</td>\n",
       "      <td>-0.705476</td>\n",
       "      <td>2.157260</td>\n",
       "      <td>3.002531</td>\n",
       "    </tr>\n",
       "    <tr>\n",
       "      <th>4</th>\n",
       "      <td>0</td>\n",
       "      <td>-0.590874</td>\n",
       "      <td>-0.386730</td>\n",
       "      <td>-1.848796</td>\n",
       "    </tr>\n",
       "    <tr>\n",
       "      <th>...</th>\n",
       "      <td>...</td>\n",
       "      <td>...</td>\n",
       "      <td>...</td>\n",
       "      <td>...</td>\n",
       "    </tr>\n",
       "    <tr>\n",
       "      <th>4995</th>\n",
       "      <td>0</td>\n",
       "      <td>-0.976289</td>\n",
       "      <td>0.482060</td>\n",
       "      <td>-0.830112</td>\n",
       "    </tr>\n",
       "    <tr>\n",
       "      <th>4996</th>\n",
       "      <td>0</td>\n",
       "      <td>0.677586</td>\n",
       "      <td>-0.580264</td>\n",
       "      <td>1.106948</td>\n",
       "    </tr>\n",
       "    <tr>\n",
       "      <th>4997</th>\n",
       "      <td>0</td>\n",
       "      <td>-0.829560</td>\n",
       "      <td>0.895967</td>\n",
       "      <td>-0.612659</td>\n",
       "    </tr>\n",
       "    <tr>\n",
       "      <th>4998</th>\n",
       "      <td>0</td>\n",
       "      <td>-1.126846</td>\n",
       "      <td>-0.178558</td>\n",
       "      <td>-2.882220</td>\n",
       "    </tr>\n",
       "    <tr>\n",
       "      <th>4999</th>\n",
       "      <td>0</td>\n",
       "      <td>0.578862</td>\n",
       "      <td>0.670354</td>\n",
       "      <td>2.308631</td>\n",
       "    </tr>\n",
       "  </tbody>\n",
       "</table>\n",
       "<p>5000 rows × 4 columns</p>\n",
       "</div>"
      ],
      "text/plain": [
       "      Z         W         X         Y\n",
       "0     0 -0.155644 -0.496971  0.282484\n",
       "1     1  0.529539  2.284240  4.740596\n",
       "2     1  0.910514  0.872232  3.449569\n",
       "3     1 -0.705476  2.157260  3.002531\n",
       "4     0 -0.590874 -0.386730 -1.848796\n",
       "...  ..       ...       ...       ...\n",
       "4995  0 -0.976289  0.482060 -0.830112\n",
       "4996  0  0.677586 -0.580264  1.106948\n",
       "4997  0 -0.829560  0.895967 -0.612659\n",
       "4998  0 -1.126846 -0.178558 -2.882220\n",
       "4999  0  0.578862  0.670354  2.308631\n",
       "\n",
       "[5000 rows x 4 columns]"
      ]
     },
     "execution_count": 3,
     "metadata": {},
     "output_type": "execute_result"
    }
   ],
   "source": [
    "import pandas as pd\n",
    "import numpy as np\n",
    "import scipy\n",
    "import matplotlib.pyplot as plt\n",
    "import statsmodels.formula.api as smf\n",
    "\n",
    "df = pd.read_csv('homework_4.1.csv', index_col=0)\n",
    "df"
   ]
  },
  {
   "cell_type": "code",
   "execution_count": 7,
   "id": "7f2c0628",
   "metadata": {},
   "outputs": [
    {
     "data": {
      "text/plain": [
       "1.5618587073955674"
      ]
     },
     "execution_count": 7,
     "metadata": {},
     "output_type": "execute_result"
    }
   ],
   "source": [
    "df_bin = df.copy()\n",
    "y_diff = df_bin[df_bin.Z == 1].Y.mean() - df_bin[df_bin.Z == 0].Y.mean()\n",
    "x_diff = df_bin[df_bin.Z == 1].X.mean() - df_bin[df_bin.Z == 0].X.mean()\n",
    "y_diff / x_diff"
   ]
  },
  {
   "cell_type": "markdown",
   "id": "1e84764d",
   "metadata": {},
   "source": [
    "## Question 1\n",
    "- Do you need to know W to do this? \n",
    "    - likely no - I got the exact same answer using a narrow range of W as I did just subtracting the overall binned means for Z and Y "
   ]
  },
  {
   "cell_type": "markdown",
   "id": "c40abdec",
   "metadata": {},
   "source": [
    "## Question 2\n",
    "\n",
    "- As in the explanation, try averaging the $Y$ difference and $X$ difference (over $W$ and $Z$) in two ways: \n",
    "- Subtract the average $Y$ value for $Z = 1$ and $Z = 0$. Subtract the average $X$ value for $Z = 1$ and $Z =  0$. Divide the two. \n",
    "- Find the average $Y$ value for $Z = 1$ and $Z = 0$ for a narrow range of $W$. Find the average $X$ value for $Z = 1$ and $Z = 0$ for the same narrow range of $W$. Take the ratio to find the effect. Then average this over all the ranges of $W$. \n",
    "\n",
    "\n",
    "For the first item, the effect is closest to: \n",
    "\n"
   ]
  },
  {
   "cell_type": "code",
   "execution_count": 32,
   "id": "22071445",
   "metadata": {},
   "outputs": [
    {
     "data": {
      "text/plain": [
       "1.4666076164640534"
      ]
     },
     "execution_count": 32,
     "metadata": {},
     "output_type": "execute_result"
    }
   ],
   "source": [
    "df_bin = df[(df.W > -0.1) & (df.W < 0.1)]\n",
    "(df_bin[df_bin.Z == 1].Y.mean() - df_bin[df_bin.Z == 0].Y.mean()) / (df_bin[df_bin.Z == 1].X.mean() - df_bin[df_bin.Z == 0].X.mean()) # calculate the average treatment effect (ATE) of Z on Y based on X after filtering"
   ]
  },
  {
   "cell_type": "markdown",
   "id": "477c62ed",
   "metadata": {},
   "source": [
    "## Task: \n",
    "Given student data involving test scores: \n",
    "- ($X$), a cutoff, \n",
    "- and an outcome (Y), which measures whether the students got into college (as in the example in the text), \n",
    "\n",
    "Determine whether the math course helps students get into college in each dataset. Use datasets homework_4.2.a and homework_4.2.b. (the Cutoff score is 80)"
   ]
  },
  {
   "cell_type": "code",
   "execution_count": null,
   "id": "bfd07bcf",
   "metadata": {},
   "outputs": [
    {
     "name": "stdout",
     "output_type": "stream",
     "text": [
      "(100000, 2) (100000, 2)\n"
     ]
    }
   ],
   "source": [
    "df1 = pd.read_csv('homework_4.2.a.csv', index_col=0) \n",
    "df2 = pd.read_csv('homework_4.2.b.csv', index_col=0)\n",
    "print(df1.shape, df2.shape)"
   ]
  },
  {
   "cell_type": "code",
   "execution_count": null,
   "id": "9ccd80df",
   "metadata": {},
   "outputs": [],
   "source": [
    "X_above_cutoff = 1 * (X_running >= 0)\n",
    "X_"
   ]
  },
  {
   "cell_type": "code",
   "execution_count": 31,
   "id": "72f8af70",
   "metadata": {},
   "outputs": [
    {
     "name": "stdout",
     "output_type": "stream",
     "text": [
      "(X, Y) →  pre-cutoff slope = 0.000224, intercept = 0.287090\n",
      "          post-cutoff slope = 0.000161, intercept = 0.587867\n",
      "\n",
      "(X2, Y2) → pre-cutoff slope = 0.010217, intercept = -0.114992\n",
      "           post-cutoff slope = 0.005009, intercept = 0.498768\n"
     ]
    }
   ],
   "source": [
    "import pandas as pd\n",
    "from sklearn.linear_model import LinearRegression\n",
    "\n",
    "# Load each CSV\n",
    "df_a = pd.read_csv('homework_4.2.a.csv')   # has columns X, Y\n",
    "df_b = pd.read_csv('homework_4.2.b.csv')   # has columns X2, Y2\n",
    "\n",
    "# Define cutoff\n",
    "cutoff = 80\n",
    "\n",
    "def slope_intercept(df, score_col, outcome_col, cutoff):\n",
    "    # split\n",
    "    pre  = df[df[score_col] <  cutoff]\n",
    "    post = df[df[score_col] >= cutoff]\n",
    "    # fit on pre-cutoff\n",
    "    lm = LinearRegression().fit(pre[[score_col]], pre[outcome_col])\n",
    "    slope_pre, int_pre = lm.coef_[0], lm.intercept_\n",
    "    # fit on post-cutoff\n",
    "    lm = LinearRegression().fit(post[[score_col]], post[outcome_col])\n",
    "    slope_post, int_post = lm.coef_[0], lm.intercept_\n",
    "    return slope_pre, int_pre, slope_post, int_post\n",
    "\n",
    "# Compute for (X, Y)\n",
    "s_pre, i_pre, s_post, i_post = slope_intercept(df_a, 'X',  'Y',  cutoff)\n",
    "print(f\"(X, Y) →  pre-cutoff slope = {s_pre:.6f}, intercept = {i_pre:.6f}\")\n",
    "print(f\"          post-cutoff slope = {s_post:.6f}, intercept = {i_post:.6f}\\n\")\n",
    "\n",
    "# Compute for (X2, Y2)\n",
    "s_pre2, i_pre2, s_post2, i_post2 = slope_intercept(df_b, 'X2', 'Y2', cutoff)\n",
    "print(f\"(X2, Y2) → pre-cutoff slope = {s_pre2:.6f}, intercept = {i_pre2:.6f}\")\n",
    "print(f\"           post-cutoff slope = {s_post2:.6f}, intercept = {i_post2:.6f}\")"
   ]
  },
  {
   "cell_type": "code",
   "execution_count": null,
   "id": "7ae8d0fa",
   "metadata": {},
   "outputs": [],
   "source": []
  }
 ],
 "metadata": {
  "kernelspec": {
   "display_name": "Python (uv)",
   "language": "python",
   "name": "uv"
  },
  "language_info": {
   "codemirror_mode": {
    "name": "ipython",
    "version": 3
   },
   "file_extension": ".py",
   "mimetype": "text/x-python",
   "name": "python",
   "nbconvert_exporter": "python",
   "pygments_lexer": "ipython3",
   "version": "3.11.7"
  }
 },
 "nbformat": 4,
 "nbformat_minor": 5
}
