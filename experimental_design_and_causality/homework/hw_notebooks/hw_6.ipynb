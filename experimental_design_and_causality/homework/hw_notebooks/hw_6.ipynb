{
 "cells": [
  {
   "cell_type": "code",
   "execution_count": 1,
   "id": "51489c31",
   "metadata": {},
   "outputs": [],
   "source": [
    "import pandas as pd\n",
    "import numpy as np"
   ]
  },
  {
   "cell_type": "code",
   "execution_count": 5,
   "id": "a971b640",
   "metadata": {},
   "outputs": [],
   "source": [
    "df = pd.read_csv('homework_6.1.csv', index_col=0)"
   ]
  },
  {
   "cell_type": "code",
   "execution_count": 6,
   "id": "fb76ad26",
   "metadata": {},
   "outputs": [
    {
     "data": {
      "text/html": [
       "<div>\n",
       "<style scoped>\n",
       "    .dataframe tbody tr th:only-of-type {\n",
       "        vertical-align: middle;\n",
       "    }\n",
       "\n",
       "    .dataframe tbody tr th {\n",
       "        vertical-align: top;\n",
       "    }\n",
       "\n",
       "    .dataframe thead th {\n",
       "        text-align: right;\n",
       "    }\n",
       "</style>\n",
       "<table border=\"1\" class=\"dataframe\">\n",
       "  <thead>\n",
       "    <tr style=\"text-align: right;\">\n",
       "      <th></th>\n",
       "      <th>Z</th>\n",
       "      <th>X</th>\n",
       "      <th>Y</th>\n",
       "    </tr>\n",
       "  </thead>\n",
       "  <tbody>\n",
       "    <tr>\n",
       "      <th>0</th>\n",
       "      <td>0.548814</td>\n",
       "      <td>0</td>\n",
       "      <td>-0.823220</td>\n",
       "    </tr>\n",
       "    <tr>\n",
       "      <th>1</th>\n",
       "      <td>0.715189</td>\n",
       "      <td>1</td>\n",
       "      <td>0.842405</td>\n",
       "    </tr>\n",
       "    <tr>\n",
       "      <th>2</th>\n",
       "      <td>0.602763</td>\n",
       "      <td>1</td>\n",
       "      <td>0.898618</td>\n",
       "    </tr>\n",
       "    <tr>\n",
       "      <th>3</th>\n",
       "      <td>0.544883</td>\n",
       "      <td>0</td>\n",
       "      <td>-0.817325</td>\n",
       "    </tr>\n",
       "    <tr>\n",
       "      <th>4</th>\n",
       "      <td>0.423655</td>\n",
       "      <td>0</td>\n",
       "      <td>-0.635482</td>\n",
       "    </tr>\n",
       "  </tbody>\n",
       "</table>\n",
       "</div>"
      ],
      "text/plain": [
       "          Z  X         Y\n",
       "0  0.548814  0 -0.823220\n",
       "1  0.715189  1  0.842405\n",
       "2  0.602763  1  0.898618\n",
       "3  0.544883  0 -0.817325\n",
       "4  0.423655  0 -0.635482"
      ]
     },
     "execution_count": 6,
     "metadata": {},
     "output_type": "execute_result"
    }
   ],
   "source": [
    "df.head()"
   ]
  },
  {
   "cell_type": "code",
   "execution_count": 7,
   "id": "781c5f0d",
   "metadata": {},
   "outputs": [
    {
     "name": "stdout",
     "output_type": "stream",
     "text": [
      "Average Treatment Effect (ATE): 1.695270\n",
      "Average Treatment Effect on the Treated (ATT): 1.846409\n",
      "Average Treatment Effect on the Untreated (ATUT): 1.549477\n",
      "Marginal Treatment Effect (MTE): 2.172470\n"
     ]
    }
   ],
   "source": [
    "from sklearn.neighbors import NearestNeighbors\n",
    "\n",
    "# Separate data into treated and untreated groups\n",
    "treated = df[df['X'] == 1]\n",
    "untreated = df[df['X'] == 0]\n",
    "\n",
    "# Reshape Z for NearestNeighbors\n",
    "treated_Z = treated['Z'].values.reshape(-1, 1)\n",
    "untreated_Z = untreated['Z'].values.reshape(-1, 1)\n",
    "\n",
    "# For ATT: Match each treated individual to nearest untreated\n",
    "nn_untreated = NearestNeighbors(n_neighbors=1).fit(untreated_Z)\n",
    "distances_treated_to_untreated, indices_treated_to_untreated = nn_untreated.kneighbors(treated_Z)\n",
    "treated_counterfactuals = untreated.iloc[indices_treated_to_untreated.flatten()]['Y'].values\n",
    "att_effects = treated['Y'].values - treated_counterfactuals\n",
    "att = att_effects.mean()\n",
    "\n",
    "# For ATUT: Match each untreated individual to nearest treated\n",
    "nn_treated = NearestNeighbors(n_neighbors=1).fit(treated_Z)\n",
    "distances_untreated_to_treated, indices_untreated_to_treated = nn_treated.kneighbors(untreated_Z)\n",
    "untreated_counterfactuals = treated.iloc[indices_untreated_to_treated.flatten()]['Y'].values\n",
    "atut_effects = untreated_counterfactuals - untreated['Y'].values\n",
    "atut = atut_effects.mean()\n",
    "\n",
    "# For ATE: Weighted average of ATT and ATUT\n",
    "n_treated = len(treated)\n",
    "n_untreated = len(untreated)\n",
    "n_total = n_treated + n_untreated\n",
    "ate = (n_treated / n_total) * att + (n_untreated / n_total) * atut\n",
    "\n",
    "# For MTE: Maximum treatment effect across all untreated items\n",
    "mte = atut_effects.max()\n",
    "\n",
    "print(f\"Average Treatment Effect (ATE): {ate:.6f}\")\n",
    "print(f\"Average Treatment Effect on the Treated (ATT): {att:.6f}\")\n",
    "print(f\"Average Treatment Effect on the Untreated (ATUT): {atut:.6f}\")\n",
    "print(f\"Marginal Treatment Effect (MTE): {mte:.6f}\")"
   ]
  },
  {
   "cell_type": "code",
   "execution_count": null,
   "id": "cdca76df",
   "metadata": {},
   "outputs": [],
   "source": []
  }
 ],
 "metadata": {
  "kernelspec": {
   "display_name": "Python (uv)",
   "language": "python",
   "name": "uv"
  },
  "language_info": {
   "codemirror_mode": {
    "name": "ipython",
    "version": 3
   },
   "file_extension": ".py",
   "mimetype": "text/x-python",
   "name": "python",
   "nbconvert_exporter": "python",
   "pygments_lexer": "ipython3",
   "version": "3.11.7"
  }
 },
 "nbformat": 4,
 "nbformat_minor": 5
}
