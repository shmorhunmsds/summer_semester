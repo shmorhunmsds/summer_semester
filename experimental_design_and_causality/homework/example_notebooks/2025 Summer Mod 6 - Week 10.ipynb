{
 "cells": [
  {
   "cell_type": "code",
   "execution_count": 3,
   "id": "ddb355d1-3fd1-4061-b4ec-f83e644af17c",
   "metadata": {},
   "outputs": [],
   "source": [
    "import numpy as np\n",
    "import statsmodels.api as sm\n",
    "import matplotlib.pyplot as plt\n",
    "import pandas as pd"
   ]
  },
  {
   "cell_type": "markdown",
   "id": "41dc4787-a91a-427d-aba7-95b0eef11010",
   "metadata": {},
   "source": [
    "# Compute the standard error in two ways: (1) statsmodels OLS, (2) simulation"
   ]
  },
  {
   "cell_type": "code",
   "execution_count": 93,
   "id": "b9f863fa-4e2d-49c5-b98e-52b74f2b85d4",
   "metadata": {},
   "outputs": [
    {
     "name": "stdout",
     "output_type": "stream",
     "text": [
      "OLS estimate: 0.03103376236729251\n",
      "Mean effect estimate: 1.499180865864717\n",
      "Standard deviation of effect: 0.03148056946207219\n"
     ]
    },
    {
     "data": {
      "image/png": "[encoded data removed]",
      "text/plain": [
       "<Figure size 640x480 with 1 Axes>"
      ]
     },
     "metadata": {},
     "output_type": "display_data"
    }
   ],
   "source": [
    "def compute_standard_error(effect, sigma_x, sigma_resid, sample_size, n_sims = 1000, random_seed = 0):\n",
    "    np.random.seed(random_seed)\n",
    "\n",
    "    X = np.random.normal(0, sigma_x, sample_size)\n",
    "    Y = 2 + effect * X + np.random.normal(0, sigma_resid, sample_size)\n",
    "    df = sm.add_constant(pd.DataFrame({\"X\": X}))\n",
    "    results = sm.OLS(Y, df).fit()\n",
    "    print(\"OLS estimate:\", results.bse.X)\n",
    "\n",
    "    effect_list = list()\n",
    "    for _ in range(n_sims):\n",
    "        X = np.random.normal(0, sigma_x, sample_size)\n",
    "        Y = 2 + effect * X + np.random.normal(0, sigma_resid, sample_size)\n",
    "        df = sm.add_constant(pd.DataFrame({\"X\": X}))\n",
    "        results = sm.OLS(Y, df).fit()\n",
    "        effect_list.append(results.params.X)\n",
    "    print(\"Mean effect estimate:\", np.mean(effect_list))\n",
    "    print(\"Standard deviation of effect:\", np.std(effect_list))\n",
    "\n",
    "    plt.hist(effect_list, density = True, bins = 40)\n",
    "    plt.axvline(effect, color = 'orange')\n",
    "    plt.axvline(effect + np.std(effect_list), color = 'orange', linestyle = '--')\n",
    "    plt.axvline(effect - np.std(effect_list), color = 'orange', linestyle = '--')\n",
    "\n",
    "compute_standard_error(1.5, 1, 1, 1000, 3000, 0)"
   ]
  },
  {
   "cell_type": "markdown",
   "id": "69ee2d5c-6d6e-4523-b716-3ceb24f7285a",
   "metadata": {},
   "source": [
    "### True effect, Var(X), Var(Resid), sample size"
   ]
  },
  {
   "cell_type": "code",
   "execution_count": 16,
   "id": "d65e7458-c76b-453b-86d8-b8deb1d4ca23",
   "metadata": {},
   "outputs": [
    {
     "name": "stdout",
     "output_type": "stream",
     "text": [
      "0.03103376236729252\n",
      "0.031599487598520874\n"
     ]
    },
    {
     "data": {
      "image/png": "[encoded data removed]",
      "text/plain": [
       "<Figure size 640x480 with 1 Axes>"
      ]
     },
     "metadata": {},
     "output_type": "display_data"
    }
   ],
   "source": [
    "def compute_standard_error(true_effect, var_x, var_resid, sample_size, n_sims = 1000, random_seed = 0):\n",
    "    np.random.seed(random_seed)\n",
    "\n",
    "    X = np.random.normal(0, np.sqrt(var_x), sample_size)\n",
    "    Y = 1 + true_effect * X + np.random.normal(0, np.sqrt(var_resid), sample_size)\n",
    "    df = sm.add_constant(pd.DataFrame({\"X\": X}))\n",
    "    results = sm.OLS(Y, df).fit()\n",
    "    print(results.bse.X)\n",
    "\n",
    "    params_list = list()\n",
    "    for _ in range(n_sims):\n",
    "        X = np.random.normal(0, np.sqrt(var_x), sample_size)\n",
    "        Y = 1 + true_effect * X + np.random.normal(0, np.sqrt(var_resid), sample_size)\n",
    "        df = sm.add_constant(pd.DataFrame({\"X\": X})) \n",
    "        results = sm.OLS(Y, df).fit()\n",
    "        params_list.append(results.params.X)\n",
    "    print(np.std(params_list))\n",
    "\n",
    "    plt.hist(params_list, density = True, bins = 40)\n",
    "    plt.axvline(true_effect, color = 'orange')\n",
    "    plt.axvline(true_effect + np.std(params_list), color = 'orange', label = '+1 SE', linestyle = '--')\n",
    "    plt.axvline(true_effect - np.std(params_list), color = 'orange', label = '-1 SE', linestyle = '--')\n",
    "\n",
    "compute_standard_error(1, 1, 1, 1000)"
   ]
  },
  {
   "cell_type": "markdown",
   "id": "03597b04-6e49-4a5f-ba8e-586c42e39708",
   "metadata": {},
   "source": [
    "# Compute statistical power"
   ]
  },
  {
   "cell_type": "code",
   "execution_count": 119,
   "id": "45f12db5-5304-4c1c-aedb-a67a6ad1366d",
   "metadata": {},
   "outputs": [
    {
     "data": {
      "text/plain": [
       "0.7831"
      ]
     },
     "execution_count": 119,
     "metadata": {},
     "output_type": "execute_result"
    }
   ],
   "source": [
    "def compute_power(effect, sigma_x, sigma_resid, num_samples, n_sim = 1000, random_seed = 0):\n",
    "    np.random.seed(random_seed)\n",
    "    critical_t = 1.96\n",
    "\n",
    "    detections = 0\n",
    "    \n",
    "    for _ in range(n_sim):\n",
    "        X = np.random.normal(0, sigma_x, size=num_samples)\n",
    "        Y = effect * X + np.random.normal(0, sigma_resid, size=num_samples)\n",
    "        df = sm.add_constant(pd.DataFrame({\"X\": X}))\n",
    "        results = sm.OLS(Y, df).fit()\n",
    "        if np.abs(results.tvalues.X) > critical_t:\n",
    "            detections += 1\n",
    "\n",
    "    return detections / n_sim\n",
    "\n",
    "compute_power(1, 1, 1, 10, 10000, 0)"
   ]
  },
  {
   "cell_type": "code",
   "execution_count": 117,
   "id": "734a2c82-efd3-4526-9125-e6191bc9d306",
   "metadata": {},
   "outputs": [
    {
     "name": "stdout",
     "output_type": "stream",
     "text": [
      "Estimated Statistical Power: 0.3577\n"
     ]
    }
   ],
   "source": [
    "def compute_power(true_effect, sigma_x, sigma_resid, num, n_sim=10000, random_seed=0):\n",
    "    np.random.seed(random_seed)\n",
    "    critical_t = 1.96\n",
    "\n",
    "    detections = 0\n",
    "\n",
    "    for _ in range(n_sim):\n",
    "        X = np.random.normal(0, sigma_x, size=num)\n",
    "        Y = true_effect * X + np.random.normal(0, sigma_resid, size=num)\n",
    "        df = sm.add_constant(pd.DataFrame({\"X\": X}))\n",
    "        results = sm.OLS(Y, df).fit()\n",
    "        t_value = results.tvalues.X\n",
    "        if np.abs(t_value) > critical_t:\n",
    "            detections += 1\n",
    "\n",
    "    power = detections / n_sim\n",
    "    return power\n",
    "\n",
    "power = compute_power(true_effect=0.5, sigma_x=1.0, sigma_resid=1.0, num=10, n_sim=10000)\n",
    "\n",
    "print(f\"Estimated Statistical Power: {power:.4f}\")"
   ]
  },
  {
   "cell_type": "code",
   "execution_count": 111,
   "id": "c9d8296d-ef45-4734-aad0-9ea557649eeb",
   "metadata": {},
   "outputs": [
    {
     "data": {
      "text/plain": [
       "array([  10.        ,   16.68100537,   27.82559402,   46.41588834,\n",
       "         77.42636827,  129.1549665 ,  215.443469  ,  359.38136638,\n",
       "        599.48425032, 1000.        ])"
      ]
     },
     "execution_count": 111,
     "metadata": {},
     "output_type": "execute_result"
    }
   ],
   "source": [
    "10 * np.exp(np.linspace(0, np.log(1000 / 10), num = 10))"
   ]
  },
  {
   "cell_type": "code",
   "execution_count": 120,
   "id": "10cb34c3-f6c0-4acc-99ae-bf8829037e8c",
   "metadata": {},
   "outputs": [
    {
     "name": "stdout",
     "output_type": "stream",
     "text": [
      "[(0.776, 10), (0.931, 16), (0.995, 27), (1.0, 46), (1.0, 77), (1.0, 129), (1.0, 215), (1.0, 359), (1.0, 599), (1.0, 1000)]\n"
     ]
    }
   ],
   "source": [
    "def sample_size_for_power(min_sample_size, max_sample_size, num_size):\n",
    "    sizes = [int(x) for x in min_sample_size * np.exp(np.linspace(0, np.log(max_sample_size / min_sample_size), num = num_size))]\n",
    "\n",
    "    power_list = list()\n",
    "    for size in sizes:\n",
    "        power_list.append(compute_power(1, 1, 1, size, 1000, 0))\n",
    "\n",
    "    print(list(zip(power_list, sizes)))\n",
    "\n",
    "sample_size_for_power(10, 1000, 10)"
   ]
  },
  {
   "cell_type": "markdown",
   "id": "079df923-73f5-4352-9c48-439161e698dd",
   "metadata": {},
   "source": [
    "# Sample size for power"
   ]
  },
  {
   "cell_type": "code",
   "execution_count": 58,
   "id": "bd168528-1ca0-4a08-8bc6-b7d945ad30ee",
   "metadata": {},
   "outputs": [
    {
     "data": {
      "text/plain": [
       "[0.341, 0.535, 0.714, 0.895, 0.995, 1.0, 1.0, 1.0, 1.0, 1.0]"
      ]
     },
     "execution_count": 58,
     "metadata": {},
     "output_type": "execute_result"
    }
   ],
   "source": [
    "def sample_size_for_power(min_sample_size, max_sample_size, num_sizes):\n",
    "    sizes = min_sample_size * np.exp(np.linspace(0, np.log(max_sample_size / min_sample_size), num = num_sizes))\n",
    "    sizes = [int(np.around(x)) for x in sizes]\n",
    "    size_list = list()\n",
    "    for size in sizes:\n",
    "        power = compute_power(0.5, 1, 1, size, 1000, 0)\n",
    "        size_list.append(power)\n",
    "    return size_list\n",
    "\n",
    "sample_size_for_power(10, 1000, 10)"
   ]
  },
  {
   "cell_type": "markdown",
   "id": "992f8816-8ef3-46df-9d49-49129394efb1",
   "metadata": {},
   "source": [
    "# Binary search for sample size for power"
   ]
  },
  {
   "cell_type": "code",
   "execution_count": 72,
   "id": "fb293d71-ddb2-4daf-ad9a-21f2a2001d62",
   "metadata": {},
   "outputs": [
    {
     "data": {
      "text/plain": [
       "(0.832, 67)"
      ]
     },
     "execution_count": 72,
     "metadata": {},
     "output_type": "execute_result"
    }
   ],
   "source": [
    "def binary_search_for_sample_size(min_sample_size, max_sample_size, goal_power):\n",
    "    average_sample_size = int((min_sample_size + max_sample_size) / 2)\n",
    "    computed_power = compute_power(0.5, 1, 2, average_sample_size, 1000, 0)\n",
    "    # print(min_sample_size, max_sample_size, computed_power)\n",
    "    if min_sample_size == max_sample_size:\n",
    "        return computed_power, average_sample_size\n",
    "    if computed_power >= goal_power:\n",
    "        return binary_search_for_sample_size(min_sample_size, average_sample_size, goal_power)\n",
    "    if computed_power < goal_power:\n",
    "        return binary_search_for_sample_size(average_sample_size + 1, max_sample_size, goal_power)\n",
    "\n",
    "binary_search_for_sample_size(10, 1000, 0.8)"
   ]
  },
  {
   "cell_type": "markdown",
   "id": "f11123f6-ce51-4601-969d-279040bced7f",
   "metadata": {},
   "source": [
    "# Find sample size for power"
   ]
  },
  {
   "cell_type": "code",
   "execution_count": 77,
   "id": "85cb0f5e-cbfb-4109-abf6-ddc1b43ac097",
   "metadata": {},
   "outputs": [
    {
     "data": {
      "text/plain": [
       "(0.99, 28)"
      ]
     },
     "execution_count": 77,
     "metadata": {},
     "output_type": "execute_result"
    }
   ],
   "source": [
    "def compute_power(true_effect, sigma_x, sigma_eps, num, n_sim=100, random_seed=42):\n",
    "    np.random.seed(random_seed)\n",
    "    critical_t = 1.96\n",
    "    detections = 0\n",
    "\n",
    "    for _ in range(n_sim):\n",
    "        X = np.random.normal(0, sigma_x, size=num)\n",
    "        Y = true_effect * X + np.random.normal(0, sigma_eps, size=num)\n",
    "        df = sm.add_constant(pd.DataFrame({\"X\": X}))\n",
    "        results = sm.OLS(Y, df).fit()\n",
    "        t_value = results.tvalues.X\n",
    "        if abs(t_value) > critical_t:\n",
    "            detections += 1\n",
    "\n",
    "    return detections / n_sim\n",
    "\n",
    "def binary_search_for_power(min_size = 10, max_size = 1000, power_goal = 0.8):\n",
    "    average_size = int((min_size + max_size) / 2)    \n",
    "    power = compute_power(1, 1, 1, average_size, n_sim=100, random_seed = 0)\n",
    "    if min_size == max_size:\n",
    "        return power, average_size\n",
    "    if power > power_goal:\n",
    "        return binary_search_for_power(min_size, average_size, power_goal)\n",
    "    elif power < power_goal:\n",
    "        return binary_search_for_power(average_size + 1, max_size, power_goal)\n",
    "    else: # power == power_goal\n",
    "        return power, average_size\n",
    "\n",
    "binary_search_for_power(10, 1000, 0.99)"
   ]
  },
  {
   "cell_type": "code",
   "execution_count": null,
   "id": "bccde29d-ce22-44ec-a8b7-ff0cb073f5b9",
   "metadata": {},
   "outputs": [],
   "source": []
  }
 ],
 "metadata": {
  "kernelspec": {
   "display_name": "Python (uv)",
   "language": "python",
   "name": "uv"
  },
  "language_info": {
   "codemirror_mode": {
    "name": "ipython",
    "version": 3
   },
   "file_extension": ".py",
   "mimetype": "text/x-python",
   "name": "python",
   "nbconvert_exporter": "python",
   "pygments_lexer": "ipython3",
   "version": "3.11.7"
  }
 },
 "nbformat": 4,
 "nbformat_minor": 5
}
