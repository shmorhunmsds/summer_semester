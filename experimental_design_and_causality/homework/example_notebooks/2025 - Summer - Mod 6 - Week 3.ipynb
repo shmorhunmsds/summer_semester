{
 "cells": [
  {
   "cell_type": "code",
   "execution_count": 1,
   "id": "308a8577-14f6-4685-9e81-e40db096f21a",
   "metadata": {},
   "outputs": [],
   "source": [
    "# Simulation / bootstrapping and Fixed Effects"
   ]
  },
  {
   "cell_type": "code",
   "execution_count": 2,
   "id": "8f9496be-a516-4371-8ba9-6338b2831614",
   "metadata": {},
   "outputs": [],
   "source": [
    "import numpy as np\n",
    "import scipy\n",
    "import pandas as pd\n",
    "import matplotlib.pyplot as plt\n",
    "import statsmodels.api as sm\n",
    "from sklearn.metrics import root_mean_squared_error"
   ]
  },
  {
   "cell_type": "markdown",
   "id": "80ae0f5b-4d4f-40e3-89b5-b00322518a5c",
   "metadata": {},
   "source": [
    "## Fixed Effects\n",
    "Separating the average effect of each group of samples (the **between-group effect**, captured by $\\beta_i$), from the effect of one or more variables associated with all of the samples (the **within-group effect**, captured by $\\beta_1$)."
   ]
  },
  {
   "cell_type": "code",
   "execution_count": 3,
   "id": "9b7aed91-1ccf-4f52-b3d2-3f16766803a7",
   "metadata": {},
   "outputs": [
    {
     "data": {
      "text/plain": [
       "array([ 0.39369523, -0.08106736, -0.01665061,  0.76112146, -0.00639275])"
      ]
     },
     "execution_count": 3,
     "metadata": {},
     "output_type": "execute_result"
    }
   ],
   "source": [
    "scipy.stats.norm.rvs(0, 1, (5,)) # create a random sample of 5 numbers from a normal distribution with mean 0 and standard deviation 1"
   ]
  },
  {
   "cell_type": "markdown",
   "id": "43fbcfff",
   "metadata": {},
   "source": [
    "This first example uses 3 groups with randomly generated samples using the normal distribution:\n",
    "\n",
    "X1, X2, X3 are all normally distributed\n",
    "\n",
    "Y values:\n",
    "\n",
    "$$Y_1 \\; = \\; 3 (\\beta_1)  \\times X_1 + 5 + \\epsilon (\\text{random noise})$$"
   ]
  },
  {
   "cell_type": "code",
   "execution_count": 4,
   "id": "ef18b8f6-5c8c-4aa0-b3ce-3eea0e2b0b61",
   "metadata": {},
   "outputs": [],
   "source": [
    "# make an example with 3 groups, each using the scipy stats.norm.rvs function to generate random samples\n",
    "num = 1000\n",
    "X1 = scipy.stats.norm.rvs(0, 1, (num,))\n",
    "X2 = scipy.stats.norm.rvs(0, 1, (num,))\n",
    "X3 = scipy.stats.norm.rvs(0, 1, (num,))\n",
    "Y1 = 3 * X1 + 5 + scipy.stats.norm.rvs(0, 1, (num,)) \n",
    "Y2 = 3 * X2 + 10 + scipy.stats.norm.rvs(0, 1, (num,))\n",
    "Y3 = 3 * X3 + 15 + scipy.stats.norm.rvs(0, 1, (num,))"
   ]
  },
  {
   "cell_type": "code",
   "execution_count": 5,
   "id": "6cfc8317-d1f7-4b53-aa70-b4be6b654c41",
   "metadata": {},
   "outputs": [],
   "source": [
    "results = sm.OLS(Y1, sm.add_constant(X1)).fit() #fit a linear regression model to the first group"
   ]
  },
  {
   "cell_type": "code",
   "execution_count": 6,
   "id": "f9bd0131-5833-4b51-93df-173cae61e2fb",
   "metadata": {},
   "outputs": [
    {
     "data": {
      "text/plain": [
       "array([5.00448592, 3.07348085])"
      ]
     },
     "execution_count": 6,
     "metadata": {},
     "output_type": "execute_result"
    }
   ],
   "source": [
    "results.params # this will give you the coefficients of the linear regression model, including the intercept and the slope for X1"
   ]
  },
  {
   "cell_type": "code",
   "execution_count": 7,
   "id": "59ccdbdc-d323-4e96-8775-8aa1bb02f349",
   "metadata": {},
   "outputs": [
    {
     "data": {
      "text/plain": [
       "array([0.03171863, 0.03177729])"
      ]
     },
     "execution_count": 7,
     "metadata": {},
     "output_type": "execute_result"
    }
   ],
   "source": [
    "results.bse # this will give you the standard errors of the coefficients"
   ]
  },
  {
   "cell_type": "code",
   "execution_count": 8,
   "id": "d3b4b04e-10ff-4e4b-b374-e964244fbad5",
   "metadata": {},
   "outputs": [
    {
     "data": {
      "text/plain": [
       "0.9035995215471792"
      ]
     },
     "execution_count": 8,
     "metadata": {},
     "output_type": "execute_result"
    }
   ],
   "source": [
    "results.rsquared # this will give you the R-squared value of the linear regression model, which is a measure of how well the model fits the data"
   ]
  },
  {
   "cell_type": "code",
   "execution_count": 9,
   "id": "98fd0891-7865-4bf6-9912-91fb48013218",
   "metadata": {},
   "outputs": [
    {
     "data": {
      "text/plain": [
       "1.002023671001723"
      ]
     },
     "execution_count": 9,
     "metadata": {},
     "output_type": "execute_result"
    }
   ],
   "source": [
    "np.std(results.resid) # this will give you the standard deviation of the residuals, which is a measure of how much the model's predictions deviate from the actual values"
   ]
  },
  {
   "cell_type": "code",
   "execution_count": 10,
   "id": "f0a44483-d8cc-428d-96a2-1e99760a4656",
   "metadata": {},
   "outputs": [
    {
     "data": {
      "text/plain": [
       "1.002023671001723"
      ]
     },
     "execution_count": 10,
     "metadata": {},
     "output_type": "execute_result"
    }
   ],
   "source": [
    "np.std(results.resid) # (resid_0 - resid_mean)^2 + (resid_1 - resid_mean)^2 + ...."
   ]
  },
  {
   "cell_type": "code",
   "execution_count": 11,
   "id": "37de30e2-d104-46cf-b693-5a2d8f3e20df",
   "metadata": {},
   "outputs": [
    {
     "data": {
      "text/plain": [
       "1.002023671001723"
      ]
     },
     "execution_count": 11,
     "metadata": {},
     "output_type": "execute_result"
    }
   ],
   "source": [
    "root_mean_squared_error(Y1, results.predict(sm.add_constant(X1))) # Another way\n",
    "# (resid_0)^2 + (resid_1)^2 + ...."
   ]
  },
  {
   "cell_type": "code",
   "execution_count": 12,
   "id": "fbe1ebba-1793-42c7-a72c-8f2c50695a68",
   "metadata": {},
   "outputs": [
    {
     "data": {
      "text/plain": [
       "-1.1901590823981679e-15"
      ]
     },
     "execution_count": 12,
     "metadata": {},
     "output_type": "execute_result"
    }
   ],
   "source": [
    "results.resid.mean()"
   ]
  },
  {
   "cell_type": "code",
   "execution_count": 13,
   "id": "996036ae-fc4d-413d-b68c-d341c67075e6",
   "metadata": {},
   "outputs": [
    {
     "data": {
      "text/plain": [
       "<matplotlib.collections.PathCollection at 0x33b125450>"
      ]
     },
     "execution_count": 13,
     "metadata": {},
     "output_type": "execute_result"
    },
    {
     "data": {
      "image/png": "[encoded data removed]",
      "text/plain": [
       "<Figure size 640x480 with 1 Axes>"
      ]
     },
     "metadata": {},
     "output_type": "display_data"
    }
   ],
   "source": [
    "plt.scatter(results.predict(sm.add_constant(X1)), Y1)"
   ]
  },
  {
   "cell_type": "markdown",
   "id": "e0f35ddf",
   "metadata": {},
   "source": [
    "So this is stage one, we haven't done fixed effects yet, we've just looked at the linear relationships between the variables.  Now let's move on to fixed effects modeling. Let's combine X1, X2, X3 and Y1, Y2, Y3 and find a common equation for them. "
   ]
  },
  {
   "cell_type": "code",
   "execution_count": 14,
   "id": "1ba74be6-4e9a-4059-afb6-54f473c2bee0",
   "metadata": {},
   "outputs": [
    {
     "data": {
      "text/plain": [
       "array([10.01011367,  3.07796017])"
      ]
     },
     "execution_count": 14,
     "metadata": {},
     "output_type": "execute_result"
    }
   ],
   "source": [
    "Y = np.hstack((Y1, Y2, Y3)) #combine the Y values from all groups\n",
    "X = np.hstack((X1, X2, X3)) #combine the X values from all groups\n",
    "results_combined = sm.OLS(Y, sm.add_constant(X)).fit()\n",
    "results_combined.params # note that params do not match group 1, but likely will match group 2 "
   ]
  },
  {
   "cell_type": "code",
   "execution_count": 15,
   "id": "ecdfb78b-ee03-4951-8d32-0bce015cbd36",
   "metadata": {},
   "outputs": [
    {
     "data": {
      "text/plain": [
       "array([0.07682071, 0.07845442])"
      ]
     },
     "execution_count": 15,
     "metadata": {},
     "output_type": "execute_result"
    }
   ],
   "source": [
    "results_combined.bse"
   ]
  },
  {
   "cell_type": "code",
   "execution_count": 16,
   "id": "c55dd7be-4b96-4bb3-bfb2-8c45c2f91209",
   "metadata": {},
   "outputs": [
    {
     "data": {
      "text/plain": [
       "0.33923807671912243"
      ]
     },
     "execution_count": 16,
     "metadata": {},
     "output_type": "execute_result"
    }
   ],
   "source": [
    "results_combined.rsquared # rsquared is _worse_ than for group 1 alone"
   ]
  },
  {
   "cell_type": "code",
   "execution_count": 17,
   "id": "b2054ec2-5eba-48fd-ba1e-dd699b28763d",
   "metadata": {},
   "outputs": [
    {
     "data": {
      "text/plain": [
       "4.205757189961178"
      ]
     },
     "execution_count": 17,
     "metadata": {},
     "output_type": "execute_result"
    }
   ],
   "source": [
    "np.std(results_combined.resid)"
   ]
  },
  {
   "cell_type": "code",
   "execution_count": 18,
   "id": "85ba3643-31f5-4164-9e40-f954e4e07d50",
   "metadata": {},
   "outputs": [
    {
     "data": {
      "text/plain": [
       "4.205757189961178"
      ]
     },
     "execution_count": 18,
     "metadata": {},
     "output_type": "execute_result"
    }
   ],
   "source": [
    "root_mean_squared_error(Y, results_combined.predict(sm.add_constant(X))) # another way"
   ]
  },
  {
   "cell_type": "code",
   "execution_count": 19,
   "id": "da5845dd-58f1-43fd-9f12-5d449473de32",
   "metadata": {},
   "outputs": [
    {
     "data": {
      "text/plain": [
       "<matplotlib.collections.PathCollection at 0x33b50b410>"
      ]
     },
     "execution_count": 19,
     "metadata": {},
     "output_type": "execute_result"
    },
    {
     "data": {
      "image/png": "[encoded data removed]",
      "text/plain": [
       "<Figure size 640x480 with 1 Axes>"
      ]
     },
     "metadata": {},
     "output_type": "display_data"
    }
   ],
   "source": [
    "plt.scatter(results_combined.predict(sm.add_constant(X)), Y) #scatter plot of the predicted values vs the actual values for the combined model, you can see the 3 groups from the original equations. Lumping them together is not going to work. "
   ]
  },
  {
   "cell_type": "code",
   "execution_count": null,
   "id": "ebbd297a",
   "metadata": {},
   "outputs": [],
   "source": []
  },
  {
   "cell_type": "code",
   "execution_count": 20,
   "id": "98437325",
   "metadata": {},
   "outputs": [
    {
     "data": {
      "text/plain": [
       "array([0, 0, 0, 0, 0, 1, 1, 1, 1, 1, 2, 2, 2, 2, 2])"
      ]
     },
     "execution_count": 20,
     "metadata": {},
     "output_type": "execute_result"
    }
   ],
   "source": [
    "np.repeat([0, 1, 2], 5) # this will create an array with 5 zeros, 5 ones, and 5 twos, which can be used as a group identifier for fixed effects modeling"
   ]
  },
  {
   "cell_type": "code",
   "execution_count": 21,
   "id": "9eda0585-4c71-4e98-9b40-bfe881ec8614",
   "metadata": {},
   "outputs": [
    {
     "data": {
      "application/vnd.microsoft.datawrangler.viewer.v0+json": {
       "columns": [
        {
         "name": "index",
         "rawType": "int64",
         "type": "integer"
        },
        {
         "name": "1",
         "rawType": "bool",
         "type": "boolean"
        },
        {
         "name": "2",
         "rawType": "bool",
         "type": "boolean"
        }
       ],
       "ref": "53e7d3df-1bda-454a-aec3-2209127f2dd1",
       "rows": [
        [
         "0",
         "False",
         "False"
        ],
        [
         "1",
         "False",
         "False"
        ],
        [
         "2",
         "False",
         "False"
        ],
        [
         "3",
         "False",
         "False"
        ],
        [
         "4",
         "False",
         "False"
        ],
        [
         "5",
         "True",
         "False"
        ],
        [
         "6",
         "True",
         "False"
        ],
        [
         "7",
         "True",
         "False"
        ],
        [
         "8",
         "True",
         "False"
        ],
        [
         "9",
         "True",
         "False"
        ],
        [
         "10",
         "False",
         "True"
        ],
        [
         "11",
         "False",
         "True"
        ],
        [
         "12",
         "False",
         "True"
        ],
        [
         "13",
         "False",
         "True"
        ],
        [
         "14",
         "False",
         "True"
        ]
       ],
       "shape": {
        "columns": 2,
        "rows": 15
       }
      },
      "text/html": [
       "<div>\n",
       "<style scoped>\n",
       "    .dataframe tbody tr th:only-of-type {\n",
       "        vertical-align: middle;\n",
       "    }\n",
       "\n",
       "    .dataframe tbody tr th {\n",
       "        vertical-align: top;\n",
       "    }\n",
       "\n",
       "    .dataframe thead th {\n",
       "        text-align: right;\n",
       "    }\n",
       "</style>\n",
       "<table border=\"1\" class=\"dataframe\">\n",
       "  <thead>\n",
       "    <tr style=\"text-align: right;\">\n",
       "      <th></th>\n",
       "      <th>1</th>\n",
       "      <th>2</th>\n",
       "    </tr>\n",
       "  </thead>\n",
       "  <tbody>\n",
       "    <tr>\n",
       "      <th>0</th>\n",
       "      <td>False</td>\n",
       "      <td>False</td>\n",
       "    </tr>\n",
       "    <tr>\n",
       "      <th>1</th>\n",
       "      <td>False</td>\n",
       "      <td>False</td>\n",
       "    </tr>\n",
       "    <tr>\n",
       "      <th>2</th>\n",
       "      <td>False</td>\n",
       "      <td>False</td>\n",
       "    </tr>\n",
       "    <tr>\n",
       "      <th>3</th>\n",
       "      <td>False</td>\n",
       "      <td>False</td>\n",
       "    </tr>\n",
       "    <tr>\n",
       "      <th>4</th>\n",
       "      <td>False</td>\n",
       "      <td>False</td>\n",
       "    </tr>\n",
       "    <tr>\n",
       "      <th>5</th>\n",
       "      <td>True</td>\n",
       "      <td>False</td>\n",
       "    </tr>\n",
       "    <tr>\n",
       "      <th>6</th>\n",
       "      <td>True</td>\n",
       "      <td>False</td>\n",
       "    </tr>\n",
       "    <tr>\n",
       "      <th>7</th>\n",
       "      <td>True</td>\n",
       "      <td>False</td>\n",
       "    </tr>\n",
       "    <tr>\n",
       "      <th>8</th>\n",
       "      <td>True</td>\n",
       "      <td>False</td>\n",
       "    </tr>\n",
       "    <tr>\n",
       "      <th>9</th>\n",
       "      <td>True</td>\n",
       "      <td>False</td>\n",
       "    </tr>\n",
       "    <tr>\n",
       "      <th>10</th>\n",
       "      <td>False</td>\n",
       "      <td>True</td>\n",
       "    </tr>\n",
       "    <tr>\n",
       "      <th>11</th>\n",
       "      <td>False</td>\n",
       "      <td>True</td>\n",
       "    </tr>\n",
       "    <tr>\n",
       "      <th>12</th>\n",
       "      <td>False</td>\n",
       "      <td>True</td>\n",
       "    </tr>\n",
       "    <tr>\n",
       "      <th>13</th>\n",
       "      <td>False</td>\n",
       "      <td>True</td>\n",
       "    </tr>\n",
       "    <tr>\n",
       "      <th>14</th>\n",
       "      <td>False</td>\n",
       "      <td>True</td>\n",
       "    </tr>\n",
       "  </tbody>\n",
       "</table>\n",
       "</div>"
      ],
      "text/plain": [
       "        1      2\n",
       "0   False  False\n",
       "1   False  False\n",
       "2   False  False\n",
       "3   False  False\n",
       "4   False  False\n",
       "5    True  False\n",
       "6    True  False\n",
       "7    True  False\n",
       "8    True  False\n",
       "9    True  False\n",
       "10  False   True\n",
       "11  False   True\n",
       "12  False   True\n",
       "13  False   True\n",
       "14  False   True"
      ]
     },
     "execution_count": 21,
     "metadata": {},
     "output_type": "execute_result"
    }
   ],
   "source": [
    "pd.get_dummies(np.repeat([0, 1, 2], 5), drop_first = True) # this will create a DataFrame with dummy variables for the group identifiers, dropping the first group to avoid multicollinearity"
   ]
  },
  {
   "cell_type": "code",
   "execution_count": 22,
   "id": "0179205e-2af8-49d2-ba53-ca483f23d403",
   "metadata": {},
   "outputs": [],
   "source": [
    "groups = np.repeat([0, 1, 2], num) # create a group identifier for each observation, where 0 corresponds to group 1, 1 corresponds to group 2, and 2 corresponds to group 3\n",
    "X_fixed_effects = pd.get_dummies(groups, drop_first=True) # create dummy variables for the group identifiers, dropping the first group to avoid multicollinearity\n",
    "X_design = np.hstack((X.reshape(-1, 1), X_fixed_effects)) # combine the X values with the dummy variables for the group identifiers\n",
    "df_design = pd.DataFrame(X_design, columns = [\"X\", \"Group_1\", \"Group_2\"]) # create a DataFrame with the combined X values and the dummy variables for the group identifiers\n",
    "results_fixed_effects = sm.OLS(Y, sm.add_constant(df_design)).fit() # fit a linear regression model with fixed effects"
   ]
  },
  {
   "cell_type": "code",
   "execution_count": 23,
   "id": "2f9a8d6c",
   "metadata": {},
   "outputs": [
    {
     "data": {
      "text/plain": [
       "array([0, 0, 0, ..., 2, 2, 2])"
      ]
     },
     "execution_count": 23,
     "metadata": {},
     "output_type": "execute_result"
    }
   ],
   "source": [
    "groups"
   ]
  },
  {
   "cell_type": "code",
   "execution_count": 24,
   "id": "10a6ebef",
   "metadata": {},
   "outputs": [
    {
     "data": {
      "application/vnd.microsoft.datawrangler.viewer.v0+json": {
       "columns": [
        {
         "name": "index",
         "rawType": "int64",
         "type": "integer"
        },
        {
         "name": "1",
         "rawType": "bool",
         "type": "boolean"
        },
        {
         "name": "2",
         "rawType": "bool",
         "type": "boolean"
        }
       ],
       "ref": "4e871a92-8dfd-4dd2-8a63-a79c2dce13b1",
       "rows": [
        [
         "0",
         "False",
         "False"
        ],
        [
         "1",
         "False",
         "False"
        ],
        [
         "2",
         "False",
         "False"
        ],
        [
         "3",
         "False",
         "False"
        ],
        [
         "4",
         "False",
         "False"
        ],
        [
         "5",
         "False",
         "False"
        ],
        [
         "6",
         "False",
         "False"
        ],
        [
         "7",
         "False",
         "False"
        ],
        [
         "8",
         "False",
         "False"
        ],
        [
         "9",
         "False",
         "False"
        ],
        [
         "10",
         "False",
         "False"
        ],
        [
         "11",
         "False",
         "False"
        ],
        [
         "12",
         "False",
         "False"
        ],
        [
         "13",
         "False",
         "False"
        ],
        [
         "14",
         "False",
         "False"
        ],
        [
         "15",
         "False",
         "False"
        ],
        [
         "16",
         "False",
         "False"
        ],
        [
         "17",
         "False",
         "False"
        ],
        [
         "18",
         "False",
         "False"
        ],
        [
         "19",
         "False",
         "False"
        ],
        [
         "20",
         "False",
         "False"
        ],
        [
         "21",
         "False",
         "False"
        ],
        [
         "22",
         "False",
         "False"
        ],
        [
         "23",
         "False",
         "False"
        ],
        [
         "24",
         "False",
         "False"
        ],
        [
         "25",
         "False",
         "False"
        ],
        [
         "26",
         "False",
         "False"
        ],
        [
         "27",
         "False",
         "False"
        ],
        [
         "28",
         "False",
         "False"
        ],
        [
         "29",
         "False",
         "False"
        ],
        [
         "30",
         "False",
         "False"
        ],
        [
         "31",
         "False",
         "False"
        ],
        [
         "32",
         "False",
         "False"
        ],
        [
         "33",
         "False",
         "False"
        ],
        [
         "34",
         "False",
         "False"
        ],
        [
         "35",
         "False",
         "False"
        ],
        [
         "36",
         "False",
         "False"
        ],
        [
         "37",
         "False",
         "False"
        ],
        [
         "38",
         "False",
         "False"
        ],
        [
         "39",
         "False",
         "False"
        ],
        [
         "40",
         "False",
         "False"
        ],
        [
         "41",
         "False",
         "False"
        ],
        [
         "42",
         "False",
         "False"
        ],
        [
         "43",
         "False",
         "False"
        ],
        [
         "44",
         "False",
         "False"
        ],
        [
         "45",
         "False",
         "False"
        ],
        [
         "46",
         "False",
         "False"
        ],
        [
         "47",
         "False",
         "False"
        ],
        [
         "48",
         "False",
         "False"
        ],
        [
         "49",
         "False",
         "False"
        ]
       ],
       "shape": {
        "columns": 2,
        "rows": 3000
       }
      },
      "text/html": [
       "<div>\n",
       "<style scoped>\n",
       "    .dataframe tbody tr th:only-of-type {\n",
       "        vertical-align: middle;\n",
       "    }\n",
       "\n",
       "    .dataframe tbody tr th {\n",
       "        vertical-align: top;\n",
       "    }\n",
       "\n",
       "    .dataframe thead th {\n",
       "        text-align: right;\n",
       "    }\n",
       "</style>\n",
       "<table border=\"1\" class=\"dataframe\">\n",
       "  <thead>\n",
       "    <tr style=\"text-align: right;\">\n",
       "      <th></th>\n",
       "      <th>1</th>\n",
       "      <th>2</th>\n",
       "    </tr>\n",
       "  </thead>\n",
       "  <tbody>\n",
       "    <tr>\n",
       "      <th>0</th>\n",
       "      <td>False</td>\n",
       "      <td>False</td>\n",
       "    </tr>\n",
       "    <tr>\n",
       "      <th>1</th>\n",
       "      <td>False</td>\n",
       "      <td>False</td>\n",
       "    </tr>\n",
       "    <tr>\n",
       "      <th>2</th>\n",
       "      <td>False</td>\n",
       "      <td>False</td>\n",
       "    </tr>\n",
       "    <tr>\n",
       "      <th>3</th>\n",
       "      <td>False</td>\n",
       "      <td>False</td>\n",
       "    </tr>\n",
       "    <tr>\n",
       "      <th>4</th>\n",
       "      <td>False</td>\n",
       "      <td>False</td>\n",
       "    </tr>\n",
       "    <tr>\n",
       "      <th>...</th>\n",
       "      <td>...</td>\n",
       "      <td>...</td>\n",
       "    </tr>\n",
       "    <tr>\n",
       "      <th>2995</th>\n",
       "      <td>False</td>\n",
       "      <td>True</td>\n",
       "    </tr>\n",
       "    <tr>\n",
       "      <th>2996</th>\n",
       "      <td>False</td>\n",
       "      <td>True</td>\n",
       "    </tr>\n",
       "    <tr>\n",
       "      <th>2997</th>\n",
       "      <td>False</td>\n",
       "      <td>True</td>\n",
       "    </tr>\n",
       "    <tr>\n",
       "      <th>2998</th>\n",
       "      <td>False</td>\n",
       "      <td>True</td>\n",
       "    </tr>\n",
       "    <tr>\n",
       "      <th>2999</th>\n",
       "      <td>False</td>\n",
       "      <td>True</td>\n",
       "    </tr>\n",
       "  </tbody>\n",
       "</table>\n",
       "<p>3000 rows × 2 columns</p>\n",
       "</div>"
      ],
      "text/plain": [
       "          1      2\n",
       "0     False  False\n",
       "1     False  False\n",
       "2     False  False\n",
       "3     False  False\n",
       "4     False  False\n",
       "...     ...    ...\n",
       "2995  False   True\n",
       "2996  False   True\n",
       "2997  False   True\n",
       "2998  False   True\n",
       "2999  False   True\n",
       "\n",
       "[3000 rows x 2 columns]"
      ]
     },
     "execution_count": 24,
     "metadata": {},
     "output_type": "execute_result"
    }
   ],
   "source": [
    "X_fixed_effects"
   ]
  },
  {
   "cell_type": "code",
   "execution_count": 25,
   "id": "368a4304",
   "metadata": {},
   "outputs": [
    {
     "data": {
      "text/plain": [
       "array([[ 0.91651274,  0.        ,  0.        ],\n",
       "       [-0.76238544,  0.        ,  0.        ],\n",
       "       [-0.4049399 ,  0.        ,  0.        ],\n",
       "       ...,\n",
       "       [-0.79970388,  0.        ,  1.        ],\n",
       "       [ 0.74291571,  0.        ,  1.        ],\n",
       "       [ 0.93100535,  0.        ,  1.        ]])"
      ]
     },
     "execution_count": 25,
     "metadata": {},
     "output_type": "execute_result"
    }
   ],
   "source": [
    "X_design"
   ]
  },
  {
   "cell_type": "code",
   "execution_count": 26,
   "id": "ab5c2c6c",
   "metadata": {},
   "outputs": [
    {
     "data": {
      "application/vnd.microsoft.datawrangler.viewer.v0+json": {
       "columns": [
        {
         "name": "index",
         "rawType": "int64",
         "type": "integer"
        },
        {
         "name": "X",
         "rawType": "float64",
         "type": "float"
        },
        {
         "name": "Group_1",
         "rawType": "float64",
         "type": "float"
        },
        {
         "name": "Group_2",
         "rawType": "float64",
         "type": "float"
        }
       ],
       "ref": "982385de-abdc-4f84-b627-ef06b5886090",
       "rows": [
        [
         "0",
         "0.9165127425551362",
         "0.0",
         "0.0"
        ],
        [
         "1",
         "-0.7623854430720498",
         "0.0",
         "0.0"
        ],
        [
         "2",
         "-0.4049399038713085",
         "0.0",
         "0.0"
        ],
        [
         "3",
         "1.4903275789186845",
         "0.0",
         "0.0"
        ],
        [
         "4",
         "-0.0665008099548432",
         "0.0",
         "0.0"
        ],
        [
         "5",
         "-0.5474077979276668",
         "0.0",
         "0.0"
        ],
        [
         "6",
         "-1.0259807322580903",
         "0.0",
         "0.0"
        ],
        [
         "7",
         "0.5865289172884883",
         "0.0",
         "0.0"
        ],
        [
         "8",
         "-1.2151923811327248",
         "0.0",
         "0.0"
        ],
        [
         "9",
         "1.0064578250539757",
         "0.0",
         "0.0"
        ],
        [
         "10",
         "0.38913200412064003",
         "0.0",
         "0.0"
        ],
        [
         "11",
         "-0.49580132513421643",
         "0.0",
         "0.0"
        ],
        [
         "12",
         "2.0912464905778214",
         "0.0",
         "0.0"
        ],
        [
         "13",
         "0.8911094916466408",
         "0.0",
         "0.0"
        ],
        [
         "14",
         "0.001714805284281095",
         "0.0",
         "0.0"
        ],
        [
         "15",
         "-3.026877113719619",
         "0.0",
         "0.0"
        ],
        [
         "16",
         "-0.28933847717433353",
         "0.0",
         "0.0"
        ],
        [
         "17",
         "-0.6566754167905854",
         "0.0",
         "0.0"
        ],
        [
         "18",
         "-1.2083948475119697",
         "0.0",
         "0.0"
        ],
        [
         "19",
         "0.9091757363736376",
         "0.0",
         "0.0"
        ],
        [
         "20",
         "1.4889292905098308",
         "0.0",
         "0.0"
        ],
        [
         "21",
         "-0.023132010237442435",
         "0.0",
         "0.0"
        ],
        [
         "22",
         "1.3365016218250925",
         "0.0",
         "0.0"
        ],
        [
         "23",
         "-0.9887806445032645",
         "0.0",
         "0.0"
        ],
        [
         "24",
         "1.3150965867307205",
         "0.0",
         "0.0"
        ],
        [
         "25",
         "-0.12931830857651175",
         "0.0",
         "0.0"
        ],
        [
         "26",
         "-0.2846417313711008",
         "0.0",
         "0.0"
        ],
        [
         "27",
         "1.5428790208338465",
         "0.0",
         "0.0"
        ],
        [
         "28",
         "-0.14879342890612604",
         "0.0",
         "0.0"
        ],
        [
         "29",
         "0.9229910825688582",
         "0.0",
         "0.0"
        ],
        [
         "30",
         "-0.01059876887011144",
         "0.0",
         "0.0"
        ],
        [
         "31",
         "-0.6772684511619148",
         "0.0",
         "0.0"
        ],
        [
         "32",
         "-0.7113211047002165",
         "0.0",
         "0.0"
        ],
        [
         "33",
         "2.0861644369654755",
         "0.0",
         "0.0"
        ],
        [
         "34",
         "0.6192007620331735",
         "0.0",
         "0.0"
        ],
        [
         "35",
         "1.3673212051134913",
         "0.0",
         "0.0"
        ],
        [
         "36",
         "1.4362304110837325",
         "0.0",
         "0.0"
        ],
        [
         "37",
         "-1.0280472435088006",
         "0.0",
         "0.0"
        ],
        [
         "38",
         "-1.3886594570622317",
         "0.0",
         "0.0"
        ],
        [
         "39",
         "-0.23575760446321709",
         "0.0",
         "0.0"
        ],
        [
         "40",
         "-1.3248389433296328",
         "0.0",
         "0.0"
        ],
        [
         "41",
         "-0.9348362828988251",
         "0.0",
         "0.0"
        ],
        [
         "42",
         "0.20647424957015711",
         "0.0",
         "0.0"
        ],
        [
         "43",
         "0.9127546055336649",
         "0.0",
         "0.0"
        ],
        [
         "44",
         "0.6744311028821962",
         "0.0",
         "0.0"
        ],
        [
         "45",
         "0.9793716766293818",
         "0.0",
         "0.0"
        ],
        [
         "46",
         "-0.0041787471260251435",
         "0.0",
         "0.0"
        ],
        [
         "47",
         "-0.20999085505702816",
         "0.0",
         "0.0"
        ],
        [
         "48",
         "0.7851041430742082",
         "0.0",
         "0.0"
        ],
        [
         "49",
         "0.2096423446111894",
         "0.0",
         "0.0"
        ]
       ],
       "shape": {
        "columns": 3,
        "rows": 3000
       }
      },
      "text/html": [
       "<div>\n",
       "<style scoped>\n",
       "    .dataframe tbody tr th:only-of-type {\n",
       "        vertical-align: middle;\n",
       "    }\n",
       "\n",
       "    .dataframe tbody tr th {\n",
       "        vertical-align: top;\n",
       "    }\n",
       "\n",
       "    .dataframe thead th {\n",
       "        text-align: right;\n",
       "    }\n",
       "</style>\n",
       "<table border=\"1\" class=\"dataframe\">\n",
       "  <thead>\n",
       "    <tr style=\"text-align: right;\">\n",
       "      <th></th>\n",
       "      <th>X</th>\n",
       "      <th>Group_1</th>\n",
       "      <th>Group_2</th>\n",
       "    </tr>\n",
       "  </thead>\n",
       "  <tbody>\n",
       "    <tr>\n",
       "      <th>0</th>\n",
       "      <td>0.916513</td>\n",
       "      <td>0.0</td>\n",
       "      <td>0.0</td>\n",
       "    </tr>\n",
       "    <tr>\n",
       "      <th>1</th>\n",
       "      <td>-0.762385</td>\n",
       "      <td>0.0</td>\n",
       "      <td>0.0</td>\n",
       "    </tr>\n",
       "    <tr>\n",
       "      <th>2</th>\n",
       "      <td>-0.404940</td>\n",
       "      <td>0.0</td>\n",
       "      <td>0.0</td>\n",
       "    </tr>\n",
       "    <tr>\n",
       "      <th>3</th>\n",
       "      <td>1.490328</td>\n",
       "      <td>0.0</td>\n",
       "      <td>0.0</td>\n",
       "    </tr>\n",
       "    <tr>\n",
       "      <th>4</th>\n",
       "      <td>-0.066501</td>\n",
       "      <td>0.0</td>\n",
       "      <td>0.0</td>\n",
       "    </tr>\n",
       "    <tr>\n",
       "      <th>...</th>\n",
       "      <td>...</td>\n",
       "      <td>...</td>\n",
       "      <td>...</td>\n",
       "    </tr>\n",
       "    <tr>\n",
       "      <th>2995</th>\n",
       "      <td>-0.179659</td>\n",
       "      <td>0.0</td>\n",
       "      <td>1.0</td>\n",
       "    </tr>\n",
       "    <tr>\n",
       "      <th>2996</th>\n",
       "      <td>-0.629455</td>\n",
       "      <td>0.0</td>\n",
       "      <td>1.0</td>\n",
       "    </tr>\n",
       "    <tr>\n",
       "      <th>2997</th>\n",
       "      <td>-0.799704</td>\n",
       "      <td>0.0</td>\n",
       "      <td>1.0</td>\n",
       "    </tr>\n",
       "    <tr>\n",
       "      <th>2998</th>\n",
       "      <td>0.742916</td>\n",
       "      <td>0.0</td>\n",
       "      <td>1.0</td>\n",
       "    </tr>\n",
       "    <tr>\n",
       "      <th>2999</th>\n",
       "      <td>0.931005</td>\n",
       "      <td>0.0</td>\n",
       "      <td>1.0</td>\n",
       "    </tr>\n",
       "  </tbody>\n",
       "</table>\n",
       "<p>3000 rows × 3 columns</p>\n",
       "</div>"
      ],
      "text/plain": [
       "             X  Group_1  Group_2\n",
       "0     0.916513      0.0      0.0\n",
       "1    -0.762385      0.0      0.0\n",
       "2    -0.404940      0.0      0.0\n",
       "3     1.490328      0.0      0.0\n",
       "4    -0.066501      0.0      0.0\n",
       "...        ...      ...      ...\n",
       "2995 -0.179659      0.0      1.0\n",
       "2996 -0.629455      0.0      1.0\n",
       "2997 -0.799704      0.0      1.0\n",
       "2998  0.742916      0.0      1.0\n",
       "2999  0.931005      0.0      1.0\n",
       "\n",
       "[3000 rows x 3 columns]"
      ]
     },
     "execution_count": 26,
     "metadata": {},
     "output_type": "execute_result"
    }
   ],
   "source": [
    "df_design"
   ]
  },
  {
   "cell_type": "code",
   "execution_count": 27,
   "id": "ba7f578f",
   "metadata": {},
   "outputs": [
    {
     "data": {
      "application/vnd.microsoft.datawrangler.viewer.v0+json": {
       "columns": [
        {
         "name": "index",
         "rawType": "int64",
         "type": "integer"
        },
        {
         "name": "X",
         "rawType": "float64",
         "type": "float"
        },
        {
         "name": "Group_1",
         "rawType": "float64",
         "type": "float"
        },
        {
         "name": "Group_2",
         "rawType": "float64",
         "type": "float"
        }
       ],
       "ref": "1ed5133c-f0ea-42a4-ab3e-95c841abe84a",
       "rows": [
        [
         "0",
         "0.9165127425551362",
         "0.0",
         "0.0"
        ],
        [
         "1",
         "-0.7623854430720498",
         "0.0",
         "0.0"
        ],
        [
         "2",
         "-0.4049399038713085",
         "0.0",
         "0.0"
        ],
        [
         "3",
         "1.4903275789186845",
         "0.0",
         "0.0"
        ],
        [
         "4",
         "-0.0665008099548432",
         "0.0",
         "0.0"
        ]
       ],
       "shape": {
        "columns": 3,
        "rows": 5
       }
      },
      "text/html": [
       "<div>\n",
       "<style scoped>\n",
       "    .dataframe tbody tr th:only-of-type {\n",
       "        vertical-align: middle;\n",
       "    }\n",
       "\n",
       "    .dataframe tbody tr th {\n",
       "        vertical-align: top;\n",
       "    }\n",
       "\n",
       "    .dataframe thead th {\n",
       "        text-align: right;\n",
       "    }\n",
       "</style>\n",
       "<table border=\"1\" class=\"dataframe\">\n",
       "  <thead>\n",
       "    <tr style=\"text-align: right;\">\n",
       "      <th></th>\n",
       "      <th>X</th>\n",
       "      <th>Group_1</th>\n",
       "      <th>Group_2</th>\n",
       "    </tr>\n",
       "  </thead>\n",
       "  <tbody>\n",
       "    <tr>\n",
       "      <th>0</th>\n",
       "      <td>0.916513</td>\n",
       "      <td>0.0</td>\n",
       "      <td>0.0</td>\n",
       "    </tr>\n",
       "    <tr>\n",
       "      <th>1</th>\n",
       "      <td>-0.762385</td>\n",
       "      <td>0.0</td>\n",
       "      <td>0.0</td>\n",
       "    </tr>\n",
       "    <tr>\n",
       "      <th>2</th>\n",
       "      <td>-0.404940</td>\n",
       "      <td>0.0</td>\n",
       "      <td>0.0</td>\n",
       "    </tr>\n",
       "    <tr>\n",
       "      <th>3</th>\n",
       "      <td>1.490328</td>\n",
       "      <td>0.0</td>\n",
       "      <td>0.0</td>\n",
       "    </tr>\n",
       "    <tr>\n",
       "      <th>4</th>\n",
       "      <td>-0.066501</td>\n",
       "      <td>0.0</td>\n",
       "      <td>0.0</td>\n",
       "    </tr>\n",
       "  </tbody>\n",
       "</table>\n",
       "</div>"
      ],
      "text/plain": [
       "          X  Group_1  Group_2\n",
       "0  0.916513      0.0      0.0\n",
       "1 -0.762385      0.0      0.0\n",
       "2 -0.404940      0.0      0.0\n",
       "3  1.490328      0.0      0.0\n",
       "4 -0.066501      0.0      0.0"
      ]
     },
     "execution_count": 27,
     "metadata": {},
     "output_type": "execute_result"
    }
   ],
   "source": [
    "df_design.head()"
   ]
  },
  {
   "cell_type": "code",
   "execution_count": 28,
   "id": "5aa065f5-bb9a-47d9-95c1-a5ad2d316e78",
   "metadata": {},
   "outputs": [
    {
     "data": {
      "application/vnd.microsoft.datawrangler.viewer.v0+json": {
       "columns": [
        {
         "name": "index",
         "rawType": "object",
         "type": "string"
        },
        {
         "name": "0",
         "rawType": "float64",
         "type": "float"
        }
       ],
       "ref": "a2cef948-12e1-40ee-95bd-9c6a19780719",
       "rows": [
        [
         "const",
         "5.004571386258572"
        ],
        [
         "X",
         "3.043439170086039"
        ],
        [
         "Group_1",
         "5.002879151464264"
        ],
        [
         "Group_2",
         "10.01528510716853"
        ]
       ],
       "shape": {
        "columns": 1,
        "rows": 4
       }
      },
      "text/plain": [
       "const       5.004571\n",
       "X           3.043439\n",
       "Group_1     5.002879\n",
       "Group_2    10.015285\n",
       "dtype: float64"
      ]
     },
     "execution_count": 28,
     "metadata": {},
     "output_type": "execute_result"
    }
   ],
   "source": [
    "results_fixed_effects.params"
   ]
  },
  {
   "cell_type": "code",
   "execution_count": 29,
   "id": "70f99f49-2f71-4163-9269-287725d6604f",
   "metadata": {},
   "outputs": [
    {
     "data": {
      "application/vnd.microsoft.datawrangler.viewer.v0+json": {
       "columns": [
        {
         "name": "index",
         "rawType": "object",
         "type": "string"
        },
        {
         "name": "0",
         "rawType": "float64",
         "type": "float"
        }
       ],
       "ref": "c1fe68a4-3dd6-4371-b688-4b89f156e6f7",
       "rows": [
        [
         "const",
         "0.031195755484797794"
        ],
        [
         "X",
         "0.018396707058626876"
        ],
        [
         "Group_1",
         "0.0441184016400911"
        ],
        [
         "Group_2",
         "0.04411890638449076"
        ]
       ],
       "shape": {
        "columns": 1,
        "rows": 4
       }
      },
      "text/plain": [
       "const      0.031196\n",
       "X          0.018397\n",
       "Group_1    0.044118\n",
       "Group_2    0.044119\n",
       "dtype: float64"
      ]
     },
     "execution_count": 29,
     "metadata": {},
     "output_type": "execute_result"
    }
   ],
   "source": [
    "results_fixed_effects.bse"
   ]
  },
  {
   "cell_type": "code",
   "execution_count": 30,
   "id": "a1b89c4d-b2cd-4473-87ba-6bce1d79ba30",
   "metadata": {},
   "outputs": [
    {
     "data": {
      "text/plain": [
       "0.9636949563029135"
      ]
     },
     "execution_count": 30,
     "metadata": {},
     "output_type": "execute_result"
    }
   ],
   "source": [
    "results_fixed_effects.rsquared"
   ]
  },
  {
   "cell_type": "code",
   "execution_count": 31,
   "id": "23947627-f515-479d-9fba-33a1c7bee4e3",
   "metadata": {},
   "outputs": [
    {
     "data": {
      "text/plain": [
       "0.9858371356930011"
      ]
     },
     "execution_count": 31,
     "metadata": {},
     "output_type": "execute_result"
    }
   ],
   "source": [
    "np.std(results_fixed_effects.resid)"
   ]
  },
  {
   "cell_type": "code",
   "execution_count": 32,
   "id": "1158ff89-52dd-4aca-8b0f-697cbc1871db",
   "metadata": {},
   "outputs": [
    {
     "data": {
      "text/plain": [
       "0.9858371356930018"
      ]
     },
     "execution_count": 32,
     "metadata": {},
     "output_type": "execute_result"
    }
   ],
   "source": [
    "root_mean_squared_error(Y, results_fixed_effects.predict(sm.add_constant(df_design)))"
   ]
  },
  {
   "cell_type": "code",
   "execution_count": 33,
   "id": "797460ed-d3a1-49f9-8533-4f8696e350ac",
   "metadata": {
    "scrolled": true
   },
   "outputs": [
    {
     "data": {
      "text/plain": [
       "<matplotlib.collections.PathCollection at 0x33b520e50>"
      ]
     },
     "execution_count": 33,
     "metadata": {},
     "output_type": "execute_result"
    },
    {
     "data": {
      "image/png": "[encoded data removed]",
      "text/plain": [
       "<Figure size 640x480 with 1 Axes>"
      ]
     },
     "metadata": {},
     "output_type": "display_data"
    }
   ],
   "source": [
    "plt.scatter(results_fixed_effects.predict(sm.add_constant(df_design)), Y)"
   ]
  },
  {
   "cell_type": "code",
   "execution_count": 34,
   "id": "f00efb77-249a-4c7b-9535-9bb8aafbdea2",
   "metadata": {},
   "outputs": [],
   "source": [
    "X = np.hstack((X1 - X1.mean(), X2 - X2.mean(), X3 - X3.mean())) # easy way to demean the X values\n",
    "Y = np.hstack((Y1 - Y1.mean(), Y2 - Y2.mean(), Y3 - Y3.mean()))\n",
    "results_demeaned = sm.OLS(Y, X).fit()"
   ]
  },
  {
   "cell_type": "code",
   "execution_count": 35,
   "id": "0244879c-7bcb-47c9-bd43-69d7b144923e",
   "metadata": {},
   "outputs": [
    {
     "data": {
      "text/plain": [
       "0.9013317526122937"
      ]
     },
     "execution_count": 35,
     "metadata": {},
     "output_type": "execute_result"
    }
   ],
   "source": [
    "results_demeaned.rsquared"
   ]
  },
  {
   "cell_type": "code",
   "execution_count": 36,
   "id": "15cdd172-d282-450e-85c4-25cdfc897dec",
   "metadata": {},
   "outputs": [
    {
     "data": {
      "text/plain": [
       "0.9858371356930017"
      ]
     },
     "execution_count": 36,
     "metadata": {},
     "output_type": "execute_result"
    }
   ],
   "source": [
    "np.std(results_demeaned.resid)"
   ]
  },
  {
   "cell_type": "code",
   "execution_count": 37,
   "id": "254ed3b4-4780-4e06-91d3-c402cb5a52b0",
   "metadata": {},
   "outputs": [
    {
     "data": {
      "text/plain": [
       "0.9858371356930017"
      ]
     },
     "execution_count": 37,
     "metadata": {},
     "output_type": "execute_result"
    }
   ],
   "source": [
    "root_mean_squared_error(Y, results_demeaned.predict(X))"
   ]
  },
  {
   "cell_type": "markdown",
   "id": "45733490",
   "metadata": {},
   "source": []
  },
  {
   "cell_type": "code",
   "execution_count": 38,
   "id": "bc6e28b3-b230-4c9d-9840-ca4307fa1b50",
   "metadata": {},
   "outputs": [
    {
     "data": {
      "text/plain": [
       "0.0180830703413747"
      ]
     },
     "execution_count": 38,
     "metadata": {},
     "output_type": "execute_result"
    }
   ],
   "source": [
    "# Suppose we want to know what happens if we do this simulation many times\n",
    "num_iter = 1000\n",
    "beta_1_list = list()\n",
    "se_list = list()\n",
    "for n in range(num_iter):\n",
    "    num = 1000\n",
    "    X1 = scipy.stats.norm.rvs(0, 1, (num,))\n",
    "    X2 = scipy.stats.norm.rvs(0, 1, (num,))\n",
    "    X3 = scipy.stats.norm.rvs(0, 1, (num,))\n",
    "    Y1 = 3 * X1 + 5 + scipy.stats.norm.rvs(0, 1, (num,))\n",
    "    Y2 = 3 * X2 + 10 + scipy.stats.norm.rvs(0, 1, (num,))\n",
    "    Y3 = 3 * X3 + 15 + scipy.stats.norm.rvs(0, 1, (num,))\n",
    "    X = np.hstack((X1 - X1.mean(), X2 - X2.mean(), X3 - X3.mean())) # demean the data\n",
    "    Y = np.hstack((Y1 - Y1.mean(), Y2 - Y2.mean(), Y3 - Y3.mean()))\n",
    "    results_demeaned = sm.OLS(Y, X).fit()\n",
    "    beta_1_list.append(results_demeaned.params[0])\n",
    "    se_list.append(results_demeaned.bse[0])\n",
    " \n",
    "np.std(beta_1_list)"
   ]
  },
  {
   "cell_type": "code",
   "execution_count": 39,
   "id": "26ddcd07-655a-4069-84d9-246721bcb2dc",
   "metadata": {},
   "outputs": [
    {
     "data": {
      "text/plain": [
       "(0.0180830703413747, 3.0007131710345973)"
      ]
     },
     "execution_count": 39,
     "metadata": {},
     "output_type": "execute_result"
    }
   ],
   "source": [
    "np.std(beta_1_list), np.mean(beta_1_list)"
   ]
  },
  {
   "cell_type": "code",
   "execution_count": 40,
   "id": "ebc44da0-b0af-419d-8c98-c881ec9944d6",
   "metadata": {},
   "outputs": [
    {
     "data": {
      "text/plain": [
       "(0.0003448960692543697, 0.01825336313191976)"
      ]
     },
     "execution_count": 40,
     "metadata": {},
     "output_type": "execute_result"
    }
   ],
   "source": [
    "np.std(se_list), np.mean(se_list)"
   ]
  },
  {
   "cell_type": "code",
   "execution_count": 41,
   "id": "b20fcd23-6475-49dc-bc13-94cd3efddaf2",
   "metadata": {},
   "outputs": [
    {
     "data": {
      "text/plain": [
       "3.0007131710345973"
      ]
     },
     "execution_count": 41,
     "metadata": {},
     "output_type": "execute_result"
    }
   ],
   "source": [
    "np.mean(beta_1_list)"
   ]
  },
  {
   "cell_type": "code",
   "execution_count": 42,
   "id": "1b1b9824-bff9-4717-9f98-e3e0dcb70cb3",
   "metadata": {},
   "outputs": [
    {
     "data": {
      "text/plain": [
       "(array([  4.,   2.,  11.,  23.,  46.,  57.,  94., 104., 132., 133., 122.,\n",
       "         92.,  84.,  41.,  26.,  11.,   7.,   4.,   5.,   2.]),\n",
       " array([2.94600179, 2.95194552, 2.95788925, 2.96383297, 2.9697767 ,\n",
       "        2.97572043, 2.98166416, 2.98760788, 2.99355161, 2.99949534,\n",
       "        3.00543907, 3.01138279, 3.01732652, 3.02327025, 3.02921398,\n",
       "        3.0351577 , 3.04110143, 3.04704516, 3.05298889, 3.05893261,\n",
       "        3.06487634]),\n",
       " <BarContainer object of 20 artists>)"
      ]
     },
     "execution_count": 42,
     "metadata": {},
     "output_type": "execute_result"
    },
    {
     "data": {
      "image/png": "[encoded data removed]",
      "text/plain": [
       "<Figure size 640x480 with 1 Axes>"
      ]
     },
     "metadata": {},
     "output_type": "display_data"
    }
   ],
   "source": [
    "plt.hist(beta_1_list, bins = 20)"
   ]
  },
  {
   "cell_type": "code",
   "execution_count": 43,
   "id": "8314227f-b1f1-4021-ab74-cf6d848e9fe8",
   "metadata": {},
   "outputs": [
    {
     "data": {
      "text/plain": [
       "(array([  3.,   6.,  14.,  22.,  49.,  89., 110., 152., 142., 135., 113.,\n",
       "         83.,  43.,  19.,  13.,   3.,   2.,   0.,   1.,   1.]),\n",
       " array([0.0171682 , 0.01729692, 0.01742563, 0.01755435, 0.01768307,\n",
       "        0.01781178, 0.0179405 , 0.01806922, 0.01819793, 0.01832665,\n",
       "        0.01845537, 0.01858409, 0.0187128 , 0.01884152, 0.01897024,\n",
       "        0.01909895, 0.01922767, 0.01935639, 0.0194851 , 0.01961382,\n",
       "        0.01974254]),\n",
       " <BarContainer object of 20 artists>)"
      ]
     },
     "execution_count": 43,
     "metadata": {},
     "output_type": "execute_result"
    },
    {
     "data": {
      "image/png": "[encoded data removed]",
      "text/plain": [
       "<Figure size 640x480 with 1 Axes>"
      ]
     },
     "metadata": {},
     "output_type": "display_data"
    }
   ],
   "source": [
    "plt.hist(se_list, bins = 20)"
   ]
  },
  {
   "cell_type": "code",
   "execution_count": null,
   "id": "08ec0ab3-1df8-42c5-a5dc-9cf54d24b1ab",
   "metadata": {},
   "outputs": [],
   "source": []
  }
 ],
 "metadata": {
  "kernelspec": {
   "display_name": "Python (uv)",
   "language": "python",
   "name": "uv"
  },
  "language_info": {
   "codemirror_mode": {
    "name": "ipython",
    "version": 3
   },
   "file_extension": ".py",
   "mimetype": "text/x-python",
   "name": "python",
   "nbconvert_exporter": "python",
   "pygments_lexer": "ipython3",
   "version": "3.11.7"
  }
 },
 "nbformat": 4,
 "nbformat_minor": 5
}
