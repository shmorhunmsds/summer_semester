{
 "cells": [
  {
   "cell_type": "code",
   "execution_count": 1,
   "id": "232dd375-4969-462e-947c-bde1fc8d9ad8",
   "metadata": {},
   "outputs": [],
   "source": [
    "import numpy as np\n",
    "import statsmodels.api as sm\n",
    "import matplotlib.pyplot as plt\n",
    "import pandas as pd\n",
    "from scipy.optimize import curve_fit"
   ]
  },
  {
   "cell_type": "code",
   "execution_count": 2,
   "id": "18d63bd4-afb4-48cd-8587-422fd0785919",
   "metadata": {},
   "outputs": [],
   "source": [
    "# Fixed Effects\n",
    "# Two-Way Fixed Effects\n",
    "# Absorbing the fixed effect\n",
    "# Binary control variables\n",
    "# Within vs. overall R-squared\n",
    "# Random effects\n",
    "# Nonlinear regression\n",
    "# Heteroskedasticity"
   ]
  },
  {
   "cell_type": "code",
   "execution_count": 3,
   "id": "3069b072-7c4c-465b-93a9-acb60c92649b",
   "metadata": {},
   "outputs": [],
   "source": [
    "num = 10000\n",
    "np.random.seed(0)\n",
    "beta_vector = np.array([0, 3, 6])\n",
    "beta_X = 1.5\n",
    "X = np.random.normal(0, 1, num)\n",
    "Group = np.random.randint(0, 3, num)"
   ]
  },
  {
   "cell_type": "code",
   "execution_count": 4,
   "id": "f6a34ee1-720c-4485-8663-7a3a364aa6e2",
   "metadata": {},
   "outputs": [],
   "source": [
    "Y = (pd.get_dummies(Group) * 1).dot(beta_vector) + beta_X * X + np.random.normal(0, 1, num)"
   ]
  },
  {
   "cell_type": "code",
   "execution_count": 5,
   "id": "f77dce3b-4b80-455f-901b-98b7789a847d",
   "metadata": {},
   "outputs": [
    {
     "data": {
      "text/plain": [
       "array([1, 1, 1, ..., 1, 0, 1])"
      ]
     },
     "execution_count": 5,
     "metadata": {},
     "output_type": "execute_result"
    }
   ],
   "source": [
    "(Group == 0) * 1"
   ]
  },
  {
   "cell_type": "code",
   "execution_count": 6,
   "id": "06d02806-9ef9-4381-b910-9a347caf064c",
   "metadata": {},
   "outputs": [],
   "source": [
    "df = pd.DataFrame({\"X\": X, \"Y\": Y, \"G0\": (Group == 0) * 1, \"G1\": (Group == 1) * 1, \"G2\": (Group == 2) * 1})"
   ]
  },
  {
   "cell_type": "code",
   "execution_count": 7,
   "id": "bbc919a7",
   "metadata": {},
   "outputs": [
    {
     "data": {
      "application/vnd.microsoft.datawrangler.viewer.v0+json": {
       "columns": [
        {
         "name": "index",
         "rawType": "int64",
         "type": "integer"
        },
        {
         "name": "X",
         "rawType": "float64",
         "type": "float"
        },
        {
         "name": "Y",
         "rawType": "float64",
         "type": "float"
        },
        {
         "name": "G0",
         "rawType": "int64",
         "type": "integer"
        },
        {
         "name": "G1",
         "rawType": "int64",
         "type": "integer"
        },
        {
         "name": "G2",
         "rawType": "int64",
         "type": "integer"
        }
       ],
       "ref": "199c6653-0cec-4a09-a16f-372b0b9c6c1e",
       "rows": [
        [
         "0",
         "1.764052345967664",
         "3.183621390409157",
         "1",
         "0",
         "0"
        ],
        [
         "1",
         "0.4001572083672233",
         "0.2528225122084641",
         "1",
         "0",
         "0"
        ],
        [
         "2",
         "0.9787379841057392",
         "1.67306154900145",
         "1",
         "0",
         "0"
        ],
        [
         "3",
         "2.240893199201458",
         "7.178767765271694",
         "0",
         "1",
         "0"
        ],
        [
         "4",
         "1.8675579901499675",
         "7.712212276750769",
         "0",
         "1",
         "0"
        ],
        [
         "5",
         "-0.977277879876411",
         "-2.702656297744957",
         "1",
         "0",
         "0"
        ],
        [
         "6",
         "0.9500884175255894",
         "1.6394564897616153",
         "0",
         "1",
         "0"
        ],
        [
         "7",
         "-0.1513572082976979",
         "7.826734895025256",
         "0",
         "0",
         "1"
        ],
        [
         "8",
         "-0.10321885179355784",
         "0.2080075561713877",
         "1",
         "0",
         "0"
        ],
        [
         "9",
         "0.41059850193837233",
         "8.127428216857963",
         "0",
         "0",
         "1"
        ],
        [
         "10",
         "0.144043571160878",
         "6.447427875455145",
         "0",
         "0",
         "1"
        ],
        [
         "11",
         "1.454273506962975",
         "8.101349300450098",
         "0",
         "0",
         "1"
        ],
        [
         "12",
         "0.7610377251469934",
         "0.983922876032465",
         "1",
         "0",
         "0"
        ],
        [
         "13",
         "0.12167501649282841",
         "-1.4486879497693401",
         "1",
         "0",
         "0"
        ],
        [
         "14",
         "0.44386323274542566",
         "1.3426930575007536",
         "1",
         "0",
         "0"
        ],
        [
         "15",
         "0.33367432737426683",
         "5.443098190176081",
         "0",
         "0",
         "1"
        ],
        [
         "16",
         "1.4940790731576061",
         "3.2036823759176922",
         "1",
         "0",
         "0"
        ],
        [
         "17",
         "-0.20515826376580087",
         "1.5052551263560372",
         "1",
         "0",
         "0"
        ],
        [
         "18",
         "0.31306770165090136",
         "7.061199266333806",
         "0",
         "0",
         "1"
        ],
        [
         "19",
         "-0.8540957393017248",
         "4.097478356897067",
         "0",
         "0",
         "1"
        ],
        [
         "20",
         "-2.5529898158340787",
         "-0.07429019395131631",
         "0",
         "1",
         "0"
        ],
        [
         "21",
         "0.6536185954403606",
         "5.76369901702623",
         "0",
         "0",
         "1"
        ],
        [
         "22",
         "0.8644361988595057",
         "3.6414409330268382",
         "0",
         "1",
         "0"
        ],
        [
         "23",
         "-0.7421650204064419",
         "0.856628051764613",
         "1",
         "0",
         "0"
        ],
        [
         "24",
         "2.2697546239876076",
         "5.980922579788607",
         "0",
         "1",
         "0"
        ],
        [
         "25",
         "-1.4543656745987648",
         "1.6758447174706421",
         "0",
         "0",
         "1"
        ],
        [
         "26",
         "0.04575851730144607",
         "3.019948765994273",
         "0",
         "1",
         "0"
        ],
        [
         "27",
         "-0.1871838500258336",
         "3.1761532661955116",
         "0",
         "1",
         "0"
        ],
        [
         "28",
         "1.5327792143584575",
         "7.737842619825749",
         "0",
         "0",
         "1"
        ],
        [
         "29",
         "1.469358769900285",
         "5.13403363950206",
         "0",
         "1",
         "0"
        ],
        [
         "30",
         "0.1549474256969163",
         "4.042869571653069",
         "1",
         "0",
         "0"
        ],
        [
         "31",
         "0.37816251960217356",
         "4.838527558465696",
         "0",
         "1",
         "0"
        ],
        [
         "32",
         "-0.8877857476301128",
         "-2.434739714366122",
         "1",
         "0",
         "0"
        ],
        [
         "33",
         "-1.980796468223927",
         "-2.6515665217404454",
         "1",
         "0",
         "0"
        ],
        [
         "34",
         "-0.3479121493261526",
         "3.2845379567736943",
         "0",
         "0",
         "1"
        ],
        [
         "35",
         "0.15634896910398005",
         "6.68385634115318",
         "0",
         "0",
         "1"
        ],
        [
         "36",
         "1.2302906807277207",
         "6.339071379047002",
         "0",
         "1",
         "0"
        ],
        [
         "37",
         "1.2023798487844113",
         "5.2413209161924",
         "0",
         "1",
         "0"
        ],
        [
         "38",
         "-0.3873268174079523",
         "5.531748861991485",
         "0",
         "0",
         "1"
        ],
        [
         "39",
         "-0.30230275057533557",
         "4.114733578505183",
         "0",
         "0",
         "1"
        ],
        [
         "40",
         "-1.0485529650670926",
         "2.136639664052464",
         "0",
         "1",
         "0"
        ],
        [
         "41",
         "-1.4200179371789752",
         "-3.194315651097953",
         "1",
         "0",
         "0"
        ],
        [
         "42",
         "-1.7062701906250126",
         "1.099016251950053",
         "0",
         "1",
         "0"
        ],
        [
         "43",
         "1.9507753952317897",
         "9.373051725551573",
         "0",
         "0",
         "1"
        ],
        [
         "44",
         "-0.5096521817516535",
         "6.04019626207951",
         "0",
         "0",
         "1"
        ],
        [
         "45",
         "-0.4380743016111864",
         "3.7612621029545226",
         "0",
         "0",
         "1"
        ],
        [
         "46",
         "-1.2527953600499262",
         "1.5098738634137459",
         "0",
         "1",
         "0"
        ],
        [
         "47",
         "0.7774903558319101",
         "2.1675331476438506",
         "1",
         "0",
         "0"
        ],
        [
         "48",
         "-1.6138978475579515",
         "0.2796209152134556",
         "0",
         "1",
         "0"
        ],
        [
         "49",
         "-0.2127402802139687",
         "6.614871716692007",
         "0",
         "0",
         "1"
        ]
       ],
       "shape": {
        "columns": 5,
        "rows": 10000
       }
      },
      "text/html": [
       "<div>\n",
       "<style scoped>\n",
       "    .dataframe tbody tr th:only-of-type {\n",
       "        vertical-align: middle;\n",
       "    }\n",
       "\n",
       "    .dataframe tbody tr th {\n",
       "        vertical-align: top;\n",
       "    }\n",
       "\n",
       "    .dataframe thead th {\n",
       "        text-align: right;\n",
       "    }\n",
       "</style>\n",
       "<table border=\"1\" class=\"dataframe\">\n",
       "  <thead>\n",
       "    <tr style=\"text-align: right;\">\n",
       "      <th></th>\n",
       "      <th>X</th>\n",
       "      <th>Y</th>\n",
       "      <th>G0</th>\n",
       "      <th>G1</th>\n",
       "      <th>G2</th>\n",
       "    </tr>\n",
       "  </thead>\n",
       "  <tbody>\n",
       "    <tr>\n",
       "      <th>0</th>\n",
       "      <td>1.764052</td>\n",
       "      <td>3.183621</td>\n",
       "      <td>1</td>\n",
       "      <td>0</td>\n",
       "      <td>0</td>\n",
       "    </tr>\n",
       "    <tr>\n",
       "      <th>1</th>\n",
       "      <td>0.400157</td>\n",
       "      <td>0.252823</td>\n",
       "      <td>1</td>\n",
       "      <td>0</td>\n",
       "      <td>0</td>\n",
       "    </tr>\n",
       "    <tr>\n",
       "      <th>2</th>\n",
       "      <td>0.978738</td>\n",
       "      <td>1.673062</td>\n",
       "      <td>1</td>\n",
       "      <td>0</td>\n",
       "      <td>0</td>\n",
       "    </tr>\n",
       "    <tr>\n",
       "      <th>3</th>\n",
       "      <td>2.240893</td>\n",
       "      <td>7.178768</td>\n",
       "      <td>0</td>\n",
       "      <td>1</td>\n",
       "      <td>0</td>\n",
       "    </tr>\n",
       "    <tr>\n",
       "      <th>4</th>\n",
       "      <td>1.867558</td>\n",
       "      <td>7.712212</td>\n",
       "      <td>0</td>\n",
       "      <td>1</td>\n",
       "      <td>0</td>\n",
       "    </tr>\n",
       "    <tr>\n",
       "      <th>...</th>\n",
       "      <td>...</td>\n",
       "      <td>...</td>\n",
       "      <td>...</td>\n",
       "      <td>...</td>\n",
       "      <td>...</td>\n",
       "    </tr>\n",
       "    <tr>\n",
       "      <th>9995</th>\n",
       "      <td>-1.809282</td>\n",
       "      <td>-0.353618</td>\n",
       "      <td>0</td>\n",
       "      <td>1</td>\n",
       "      <td>0</td>\n",
       "    </tr>\n",
       "    <tr>\n",
       "      <th>9996</th>\n",
       "      <td>0.042359</td>\n",
       "      <td>0.590776</td>\n",
       "      <td>1</td>\n",
       "      <td>0</td>\n",
       "      <td>0</td>\n",
       "    </tr>\n",
       "    <tr>\n",
       "      <th>9997</th>\n",
       "      <td>0.516872</td>\n",
       "      <td>1.909450</td>\n",
       "      <td>1</td>\n",
       "      <td>0</td>\n",
       "      <td>0</td>\n",
       "    </tr>\n",
       "    <tr>\n",
       "      <th>9998</th>\n",
       "      <td>-0.032921</td>\n",
       "      <td>3.731332</td>\n",
       "      <td>0</td>\n",
       "      <td>1</td>\n",
       "      <td>0</td>\n",
       "    </tr>\n",
       "    <tr>\n",
       "      <th>9999</th>\n",
       "      <td>1.298111</td>\n",
       "      <td>2.085801</td>\n",
       "      <td>1</td>\n",
       "      <td>0</td>\n",
       "      <td>0</td>\n",
       "    </tr>\n",
       "  </tbody>\n",
       "</table>\n",
       "<p>10000 rows × 5 columns</p>\n",
       "</div>"
      ],
      "text/plain": [
       "             X         Y  G0  G1  G2\n",
       "0     1.764052  3.183621   1   0   0\n",
       "1     0.400157  0.252823   1   0   0\n",
       "2     0.978738  1.673062   1   0   0\n",
       "3     2.240893  7.178768   0   1   0\n",
       "4     1.867558  7.712212   0   1   0\n",
       "...        ...       ...  ..  ..  ..\n",
       "9995 -1.809282 -0.353618   0   1   0\n",
       "9996  0.042359  0.590776   1   0   0\n",
       "9997  0.516872  1.909450   1   0   0\n",
       "9998 -0.032921  3.731332   0   1   0\n",
       "9999  1.298111  2.085801   1   0   0\n",
       "\n",
       "[10000 rows x 5 columns]"
      ]
     },
     "execution_count": 7,
     "metadata": {},
     "output_type": "execute_result"
    }
   ],
   "source": [
    "df"
   ]
  },
  {
   "cell_type": "code",
   "execution_count": 8,
   "id": "43094429-d377-4d9b-ae59-370c11e7733c",
   "metadata": {},
   "outputs": [
    {
     "data": {
      "application/vnd.microsoft.datawrangler.viewer.v0+json": {
       "columns": [
        {
         "name": "index",
         "rawType": "object",
         "type": "string"
        },
        {
         "name": "0",
         "rawType": "float64",
         "type": "float"
        }
       ],
       "ref": "db292f2a-9e3e-4ec9-bb3d-6f42861be3da",
       "rows": [
        [
         "const",
         "0.009217954352597441"
        ],
        [
         "X",
         "1.505584821468363"
        ],
        [
         "G1",
         "3.029237435968404"
        ],
        [
         "G2",
         "5.9958209846611155"
        ]
       ],
       "shape": {
        "columns": 1,
        "rows": 4
       }
      },
      "text/plain": [
       "const    0.009218\n",
       "X        1.505585\n",
       "G1       3.029237\n",
       "G2       5.995821\n",
       "dtype: float64"
      ]
     },
     "execution_count": 8,
     "metadata": {},
     "output_type": "execute_result"
    }
   ],
   "source": [
    "results = sm.OLS(Y, sm.add_constant(df.drop(columns = [\"Y\", \"G0\"]))).fit()\n",
    "results.params"
   ]
  },
  {
   "cell_type": "code",
   "execution_count": 9,
   "id": "e01ba5db-3de5-4a47-9e5a-a4ab8d4d177b",
   "metadata": {},
   "outputs": [],
   "source": [
    "num = 10000\n",
    "np.random.seed(0)\n",
    "beta_1 = 0\n",
    "beta_2 = 1\n",
    "beta_3 = 2\n",
    "beta = 1.5\n",
    "Group = np.random.randint(0, 3, num)\n",
    "X = np.random.normal(0, 1, num)\n",
    "Y = (Group == 0) * beta_1 + (Group == 1) * beta_2 + (Group == 2) * beta_3 + beta * X + np.random.normal(0, 1, num)\n",
    "df = pd.DataFrame({\"X\": X, \"Y\": Y, \"Group\": Group, \"G0\": (Group == 0) * 1, \"G1\": (Group == 1) * 1, \"G2\": (Group == 2) * 1})"
   ]
  },
  {
   "cell_type": "markdown",
   "id": "9b67696f-fbb2-4720-bf33-905bd8332fc7",
   "metadata": {},
   "source": [
    "# Binary control variables"
   ]
  },
  {
   "cell_type": "code",
   "execution_count": 10,
   "id": "e9304761-5aa4-4251-8c3e-375a09202515",
   "metadata": {},
   "outputs": [
    {
     "data": {
      "application/vnd.microsoft.datawrangler.viewer.v0+json": {
       "columns": [
        {
         "name": "index",
         "rawType": "object",
         "type": "string"
        },
        {
         "name": "0",
         "rawType": "float64",
         "type": "float"
        }
       ],
       "ref": "62b6f906-69c8-4388-8063-18ff0216cb98",
       "rows": [
        [
         "const",
         "0.7632635156840932"
        ],
        [
         "X",
         "1.51439500059698"
        ],
        [
         "G0",
         "-0.7354671826996066"
        ],
        [
         "G1",
         "0.25193759877315886"
        ],
        [
         "G2",
         "1.2467930996105432"
        ]
       ],
       "shape": {
        "columns": 1,
        "rows": 5
       }
      },
      "text/plain": [
       "const    0.763264\n",
       "X        1.514395\n",
       "G0      -0.735467\n",
       "G1       0.251938\n",
       "G2       1.246793\n",
       "dtype: float64"
      ]
     },
     "execution_count": 10,
     "metadata": {},
     "output_type": "execute_result"
    }
   ],
   "source": [
    "df = pd.DataFrame({\"X\": X, \"Y\": Y, \"G0\": (Group == 0) * 1, \"G1\": (Group == 1) * 1, \"G2\": (Group == 2) * 1})\n",
    "results = sm.OLS(Y, sm.add_constant(df.drop(columns = [\"Y\"]))).fit()\n",
    "results.params"
   ]
  },
  {
   "cell_type": "code",
   "execution_count": 11,
   "id": "143005ce-dcc0-432a-8faf-2a282c9d6346",
   "metadata": {},
   "outputs": [
    {
     "data": {
      "application/vnd.microsoft.datawrangler.viewer.v0+json": {
       "columns": [
        {
         "name": "index",
         "rawType": "object",
         "type": "string"
        },
        {
         "name": "0",
         "rawType": "float64",
         "type": "float"
        }
       ],
       "ref": "931fd764-51be-49a9-aefd-a2a172bc44cd",
       "rows": [
        [
         "const",
         "0.7632635156840932"
        ],
        [
         "X",
         "1.51439500059698"
        ],
        [
         "G0",
         "-0.7354671826996066"
        ],
        [
         "G1",
         "0.25193759877315886"
        ],
        [
         "G2",
         "1.2467930996105432"
        ]
       ],
       "shape": {
        "columns": 1,
        "rows": 5
       }
      },
      "text/plain": [
       "const    0.763264\n",
       "X        1.514395\n",
       "G0      -0.735467\n",
       "G1       0.251938\n",
       "G2       1.246793\n",
       "dtype: float64"
      ]
     },
     "execution_count": 11,
     "metadata": {},
     "output_type": "execute_result"
    }
   ],
   "source": [
    "df = pd.DataFrame({\"X\": X, \"Y\": Y, \"G0\": (Group == 0) * 1, \"G1\": (Group == 1) * 1, \"G2\": (Group == 2) * 1})\n",
    "results = sm.OLS(Y, sm.add_constant(df.drop(columns = [\"Y\"]))).fit()\n",
    "results.params"
   ]
  },
  {
   "cell_type": "code",
   "execution_count": 12,
   "id": "c0ef92b1-60b3-46eb-9292-c9e6b72483bd",
   "metadata": {},
   "outputs": [
    {
     "data": {
      "application/vnd.microsoft.datawrangler.viewer.v0+json": {
       "columns": [
        {
         "name": "index",
         "rawType": "object",
         "type": "string"
        },
        {
         "name": "0",
         "rawType": "float64",
         "type": "float"
        }
       ],
       "ref": "4afe1377-8372-4ede-94ca-2d9a41e0448e",
       "rows": [
        [
         "X",
         "1.5143950005969797"
        ],
        [
         "G0",
         "0.027796332984488345"
        ],
        [
         "G1",
         "1.0152011144572577"
        ],
        [
         "G2",
         "2.0100566152946278"
        ]
       ],
       "shape": {
        "columns": 1,
        "rows": 4
       }
      },
      "text/plain": [
       "X     1.514395\n",
       "G0    0.027796\n",
       "G1    1.015201\n",
       "G2    2.010057\n",
       "dtype: float64"
      ]
     },
     "execution_count": 12,
     "metadata": {},
     "output_type": "execute_result"
    }
   ],
   "source": [
    "df = pd.DataFrame({\"X\": X, \"Y\": Y, \"G0\": (Group == 0) * 1, \"G1\": (Group == 1) * 1, \"G2\": (Group == 2) * 1})\n",
    "results = sm.OLS(Y, df.drop(columns = [\"Y\"])).fit()\n",
    "results.params"
   ]
  },
  {
   "cell_type": "markdown",
   "id": "f802bc51-7f13-4958-9b47-e98e3e8c1bbb",
   "metadata": {},
   "source": [
    "# Absorbing the fixed effect"
   ]
  },
  {
   "cell_type": "code",
   "execution_count": 13,
   "id": "ebbdd8d1-5fcd-43b2-aa42-7eb9534726dc",
   "metadata": {},
   "outputs": [],
   "source": [
    "dfcopy = df.copy()\n",
    "dfcopy.X = df.X - df.G0 * df[df.G0 == 1].X.mean() - df.G1 * df[df.G1 == 1].X.mean() - df.G2 * df[df.G2 == 1].X.mean()\n",
    "dfcopy.Y = df.Y - df.G0 * df[df.G0 == 1].Y.mean() - df.G1 * df[df.G1 == 1].Y.mean() - df.G2 * df[df.G2 == 1].Y.mean()"
   ]
  },
  {
   "cell_type": "code",
   "execution_count": 14,
   "id": "08637c6f-736f-45e4-a46e-305529afae22",
   "metadata": {},
   "outputs": [],
   "source": [
    "dfG = pd.DataFrame({\"Y\": Y, \"X\": X, \"Group\": Group})\n",
    "dfcopy.Y = dfG.Y - dfG.groupby(\"Group\")[\"Y\"].transform(\"mean\")\n",
    "dfcopy.X = dfG.X - dfG.groupby(\"Group\")[\"X\"].transform(\"mean\")"
   ]
  },
  {
   "cell_type": "code",
   "execution_count": 15,
   "id": "f6c2e0f0-eb25-44f7-a87e-fd8beaba6fd6",
   "metadata": {},
   "outputs": [
    {
     "data": {
      "application/vnd.microsoft.datawrangler.viewer.v0+json": {
       "columns": [
        {
         "name": "index",
         "rawType": "object",
         "type": "string"
        },
        {
         "name": "0",
         "rawType": "float64",
         "type": "float"
        }
       ],
       "ref": "959c3c18-022f-4e01-bf2c-af277d88e430",
       "rows": [
        [
         "X",
         "1.5143950005969766"
        ]
       ],
       "shape": {
        "columns": 1,
        "rows": 1
       }
      },
      "text/plain": [
       "X    1.514395\n",
       "dtype: float64"
      ]
     },
     "execution_count": 15,
     "metadata": {},
     "output_type": "execute_result"
    }
   ],
   "source": [
    "results = sm.OLS(dfcopy.Y, dfcopy.X).fit()\n",
    "results.params"
   ]
  },
  {
   "cell_type": "code",
   "execution_count": 16,
   "id": "e2fc5350-989f-4994-ab9f-179f9b452a90",
   "metadata": {},
   "outputs": [
    {
     "data": {
      "application/vnd.microsoft.datawrangler.viewer.v0+json": {
       "columns": [
        {
         "name": "index",
         "rawType": "object",
         "type": "string"
        },
        {
         "name": "0",
         "rawType": "float64",
         "type": "float"
        }
       ],
       "ref": "345c010a-5699-41e4-9b2a-b31d836f9fd3",
       "rows": [
        [
         "X",
         "1.5143950005969766"
        ]
       ],
       "shape": {
        "columns": 1,
        "rows": 1
       }
      },
      "text/plain": [
       "X    1.514395\n",
       "dtype: float64"
      ]
     },
     "execution_count": 16,
     "metadata": {},
     "output_type": "execute_result"
    }
   ],
   "source": [
    "dfcopy = df.copy()\n",
    "dfcopy.X = df.X - df.G0 * df[df[\"G0\"] == 1].X.mean() - df.G1 * df[df[\"G1\"] == 1].X.mean() - df.G2 * df[df[\"G2\"] == 1].X.mean()\n",
    "dfcopy.Y = df.Y - df.G0 * df[df[\"G0\"] == 1].Y.mean() - df.G1 * df[df[\"G1\"] == 1].Y.mean() - df.G2 * df[df[\"G2\"] == 1].Y.mean()\n",
    "results = sm.OLS(dfcopy.Y, dfcopy[[\"X\"]]).fit()\n",
    "results.params"
   ]
  },
  {
   "cell_type": "code",
   "execution_count": 17,
   "id": "d1ba49af-4443-433c-ae74-8c8de17d488e",
   "metadata": {},
   "outputs": [
    {
     "data": {
      "application/vnd.microsoft.datawrangler.viewer.v0+json": {
       "columns": [
        {
         "name": "index",
         "rawType": "object",
         "type": "string"
        },
        {
         "name": "0",
         "rawType": "float64",
         "type": "float"
        }
       ],
       "ref": "18708bc2-350b-47c1-a9f1-d71240cf51ee",
       "rows": [
        [
         "X",
         "1.5143950005969766"
        ]
       ],
       "shape": {
        "columns": 1,
        "rows": 1
       }
      },
      "text/plain": [
       "X    1.514395\n",
       "dtype: float64"
      ]
     },
     "execution_count": 17,
     "metadata": {},
     "output_type": "execute_result"
    }
   ],
   "source": [
    "df = pd.DataFrame({\"X\": X, \"Y\": Y, \"Group\": Group})\n",
    "dfcopy = df.copy()\n",
    "\n",
    "dfcopy.X = dfcopy.X - dfcopy.groupby('Group')['X'].transform('mean')\n",
    "dfcopy.Y = dfcopy.Y - dfcopy.groupby('Group')['Y'].transform('mean')\n",
    "results = sm.OLS(dfcopy.Y, dfcopy[[\"X\"]]).fit()\n",
    "results.params"
   ]
  },
  {
   "cell_type": "code",
   "execution_count": 18,
   "id": "02e66899-8888-4959-a88f-446cf239fbc3",
   "metadata": {},
   "outputs": [
    {
     "data": {
      "application/vnd.microsoft.datawrangler.viewer.v0+json": {
       "columns": [
        {
         "name": "index",
         "rawType": "int64",
         "type": "integer"
        },
        {
         "name": "X",
         "rawType": "float64",
         "type": "float"
        }
       ],
       "ref": "cd29a22f-aabe-448e-abfd-c06ea26a73a0",
       "rows": [
        [
         "0",
         "3.0"
        ],
        [
         "1",
         "4.0"
        ],
        [
         "2",
         "3.0"
        ],
        [
         "3",
         "4.0"
        ],
        [
         "4",
         "3.0"
        ],
        [
         "5",
         "4.0"
        ]
       ],
       "shape": {
        "columns": 1,
        "rows": 6
       }
      },
      "text/html": [
       "<div>\n",
       "<style scoped>\n",
       "    .dataframe tbody tr th:only-of-type {\n",
       "        vertical-align: middle;\n",
       "    }\n",
       "\n",
       "    .dataframe tbody tr th {\n",
       "        vertical-align: top;\n",
       "    }\n",
       "\n",
       "    .dataframe thead th {\n",
       "        text-align: right;\n",
       "    }\n",
       "</style>\n",
       "<table border=\"1\" class=\"dataframe\">\n",
       "  <thead>\n",
       "    <tr style=\"text-align: right;\">\n",
       "      <th></th>\n",
       "      <th>X</th>\n",
       "    </tr>\n",
       "  </thead>\n",
       "  <tbody>\n",
       "    <tr>\n",
       "      <th>0</th>\n",
       "      <td>3.0</td>\n",
       "    </tr>\n",
       "    <tr>\n",
       "      <th>1</th>\n",
       "      <td>4.0</td>\n",
       "    </tr>\n",
       "    <tr>\n",
       "      <th>2</th>\n",
       "      <td>3.0</td>\n",
       "    </tr>\n",
       "    <tr>\n",
       "      <th>3</th>\n",
       "      <td>4.0</td>\n",
       "    </tr>\n",
       "    <tr>\n",
       "      <th>4</th>\n",
       "      <td>3.0</td>\n",
       "    </tr>\n",
       "    <tr>\n",
       "      <th>5</th>\n",
       "      <td>4.0</td>\n",
       "    </tr>\n",
       "  </tbody>\n",
       "</table>\n",
       "</div>"
      ],
      "text/plain": [
       "     X\n",
       "0  3.0\n",
       "1  4.0\n",
       "2  3.0\n",
       "3  4.0\n",
       "4  3.0\n",
       "5  4.0"
      ]
     },
     "execution_count": 18,
     "metadata": {},
     "output_type": "execute_result"
    }
   ],
   "source": [
    "pd.DataFrame({\"Group\": [1, 2, 1, 2, 1, 2], \"X\": [1, 2, 3, 4, 5, 6]}).groupby(\"Group\").transform(\"mean\")"
   ]
  },
  {
   "cell_type": "markdown",
   "id": "35fce3f3-9864-4ea0-a99f-7cbeca1cbc2a",
   "metadata": {},
   "source": [
    "# Nonlinear regression"
   ]
  },
  {
   "cell_type": "code",
   "execution_count": 26,
   "id": "cdda821d-b99b-40bf-b5cf-d72dedaeb6fb",
   "metadata": {},
   "outputs": [
    {
     "ename": "TypeError",
     "evalue": "param_function() missing 1 required positional argument: 'c'",
     "output_type": "error",
     "traceback": [
      "\u001b[0;31m---------------------------------------------------------------------------\u001b[0m",
      "\u001b[0;31mTypeError\u001b[0m                                 Traceback (most recent call last)",
      "Cell \u001b[0;32mIn[26], line 10\u001b[0m\n\u001b[1;32m      8\u001b[0m X \u001b[38;5;241m=\u001b[39m np\u001b[38;5;241m.\u001b[39mrandom\u001b[38;5;241m.\u001b[39mnormal(\u001b[38;5;241m0\u001b[39m, \u001b[38;5;241m1\u001b[39m, num)\n\u001b[1;32m      9\u001b[0m \u001b[38;5;66;03m#Y = np.array([param_function(x, a_true, b_true) + np.random.normal(0, 1) for x in X])\u001b[39;00m\n\u001b[0;32m---> 10\u001b[0m Y \u001b[38;5;241m=\u001b[39m np\u001b[38;5;241m.\u001b[39mvectorize(\u001b[38;5;28;01mlambda\u001b[39;00m x: param_function(x, a_true, b_true))(X) \u001b[38;5;241m+\u001b[39m np\u001b[38;5;241m.\u001b[39mrandom\u001b[38;5;241m.\u001b[39mnormal(\u001b[38;5;241m0\u001b[39m, \u001b[38;5;241m1\u001b[39m, num)\n",
      "File \u001b[0;32m/opt/anaconda3/lib/python3.11/site-packages/numpy/lib/function_base.py:2372\u001b[0m, in \u001b[0;36mvectorize.__call__\u001b[0;34m(self, *args, **kwargs)\u001b[0m\n\u001b[1;32m   2369\u001b[0m     \u001b[38;5;28mself\u001b[39m\u001b[38;5;241m.\u001b[39m_init_stage_2(\u001b[38;5;241m*\u001b[39margs, \u001b[38;5;241m*\u001b[39m\u001b[38;5;241m*\u001b[39mkwargs)\n\u001b[1;32m   2370\u001b[0m     \u001b[38;5;28;01mreturn\u001b[39;00m \u001b[38;5;28mself\u001b[39m\n\u001b[0;32m-> 2372\u001b[0m \u001b[38;5;28;01mreturn\u001b[39;00m \u001b[38;5;28mself\u001b[39m\u001b[38;5;241m.\u001b[39m_call_as_normal(\u001b[38;5;241m*\u001b[39margs, \u001b[38;5;241m*\u001b[39m\u001b[38;5;241m*\u001b[39mkwargs)\n",
      "File \u001b[0;32m/opt/anaconda3/lib/python3.11/site-packages/numpy/lib/function_base.py:2365\u001b[0m, in \u001b[0;36mvectorize._call_as_normal\u001b[0;34m(self, *args, **kwargs)\u001b[0m\n\u001b[1;32m   2362\u001b[0m     vargs \u001b[38;5;241m=\u001b[39m [args[_i] \u001b[38;5;28;01mfor\u001b[39;00m _i \u001b[38;5;129;01min\u001b[39;00m inds]\n\u001b[1;32m   2363\u001b[0m     vargs\u001b[38;5;241m.\u001b[39mextend([kwargs[_n] \u001b[38;5;28;01mfor\u001b[39;00m _n \u001b[38;5;129;01min\u001b[39;00m names])\n\u001b[0;32m-> 2365\u001b[0m \u001b[38;5;28;01mreturn\u001b[39;00m \u001b[38;5;28mself\u001b[39m\u001b[38;5;241m.\u001b[39m_vectorize_call(func\u001b[38;5;241m=\u001b[39mfunc, args\u001b[38;5;241m=\u001b[39mvargs)\n",
      "File \u001b[0;32m/opt/anaconda3/lib/python3.11/site-packages/numpy/lib/function_base.py:2450\u001b[0m, in \u001b[0;36mvectorize._vectorize_call\u001b[0;34m(self, func, args)\u001b[0m\n\u001b[1;32m   2448\u001b[0m     res \u001b[38;5;241m=\u001b[39m func()\n\u001b[1;32m   2449\u001b[0m \u001b[38;5;28;01melse\u001b[39;00m:\n\u001b[0;32m-> 2450\u001b[0m     ufunc, otypes \u001b[38;5;241m=\u001b[39m \u001b[38;5;28mself\u001b[39m\u001b[38;5;241m.\u001b[39m_get_ufunc_and_otypes(func\u001b[38;5;241m=\u001b[39mfunc, args\u001b[38;5;241m=\u001b[39margs)\n\u001b[1;32m   2452\u001b[0m     \u001b[38;5;66;03m# Convert args to object arrays first\u001b[39;00m\n\u001b[1;32m   2453\u001b[0m     inputs \u001b[38;5;241m=\u001b[39m [asanyarray(a, dtype\u001b[38;5;241m=\u001b[39m\u001b[38;5;28mobject\u001b[39m) \u001b[38;5;28;01mfor\u001b[39;00m a \u001b[38;5;129;01min\u001b[39;00m args]\n",
      "File \u001b[0;32m/opt/anaconda3/lib/python3.11/site-packages/numpy/lib/function_base.py:2410\u001b[0m, in \u001b[0;36mvectorize._get_ufunc_and_otypes\u001b[0;34m(self, func, args)\u001b[0m\n\u001b[1;32m   2406\u001b[0m     \u001b[38;5;28;01mraise\u001b[39;00m \u001b[38;5;167;01mValueError\u001b[39;00m(\u001b[38;5;124m'\u001b[39m\u001b[38;5;124mcannot call `vectorize` on size 0 inputs \u001b[39m\u001b[38;5;124m'\u001b[39m\n\u001b[1;32m   2407\u001b[0m                      \u001b[38;5;124m'\u001b[39m\u001b[38;5;124munless `otypes` is set\u001b[39m\u001b[38;5;124m'\u001b[39m)\n\u001b[1;32m   2409\u001b[0m inputs \u001b[38;5;241m=\u001b[39m [arg\u001b[38;5;241m.\u001b[39mflat[\u001b[38;5;241m0\u001b[39m] \u001b[38;5;28;01mfor\u001b[39;00m arg \u001b[38;5;129;01min\u001b[39;00m args]\n\u001b[0;32m-> 2410\u001b[0m outputs \u001b[38;5;241m=\u001b[39m func(\u001b[38;5;241m*\u001b[39minputs)\n\u001b[1;32m   2412\u001b[0m \u001b[38;5;66;03m# Performance note: profiling indicates that -- for simple\u001b[39;00m\n\u001b[1;32m   2413\u001b[0m \u001b[38;5;66;03m# functions at least -- this wrapping can almost double the\u001b[39;00m\n\u001b[1;32m   2414\u001b[0m \u001b[38;5;66;03m# execution time.\u001b[39;00m\n\u001b[1;32m   2415\u001b[0m \u001b[38;5;66;03m# Hence we make it optional.\u001b[39;00m\n\u001b[1;32m   2416\u001b[0m \u001b[38;5;28;01mif\u001b[39;00m \u001b[38;5;28mself\u001b[39m\u001b[38;5;241m.\u001b[39mcache:\n",
      "Cell \u001b[0;32mIn[26], line 10\u001b[0m, in \u001b[0;36m<lambda>\u001b[0;34m(x)\u001b[0m\n\u001b[1;32m      8\u001b[0m X \u001b[38;5;241m=\u001b[39m np\u001b[38;5;241m.\u001b[39mrandom\u001b[38;5;241m.\u001b[39mnormal(\u001b[38;5;241m0\u001b[39m, \u001b[38;5;241m1\u001b[39m, num)\n\u001b[1;32m      9\u001b[0m \u001b[38;5;66;03m#Y = np.array([param_function(x, a_true, b_true) + np.random.normal(0, 1) for x in X])\u001b[39;00m\n\u001b[0;32m---> 10\u001b[0m Y \u001b[38;5;241m=\u001b[39m np\u001b[38;5;241m.\u001b[39mvectorize(\u001b[38;5;28;01mlambda\u001b[39;00m x: param_function(x, a_true, b_true))(X) \u001b[38;5;241m+\u001b[39m np\u001b[38;5;241m.\u001b[39mrandom\u001b[38;5;241m.\u001b[39mnormal(\u001b[38;5;241m0\u001b[39m, \u001b[38;5;241m1\u001b[39m, num)\n",
      "\u001b[0;31mTypeError\u001b[0m: param_function() missing 1 required positional argument: 'c'"
     ]
    }
   ],
   "source": [
    "def param_function(x, a, b, c):\n",
    "    arg = c + np.log(a + x * b)\n",
    "    return np.log(np.maximum(arg, 0.001))\n",
    "\n",
    "a_true = 1\n",
    "b_true = 1.5\n",
    "\n",
    "X = np.random.normal(0, 1, num)\n",
    "#Y = np.array([param_function(x, a_true, b_true) + np.random.normal(0, 1) for x in X])\n",
    "Y = np.vectorize(lambda x: param_function(x, a_true, b_true))(X) + np.random.normal(0, 1, num)"
   ]
  },
  {
   "cell_type": "code",
   "execution_count": 21,
   "id": "6ee3f88d-9a12-4a8d-9179-8b2b253a7529",
   "metadata": {},
   "outputs": [
    {
     "ename": "TypeError",
     "evalue": "param_function() missing 1 required positional argument: 'c'",
     "output_type": "error",
     "traceback": [
      "\u001b[0;31m---------------------------------------------------------------------------\u001b[0m",
      "\u001b[0;31mTypeError\u001b[0m                                 Traceback (most recent call last)",
      "Cell \u001b[0;32mIn[21], line 1\u001b[0m\n\u001b[0;32m----> 1\u001b[0m params_opt, params_cov \u001b[38;5;241m=\u001b[39m curve_fit(param_function, X, Y, p0 \u001b[38;5;241m=\u001b[39m [\u001b[38;5;241m1\u001b[39m, \u001b[38;5;241m1\u001b[39m])\n\u001b[1;32m      2\u001b[0m params_opt, params_cov\n",
      "File \u001b[0;32m/opt/anaconda3/lib/python3.11/site-packages/scipy/optimize/_minpack_py.py:1007\u001b[0m, in \u001b[0;36mcurve_fit\u001b[0;34m(f, xdata, ydata, p0, sigma, absolute_sigma, check_finite, bounds, method, jac, full_output, nan_policy, **kwargs)\u001b[0m\n\u001b[1;32m   1004\u001b[0m \u001b[38;5;28;01mif\u001b[39;00m ydata\u001b[38;5;241m.\u001b[39msize \u001b[38;5;241m!=\u001b[39m \u001b[38;5;241m1\u001b[39m \u001b[38;5;129;01mand\u001b[39;00m n \u001b[38;5;241m>\u001b[39m ydata\u001b[38;5;241m.\u001b[39msize:\n\u001b[1;32m   1005\u001b[0m     \u001b[38;5;28;01mraise\u001b[39;00m \u001b[38;5;167;01mTypeError\u001b[39;00m(\u001b[38;5;124mf\u001b[39m\u001b[38;5;124m\"\u001b[39m\u001b[38;5;124mThe number of func parameters=\u001b[39m\u001b[38;5;132;01m{\u001b[39;00mn\u001b[38;5;132;01m}\u001b[39;00m\u001b[38;5;124m must not\u001b[39m\u001b[38;5;124m\"\u001b[39m\n\u001b[1;32m   1006\u001b[0m                     \u001b[38;5;124mf\u001b[39m\u001b[38;5;124m\"\u001b[39m\u001b[38;5;124m exceed the number of data points=\u001b[39m\u001b[38;5;132;01m{\u001b[39;00mydata\u001b[38;5;241m.\u001b[39msize\u001b[38;5;132;01m}\u001b[39;00m\u001b[38;5;124m\"\u001b[39m)\n\u001b[0;32m-> 1007\u001b[0m res \u001b[38;5;241m=\u001b[39m leastsq(func, p0, Dfun\u001b[38;5;241m=\u001b[39mjac, full_output\u001b[38;5;241m=\u001b[39m\u001b[38;5;241m1\u001b[39m, \u001b[38;5;241m*\u001b[39m\u001b[38;5;241m*\u001b[39mkwargs)\n\u001b[1;32m   1008\u001b[0m popt, pcov, infodict, errmsg, ier \u001b[38;5;241m=\u001b[39m res\n\u001b[1;32m   1009\u001b[0m ysize \u001b[38;5;241m=\u001b[39m \u001b[38;5;28mlen\u001b[39m(infodict[\u001b[38;5;124m'\u001b[39m\u001b[38;5;124mfvec\u001b[39m\u001b[38;5;124m'\u001b[39m])\n",
      "File \u001b[0;32m/opt/anaconda3/lib/python3.11/site-packages/scipy/optimize/_minpack_py.py:426\u001b[0m, in \u001b[0;36mleastsq\u001b[0;34m(func, x0, args, Dfun, full_output, col_deriv, ftol, xtol, gtol, maxfev, epsfcn, factor, diag)\u001b[0m\n\u001b[1;32m    424\u001b[0m \u001b[38;5;28;01mif\u001b[39;00m \u001b[38;5;129;01mnot\u001b[39;00m \u001b[38;5;28misinstance\u001b[39m(args, \u001b[38;5;28mtuple\u001b[39m):\n\u001b[1;32m    425\u001b[0m     args \u001b[38;5;241m=\u001b[39m (args,)\n\u001b[0;32m--> 426\u001b[0m shape, dtype \u001b[38;5;241m=\u001b[39m _check_func(\u001b[38;5;124m'\u001b[39m\u001b[38;5;124mleastsq\u001b[39m\u001b[38;5;124m'\u001b[39m, \u001b[38;5;124m'\u001b[39m\u001b[38;5;124mfunc\u001b[39m\u001b[38;5;124m'\u001b[39m, func, x0, args, n)\n\u001b[1;32m    427\u001b[0m m \u001b[38;5;241m=\u001b[39m shape[\u001b[38;5;241m0\u001b[39m]\n\u001b[1;32m    429\u001b[0m \u001b[38;5;28;01mif\u001b[39;00m n \u001b[38;5;241m>\u001b[39m m:\n",
      "File \u001b[0;32m/opt/anaconda3/lib/python3.11/site-packages/scipy/optimize/_minpack_py.py:23\u001b[0m, in \u001b[0;36m_check_func\u001b[0;34m(checker, argname, thefunc, x0, args, numinputs, output_shape)\u001b[0m\n\u001b[1;32m     21\u001b[0m \u001b[38;5;28;01mdef\u001b[39;00m \u001b[38;5;21m_check_func\u001b[39m(checker, argname, thefunc, x0, args, numinputs,\n\u001b[1;32m     22\u001b[0m                 output_shape\u001b[38;5;241m=\u001b[39m\u001b[38;5;28;01mNone\u001b[39;00m):\n\u001b[0;32m---> 23\u001b[0m     res \u001b[38;5;241m=\u001b[39m atleast_1d(thefunc(\u001b[38;5;241m*\u001b[39m((x0[:numinputs],) \u001b[38;5;241m+\u001b[39m args)))\n\u001b[1;32m     24\u001b[0m     \u001b[38;5;28;01mif\u001b[39;00m (output_shape \u001b[38;5;129;01mis\u001b[39;00m \u001b[38;5;129;01mnot\u001b[39;00m \u001b[38;5;28;01mNone\u001b[39;00m) \u001b[38;5;129;01mand\u001b[39;00m (shape(res) \u001b[38;5;241m!=\u001b[39m output_shape):\n\u001b[1;32m     25\u001b[0m         \u001b[38;5;28;01mif\u001b[39;00m (output_shape[\u001b[38;5;241m0\u001b[39m] \u001b[38;5;241m!=\u001b[39m \u001b[38;5;241m1\u001b[39m):\n",
      "File \u001b[0;32m/opt/anaconda3/lib/python3.11/site-packages/scipy/optimize/_minpack_py.py:524\u001b[0m, in \u001b[0;36m_lightweight_memoizer.<locals>._memoized_func\u001b[0;34m(params)\u001b[0m\n\u001b[1;32m    521\u001b[0m \u001b[38;5;28;01melif\u001b[39;00m _memoized_func\u001b[38;5;241m.\u001b[39mlast_params \u001b[38;5;129;01mis\u001b[39;00m \u001b[38;5;129;01mnot\u001b[39;00m \u001b[38;5;28;01mNone\u001b[39;00m:\n\u001b[1;32m    522\u001b[0m     _memoized_func\u001b[38;5;241m.\u001b[39mskip_lookup \u001b[38;5;241m=\u001b[39m \u001b[38;5;28;01mTrue\u001b[39;00m\n\u001b[0;32m--> 524\u001b[0m val \u001b[38;5;241m=\u001b[39m f(params)\n\u001b[1;32m    526\u001b[0m \u001b[38;5;28;01mif\u001b[39;00m _memoized_func\u001b[38;5;241m.\u001b[39mlast_params \u001b[38;5;129;01mis\u001b[39;00m \u001b[38;5;28;01mNone\u001b[39;00m:\n\u001b[1;32m    527\u001b[0m     _memoized_func\u001b[38;5;241m.\u001b[39mlast_params \u001b[38;5;241m=\u001b[39m np\u001b[38;5;241m.\u001b[39mcopy(params)\n",
      "File \u001b[0;32m/opt/anaconda3/lib/python3.11/site-packages/scipy/optimize/_minpack_py.py:541\u001b[0m, in \u001b[0;36m_wrap_func.<locals>.func_wrapped\u001b[0;34m(params)\u001b[0m\n\u001b[1;32m    540\u001b[0m \u001b[38;5;28;01mdef\u001b[39;00m \u001b[38;5;21mfunc_wrapped\u001b[39m(params):\n\u001b[0;32m--> 541\u001b[0m     \u001b[38;5;28;01mreturn\u001b[39;00m func(xdata, \u001b[38;5;241m*\u001b[39mparams) \u001b[38;5;241m-\u001b[39m ydata\n",
      "\u001b[0;31mTypeError\u001b[0m: param_function() missing 1 required positional argument: 'c'"
     ]
    }
   ],
   "source": [
    "params_opt, params_cov = curve_fit(param_function, X, Y, p0 = [1, 1])\n",
    "params_opt, params_cov"
   ]
  },
  {
   "cell_type": "code",
   "execution_count": 22,
   "id": "a4e65066-9553-42ca-acc4-1ea56a341315",
   "metadata": {},
   "outputs": [],
   "source": [
    "num = 100000\n",
    "def model_func(x, a, b, c):\n",
    "    return a + np.exp(b * x + c)\n",
    "\n",
    "a_true, b_true, c_true = 1, 2, 3\n",
    "\n",
    "X = np.maximum(np.random.normal(2, 1, num), 0)\n",
    "Y = np.vectorize(lambda x: model_func(x, a_true, b_true, c_true))(X) + np.random.normal(0, 1, num)"
   ]
  },
  {
   "cell_type": "code",
   "execution_count": 23,
   "id": "6c85616f-33b0-4e9f-bbc0-4eef45d37a29",
   "metadata": {},
   "outputs": [
    {
     "name": "stderr",
     "output_type": "stream",
     "text": [
      "/var/folders/4k/nl2zz_ln4d55dcscl_vvjglh0000gn/T/ipykernel_75237/3136069436.py:3: RuntimeWarning: overflow encountered in exp\n",
      "  return a + np.exp(b * x + c)\n"
     ]
    }
   ],
   "source": [
    "params_opt, params_cov = curve_fit(model_func, X, Y, p0 = [1, 1, 1])"
   ]
  },
  {
   "cell_type": "code",
   "execution_count": 24,
   "id": "781dd366-e890-44bc-bda1-cfd2dc91cd68",
   "metadata": {},
   "outputs": [
    {
     "data": {
      "text/plain": [
       "array([1.00371415, 2.00000013, 2.99999921])"
      ]
     },
     "execution_count": 24,
     "metadata": {},
     "output_type": "execute_result"
    }
   ],
   "source": [
    "params_opt"
   ]
  },
  {
   "cell_type": "markdown",
   "id": "689cdfe7-0cf0-42c0-a09a-44a7157a829e",
   "metadata": {},
   "source": [
    "### Monte Carlo simulation"
   ]
  },
  {
   "cell_type": "code",
   "execution_count": 25,
   "id": "141398cc-1415-44be-8a57-d0c9dc646cf9",
   "metadata": {},
   "outputs": [
    {
     "name": "stderr",
     "output_type": "stream",
     "text": [
      "/var/folders/4k/nl2zz_ln4d55dcscl_vvjglh0000gn/T/ipykernel_75237/2795830867.py:2: RuntimeWarning: overflow encountered in exp\n",
      "  return a + np.exp(b * x + c)\n"
     ]
    },
    {
     "name": "stdout",
     "output_type": "stream",
     "text": [
      "[1.0052876  2.00000031 2.99999868]\n",
      "[[ 1.21078085e-04  1.69118318e-09 -9.46611086e-09]\n",
      " [ 1.69118318e-09  1.52442557e-13 -8.18296326e-13]\n",
      " [-9.46611086e-09 -8.18296326e-13  4.44163033e-12]]\n",
      "0.00016128368897025638 2.422961274620423e-13 6.551989085886733e-12\n"
     ]
    }
   ],
   "source": [
    "def model_func(x, a, b, c):\n",
    "    return a + np.exp(b * x + c)\n",
    "\n",
    "def simulate(model_func):\n",
    "    a_true, b_true, c_true = 1, 2, 3\n",
    "    a_list = list()\n",
    "    b_list = list()\n",
    "    c_list = list()\n",
    "    for _ in range(100):\n",
    "        num = 10000\n",
    "        X = np.maximum(np.random.normal(2, 1, num), 0)\n",
    "        Y = np.vectorize(lambda x: model_func(x, a_true, b_true, c_true))(X) + np.random.normal(0, 1, num)\n",
    "        params_opt, params_cov = curve_fit(model_func, X, Y, p0 = [1, 1, 1])\n",
    "        a_list.append(params_opt[0])\n",
    "        b_list.append(params_opt[1])\n",
    "        c_list.append(params_opt[2])\n",
    "\n",
    "    print(params_opt)\n",
    "    print(params_cov)\n",
    "    print(np.var(a_list), np.var(b_list), np.var(c_list))\n",
    "\n",
    "simulate(model_func)"
   ]
  },
  {
   "cell_type": "code",
   "execution_count": null,
   "id": "2cd30dd8-ca5f-4882-85da-b212bf0339fb",
   "metadata": {
    "scrolled": true
   },
   "outputs": [
    {
     "name": "stderr",
     "output_type": "stream",
     "text": [
      "/var/folders/gf/qd_8fqss2t55m22vdfqdc47m0000gp/T/ipykernel_30428/2579355550.py:2: RuntimeWarning: invalid value encountered in log\n",
      "  return a + np.log(b * x + c)\n"
     ]
    },
    {
     "name": "stdout",
     "output_type": "stream",
     "text": [
      "[0.47744229 3.45705348 4.97121468]\n",
      "[[ 1.61877677e+11 -5.59619795e+11 -8.04728698e+11]\n",
      " [-5.59619795e+11  1.93463559e+12  2.78199019e+12]\n",
      " [-8.04728698e+11  2.78199019e+12  4.00047919e+12]]\n",
      "0.8777954893059148 2.0442315505729307 4.645754607515031\n"
     ]
    }
   ],
   "source": [
    "def model_func(x, a, b, c):\n",
    "    return a + np.log(b * x + c)\n",
    "\n",
    "simulate(model_func)"
   ]
  },
  {
   "cell_type": "code",
   "execution_count": null,
   "id": "f694f5be-6f25-48d3-9d63-43c0e8f3a3db",
   "metadata": {},
   "outputs": [
    {
     "name": "stdout",
     "output_type": "stream",
     "text": [
      "[0.99326612 2.00434641 2.99907042]\n",
      "[[ 1.16543008e-03 -1.03595273e-03  2.02332633e-04]\n",
      " [-1.03595273e-03  1.15180737e-03 -2.55547967e-04]\n",
      " [ 2.02332633e-04 -2.55547967e-04  6.23168160e-05]]\n",
      "0.0010972531720038418 0.0010548536265642596 5.7700494780211946e-05\n"
     ]
    }
   ],
   "source": [
    "def model_func(x, a, b, c):\n",
    "    return a + b * x + c * x**2\n",
    "\n",
    "simulate(model_func)"
   ]
  },
  {
   "cell_type": "markdown",
   "id": "96987b5c-1a71-4db0-a664-3b9a4d79326d",
   "metadata": {},
   "source": [
    "### Bootstrap simulation"
   ]
  },
  {
   "cell_type": "code",
   "execution_count": null,
   "id": "3f2c2d5e-30e5-47d8-993a-8be3ba0c0330",
   "metadata": {},
   "outputs": [],
   "source": [
    "indices = np.random.choice(len(X), size = num, replace = True)\n",
    "X_samp = X[indices]\n",
    "Y_samp = Y[indices]"
   ]
  },
  {
   "cell_type": "code",
   "execution_count": null,
   "id": "db9a46d4-8e53-4ccd-9afa-cb6c6de66949",
   "metadata": {},
   "outputs": [],
   "source": [
    "def model_func(x, a, b, c):\n",
    "    return a + np.exp(b * x + c)\n",
    "\n",
    "def bootstrap_simulate(model_func):\n",
    "    num = 10000\n",
    "    X = np.maximum(np.random.normal(2, 1, num), 0)\n",
    "    Y = np.vectorize(lambda x: model_func(x, a_true, b_true, c_true))(X) + np.random.normal(0, 1, num)\n",
    "\n",
    "    a_list = list()\n",
    "    b_list = list()\n",
    "    c_list = list()\n",
    "    \n",
    "    for _ in range(100):\n",
    "        indices = np.random.choice(len(X), size = num, replace = True)\n",
    "        X_samp = X[indices]\n",
    "        Y_samp = Y[indices]\n",
    "        params_opt, params_cov = curve_fit(model_func, X_samp, Y_samp, p0 = [1, 1, 1])\n",
    "        a_list.append(params_opt[0])\n",
    "        b_list.append(params_opt[1])\n",
    "        c_list.append(params_opt[2])\n",
    "    \n",
    "    print(np.std(a_list), np.std(b_list), np.std(c_list))\n",
    "    print(np.mean(a_list), np.mean(b_list), np.mean(c_list))"
   ]
  },
  {
   "cell_type": "code",
   "execution_count": null,
   "id": "16cab4d7-3100-4130-857f-f30de20e519f",
   "metadata": {},
   "outputs": [
    {
     "name": "stderr",
     "output_type": "stream",
     "text": [
      "/var/folders/gf/qd_8fqss2t55m22vdfqdc47m0000gp/T/ipykernel_12049/2945348717.py:2: RuntimeWarning: overflow encountered in exp\n",
      "  return a + np.exp(b * x + c)\n"
     ]
    },
    {
     "name": "stdout",
     "output_type": "stream",
     "text": [
      "0.012271419395739629 3.3912396865795796e-07 1.8470766042283678e-06\n",
      "0.9943112732224941 2.000000260282352 2.9999983721816608\n"
     ]
    }
   ],
   "source": [
    "bootstrap_simulate(model_func)"
   ]
  },
  {
   "cell_type": "code",
   "execution_count": null,
   "id": "83c897a6-734f-4463-8fa7-80abf0ac1123",
   "metadata": {},
   "outputs": [
    {
     "name": "stderr",
     "output_type": "stream",
     "text": [
      "/var/folders/gf/qd_8fqss2t55m22vdfqdc47m0000gp/T/ipykernel_12049/3663726754.py:2: RuntimeWarning: invalid value encountered in log\n",
      "  return a + np.log(b * x + c)\n"
     ]
    },
    {
     "name": "stdout",
     "output_type": "stream",
     "text": [
      "1.0021717538062915 1.681747441892209 2.326881376415673\n",
      "1.6854258769773427 1.6983602243888085 2.365529012298777\n"
     ]
    }
   ],
   "source": [
    "def model_func(x, a, b, c):\n",
    "    return a + np.log(b * x + c)\n",
    "\n",
    "bootstrap_simulate(model_func)"
   ]
  },
  {
   "cell_type": "code",
   "execution_count": null,
   "id": "7ed7750e-34c0-4657-ba88-b45c51804d88",
   "metadata": {},
   "outputs": [],
   "source": [
    "num = 10000\n",
    "Group1 = np.random.randint(0, 3, num)\n",
    "Group2 = np.random.randint(0, 3, num)\n"
   ]
  }
 ],
 "metadata": {
  "kernelspec": {
   "display_name": "Python (uv)",
   "language": "python",
   "name": "uv"
  },
  "language_info": {
   "codemirror_mode": {
    "name": "ipython",
    "version": 3
   },
   "file_extension": ".py",
   "mimetype": "text/x-python",
   "name": "python",
   "nbconvert_exporter": "python",
   "pygments_lexer": "ipython3",
   "version": "3.11.7"
  }
 },
 "nbformat": 4,
 "nbformat_minor": 5
}
