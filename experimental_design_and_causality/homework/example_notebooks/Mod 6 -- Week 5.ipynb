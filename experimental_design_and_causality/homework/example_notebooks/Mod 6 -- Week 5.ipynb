{
 "cells": [
  {
   "cell_type": "markdown",
   "id": "774e9d78-4fb4-4f16-bcbe-85ed80fc9044",
   "metadata": {},
   "source": [
    "# Instrumental Variables and Regression Discontinuity"
   ]
  },
  {
   "cell_type": "code",
   "execution_count": 2,
   "id": "d885d49f-2794-4909-8138-5ebbc6859631",
   "metadata": {},
   "outputs": [],
   "source": [
    "import numpy as np\n",
    "import pandas as pd\n",
    "import scipy\n",
    "import matplotlib.pyplot as plt\n",
    "import statsmodels.formula.api as smf"
   ]
  },
  {
   "cell_type": "markdown",
   "id": "7d5cd39a-7239-4256-81a9-e1f9abbb7b48",
   "metadata": {},
   "source": [
    "# Instrumental Variables"
   ]
  },
  {
   "cell_type": "code",
   "execution_count": null,
   "id": "6bb2d3eb-0a75-4f39-831d-40b161444fd0",
   "metadata": {},
   "outputs": [],
   "source": [
    "num = 100000 # number of samples\n",
    "np.random.seed(0) # set seed for reproducibility\n",
    "Z = np.random.binomial(1, 0.3, (num,)) # random binary variable with 30% probability of being 1\n",
    "W1 = np.random.normal(0, 1, (num,)) # random normal variable between -1 and 1\n",
    "W2 = np.random.normal(0, 1, (num,))  # random normal variable between -1 and 1\n",
    "epsilon_X = np.random.normal(0, 1, (num,)) # noise term \n",
    "X = 2 * Z + W1 - W2 + epsilon_X # set x as a function of Z, W1, and W2 and noise\n",
    "epsilon_Y = np.random.normal(0, 1, (num,))  # noise term for y \n",
    "Y = 3.2 * X - 1.7 * W1 + W2 + X * W1 + epsilon_Y # true effect is 3.2\n",
    "df = pd.DataFrame({\"X\": X, \"Y\": Y, \"Z\": Z, \"W1\": W1, \"W2\": W2}) # create a DataFrame of our terms"
   ]
  },
  {
   "cell_type": "code",
   "execution_count": 6,
   "id": "89f5d483",
   "metadata": {},
   "outputs": [
    {
     "data": {
      "text/html": [
       "<div>\n",
       "<style scoped>\n",
       "    .dataframe tbody tr th:only-of-type {\n",
       "        vertical-align: middle;\n",
       "    }\n",
       "\n",
       "    .dataframe tbody tr th {\n",
       "        vertical-align: top;\n",
       "    }\n",
       "\n",
       "    .dataframe thead th {\n",
       "        text-align: right;\n",
       "    }\n",
       "</style>\n",
       "<table border=\"1\" class=\"dataframe\">\n",
       "  <thead>\n",
       "    <tr style=\"text-align: right;\">\n",
       "      <th></th>\n",
       "      <th>X</th>\n",
       "      <th>Y</th>\n",
       "      <th>Z</th>\n",
       "      <th>W1</th>\n",
       "      <th>W2</th>\n",
       "    </tr>\n",
       "  </thead>\n",
       "  <tbody>\n",
       "    <tr>\n",
       "      <th>0</th>\n",
       "      <td>2.369296</td>\n",
       "      <td>8.865061</td>\n",
       "      <td>0</td>\n",
       "      <td>0.911503</td>\n",
       "      <td>-0.668431</td>\n",
       "    </tr>\n",
       "    <tr>\n",
       "      <th>1</th>\n",
       "      <td>4.616810</td>\n",
       "      <td>14.060842</td>\n",
       "      <td>1</td>\n",
       "      <td>0.079538</td>\n",
       "      <td>-1.373565</td>\n",
       "    </tr>\n",
       "    <tr>\n",
       "      <th>2</th>\n",
       "      <td>1.192770</td>\n",
       "      <td>3.215649</td>\n",
       "      <td>0</td>\n",
       "      <td>-0.949305</td>\n",
       "      <td>-1.502755</td>\n",
       "    </tr>\n",
       "    <tr>\n",
       "      <th>3</th>\n",
       "      <td>1.458397</td>\n",
       "      <td>4.602773</td>\n",
       "      <td>0</td>\n",
       "      <td>0.005700</td>\n",
       "      <td>-0.138553</td>\n",
       "    </tr>\n",
       "    <tr>\n",
       "      <th>4</th>\n",
       "      <td>2.214544</td>\n",
       "      <td>8.678365</td>\n",
       "      <td>0</td>\n",
       "      <td>1.831838</td>\n",
       "      <td>-0.687567</td>\n",
       "    </tr>\n",
       "    <tr>\n",
       "      <th>...</th>\n",
       "      <td>...</td>\n",
       "      <td>...</td>\n",
       "      <td>...</td>\n",
       "      <td>...</td>\n",
       "      <td>...</td>\n",
       "    </tr>\n",
       "    <tr>\n",
       "      <th>99995</th>\n",
       "      <td>2.750540</td>\n",
       "      <td>10.106597</td>\n",
       "      <td>1</td>\n",
       "      <td>0.489504</td>\n",
       "      <td>-0.413032</td>\n",
       "    </tr>\n",
       "    <tr>\n",
       "      <th>99996</th>\n",
       "      <td>0.313975</td>\n",
       "      <td>3.426943</td>\n",
       "      <td>0</td>\n",
       "      <td>0.660637</td>\n",
       "      <td>1.784563</td>\n",
       "    </tr>\n",
       "    <tr>\n",
       "      <th>99997</th>\n",
       "      <td>2.657616</td>\n",
       "      <td>5.855775</td>\n",
       "      <td>1</td>\n",
       "      <td>-0.003210</td>\n",
       "      <td>-1.693409</td>\n",
       "    </tr>\n",
       "    <tr>\n",
       "      <th>99998</th>\n",
       "      <td>1.100564</td>\n",
       "      <td>4.144663</td>\n",
       "      <td>0</td>\n",
       "      <td>0.630569</td>\n",
       "      <td>0.187785</td>\n",
       "    </tr>\n",
       "    <tr>\n",
       "      <th>99999</th>\n",
       "      <td>0.918218</td>\n",
       "      <td>1.250491</td>\n",
       "      <td>0</td>\n",
       "      <td>1.016637</td>\n",
       "      <td>-0.113715</td>\n",
       "    </tr>\n",
       "  </tbody>\n",
       "</table>\n",
       "<p>100000 rows × 5 columns</p>\n",
       "</div>"
      ],
      "text/plain": [
       "              X          Y  Z        W1        W2\n",
       "0      2.369296   8.865061  0  0.911503 -0.668431\n",
       "1      4.616810  14.060842  1  0.079538 -1.373565\n",
       "2      1.192770   3.215649  0 -0.949305 -1.502755\n",
       "3      1.458397   4.602773  0  0.005700 -0.138553\n",
       "4      2.214544   8.678365  0  1.831838 -0.687567\n",
       "...         ...        ... ..       ...       ...\n",
       "99995  2.750540  10.106597  1  0.489504 -0.413032\n",
       "99996  0.313975   3.426943  0  0.660637  1.784563\n",
       "99997  2.657616   5.855775  1 -0.003210 -1.693409\n",
       "99998  1.100564   4.144663  0  0.630569  0.187785\n",
       "99999  0.918218   1.250491  0  1.016637 -0.113715\n",
       "\n",
       "[100000 rows x 5 columns]"
      ]
     },
     "execution_count": 6,
     "metadata": {},
     "output_type": "execute_result"
    }
   ],
   "source": [
    "df"
   ]
  },
  {
   "cell_type": "code",
   "execution_count": 7,
   "id": "bf6f2261-8cd4-4be6-9125-a2bef4c209f6",
   "metadata": {},
   "outputs": [],
   "source": [
    "df_bin = df.copy() # df[(df.W1 > 0.4) & (df.W1 < 0.6) & (df.W2 > -0.3) & (df.W2 < -0.1)]"
   ]
  },
  {
   "cell_type": "code",
   "execution_count": 8,
   "id": "3c5db9f1-5ede-473d-8e61-ebc0d86852a8",
   "metadata": {},
   "outputs": [
    {
     "data": {
      "text/plain": [
       "3.1904479752541985"
      ]
     },
     "execution_count": 8,
     "metadata": {},
     "output_type": "execute_result"
    }
   ],
   "source": [
    "y_diff = df_bin[df_bin.Z == 1].Y.mean() - df_bin[df_bin.Z == 0].Y.mean() # calculate the difference in means for Y based on Z\n",
    "x_diff = df_bin[df_bin.Z == 1].X.mean() - df_bin[df_bin.Z == 0].X.mean()  # calculate the difference in means for X based on Z\n",
    "y_diff / x_diff # calculate the average treatment effect (ATE) of Z on Y based on X"
   ]
  },
  {
   "cell_type": "code",
   "execution_count": null,
   "id": "082f3a56-5e03-4b3d-a3ae-4c82a6399345",
   "metadata": {},
   "outputs": [
    {
     "data": {
      "text/plain": [
       "3.6661641514440033"
      ]
     },
     "execution_count": 10,
     "metadata": {},
     "output_type": "execute_result"
    }
   ],
   "source": [
    "df_bin = df[(df.W2 > 0.1) & (df.W1 < 0.6) & (df.W2 > -0.3) & (df.W2 < -0.1)] # filter the DataFrame based on W1 and W2 values (between 0.4 and 0.6 for W1, and between -0.3 and -0.1 for W2)\n",
    "#df_bin = df.copy()\n",
    "(df_bin[df_bin.Z == 1].Y.mean() - df_bin[df_bin.Z == 0].Y.mean()) / (df_bin[df_bin.Z == 1].X.mean() - df_bin[df_bin.Z == 0].X.mean()) # calculate the average treatment effect (ATE) of Z on Y based on X after filtering"
   ]
  },
  {
   "cell_type": "code",
   "execution_count": 11,
   "id": "078840e6",
   "metadata": {},
   "outputs": [
    {
     "data": {
      "text/html": [
       "<div>\n",
       "<style scoped>\n",
       "    .dataframe tbody tr th:only-of-type {\n",
       "        vertical-align: middle;\n",
       "    }\n",
       "\n",
       "    .dataframe tbody tr th {\n",
       "        vertical-align: top;\n",
       "    }\n",
       "\n",
       "    .dataframe thead th {\n",
       "        text-align: right;\n",
       "    }\n",
       "</style>\n",
       "<table border=\"1\" class=\"dataframe\">\n",
       "  <thead>\n",
       "    <tr style=\"text-align: right;\">\n",
       "      <th></th>\n",
       "      <th>X</th>\n",
       "      <th>Y</th>\n",
       "      <th>Z</th>\n",
       "      <th>W1</th>\n",
       "      <th>W2</th>\n",
       "    </tr>\n",
       "  </thead>\n",
       "  <tbody>\n",
       "    <tr>\n",
       "      <th>69</th>\n",
       "      <td>-1.054007</td>\n",
       "      <td>-6.727640</td>\n",
       "      <td>0</td>\n",
       "      <td>0.446364</td>\n",
       "      <td>-0.215842</td>\n",
       "    </tr>\n",
       "    <tr>\n",
       "      <th>273</th>\n",
       "      <td>3.847537</td>\n",
       "      <td>12.321161</td>\n",
       "      <td>1</td>\n",
       "      <td>0.577957</td>\n",
       "      <td>-0.181362</td>\n",
       "    </tr>\n",
       "    <tr>\n",
       "      <th>502</th>\n",
       "      <td>0.176181</td>\n",
       "      <td>0.646995</td>\n",
       "      <td>0</td>\n",
       "      <td>0.476118</td>\n",
       "      <td>-0.153419</td>\n",
       "    </tr>\n",
       "    <tr>\n",
       "      <th>808</th>\n",
       "      <td>2.515425</td>\n",
       "      <td>6.321929</td>\n",
       "      <td>1</td>\n",
       "      <td>0.419022</td>\n",
       "      <td>-0.207526</td>\n",
       "    </tr>\n",
       "    <tr>\n",
       "      <th>943</th>\n",
       "      <td>1.570188</td>\n",
       "      <td>3.231263</td>\n",
       "      <td>1</td>\n",
       "      <td>0.500602</td>\n",
       "      <td>-0.112316</td>\n",
       "    </tr>\n",
       "    <tr>\n",
       "      <th>...</th>\n",
       "      <td>...</td>\n",
       "      <td>...</td>\n",
       "      <td>...</td>\n",
       "      <td>...</td>\n",
       "      <td>...</td>\n",
       "    </tr>\n",
       "    <tr>\n",
       "      <th>98809</th>\n",
       "      <td>3.522269</td>\n",
       "      <td>9.141816</td>\n",
       "      <td>1</td>\n",
       "      <td>0.557161</td>\n",
       "      <td>-0.162855</td>\n",
       "    </tr>\n",
       "    <tr>\n",
       "      <th>99124</th>\n",
       "      <td>3.398906</td>\n",
       "      <td>11.276848</td>\n",
       "      <td>1</td>\n",
       "      <td>0.452462</td>\n",
       "      <td>-0.262125</td>\n",
       "    </tr>\n",
       "    <tr>\n",
       "      <th>99243</th>\n",
       "      <td>2.278314</td>\n",
       "      <td>6.098921</td>\n",
       "      <td>1</td>\n",
       "      <td>0.493834</td>\n",
       "      <td>-0.256372</td>\n",
       "    </tr>\n",
       "    <tr>\n",
       "      <th>99280</th>\n",
       "      <td>2.494287</td>\n",
       "      <td>6.964502</td>\n",
       "      <td>0</td>\n",
       "      <td>0.581424</td>\n",
       "      <td>-0.132433</td>\n",
       "    </tr>\n",
       "    <tr>\n",
       "      <th>99895</th>\n",
       "      <td>0.626207</td>\n",
       "      <td>1.582397</td>\n",
       "      <td>0</td>\n",
       "      <td>0.591367</td>\n",
       "      <td>-0.108455</td>\n",
       "    </tr>\n",
       "  </tbody>\n",
       "</table>\n",
       "<p>587 rows × 5 columns</p>\n",
       "</div>"
      ],
      "text/plain": [
       "              X          Y  Z        W1        W2\n",
       "69    -1.054007  -6.727640  0  0.446364 -0.215842\n",
       "273    3.847537  12.321161  1  0.577957 -0.181362\n",
       "502    0.176181   0.646995  0  0.476118 -0.153419\n",
       "808    2.515425   6.321929  1  0.419022 -0.207526\n",
       "943    1.570188   3.231263  1  0.500602 -0.112316\n",
       "...         ...        ... ..       ...       ...\n",
       "98809  3.522269   9.141816  1  0.557161 -0.162855\n",
       "99124  3.398906  11.276848  1  0.452462 -0.262125\n",
       "99243  2.278314   6.098921  1  0.493834 -0.256372\n",
       "99280  2.494287   6.964502  0  0.581424 -0.132433\n",
       "99895  0.626207   1.582397  0  0.591367 -0.108455\n",
       "\n",
       "[587 rows x 5 columns]"
      ]
     },
     "execution_count": 11,
     "metadata": {},
     "output_type": "execute_result"
    }
   ],
   "source": [
    "df_bin"
   ]
  },
  {
   "cell_type": "code",
   "execution_count": 9,
   "id": "b4802fd9-48f4-493a-9624-cffcc661aa8c",
   "metadata": {},
   "outputs": [
    {
     "data": {
      "text/plain": [
       "3.1949660524467727"
      ]
     },
     "execution_count": 9,
     "metadata": {},
     "output_type": "execute_result"
    }
   ],
   "source": [
    "num = 100000\n",
    "np.random.seed(0)\n",
    "Z = np.random.binomial(1, 0.3, (num,))\n",
    "W1 = np.random.normal(0, 1, (num,))\n",
    "W2 = np.random.normal(0, 1, (num,))\n",
    "epsilon_X = np.random.normal(0, 1, (num,))\n",
    "X = 2 * Z + W1 - W2 + epsilon_X\n",
    "epsilon_Y = np.random.normal(0, 1, (num,))\n",
    "Y = 3.2 * X - 1.7 * W1 + W1 * X + epsilon_Y # true effect is 3.2\n",
    "df = pd.DataFrame({\"X\": X, \"Y\": Y, \"Z\": Z, \"W1\": W1, \"W2\": W2})\n",
    "\n",
    "# Y average at Z = 1 minus Z = 0\n",
    "Y_diff = df[df.Z == 1].Y.mean() - df[df.Z == 0].Y.mean()\n",
    "X_diff = df[df.Z == 1].X.mean() - df[df.Z == 0].X.mean()\n",
    "Y_diff / X_diff"
   ]
  },
  {
   "cell_type": "markdown",
   "id": "80b1e52a-cef8-41d2-912c-5c9fd1403bc1",
   "metadata": {},
   "source": [
    "### Does it work when Z influences Y directly?"
   ]
  },
  {
   "cell_type": "code",
   "execution_count": 59,
   "id": "d060b820-4d44-42dc-aef6-3168a7422024",
   "metadata": {},
   "outputs": [
    {
     "data": {
      "text/plain": [
       "2.197356441250059"
      ]
     },
     "execution_count": 59,
     "metadata": {},
     "output_type": "execute_result"
    }
   ],
   "source": [
    "Y = 3.2 * X - 1.7 * W1 - 2 * Z + epsilon_Y # true effect is 3.2\n",
    "df = pd.DataFrame({\"X\": X, \"Y\": Y, \"Z\": Z, \"W1\": W1, \"W2\": W2})\n",
    "\n",
    "# Y average at Z = 1 minus Z = 0\n",
    "Y_diff = df[df.Z == 1].Y.mean() - df[df.Z == 0].Y.mean()\n",
    "X_diff = df[df.Z == 1].X.mean() - df[df.Z == 0].X.mean()\n",
    "Y_diff / X_diff"
   ]
  },
  {
   "cell_type": "markdown",
   "id": "5b1ab923-1b10-48c9-a093-59d633280490",
   "metadata": {},
   "source": [
    "### Does it work when Z influences W?"
   ]
  },
  {
   "cell_type": "code",
   "execution_count": 60,
   "id": "cba1baba-986c-43d4-afb9-84bb0e59eb57",
   "metadata": {},
   "outputs": [
    {
     "data": {
      "text/plain": [
       "2.349474884470536"
      ]
     },
     "execution_count": 60,
     "metadata": {},
     "output_type": "execute_result"
    }
   ],
   "source": [
    "Z = np.random.binomial(1, 0.3, (num,))\n",
    "W1 = 2 * Z + np.random.normal(0, 1, (num,))\n",
    "W2 = np.random.normal(0, 1, (num,))\n",
    "epsilon_X = np.random.normal(0, 1, (num,))\n",
    "X = 2 * Z + W1 - W2 + epsilon_X\n",
    "epsilon_Y = np.random.normal(0, 1, (num,))\n",
    "Y = 3.2 * X - 1.7 * W1 + epsilon_Y # true effect is 3.2\n",
    "df = pd.DataFrame({\"X\": X, \"Y\": Y, \"Z\": Z, \"W1\": W1, \"W2\": W2})\n",
    "\n",
    "# Y average at Z = 1 minus Z = 0\n",
    "Y_diff = df[df.Z == 1].Y.mean() - df[df.Z == 0].Y.mean()\n",
    "X_diff = df[df.Z == 1].X.mean() - df[df.Z == 0].X.mean()\n",
    "Y_diff / X_diff"
   ]
  },
  {
   "cell_type": "markdown",
   "id": "d151b6d8-9f47-4e66-9ed8-c4355ffd67ba",
   "metadata": {},
   "source": [
    "### Regression Discontinuity"
   ]
  },
  {
   "cell_type": "code",
   "execution_count": 12,
   "id": "0e4432c7-5b21-4e7c-891a-e5496c0f9ad5",
   "metadata": {},
   "outputs": [
    {
     "name": "stdout",
     "output_type": "stream",
     "text": [
      "Intercept       0.018988\n",
      "running         0.516870\n",
      "above_cutoff    2.782920\n",
      "dtype: float64\n"
     ]
    }
   ],
   "source": [
    "np.random.seed(0)\n",
    "num = 100000\n",
    "# Note: X_above_cutoff and X_running are both the treatment, sort of.\n",
    "# But X_above_cutoff is the real treatment in that its coefficient is the effect.\n",
    "X_running = np.random.uniform(-1, 1, num)\n",
    "X_above_cutoff = 1 * (X_running >= 0)\n",
    "epsilon_Y = np.random.normal(0, 1, num)\n",
    "Y = 2.8 * X_above_cutoff + 0.5 * X_running + epsilon_Y # true effect is 2.8\n",
    "\n",
    "# Create DataFrame\n",
    "df = pd.DataFrame({'running': X_running, 'above_cutoff': X_above_cutoff, 'Y': Y})\n",
    "\n",
    "model = smf.ols('Y ~ running + above_cutoff', data=df).fit()\n",
    "print(model.params)"
   ]
  },
  {
   "cell_type": "code",
   "execution_count": 13,
   "id": "2ece7896",
   "metadata": {},
   "outputs": [
    {
     "data": {
      "text/html": [
       "<div>\n",
       "<style scoped>\n",
       "    .dataframe tbody tr th:only-of-type {\n",
       "        vertical-align: middle;\n",
       "    }\n",
       "\n",
       "    .dataframe tbody tr th {\n",
       "        vertical-align: top;\n",
       "    }\n",
       "\n",
       "    .dataframe thead th {\n",
       "        text-align: right;\n",
       "    }\n",
       "</style>\n",
       "<table border=\"1\" class=\"dataframe\">\n",
       "  <thead>\n",
       "    <tr style=\"text-align: right;\">\n",
       "      <th></th>\n",
       "      <th>running</th>\n",
       "      <th>above_cutoff</th>\n",
       "      <th>Y</th>\n",
       "    </tr>\n",
       "  </thead>\n",
       "  <tbody>\n",
       "    <tr>\n",
       "      <th>0</th>\n",
       "      <td>0.097627</td>\n",
       "      <td>1</td>\n",
       "      <td>3.760316</td>\n",
       "    </tr>\n",
       "    <tr>\n",
       "      <th>1</th>\n",
       "      <td>0.430379</td>\n",
       "      <td>1</td>\n",
       "      <td>3.094727</td>\n",
       "    </tr>\n",
       "    <tr>\n",
       "      <th>2</th>\n",
       "      <td>0.205527</td>\n",
       "      <td>1</td>\n",
       "      <td>1.953459</td>\n",
       "    </tr>\n",
       "    <tr>\n",
       "      <th>3</th>\n",
       "      <td>0.089766</td>\n",
       "      <td>1</td>\n",
       "      <td>2.850583</td>\n",
       "    </tr>\n",
       "    <tr>\n",
       "      <th>4</th>\n",
       "      <td>-0.152690</td>\n",
       "      <td>0</td>\n",
       "      <td>1.755493</td>\n",
       "    </tr>\n",
       "    <tr>\n",
       "      <th>...</th>\n",
       "      <td>...</td>\n",
       "      <td>...</td>\n",
       "      <td>...</td>\n",
       "    </tr>\n",
       "    <tr>\n",
       "      <th>99995</th>\n",
       "      <td>0.451842</td>\n",
       "      <td>1</td>\n",
       "      <td>3.515425</td>\n",
       "    </tr>\n",
       "    <tr>\n",
       "      <th>99996</th>\n",
       "      <td>0.015041</td>\n",
       "      <td>1</td>\n",
       "      <td>3.468157</td>\n",
       "    </tr>\n",
       "    <tr>\n",
       "      <th>99997</th>\n",
       "      <td>0.620266</td>\n",
       "      <td>1</td>\n",
       "      <td>3.106923</td>\n",
       "    </tr>\n",
       "    <tr>\n",
       "      <th>99998</th>\n",
       "      <td>0.102065</td>\n",
       "      <td>1</td>\n",
       "      <td>3.481601</td>\n",
       "    </tr>\n",
       "    <tr>\n",
       "      <th>99999</th>\n",
       "      <td>-0.548488</td>\n",
       "      <td>0</td>\n",
       "      <td>0.742393</td>\n",
       "    </tr>\n",
       "  </tbody>\n",
       "</table>\n",
       "<p>100000 rows × 3 columns</p>\n",
       "</div>"
      ],
      "text/plain": [
       "        running  above_cutoff         Y\n",
       "0      0.097627             1  3.760316\n",
       "1      0.430379             1  3.094727\n",
       "2      0.205527             1  1.953459\n",
       "3      0.089766             1  2.850583\n",
       "4     -0.152690             0  1.755493\n",
       "...         ...           ...       ...\n",
       "99995  0.451842             1  3.515425\n",
       "99996  0.015041             1  3.468157\n",
       "99997  0.620266             1  3.106923\n",
       "99998  0.102065             1  3.481601\n",
       "99999 -0.548488             0  0.742393\n",
       "\n",
       "[100000 rows x 3 columns]"
      ]
     },
     "execution_count": 13,
     "metadata": {},
     "output_type": "execute_result"
    }
   ],
   "source": [
    "df"
   ]
  },
  {
   "cell_type": "markdown",
   "id": "8b94f6d3-cd98-4276-80c5-58371e84a89e",
   "metadata": {},
   "source": [
    "### What if there's a confounder?"
   ]
  },
  {
   "cell_type": "code",
   "execution_count": 62,
   "id": "56472ab8-d8a0-4e10-a638-492ba5cbdebc",
   "metadata": {},
   "outputs": [
    {
     "name": "stdout",
     "output_type": "stream",
     "text": [
      "Intercept       0.167738\n",
      "running        -0.190323\n",
      "above_cutoff    0.861740\n",
      "dtype: float64\n"
     ]
    }
   ],
   "source": [
    "np.random.seed(0)\n",
    "num = 1000000\n",
    "# Note: X_above_cutoff and X_running are both the treatment, sort of.\n",
    "# But X_above_cutoff is the real treatment in that its coefficient is the effect.\n",
    "W = np.random.uniform(-1, 1, num)\n",
    "X_running = np.random.uniform(-1, 1, num) + 2 * W\n",
    "X_above_cutoff = 1 * (X_running >= 0)\n",
    "Y = 1.2 * X_above_cutoff + 0.5 * X_running - 2 * W + np.random.normal(0, 1, num)  # true effect is 2.8\n",
    "\n",
    "# Create DataFrame\n",
    "df = pd.DataFrame({'running': X_running, 'above_cutoff': X_above_cutoff, 'W': W, 'Y': Y})\n",
    "\n",
    "model = smf.ols('Y ~ running + above_cutoff', data=df).fit()\n",
    "print(model.params)"
   ]
  },
  {
   "cell_type": "markdown",
   "id": "667c33e4-35ec-4176-94f5-e5de97530b07",
   "metadata": {},
   "source": [
    "### Solution: Just go slightly above and below the cutoff"
   ]
  },
  {
   "cell_type": "code",
   "execution_count": 65,
   "id": "77b36a7f-89f9-4c74-b7c4-7d717df3ffe9",
   "metadata": {},
   "outputs": [
    {
     "name": "stdout",
     "output_type": "stream",
     "text": [
      "Intercept       0.006807\n",
      "running        -0.393145\n",
      "above_cutoff    1.184976\n",
      "dtype: float64\n"
     ]
    }
   ],
   "source": [
    "np.random.seed(0)\n",
    "num = 10000000\n",
    "# Note: X_above_cutoff and X_running are both the treatment, sort of.\n",
    "# But X_above_cutoff is the real treatment in that its coefficient is the effect.\n",
    "W = np.random.uniform(-1, 1, num)\n",
    "X_running = np.random.uniform(-1, 1, num) + 2 * W\n",
    "X_above_cutoff = 1 * (X_running >= 0)\n",
    "Y = 1.2 * X_above_cutoff + 0.5 * X_running - 2 * W + np.random.normal(0, 1, num)  # true effect is 2.8\n",
    "\n",
    "# Create DataFrame\n",
    "df = pd.DataFrame({'running': X_running, 'above_cutoff': X_above_cutoff, 'Y': Y})\n",
    "\n",
    "df_limited = df[(df.running > -0.1) & (df.running < 0.1)]\n",
    "\n",
    "model = smf.ols('Y ~ running + above_cutoff', data=df_limited).fit()\n",
    "print(model.params)"
   ]
  },
  {
   "cell_type": "code",
   "execution_count": 14,
   "id": "e99c137c-dc2a-4b87-bccc-bd4c2e42eb0e",
   "metadata": {},
   "outputs": [
    {
     "ename": "FileNotFoundError",
     "evalue": "[Errno 2] No such file or directory: 'homework_4.2.a.csv'",
     "output_type": "error",
     "traceback": [
      "\u001b[0;31m---------------------------------------------------------------------------\u001b[0m",
      "\u001b[0;31mFileNotFoundError\u001b[0m                         Traceback (most recent call last)",
      "Cell \u001b[0;32mIn[14], line 5\u001b[0m\n\u001b[1;32m      2\u001b[0m \u001b[38;5;28;01mfrom\u001b[39;00m \u001b[38;5;21;01msklearn\u001b[39;00m\u001b[38;5;21;01m.\u001b[39;00m\u001b[38;5;21;01mlinear_model\u001b[39;00m \u001b[38;5;28;01mimport\u001b[39;00m LinearRegression\n\u001b[1;32m      4\u001b[0m \u001b[38;5;66;03m# Load each CSV\u001b[39;00m\n\u001b[0;32m----> 5\u001b[0m df_a \u001b[38;5;241m=\u001b[39m pd\u001b[38;5;241m.\u001b[39mread_csv(\u001b[38;5;124m'\u001b[39m\u001b[38;5;124mhomework_4.2.a.csv\u001b[39m\u001b[38;5;124m'\u001b[39m)   \u001b[38;5;66;03m# has columns X, Y\u001b[39;00m\n\u001b[1;32m      6\u001b[0m df_b \u001b[38;5;241m=\u001b[39m pd\u001b[38;5;241m.\u001b[39mread_csv(\u001b[38;5;124m'\u001b[39m\u001b[38;5;124mhomework_4.2.b.csv\u001b[39m\u001b[38;5;124m'\u001b[39m)   \u001b[38;5;66;03m# has columns X2, Y2\u001b[39;00m\n\u001b[1;32m      8\u001b[0m \u001b[38;5;66;03m# Define cutoff\u001b[39;00m\n",
      "File \u001b[0;32m/opt/anaconda3/lib/python3.11/site-packages/pandas/io/parsers/readers.py:1026\u001b[0m, in \u001b[0;36mread_csv\u001b[0;34m(filepath_or_buffer, sep, delimiter, header, names, index_col, usecols, dtype, engine, converters, true_values, false_values, skipinitialspace, skiprows, skipfooter, nrows, na_values, keep_default_na, na_filter, verbose, skip_blank_lines, parse_dates, infer_datetime_format, keep_date_col, date_parser, date_format, dayfirst, cache_dates, iterator, chunksize, compression, thousands, decimal, lineterminator, quotechar, quoting, doublequote, escapechar, comment, encoding, encoding_errors, dialect, on_bad_lines, delim_whitespace, low_memory, memory_map, float_precision, storage_options, dtype_backend)\u001b[0m\n\u001b[1;32m   1013\u001b[0m kwds_defaults \u001b[38;5;241m=\u001b[39m _refine_defaults_read(\n\u001b[1;32m   1014\u001b[0m     dialect,\n\u001b[1;32m   1015\u001b[0m     delimiter,\n\u001b[0;32m   (...)\u001b[0m\n\u001b[1;32m   1022\u001b[0m     dtype_backend\u001b[38;5;241m=\u001b[39mdtype_backend,\n\u001b[1;32m   1023\u001b[0m )\n\u001b[1;32m   1024\u001b[0m kwds\u001b[38;5;241m.\u001b[39mupdate(kwds_defaults)\n\u001b[0;32m-> 1026\u001b[0m \u001b[38;5;28;01mreturn\u001b[39;00m _read(filepath_or_buffer, kwds)\n",
      "File \u001b[0;32m/opt/anaconda3/lib/python3.11/site-packages/pandas/io/parsers/readers.py:620\u001b[0m, in \u001b[0;36m_read\u001b[0;34m(filepath_or_buffer, kwds)\u001b[0m\n\u001b[1;32m    617\u001b[0m _validate_names(kwds\u001b[38;5;241m.\u001b[39mget(\u001b[38;5;124m\"\u001b[39m\u001b[38;5;124mnames\u001b[39m\u001b[38;5;124m\"\u001b[39m, \u001b[38;5;28;01mNone\u001b[39;00m))\n\u001b[1;32m    619\u001b[0m \u001b[38;5;66;03m# Create the parser.\u001b[39;00m\n\u001b[0;32m--> 620\u001b[0m parser \u001b[38;5;241m=\u001b[39m TextFileReader(filepath_or_buffer, \u001b[38;5;241m*\u001b[39m\u001b[38;5;241m*\u001b[39mkwds)\n\u001b[1;32m    622\u001b[0m \u001b[38;5;28;01mif\u001b[39;00m chunksize \u001b[38;5;129;01mor\u001b[39;00m iterator:\n\u001b[1;32m    623\u001b[0m     \u001b[38;5;28;01mreturn\u001b[39;00m parser\n",
      "File \u001b[0;32m/opt/anaconda3/lib/python3.11/site-packages/pandas/io/parsers/readers.py:1620\u001b[0m, in \u001b[0;36mTextFileReader.__init__\u001b[0;34m(self, f, engine, **kwds)\u001b[0m\n\u001b[1;32m   1617\u001b[0m     \u001b[38;5;28mself\u001b[39m\u001b[38;5;241m.\u001b[39moptions[\u001b[38;5;124m\"\u001b[39m\u001b[38;5;124mhas_index_names\u001b[39m\u001b[38;5;124m\"\u001b[39m] \u001b[38;5;241m=\u001b[39m kwds[\u001b[38;5;124m\"\u001b[39m\u001b[38;5;124mhas_index_names\u001b[39m\u001b[38;5;124m\"\u001b[39m]\n\u001b[1;32m   1619\u001b[0m \u001b[38;5;28mself\u001b[39m\u001b[38;5;241m.\u001b[39mhandles: IOHandles \u001b[38;5;241m|\u001b[39m \u001b[38;5;28;01mNone\u001b[39;00m \u001b[38;5;241m=\u001b[39m \u001b[38;5;28;01mNone\u001b[39;00m\n\u001b[0;32m-> 1620\u001b[0m \u001b[38;5;28mself\u001b[39m\u001b[38;5;241m.\u001b[39m_engine \u001b[38;5;241m=\u001b[39m \u001b[38;5;28mself\u001b[39m\u001b[38;5;241m.\u001b[39m_make_engine(f, \u001b[38;5;28mself\u001b[39m\u001b[38;5;241m.\u001b[39mengine)\n",
      "File \u001b[0;32m/opt/anaconda3/lib/python3.11/site-packages/pandas/io/parsers/readers.py:1880\u001b[0m, in \u001b[0;36mTextFileReader._make_engine\u001b[0;34m(self, f, engine)\u001b[0m\n\u001b[1;32m   1878\u001b[0m     \u001b[38;5;28;01mif\u001b[39;00m \u001b[38;5;124m\"\u001b[39m\u001b[38;5;124mb\u001b[39m\u001b[38;5;124m\"\u001b[39m \u001b[38;5;129;01mnot\u001b[39;00m \u001b[38;5;129;01min\u001b[39;00m mode:\n\u001b[1;32m   1879\u001b[0m         mode \u001b[38;5;241m+\u001b[39m\u001b[38;5;241m=\u001b[39m \u001b[38;5;124m\"\u001b[39m\u001b[38;5;124mb\u001b[39m\u001b[38;5;124m\"\u001b[39m\n\u001b[0;32m-> 1880\u001b[0m \u001b[38;5;28mself\u001b[39m\u001b[38;5;241m.\u001b[39mhandles \u001b[38;5;241m=\u001b[39m get_handle(\n\u001b[1;32m   1881\u001b[0m     f,\n\u001b[1;32m   1882\u001b[0m     mode,\n\u001b[1;32m   1883\u001b[0m     encoding\u001b[38;5;241m=\u001b[39m\u001b[38;5;28mself\u001b[39m\u001b[38;5;241m.\u001b[39moptions\u001b[38;5;241m.\u001b[39mget(\u001b[38;5;124m\"\u001b[39m\u001b[38;5;124mencoding\u001b[39m\u001b[38;5;124m\"\u001b[39m, \u001b[38;5;28;01mNone\u001b[39;00m),\n\u001b[1;32m   1884\u001b[0m     compression\u001b[38;5;241m=\u001b[39m\u001b[38;5;28mself\u001b[39m\u001b[38;5;241m.\u001b[39moptions\u001b[38;5;241m.\u001b[39mget(\u001b[38;5;124m\"\u001b[39m\u001b[38;5;124mcompression\u001b[39m\u001b[38;5;124m\"\u001b[39m, \u001b[38;5;28;01mNone\u001b[39;00m),\n\u001b[1;32m   1885\u001b[0m     memory_map\u001b[38;5;241m=\u001b[39m\u001b[38;5;28mself\u001b[39m\u001b[38;5;241m.\u001b[39moptions\u001b[38;5;241m.\u001b[39mget(\u001b[38;5;124m\"\u001b[39m\u001b[38;5;124mmemory_map\u001b[39m\u001b[38;5;124m\"\u001b[39m, \u001b[38;5;28;01mFalse\u001b[39;00m),\n\u001b[1;32m   1886\u001b[0m     is_text\u001b[38;5;241m=\u001b[39mis_text,\n\u001b[1;32m   1887\u001b[0m     errors\u001b[38;5;241m=\u001b[39m\u001b[38;5;28mself\u001b[39m\u001b[38;5;241m.\u001b[39moptions\u001b[38;5;241m.\u001b[39mget(\u001b[38;5;124m\"\u001b[39m\u001b[38;5;124mencoding_errors\u001b[39m\u001b[38;5;124m\"\u001b[39m, \u001b[38;5;124m\"\u001b[39m\u001b[38;5;124mstrict\u001b[39m\u001b[38;5;124m\"\u001b[39m),\n\u001b[1;32m   1888\u001b[0m     storage_options\u001b[38;5;241m=\u001b[39m\u001b[38;5;28mself\u001b[39m\u001b[38;5;241m.\u001b[39moptions\u001b[38;5;241m.\u001b[39mget(\u001b[38;5;124m\"\u001b[39m\u001b[38;5;124mstorage_options\u001b[39m\u001b[38;5;124m\"\u001b[39m, \u001b[38;5;28;01mNone\u001b[39;00m),\n\u001b[1;32m   1889\u001b[0m )\n\u001b[1;32m   1890\u001b[0m \u001b[38;5;28;01massert\u001b[39;00m \u001b[38;5;28mself\u001b[39m\u001b[38;5;241m.\u001b[39mhandles \u001b[38;5;129;01mis\u001b[39;00m \u001b[38;5;129;01mnot\u001b[39;00m \u001b[38;5;28;01mNone\u001b[39;00m\n\u001b[1;32m   1891\u001b[0m f \u001b[38;5;241m=\u001b[39m \u001b[38;5;28mself\u001b[39m\u001b[38;5;241m.\u001b[39mhandles\u001b[38;5;241m.\u001b[39mhandle\n",
      "File \u001b[0;32m/opt/anaconda3/lib/python3.11/site-packages/pandas/io/common.py:873\u001b[0m, in \u001b[0;36mget_handle\u001b[0;34m(path_or_buf, mode, encoding, compression, memory_map, is_text, errors, storage_options)\u001b[0m\n\u001b[1;32m    868\u001b[0m \u001b[38;5;28;01melif\u001b[39;00m \u001b[38;5;28misinstance\u001b[39m(handle, \u001b[38;5;28mstr\u001b[39m):\n\u001b[1;32m    869\u001b[0m     \u001b[38;5;66;03m# Check whether the filename is to be opened in binary mode.\u001b[39;00m\n\u001b[1;32m    870\u001b[0m     \u001b[38;5;66;03m# Binary mode does not support 'encoding' and 'newline'.\u001b[39;00m\n\u001b[1;32m    871\u001b[0m     \u001b[38;5;28;01mif\u001b[39;00m ioargs\u001b[38;5;241m.\u001b[39mencoding \u001b[38;5;129;01mand\u001b[39;00m \u001b[38;5;124m\"\u001b[39m\u001b[38;5;124mb\u001b[39m\u001b[38;5;124m\"\u001b[39m \u001b[38;5;129;01mnot\u001b[39;00m \u001b[38;5;129;01min\u001b[39;00m ioargs\u001b[38;5;241m.\u001b[39mmode:\n\u001b[1;32m    872\u001b[0m         \u001b[38;5;66;03m# Encoding\u001b[39;00m\n\u001b[0;32m--> 873\u001b[0m         handle \u001b[38;5;241m=\u001b[39m \u001b[38;5;28mopen\u001b[39m(\n\u001b[1;32m    874\u001b[0m             handle,\n\u001b[1;32m    875\u001b[0m             ioargs\u001b[38;5;241m.\u001b[39mmode,\n\u001b[1;32m    876\u001b[0m             encoding\u001b[38;5;241m=\u001b[39mioargs\u001b[38;5;241m.\u001b[39mencoding,\n\u001b[1;32m    877\u001b[0m             errors\u001b[38;5;241m=\u001b[39merrors,\n\u001b[1;32m    878\u001b[0m             newline\u001b[38;5;241m=\u001b[39m\u001b[38;5;124m\"\u001b[39m\u001b[38;5;124m\"\u001b[39m,\n\u001b[1;32m    879\u001b[0m         )\n\u001b[1;32m    880\u001b[0m     \u001b[38;5;28;01melse\u001b[39;00m:\n\u001b[1;32m    881\u001b[0m         \u001b[38;5;66;03m# Binary mode\u001b[39;00m\n\u001b[1;32m    882\u001b[0m         handle \u001b[38;5;241m=\u001b[39m \u001b[38;5;28mopen\u001b[39m(handle, ioargs\u001b[38;5;241m.\u001b[39mmode)\n",
      "\u001b[0;31mFileNotFoundError\u001b[0m: [Errno 2] No such file or directory: 'homework_4.2.a.csv'"
     ]
    }
   ],
   "source": [
    "import pandas as pd\n",
    "from sklearn.linear_model import LinearRegression\n",
    "\n",
    "# Load each CSV\n",
    "df_a = pd.read_csv('homework_4.2.a.csv')   # has columns X, Y\n",
    "df_b = pd.read_csv('homework_4.2.b.csv')   # has columns X2, Y2\n",
    "\n",
    "# Define cutoff\n",
    "cutoff = 80\n",
    "\n",
    "def slope_intercept(df, score_col, outcome_col, cutoff):\n",
    "    # split\n",
    "    pre  = df[df[score_col] <  cutoff]\n",
    "    post = df[df[score_col] >= cutoff]\n",
    "    # fit on pre-cutoff\n",
    "    lm = LinearRegression().fit(pre[[score_col]], pre[outcome_col])\n",
    "    slope_pre, int_pre = lm.coef_[0], lm.intercept_\n",
    "    # fit on post-cutoff\n",
    "    lm = LinearRegression().fit(post[[score_col]], post[outcome_col])\n",
    "    slope_post, int_post = lm.coef_[0], lm.intercept_\n",
    "    return slope_pre, int_pre, slope_post, int_post\n",
    "\n",
    "# Compute for (X, Y)\n",
    "s_pre, i_pre, s_post, i_post = slope_intercept(df_a, 'X',  'Y',  cutoff)\n",
    "print(f\"(X, Y) →  pre-cutoff slope = {s_pre:.6f}, intercept = {i_pre:.6f}\")\n",
    "print(f\"          post-cutoff slope = {s_post:.6f}, intercept = {i_post:.6f}\\n\")\n",
    "\n",
    "# Compute for (X2, Y2)\n",
    "s_pre2, i_pre2, s_post2, i_post2 = slope_intercept(df_b, 'X2', 'Y2', cutoff)\n",
    "print(f\"(X2, Y2) → pre-cutoff slope = {s_pre2:.6f}, intercept = {i_pre2:.6f}\")\n",
    "print(f\"           post-cutoff slope = {s_post2:.6f}, intercept = {i_post2:.6f}\")"
   ]
  },
  {
   "cell_type": "code",
   "execution_count": null,
   "id": "0f400c0d",
   "metadata": {},
   "outputs": [],
   "source": []
  }
 ],
 "metadata": {
  "kernelspec": {
   "display_name": "Python (uv)",
   "language": "python",
   "name": "uv"
  },
  "language_info": {
   "codemirror_mode": {
    "name": "ipython",
    "version": 3
   },
   "file_extension": ".py",
   "mimetype": "text/x-python",
   "name": "python",
   "nbconvert_exporter": "python",
   "pygments_lexer": "ipython3",
   "version": "3.11.7"
  }
 },
 "nbformat": 4,
 "nbformat_minor": 5
}
