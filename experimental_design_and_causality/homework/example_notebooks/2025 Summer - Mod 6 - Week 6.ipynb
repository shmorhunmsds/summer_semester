{
 "cells": [
  {
   "cell_type": "code",
   "execution_count": 1,
   "id": "beb5b35d-d0f3-4154-b67e-185ba285484b",
   "metadata": {},
   "outputs": [],
   "source": [
    "import matplotlib.pyplot as plt\n",
    "import numpy as np\n",
    "import pandas as pd\n",
    "import scipy\n",
    "import statsmodels.api as sm\n",
    "import seaborn as sns\n",
    "import networkx as nx\n",
    "from sklearn.metrics import accuracy_score, roc_auc_score\n"
   ]
  },
  {
   "cell_type": "markdown",
   "id": "d0ab5dd8-ab5d-45b7-9a53-32a20a217e06",
   "metadata": {},
   "source": [
    "# A Simple Backdoor Path - and some equations that it might represent"
   ]
  },
  {
   "cell_type": "code",
   "execution_count": 11,
   "id": "d2c79f88-d619-4656-a421-0e9169296888",
   "metadata": {},
   "outputs": [
    {
     "data": {
      "image/png": "[encoded data removed]",
      "text/plain": [
       "<Figure size 640x480 with 1 Axes>"
      ]
     },
     "metadata": {},
     "output_type": "display_data"
    }
   ],
   "source": [
    "plt.margins(x = 0.2, y = 0.2)\n",
    "\n",
    "G = nx.DiGraph()\n",
    "\n",
    "G.add_edges_from([('X', 'Y'), ('X', 'A'), ('B', 'X')])\n",
    "\n",
    "fixed_positions = {'X': (0, 0), 'Y': (3, 3), 'A': (3, 0), 'B': (0, 6)}\n",
    "\n",
    "nx.draw_networkx(G, with_labels = True, node_color = 'white', node_size = 1000, font_color = 'black', pos = fixed_positions)"
   ]
  },
  {
   "cell_type": "code",
   "execution_count": 146,
   "id": "cdeb58a2-583d-4997-a619-e289bea212dd",
   "metadata": {},
   "outputs": [
    {
     "data": {
      "image/png": "[encoded data removed]",
      "text/plain": [
       "<Figure size 640x480 with 1 Axes>"
      ]
     },
     "metadata": {},
     "output_type": "display_data"
    }
   ],
   "source": [
    "# create a directed graph\n",
    "# https://medium.com/@whystudying/causal-inference-with-python-causal-graphs-ef2f3a52c266\n",
    "plt.margins(x = 0.4)\n",
    "\n",
    "G = nx.DiGraph()\n",
    "\n",
    "# add edges from a list of tuples\n",
    "G.add_edges_from([('pesticides', 'deer'),\\\n",
    "                  ('pesticides', 'flowers'),\\\n",
    "                  ('deer', 'flowers'),\\\n",
    "                 ])\n",
    "\n",
    "# fix the positions of all three nodes\n",
    "fixed_positions = {'pesticides':(1.3,2),\\\n",
    "                   'deer':(0,0.5), \\\n",
    "                   'flowers':(2,0)}\n",
    "\n",
    "# draw the network\n",
    "nx.draw_networkx(G,\\\n",
    "                 with_labels = True,\\\n",
    "                 node_color = 'white',\\\n",
    "                 node_size = 1000, \\\n",
    "                 pos = fixed_positions, min_source_margin = 30, min_target_margin = 30)"
   ]
  },
  {
   "cell_type": "code",
   "execution_count": 188,
   "id": "d2efa349-dc53-44d5-8eef-71e43267cc45",
   "metadata": {},
   "outputs": [],
   "source": [
    "# Linear relationship\n",
    "num = 100\n",
    "Z_pesticides = np.maximum(np.random.normal(3, 1, num), 0)\n",
    "X_deer = np.maximum(np.random.normal(8, 2, num) - Z_pesticides, 0)\n",
    "Y_flowers = np.maximum(20 - Z_pesticides - X_deer + np.random.normal(0, 1, num), 0)"
   ]
  },
  {
   "cell_type": "code",
   "execution_count": 189,
   "id": "c3a6ff85-7e98-424e-a95c-3608b7418b40",
   "metadata": {},
   "outputs": [],
   "source": [
    "df = pd.DataFrame({\"X_deer\": X_deer})"
   ]
  },
  {
   "cell_type": "code",
   "execution_count": 190,
   "id": "011fba4a-7989-492c-ab23-383436f51824",
   "metadata": {},
   "outputs": [
    {
     "data": {
      "text/plain": [
       "const     15.759906\n",
       "X_deer    -0.772923\n",
       "dtype: float64"
      ]
     },
     "execution_count": 190,
     "metadata": {},
     "output_type": "execute_result"
    }
   ],
   "source": [
    "results = sm.OLS(Y_flowers, sm.add_constant(df)).fit()\n",
    "results.params"
   ]
  },
  {
   "cell_type": "code",
   "execution_count": 191,
   "id": "73f90885-8298-4af3-b235-53380a1e435b",
   "metadata": {},
   "outputs": [],
   "source": [
    "df2 = pd.DataFrame({\"X_deer\": X_deer, \"Z_pesticides\": Z_pesticides})"
   ]
  },
  {
   "cell_type": "code",
   "execution_count": 192,
   "id": "b0e1309d-8096-4e1e-9524-a0b1eb15cd42",
   "metadata": {},
   "outputs": [
    {
     "data": {
      "text/plain": [
       "const           20.104526\n",
       "X_deer          -1.006645\n",
       "Z_pesticides    -1.025825\n",
       "dtype: float64"
      ]
     },
     "execution_count": 192,
     "metadata": {},
     "output_type": "execute_result"
    }
   ],
   "source": [
    "results = sm.OLS(Y_flowers, sm.add_constant(df2)).fit()\n",
    "results.params"
   ]
  },
  {
   "cell_type": "markdown",
   "id": "413d47d4-935d-4d65-a47a-9e54949a15ff",
   "metadata": {},
   "source": [
    "### Interaction term"
   ]
  },
  {
   "cell_type": "code",
   "execution_count": 193,
   "id": "1915fc49-8897-4a3c-84f5-33485bf987be",
   "metadata": {},
   "outputs": [],
   "source": [
    "num = 10000\n",
    "Z_pesticides = np.maximum(np.random.normal(3, 1, num), 0)\n",
    "X_deer = np.maximum(np.random.normal(8, 2, num) - Z_pesticides, 0)\n",
    "Y_flowers_int = np.maximum(20 - Z_pesticides - X_deer + 0.2 * Z_pesticides * X_deer + np.random.normal(0, 1, num), 0)"
   ]
  },
  {
   "cell_type": "code",
   "execution_count": 194,
   "id": "556342f5-29f4-467a-bfcc-acd6f79e9290",
   "metadata": {},
   "outputs": [
    {
     "data": {
      "text/plain": [
       "const           16.853121\n",
       "X_deer          -0.403854\n",
       "Z_pesticides    -0.010752\n",
       "dtype: float64"
      ]
     },
     "execution_count": 194,
     "metadata": {},
     "output_type": "execute_result"
    }
   ],
   "source": [
    "df = pd.DataFrame({\"X_deer\": X_deer, \"Z_pesticides\": Z_pesticides})\n",
    "results = sm.OLS(Y_flowers_int, sm.add_constant(df)).fit()\n",
    "results.params"
   ]
  },
  {
   "cell_type": "code",
   "execution_count": 195,
   "id": "287d6d3e-b59f-4dfd-9d03-342e622d4b4b",
   "metadata": {},
   "outputs": [
    {
     "data": {
      "text/plain": [
       "const           19.913088\n",
       "X_deer          -0.980992\n",
       "Z_pesticides    -0.969849\n",
       "X_Z              0.193297\n",
       "dtype: float64"
      ]
     },
     "execution_count": 195,
     "metadata": {},
     "output_type": "execute_result"
    }
   ],
   "source": [
    "df_int = pd.DataFrame({\"X_deer\": X_deer, \"Z_pesticides\": Z_pesticides, \"X_Z\": X_deer * Z_pesticides})\n",
    "results = sm.OLS(Y_flowers_int, sm.add_constant(df_int)).fit()\n",
    "results.params"
   ]
  },
  {
   "cell_type": "markdown",
   "id": "b7a7fcb1-5717-4e79-aa28-fc39ab2350ed",
   "metadata": {},
   "source": [
    "### Nonlinear (Logistic) regression"
   ]
  },
  {
   "cell_type": "code",
   "execution_count": 204,
   "id": "406161cb-f781-46cb-a955-66e600066841",
   "metadata": {},
   "outputs": [],
   "source": [
    "num = 10000\n",
    "Z_pesticides = np.maximum(np.random.normal(3, 1, num), 0)\n",
    "X_deer = np.maximum(np.random.normal(8, 2, num) - Z_pesticides, 0)\n",
    "true_prob_flowers_lr = 1 / (1 + np.exp(-(4 - 0.5 * Z_pesticides - 0.5 * X_deer)))\n",
    "Y_flowers_lr = np.random.binomial(1, true_prob_flowers_lr)"
   ]
  },
  {
   "cell_type": "code",
   "execution_count": 205,
   "id": "9569cbef-7e10-4e95-9be5-5b8cc60a251e",
   "metadata": {},
   "outputs": [
    {
     "data": {
      "text/plain": [
       "const           1.329019\n",
       "X_deer         -0.104666\n",
       "Z_pesticides   -0.102926\n",
       "dtype: float64"
      ]
     },
     "execution_count": 205,
     "metadata": {},
     "output_type": "execute_result"
    }
   ],
   "source": [
    "df_lr = pd.DataFrame({\"X_deer\": X_deer, \"Z_pesticides\": Z_pesticides})\n",
    "results = sm.OLS(Y_flowers_lr, sm.add_constant(df_lr)).fit()\n",
    "results.params"
   ]
  },
  {
   "cell_type": "code",
   "execution_count": 206,
   "id": "d725d01c-d88a-4275-99ac-b86c5a2db6f3",
   "metadata": {},
   "outputs": [
    {
     "data": {
      "text/plain": [
       "array([[1.        , 0.41509308],\n",
       "       [0.41509308, 1.        ]])"
      ]
     },
     "execution_count": 206,
     "metadata": {},
     "output_type": "execute_result"
    }
   ],
   "source": [
    "np.corrcoef(results.predict(sm.add_constant(df_lr)), Y_flowers_lr)"
   ]
  },
  {
   "cell_type": "code",
   "execution_count": 207,
   "id": "b6fc66f8-1a93-4055-801d-20398741ae64",
   "metadata": {},
   "outputs": [
    {
     "name": "stdout",
     "output_type": "stream",
     "text": [
      "Optimization terminated successfully.\n",
      "         Current function value: 0.598663\n",
      "         Iterations 5\n"
     ]
    },
    {
     "data": {
      "text/plain": [
       "const           4.003997\n",
       "X_deer         -0.505131\n",
       "Z_pesticides   -0.498942\n",
       "dtype: float64"
      ]
     },
     "execution_count": 207,
     "metadata": {},
     "output_type": "execute_result"
    }
   ],
   "source": [
    "results = sm.Logit(Y_flowers_lr, sm.add_constant(df_lr)).fit()\n",
    "results.params"
   ]
  },
  {
   "cell_type": "code",
   "execution_count": 219,
   "id": "b67b9a28-34e1-4b80-ae50-f13e90736eb3",
   "metadata": {},
   "outputs": [
    {
     "data": {
      "text/plain": [
       "array([[1.        , 0.41731643],\n",
       "       [0.41731643, 1.        ]])"
      ]
     },
     "execution_count": 219,
     "metadata": {},
     "output_type": "execute_result"
    }
   ],
   "source": [
    "probs = results.predict(sm.add_constant(df_lr))\n",
    "preds = 1 * (probs > 0.5)\n",
    "np.corrcoef(probs, Y_flowers_lr)"
   ]
  },
  {
   "cell_type": "code",
   "execution_count": 220,
   "id": "bfb6e802-b939-4e17-a3a6-178d7a673590",
   "metadata": {},
   "outputs": [
    {
     "name": "stdout",
     "output_type": "stream",
     "text": [
      "0.6737\n",
      "0.7397158772926791\n"
     ]
    }
   ],
   "source": [
    "print(accuracy_score(Y_flowers_lr, preds))\n",
    "print(roc_auc_score(Y_flowers_lr, probs))"
   ]
  },
  {
   "cell_type": "markdown",
   "id": "9e27f9f5-bc27-484f-aa06-5854f5c3a6fa",
   "metadata": {},
   "source": [
    "# A backdoor path: we can control for any item in the path"
   ]
  },
  {
   "cell_type": "code",
   "execution_count": 221,
   "id": "f0eefb3f-1287-4451-b7ba-2e099d3298a2",
   "metadata": {},
   "outputs": [
    {
     "data": {
      "image/png": "[encoded data removed]",
      "text/plain": [
       "<Figure size 640x480 with 1 Axes>"
      ]
     },
     "metadata": {},
     "output_type": "display_data"
    }
   ],
   "source": [
    "# create a directed graph\n",
    "# This time, cold weather kills flowers.  Cold weather also chases humans away, which invites deer to return.\n",
    "# https://medium.com/@whystudying/causal-inference-with-python-causal-graphs-ef2f3a52c266\n",
    "plt.margins(x = 0.4)\n",
    "\n",
    "G = nx.DiGraph()\n",
    "\n",
    "# add edges from a list of tuples\n",
    "G.add_edges_from([('humans', 'deer'),\\\n",
    "                  ('cold weather', 'humans'),\\\n",
    "                  ('cold weather', 'flowers'),\\\n",
    "                  ('deer', 'flowers'),\\\n",
    "                 ])\n",
    "\n",
    "# fix the positions of all three nodes\n",
    "fixed_positions = {'cold weather':(1.3,2),\\\n",
    "                   'humans':(0,1),\\\n",
    "                   'deer':(0,0), \\\n",
    "                   'flowers':(2,0)}\n",
    "\n",
    "# draw the network\n",
    "nx.draw_networkx(G,\\\n",
    "                 with_labels = True,\\\n",
    "                 node_color = 'white',\\\n",
    "                 node_size = 1000,\\\n",
    "                 pos = fixed_positions, min_source_margin = 30, min_target_margin = 30)"
   ]
  },
  {
   "cell_type": "code",
   "execution_count": 12,
   "id": "2e33af75-7a9e-4892-ac4f-552da458a234",
   "metadata": {},
   "outputs": [],
   "source": [
    "num = 10000\n",
    "W_temp = np.random.normal(50, 10, num)\n",
    "W_humans = 100 - W_temp + np.random.normal(0, 5, num)\n",
    "X_deer = 150 - W_humans + np.random.normal(0, 10, num)\n",
    "Y_flowers = 20 + W_temp - 0.3 * X_deer + np.random.normal(0, 5, num)\n",
    "df = pd.DataFrame({\"W_temp\": W_temp, \"W_humans\": W_humans, \"X_deer\": X_deer, \"Y_flowers\": Y_flowers})"
   ]
  },
  {
   "cell_type": "code",
   "execution_count": 13,
   "id": "98c8656a-60a6-41ba-bd4c-ff6a81bd87b5",
   "metadata": {},
   "outputs": [
    {
     "data": {
      "text/html": [
       "<div>\n",
       "<style scoped>\n",
       "    .dataframe tbody tr th:only-of-type {\n",
       "        vertical-align: middle;\n",
       "    }\n",
       "\n",
       "    .dataframe tbody tr th {\n",
       "        vertical-align: top;\n",
       "    }\n",
       "\n",
       "    .dataframe thead th {\n",
       "        text-align: right;\n",
       "    }\n",
       "</style>\n",
       "<table border=\"1\" class=\"dataframe\">\n",
       "  <thead>\n",
       "    <tr style=\"text-align: right;\">\n",
       "      <th></th>\n",
       "      <th>W_temp</th>\n",
       "      <th>W_humans</th>\n",
       "      <th>X_deer</th>\n",
       "      <th>Y_flowers</th>\n",
       "    </tr>\n",
       "  </thead>\n",
       "  <tbody>\n",
       "    <tr>\n",
       "      <th>W_temp</th>\n",
       "      <td>1.000000</td>\n",
       "      <td>-0.893976</td>\n",
       "      <td>0.670381</td>\n",
       "      <td>0.760418</td>\n",
       "    </tr>\n",
       "    <tr>\n",
       "      <th>W_humans</th>\n",
       "      <td>-0.893976</td>\n",
       "      <td>1.000000</td>\n",
       "      <td>-0.744811</td>\n",
       "      <td>-0.603757</td>\n",
       "    </tr>\n",
       "    <tr>\n",
       "      <th>X_deer</th>\n",
       "      <td>0.670381</td>\n",
       "      <td>-0.744811</td>\n",
       "      <td>1.000000</td>\n",
       "      <td>0.241612</td>\n",
       "    </tr>\n",
       "    <tr>\n",
       "      <th>Y_flowers</th>\n",
       "      <td>0.760418</td>\n",
       "      <td>-0.603757</td>\n",
       "      <td>0.241612</td>\n",
       "      <td>1.000000</td>\n",
       "    </tr>\n",
       "  </tbody>\n",
       "</table>\n",
       "</div>"
      ],
      "text/plain": [
       "             W_temp  W_humans    X_deer  Y_flowers\n",
       "W_temp     1.000000 -0.893976  0.670381   0.760418\n",
       "W_humans  -0.893976  1.000000 -0.744811  -0.603757\n",
       "X_deer     0.670381 -0.744811  1.000000   0.241612\n",
       "Y_flowers  0.760418 -0.603757  0.241612   1.000000"
      ]
     },
     "execution_count": 13,
     "metadata": {},
     "output_type": "execute_result"
    }
   ],
   "source": [
    "df.corr()"
   ]
  },
  {
   "cell_type": "code",
   "execution_count": 14,
   "id": "5cce169a-6478-4b2b-89b6-60a0f9507c04",
   "metadata": {},
   "outputs": [
    {
     "data": {
      "text/plain": [
       "const     25.067525\n",
       "X_deer     0.149198\n",
       "dtype: float64"
      ]
     },
     "execution_count": 14,
     "metadata": {},
     "output_type": "execute_result"
    }
   ],
   "source": [
    "# Find effect of deer on flowers - no control\n",
    "results = sm.OLS(Y_flowers, sm.add_constant(df[[\"X_deer\"]])).fit()\n",
    "results.params"
   ]
  },
  {
   "cell_type": "code",
   "execution_count": 15,
   "id": "e4bcbb71-2c7d-4891-bb72-89fbdc85a30c",
   "metadata": {},
   "outputs": [
    {
     "data": {
      "text/plain": [
       "const       108.051970\n",
       "X_deer       -0.288567\n",
       "W_humans     -0.783755\n",
       "dtype: float64"
      ]
     },
     "execution_count": 15,
     "metadata": {},
     "output_type": "execute_result"
    }
   ],
   "source": [
    "# Find effect of deer on flowers - control for humans \n",
    "results = sm.OLS(Y_flowers, sm.add_constant(df[[\"X_deer\", \"W_humans\"]])).fit()\n",
    "results.params"
   ]
  },
  {
   "cell_type": "code",
   "execution_count": 16,
   "id": "a6df62be-20ba-4270-9cad-af3393cd9a00",
   "metadata": {},
   "outputs": [
    {
     "data": {
      "text/plain": [
       "const     19.835312\n",
       "X_deer    -0.300749\n",
       "W_temp     1.005182\n",
       "dtype: float64"
      ]
     },
     "execution_count": 16,
     "metadata": {},
     "output_type": "execute_result"
    }
   ],
   "source": [
    "# Find effect of deer on flowers - control for temp \n",
    "results = sm.OLS(Y_flowers, sm.add_constant(df[[\"X_deer\", \"W_temp\"]])).fit()\n",
    "results.params"
   ]
  },
  {
   "cell_type": "markdown",
   "id": "fb389f49-d2c8-4c3f-9e94-d9d54685d0fd",
   "metadata": {},
   "source": [
    "# Two Front Door Paths: not necessary to control for either"
   ]
  },
  {
   "cell_type": "code",
   "execution_count": 226,
   "id": "e17c84a5-bc0f-4dfc-aef8-8a5f58c9d75a",
   "metadata": {},
   "outputs": [
    {
     "data": {
      "image/png": "[encoded data removed]",
      "text/plain": [
       "<Figure size 640x480 with 1 Axes>"
      ]
     },
     "metadata": {},
     "output_type": "display_data"
    }
   ],
   "source": [
    "# create a directed graph\n",
    "# This time, cold weather kills flowers.  Cold weather also chases humans away, which invites deer to return.\n",
    "# https://medium.com/@whystudying/causal-inference-with-python-causal-graphs-ef2f3a52c266\n",
    "plt.margins(x = 0.4)\n",
    "\n",
    "G = nx.DiGraph()\n",
    "\n",
    "# add edges from a list of tuples\n",
    "G.add_edges_from([('exercise', 'muscle strength'),\\\n",
    "                  ('muscle strength', 'athletic performance'),\\\n",
    "                  ('exercise', 'endurance'),\\\n",
    "                  ('endurance', 'athletic performance'),\\\n",
    "                 ])\n",
    "                  #('social_media_usage', 'creativity')])\n",
    "\n",
    "# fix the positions of all three nodes\n",
    "fixed_positions = {'exercise':(0, 0.5),\\\n",
    "                   'muscle strength':(0.5,0),\\\n",
    "                   'endurance':(0.5,1), \\\n",
    "                   'athletic performance':(1,0.5)}\n",
    "\n",
    "# draw the network\n",
    "nx.draw_networkx(G,\\\n",
    "                 with_labels = True,\\\n",
    "                 node_color = 'white',\\\n",
    "                 node_size = 1000,\\\n",
    "                 pos = fixed_positions, min_source_margin = 30, min_target_margin = 30)"
   ]
  },
  {
   "cell_type": "code",
   "execution_count": 233,
   "id": "49c20642-de50-4570-b6cf-3cc87603abb1",
   "metadata": {},
   "outputs": [],
   "source": [
    "num = 10000\n",
    "X_exercise = np.random.normal(10, 2, num)\n",
    "A_endurance = np.maximum(0.5 * X_exercise + np.random.normal(0, 1, num), 0)\n",
    "B_muscle = np.maximum(2 * X_exercise + np.random.normal(0, 1, num), 0)\n",
    "Y_performance = 2 + A_endurance + B_muscle + np.random.normal(0, 1, num)\n",
    "df = pd.DataFrame({\"X_exercise\": X_exercise})"
   ]
  },
  {
   "cell_type": "code",
   "execution_count": 234,
   "id": "199e7793-c249-4a20-8917-83813ef6746d",
   "metadata": {},
   "outputs": [
    {
     "data": {
      "text/plain": [
       "const         2.028895\n",
       "X_exercise    2.498400\n",
       "dtype: float64"
      ]
     },
     "execution_count": 234,
     "metadata": {},
     "output_type": "execute_result"
    }
   ],
   "source": [
    "results = sm.OLS(Y_performance, sm.add_constant(df)).fit()\n",
    "results.params"
   ]
  },
  {
   "cell_type": "code",
   "execution_count": 235,
   "id": "f956648c-03ed-4f76-9425-7d89428b1c99",
   "metadata": {},
   "outputs": [
    {
     "data": {
      "text/plain": [
       "const          2.022124\n",
       "X_exercise    -0.020451\n",
       "A_endurance    1.008774\n",
       "B_muscle       1.006858\n",
       "dtype: float64"
      ]
     },
     "execution_count": 235,
     "metadata": {},
     "output_type": "execute_result"
    }
   ],
   "source": [
    "df_wrong = pd.DataFrame({\"X_exercise\": X_exercise, \"A_endurance\": A_endurance, \"B_muscle\": B_muscle})\n",
    "results = sm.OLS(Y_performance, sm.add_constant(df_wrong)).fit()\n",
    "results.params"
   ]
  },
  {
   "cell_type": "markdown",
   "id": "65fae7d1-78c0-4273-ba4e-831ad287b5b7",
   "metadata": {},
   "source": [
    "# Collider: we should not control for it"
   ]
  },
  {
   "cell_type": "code",
   "execution_count": 236,
   "id": "96cef90a-4f25-4b2c-93b2-872078c7e7fa",
   "metadata": {},
   "outputs": [
    {
     "data": {
      "image/png": "[encoded data removed]",
      "text/plain": [
       "<Figure size 640x480 with 1 Axes>"
      ]
     },
     "metadata": {},
     "output_type": "display_data"
    }
   ],
   "source": [
    "# create a directed graph\n",
    "# https://medium.com/@whystudying/causal-inference-with-python-causal-graphs-ef2f3a52c266\n",
    "plt.margins(x = 0.4)\n",
    "\n",
    "G = nx.DiGraph()\n",
    "\n",
    "# add edges from a list of tuples\n",
    "G.add_edges_from([('sunny weather', 'sunburn'),\\\n",
    "                  ('time outdoors', 'sunburn'),\\\n",
    "                  ('sunny weather', 'time outdoors'),\\\n",
    "                 ])\n",
    "\n",
    "# fix the positions of all three nodes\n",
    "fixed_positions = {'sunny weather':(0,0.5),\\\n",
    "                   'time outdoors':(1,0), \\\n",
    "                   'sunburn':(0.5,1)}\n",
    "\n",
    "# draw the network\n",
    "nx.draw_networkx(G,\\\n",
    "                 with_labels = True,\\\n",
    "                 node_color = 'white',\\\n",
    "                 node_size = 1000,\\\n",
    "                 pos = fixed_positions, min_source_margin = 30, min_target_margin = 30)"
   ]
  },
  {
   "cell_type": "code",
   "execution_count": 17,
   "id": "759033aa-1a40-41ff-a93c-de9cc4bef6e5",
   "metadata": {},
   "outputs": [
    {
     "data": {
      "text/plain": [
       "const        0.023297\n",
       "X_sun       -0.591386\n",
       "C_sunburn    0.793242\n",
       "dtype: float64"
      ]
     },
     "execution_count": 17,
     "metadata": {},
     "output_type": "execute_result"
    }
   ],
   "source": [
    "num = 10000\n",
    "X_sun = 5 + 2 * np.random.normal(0, 1, num)\n",
    "Y_outdoors = X_sun + 2 * np.random.normal(0, 1, num)\n",
    "C_sunburn = X_sun + Y_outdoors + np.random.normal(0, 1, num)\n",
    "\n",
    "df = pd.DataFrame({\"X_sun\": X_sun, \"C_sunburn\": C_sunburn}) # We're not supposed to do this\n",
    "results = sm.OLS(Y_outdoors, sm.add_constant(df)).fit()\n",
    "results.params"
   ]
  },
  {
   "cell_type": "code",
   "execution_count": 18,
   "id": "b91b504f-d7f3-4217-b57a-ba5015624a19",
   "metadata": {},
   "outputs": [
    {
     "data": {
      "text/plain": [
       "const    0.021509\n",
       "X_sun    0.999208\n",
       "dtype: float64"
      ]
     },
     "execution_count": 18,
     "metadata": {},
     "output_type": "execute_result"
    }
   ],
   "source": [
    "df = pd.DataFrame({\"X_sun\": X_sun})\n",
    "results = sm.OLS(Y_outdoors, sm.add_constant(df)).fit()\n",
    "results.params"
   ]
  },
  {
   "cell_type": "code",
   "execution_count": 19,
   "id": "2ae8accc-ae5d-47d6-8189-99b9302210ee",
   "metadata": {},
   "outputs": [
    {
     "data": {
      "text/plain": [
       "const    0.053790\n",
       "X_sun    0.009992\n",
       "dtype: float64"
      ]
     },
     "execution_count": 19,
     "metadata": {},
     "output_type": "execute_result"
    }
   ],
   "source": [
    "results.bse"
   ]
  },
  {
   "cell_type": "code",
   "execution_count": null,
   "id": "5e0430dd-a1ae-4773-a67d-a14d53eced71",
   "metadata": {},
   "outputs": [],
   "source": []
  }
 ],
 "metadata": {
  "kernelspec": {
   "display_name": "Python 3 (ipykernel)",
   "language": "python",
   "name": "python3"
  },
  "language_info": {
   "codemirror_mode": {
    "name": "ipython",
    "version": 3
   },
   "file_extension": ".py",
   "mimetype": "text/x-python",
   "name": "python",
   "nbconvert_exporter": "python",
   "pygments_lexer": "ipython3",
   "version": "3.12.0"
  }
 },
 "nbformat": 4,
 "nbformat_minor": 5
}
