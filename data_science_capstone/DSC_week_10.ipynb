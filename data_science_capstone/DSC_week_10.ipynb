{
 "cells": [
  {
   "cell_type": "markdown",
   "id": "17ccfcbf",
   "metadata": {},
   "source": [
    "# Welcome to Week 10!\n",
    "This week, you will explore concepts related to k-means, specifically elbow method, Silhouette score, feature scaling, and distance metrics. \n",
    "\n",
    "## Learning Objectives\n",
    "At the end of this week, you should be able to: \n",
    "- Explain the k-means clustering algorithm \n",
    "- Apply the elbow method to determine the optimal number of clusters \n",
    "- Describe the calculations for the elbow method and the Silhouette score for cluster evaluation \n",
    "- Explain the importance of distance metrics and feature scaling in k-means"
   ]
  },
  {
   "cell_type": "markdown",
   "id": "24460b76",
   "metadata": {},
   "source": [
    "## 10.1 Lesson: Clustering - Part 1\n",
    "\n",
    "### K-Means - Elbow Method\n",
    "Suppose we have a set of fruits whose taste can be rated on a scale of 1 to 5 for the following features: sweetness, sourness, bitterness, and juiciness. We want to know which fruits “go together.”"
   ]
  },
  {
   "cell_type": "code",
   "execution_count": 15,
   "id": "57235709",
   "metadata": {},
   "outputs": [
    {
     "data": {
      "application/vnd.microsoft.datawrangler.viewer.v0+json": {
       "columns": [
        {
         "name": "index",
         "rawType": "int64",
         "type": "integer"
        },
        {
         "name": "Fruit",
         "rawType": "object",
         "type": "string"
        },
        {
         "name": "Sweetness (1-5)",
         "rawType": "int64",
         "type": "integer"
        },
        {
         "name": "Sourness (1-5)",
         "rawType": "int64",
         "type": "integer"
        },
        {
         "name": "Bitterness (1-5)",
         "rawType": "int64",
         "type": "integer"
        },
        {
         "name": "Juiciness (1-5)",
         "rawType": "int64",
         "type": "integer"
        }
       ],
       "ref": "a5ae56c5-626b-44ba-8c09-a308ed6f8bf4",
       "rows": [
        [
         "0",
         "Apple",
         "4",
         "2",
         "1",
         "4"
        ],
        [
         "1",
         "Lemon",
         "1",
         "5",
         "2",
         "5"
        ],
        [
         "2",
         "Banana",
         "5",
         "1",
         "1",
         "3"
        ],
        [
         "3",
         "Grapefruit",
         "3",
         "4",
         "3",
         "5"
        ],
        [
         "4",
         "Mango",
         "5",
         "2",
         "1",
         "5"
        ],
        [
         "5",
         "Blueberry",
         "3",
         "3",
         "2",
         "3"
        ]
       ],
       "shape": {
        "columns": 5,
        "rows": 6
       }
      },
      "text/html": [
       "<div>\n",
       "<style scoped>\n",
       "    .dataframe tbody tr th:only-of-type {\n",
       "        vertical-align: middle;\n",
       "    }\n",
       "\n",
       "    .dataframe tbody tr th {\n",
       "        vertical-align: top;\n",
       "    }\n",
       "\n",
       "    .dataframe thead th {\n",
       "        text-align: right;\n",
       "    }\n",
       "</style>\n",
       "<table border=\"1\" class=\"dataframe\">\n",
       "  <thead>\n",
       "    <tr style=\"text-align: right;\">\n",
       "      <th></th>\n",
       "      <th>Fruit</th>\n",
       "      <th>Sweetness (1-5)</th>\n",
       "      <th>Sourness (1-5)</th>\n",
       "      <th>Bitterness (1-5)</th>\n",
       "      <th>Juiciness (1-5)</th>\n",
       "    </tr>\n",
       "  </thead>\n",
       "  <tbody>\n",
       "    <tr>\n",
       "      <th>0</th>\n",
       "      <td>Apple</td>\n",
       "      <td>4</td>\n",
       "      <td>2</td>\n",
       "      <td>1</td>\n",
       "      <td>4</td>\n",
       "    </tr>\n",
       "    <tr>\n",
       "      <th>1</th>\n",
       "      <td>Lemon</td>\n",
       "      <td>1</td>\n",
       "      <td>5</td>\n",
       "      <td>2</td>\n",
       "      <td>5</td>\n",
       "    </tr>\n",
       "    <tr>\n",
       "      <th>2</th>\n",
       "      <td>Banana</td>\n",
       "      <td>5</td>\n",
       "      <td>1</td>\n",
       "      <td>1</td>\n",
       "      <td>3</td>\n",
       "    </tr>\n",
       "    <tr>\n",
       "      <th>3</th>\n",
       "      <td>Grapefruit</td>\n",
       "      <td>3</td>\n",
       "      <td>4</td>\n",
       "      <td>3</td>\n",
       "      <td>5</td>\n",
       "    </tr>\n",
       "    <tr>\n",
       "      <th>4</th>\n",
       "      <td>Mango</td>\n",
       "      <td>5</td>\n",
       "      <td>2</td>\n",
       "      <td>1</td>\n",
       "      <td>5</td>\n",
       "    </tr>\n",
       "    <tr>\n",
       "      <th>5</th>\n",
       "      <td>Blueberry</td>\n",
       "      <td>3</td>\n",
       "      <td>3</td>\n",
       "      <td>2</td>\n",
       "      <td>3</td>\n",
       "    </tr>\n",
       "  </tbody>\n",
       "</table>\n",
       "</div>"
      ],
      "text/plain": [
       "        Fruit  Sweetness (1-5)  Sourness (1-5)  Bitterness (1-5)  \\\n",
       "0       Apple                4               2                 1   \n",
       "1       Lemon                1               5                 2   \n",
       "2      Banana                5               1                 1   \n",
       "3  Grapefruit                3               4                 3   \n",
       "4       Mango                5               2                 1   \n",
       "5   Blueberry                3               3                 2   \n",
       "\n",
       "   Juiciness (1-5)  \n",
       "0                4  \n",
       "1                5  \n",
       "2                3  \n",
       "3                5  \n",
       "4                5  \n",
       "5                3  "
      ]
     },
     "execution_count": 15,
     "metadata": {},
     "output_type": "execute_result"
    }
   ],
   "source": [
    "import pandas as pd\n",
    "\n",
    "ratings = {\n",
    "    'Fruit': [\n",
    "        'Apple',\n",
    "        'Lemon',\n",
    "        'Banana',\n",
    "        'Grapefruit',\n",
    "        'Mango',\n",
    "        'Blueberry'\n",
    "    ],\n",
    "    'Sweetness (1-5)': [4, 1, 5, 3, 5, 3],\n",
    "    'Sourness (1-5)' : [2, 5, 1, 4, 2, 3],\n",
    "    'Bitterness (1-5)': [1, 2, 1, 3, 1, 2],\n",
    "    'Juiciness (1-5)': [4, 5, 3, 5, 5, 3],\n",
    "}\n",
    "\n",
    "df = pd.DataFrame(ratings)\n",
    "df"
   ]
  },
  {
   "cell_type": "markdown",
   "id": "d4994366",
   "metadata": {},
   "source": [
    "Say we want to group these fruits into three clusters, with similar fruits in each cluster. What should the clusters look like?\n",
    "\n",
    "With **k-means**, we pick the cluster centroids arbitrarily. (Note: the **centroid** is the geometrical center of the cluster - the average of the points in the cluster. The **cluster** is the set of points.)\n",
    "\n",
    "Suppose we pick the apple values as the centroid:"
   ]
  },
  {
   "cell_type": "code",
   "execution_count": 16,
   "id": "d4443153",
   "metadata": {},
   "outputs": [
    {
     "data": {
      "text/plain": [
       "array([4, 2, 1, 4], dtype=object)"
      ]
     },
     "execution_count": 16,
     "metadata": {},
     "output_type": "execute_result"
    }
   ],
   "source": [
    "centroid = df.iloc[0, 1:].values\n",
    "centroid"
   ]
  },
  {
   "cell_type": "markdown",
   "id": "d2f5a7e7",
   "metadata": {},
   "source": [
    "Then we can measure the distance of each fruit from the apple. \n",
    "\n",
    "For instance, the distance of the lemon from the apple is:\n",
    "\n",
    "$$\\sqrt{(4 - 2)^2 + (2 - 5)^2 + (1 - 2)^2 + (4-5)^2} \\; = \\; \\sqrt{9 + 9 + 1 + 1} \\; = \\; \\sqrt{20}$$"
   ]
  },
  {
   "cell_type": "code",
   "execution_count": 17,
   "id": "c418515a",
   "metadata": {},
   "outputs": [
    {
     "data": {
      "text/plain": [
       "4.47213595499958"
      ]
     },
     "execution_count": 17,
     "metadata": {},
     "output_type": "execute_result"
    }
   ],
   "source": [
    "# calculate the distance of the lemon from the apple\n",
    "lemon = df.iloc[1, 1:].values\n",
    "distance = ((lemon - centroid) ** 2).sum() ** 0.5\n",
    "distance"
   ]
  },
  {
   "cell_type": "markdown",
   "id": "efc30f0f",
   "metadata": {},
   "source": [
    "It appears that the sweetness of the apple and the sourness of the lemon are really what differentiate the two fruites. \n",
    "\n",
    "If we pick three centroids - say, the apple, grapefruit, and lemon, then we can measure which fruits are closest to the apple, which are closest ot the grapefruit, and which are closest to the lemon. As it turns out, everything is closer to the apple. So apart from the lemon and grapefruit, which are their own clusters, we have a cluster composed of:\n",
    "\n",
    "`[\"Apple\", \"Banana\", \"Mango\" \"Blueberry\"]`"
   ]
  },
  {
   "cell_type": "code",
   "execution_count": null,
   "id": "6473876b",
   "metadata": {},
   "outputs": [
    {
     "data": {
      "application/vnd.microsoft.datawrangler.viewer.v0+json": {
       "columns": [
        {
         "name": "index",
         "rawType": "int64",
         "type": "integer"
        },
        {
         "name": "Fruit",
         "rawType": "object",
         "type": "string"
        },
        {
         "name": "Distance from Apple",
         "rawType": "float64",
         "type": "float"
        },
        {
         "name": "Distance from Grapefruit",
         "rawType": "float64",
         "type": "float"
        },
        {
         "name": "Distance from Lemon",
         "rawType": "float64",
         "type": "float"
        },
        {
         "name": "Nearest Centroid",
         "rawType": "object",
         "type": "string"
        }
       ],
       "ref": "58b96ad7-117a-4a6f-970e-b799312a6f99",
       "rows": [
        [
         "0",
         "Apple",
         "0.0",
         "3.1622776601683795",
         "4.47213595499958",
         "Apple"
        ],
        [
         "1",
         "Lemon",
         "4.47213595499958",
         "2.449489742783178",
         "0.0",
         "Lemon"
        ],
        [
         "2",
         "Banana",
         "1.7320508075688772",
         "4.58257569495584",
         "6.082762530298219",
         "Apple"
        ],
        [
         "3",
         "Grapefruit",
         "3.1622776601683795",
         "0.0",
         "2.449489742783178",
         "Grapefruit"
        ],
        [
         "4",
         "Mango",
         "1.4142135623730951",
         "3.4641016151377544",
         "5.0990195135927845",
         "Apple"
        ],
        [
         "5",
         "Blueberry",
         "2.0",
         "2.449489742783178",
         "3.4641016151377544",
         "Apple"
        ]
       ],
       "shape": {
        "columns": 5,
        "rows": 6
       }
      },
      "text/html": [
       "<div>\n",
       "<style scoped>\n",
       "    .dataframe tbody tr th:only-of-type {\n",
       "        vertical-align: middle;\n",
       "    }\n",
       "\n",
       "    .dataframe tbody tr th {\n",
       "        vertical-align: top;\n",
       "    }\n",
       "\n",
       "    .dataframe thead th {\n",
       "        text-align: right;\n",
       "    }\n",
       "</style>\n",
       "<table border=\"1\" class=\"dataframe\">\n",
       "  <thead>\n",
       "    <tr style=\"text-align: right;\">\n",
       "      <th></th>\n",
       "      <th>Fruit</th>\n",
       "      <th>Distance from Apple</th>\n",
       "      <th>Distance from Grapefruit</th>\n",
       "      <th>Distance from Lemon</th>\n",
       "      <th>Nearest Centroid</th>\n",
       "    </tr>\n",
       "  </thead>\n",
       "  <tbody>\n",
       "    <tr>\n",
       "      <th>0</th>\n",
       "      <td>Apple</td>\n",
       "      <td>0.000000</td>\n",
       "      <td>3.162278</td>\n",
       "      <td>4.472136</td>\n",
       "      <td>Apple</td>\n",
       "    </tr>\n",
       "    <tr>\n",
       "      <th>1</th>\n",
       "      <td>Lemon</td>\n",
       "      <td>4.472136</td>\n",
       "      <td>2.449490</td>\n",
       "      <td>0.000000</td>\n",
       "      <td>Lemon</td>\n",
       "    </tr>\n",
       "    <tr>\n",
       "      <th>2</th>\n",
       "      <td>Banana</td>\n",
       "      <td>1.732051</td>\n",
       "      <td>4.582576</td>\n",
       "      <td>6.082763</td>\n",
       "      <td>Apple</td>\n",
       "    </tr>\n",
       "    <tr>\n",
       "      <th>3</th>\n",
       "      <td>Grapefruit</td>\n",
       "      <td>3.162278</td>\n",
       "      <td>0.000000</td>\n",
       "      <td>2.449490</td>\n",
       "      <td>Grapefruit</td>\n",
       "    </tr>\n",
       "    <tr>\n",
       "      <th>4</th>\n",
       "      <td>Mango</td>\n",
       "      <td>1.414214</td>\n",
       "      <td>3.464102</td>\n",
       "      <td>5.099020</td>\n",
       "      <td>Apple</td>\n",
       "    </tr>\n",
       "    <tr>\n",
       "      <th>5</th>\n",
       "      <td>Blueberry</td>\n",
       "      <td>2.000000</td>\n",
       "      <td>2.449490</td>\n",
       "      <td>3.464102</td>\n",
       "      <td>Apple</td>\n",
       "    </tr>\n",
       "  </tbody>\n",
       "</table>\n",
       "</div>"
      ],
      "text/plain": [
       "        Fruit  Distance from Apple  Distance from Grapefruit  \\\n",
       "0       Apple             0.000000                  3.162278   \n",
       "1       Lemon             4.472136                  2.449490   \n",
       "2      Banana             1.732051                  4.582576   \n",
       "3  Grapefruit             3.162278                  0.000000   \n",
       "4       Mango             1.414214                  3.464102   \n",
       "5   Blueberry             2.000000                  2.449490   \n",
       "\n",
       "   Distance from Lemon Nearest Centroid  \n",
       "0             4.472136            Apple  \n",
       "1             0.000000            Lemon  \n",
       "2             6.082763            Apple  \n",
       "3             2.449490       Grapefruit  \n",
       "4             5.099020            Apple  \n",
       "5             3.464102            Apple  "
      ]
     },
     "execution_count": 38,
     "metadata": {},
     "output_type": "execute_result"
    }
   ],
   "source": [
    "import numpy as np\n",
    "import pandas as pd\n",
    "\n",
    "# 1) pull out your centroids as vectors\n",
    "apple      = df.loc[df['Fruit']=='Apple', df.columns[1:]].values[0]\n",
    "grapefruit = df.loc[df['Fruit']=='Grapefruit', df.columns[1:]].values[0]\n",
    "lemon      = df.loc[df['Fruit']=='Lemon', df.columns[1:]].values[0]\n",
    "\n",
    "# 2) build a list of rows\n",
    "rows = []\n",
    "for name, vec in zip(df['Fruit'], df.iloc[:, 1:].values):\n",
    "    # compute distances\n",
    "    dists = {\n",
    "        'Apple': np.linalg.norm(vec - apple),\n",
    "        'Grapefruit': np.linalg.norm(vec - grapefruit),\n",
    "        'Lemon':np.linalg.norm(vec - lemon),\n",
    "    }\n",
    "    # pick the nearest\n",
    "    nearest = min(dists, key=dists.get)\n",
    "\n",
    "    rows.append({\n",
    "        'Fruit': name,\n",
    "        'Distance from Apple': dists['Apple'],\n",
    "        'Distance from Grapefruit': dists['Grapefruit'],\n",
    "        'Distance from Lemon': dists['Lemon'],\n",
    "        'Nearest Centroid': nearest\n",
    "    })\n",
    "\n",
    "# 3) make your DataFrame\n",
    "results_df = pd.DataFrame(rows)\n",
    "results_df"
   ]
  },
  {
   "cell_type": "code",
   "execution_count": 45,
   "id": "4abc3654",
   "metadata": {},
   "outputs": [
    {
     "data": {
      "text/plain": [
       "['Apple', 'Banana', 'Mango', 'Blueberry']"
      ]
     },
     "execution_count": 45,
     "metadata": {},
     "output_type": "execute_result"
    }
   ],
   "source": [
    "new_centroid = results_df.loc[results_df['Nearest Centroid'] == 'Apple']['Fruit'].to_list()\n",
    "centroid_list = new_centroid\n",
    "centroid_list"
   ]
  },
  {
   "cell_type": "markdown",
   "id": "6e82400a",
   "metadata": {},
   "source": [
    "Now, let’s find a better centroid for that cluster. The apple is at `[4, 2, 1, 4]`, but to find a better centroid, we should average the four fruits in the cluster:\n",
    "- [4, 2, 1, 4]  \n",
    "- [5, 1, 1, 3]  \n",
    "- [5, 2, 1, 5]  \n",
    "- [3, 3, 2, 3]  "
   ]
  },
  {
   "cell_type": "code",
   "execution_count": 48,
   "id": "c50f2f76",
   "metadata": {},
   "outputs": [
    {
     "name": "stdout",
     "output_type": "stream",
     "text": [
      "[4.25 2.   1.25 3.75]\n"
     ]
    }
   ],
   "source": [
    "avg_apple = df.loc[df['Fruit'].isin(new_centroid), df.columns[1:]].mean().values\n",
    "print(avg_apple)"
   ]
  },
  {
   "cell_type": "markdown",
   "id": "7b2ddfff",
   "metadata": {},
   "source": [
    "The mean is: `[4.25, 2, 1.25, 3.75]`. So, let’s plug this new cluster centroid back into the original analysis. Our three cluster centers are:  \n",
    "- New centroid `(4.25, 2, 1.25, 3.75)` \n",
    "- Lemon `(1, 5, 2, 5)` \n",
    "- Grapefruit `(3, 4, 3, 5)`\n",
    "\n",
    "Maybe at this point, one of the other fruits is now closer to lemon or grapefruit than it is to new centroid? After all, new cluster was based around apple, but apple is no longer its centroid. So, it’s entirely possible that with the new centroid of new cluster, it will turn out that apple, banana, mango, or blueberry no longer quite belongs there. \n",
    "\n",
    "But in fact, all four members of new cluster — apple, banana, mango, and blueberry — still belong better with the new centroid than with grapefruit or lemon. So we are done; we have found our three clusters. If we found that we were still updating our centroids, we might want to continue further, until there are no more changes to make.\n",
    "\n",
    "We can then compute the within-cluster sum of squares (WCSS), which is the sum of the squared difference of each item from its own cluster centroid. For example, the sum of squared differences of apple from the centroid of its cluster (new cluster) is \n",
    "\n",
    "$$(4 - 4.25)^2 + (2 - 2)^2 + (1 - 1.25)^2 + (1 - 1.25)^2 + (4 - 3.75)^2 = 0.1875$$\n",
    "  "
   ]
  },
  {
   "cell_type": "code",
   "execution_count": 72,
   "id": "476f76e7",
   "metadata": {},
   "outputs": [
    {
     "name": "stdout",
     "output_type": "stream",
     "text": [
      "WCSS for Apple from new centroid: 0.1875\n"
     ]
    }
   ],
   "source": [
    "# calculate the wcss of apple from new centroid\n",
    "wcss_apple = np.sum((apple - avg_apple) ** 2)\n",
    "print(f\"WCSS for Apple from new centroid: {wcss_apple}\")"
   ]
  },
  {
   "cell_type": "markdown",
   "id": "459a68ad",
   "metadata": {},
   "source": [
    "We can find the total WCSS of all clusters as a measure of how well the clusters fit. As we add clusters, the WCSS should always decrease as the new clusters enable a better and better fit. \n",
    "\n",
    "In this situation, if we plot the WCSS (also called inertia) vs. k, the number of clusters, we get a graph that looks like Figure 1. "
   ]
  },
  {
   "cell_type": "code",
   "execution_count": 73,
   "id": "42b5e231",
   "metadata": {},
   "outputs": [
    {
     "data": {
      "image/png": "[encoded data removed]",
      "text/plain": [
       "<Figure size 640x480 with 1 Axes>"
      ]
     },
     "metadata": {},
     "output_type": "display_data"
    }
   ],
   "source": [
    "import matplotlib.pyplot as plt\n",
    "from sklearn.cluster import KMeans\n",
    "\n",
    "# 1. extract your feature matrix\n",
    "X = df.iloc[:, 1:].values\n",
    "\n",
    "# 2. compute inertia for k = 1…6\n",
    "ks = range(1, 7)\n",
    "inertias = []\n",
    "for k in ks:\n",
    "    km = KMeans(n_clusters=k, random_state=42)\n",
    "    km.fit(X)\n",
    "    inertias.append(km.inertia_)\n",
    "\n",
    "# 3. plot the elbow curve\n",
    "plt.plot(ks, inertias, '-o')\n",
    "plt.xticks(ks)\n",
    "plt.xlabel('Number of Clusters (k)')\n",
    "plt.ylabel('Within-Cluster Sum of Squares (inertia)')\n",
    "plt.title('Elbow Method: WCSS vs. k')\n",
    "plt.show()"
   ]
  },
  {
   "cell_type": "markdown",
   "id": "126a3393",
   "metadata": {},
   "source": [
    "When the number of clusters reaches six, the WCSS is precisely zero because each fruit is the centroid of its own cluster. The “elbow” method is a way of choosing a number of clusters based on this plot. To do it, we look for a place where there is a sharp bend in the curve where the slope abruptly increases (less negative). This appears to happen at $k = 2$, suggesting perhaps we should have two clusters, not three. It says that $k = 3$ clusters is not that much better than $k = 2$, but $k = 2$ is a lot better than $k = 1$. "
   ]
  },
  {
   "cell_type": "markdown",
   "id": "699b8ae0",
   "metadata": {},
   "source": [
    "## Silhouette Score, Feature Scaling\n",
    "It is important to use feature scaling for k-means if you want all features to count the same. Recall the real estate example used in last week’s content. Referring to that example of predicting housing prices, if the housing data has two features — price and number of bedrooms — then failing to scale your features will cause problems. If you have two houses: \n",
    "\n",
    "- ($300,000, one bedroom) \n",
    "- ($300,100, three bedroom) \n",
    "\n",
    "Then without scaling, k-means will consider the price difference ($100) to be more important than the bedroom difference (two) since 100 ﻿greater than﻿ 2. This is likely not what you want; a price difference of $100 is not very important, especially by comparison with the overall price of the house, while a bedroom difference of two is huge. \n",
    "\n",
    "The **Silhouette score** is a way of deciding how many clusters you want. It involves comparing the inter-cluster distance vs. the intra-cluster distance. For example, you’re using clustering to group neighborhoods based on housing features like median price, square footage, and proximity to amenities. After applying k-means clustering, you calculate the Silhouette score to evaluate how well-defined the clusters are — for instance, whether luxury, mid-range, and budget neighborhoods are clearly separated. A high Silhouette score would suggest that homes in each group are more similar to one another than to homes in other clusters, reinforcing that your clustering captures meaningful market segments. \n",
    "\n",
    "The intra-cluster distance of a point is its mean distance to the points in its own cluster (not counting its distance to itself in the mean, which is 0). The inter-cluster distance is its mean distance to the points in another cluster. (We choose the other cluster with the smallest mean distance.) The Silhouette score is the difference between these two, divided by the maximum of the two (which is usually the inter-cluster distance). We then choose the value of ﻿k﻿ for which the mean Silhouette score is as small as possible. \n",
    "\n",
    "**Note:** Because a point’s distance of 0 to itself does not count, the intra-cluster distance assumes that there are at least two points in the cluster. If the point is the only point in its cluster, then the Silhouette score is assumed to be 0. \n",
    "\n",
    "This is computationally expensive compared with the elbow method. \n",
    "\n",
    "### Why the Euclidean is the Best Metric for K-means (see: Week 8 K-Nearest Neighbor)\n",
    "K-means generally runs with the Euclidean distance metric. That's because the centroid minimizes the sum of squared distances only with this metric. For example, if we have points (1, 1), (1, -1), and (-2, 0), then the centroid is (0, 0) and the sum of squared distances is 8. This is the minimum possible sum of squared distances. The sum of the Manhattan distances, on the other hand, is 6. This can be improved upon by choosing the center point (1, 0), whose summed Manhattan distance is 5. \n",
    "\n",
    "### Think About It\n",
    "- When would we use the k-means algorithm? \n",
    "- When would the Silhouette score be used as opposed to the elbow method? \n",
    "- Why do we use k-means only with the Euclidean metric?"
   ]
  },
  {
   "cell_type": "markdown",
   "id": "f3152bfe",
   "metadata": {},
   "source": []
  }
 ],
 "metadata": {
  "kernelspec": {
   "display_name": "Python (uv)",
   "language": "python",
   "name": "uv"
  },
  "language_info": {
   "codemirror_mode": {
    "name": "ipython",
    "version": 3
   },
   "file_extension": ".py",
   "mimetype": "text/x-python",
   "name": "python",
   "nbconvert_exporter": "python",
   "pygments_lexer": "ipython3",
   "version": "3.11.7"
  }
 },
 "nbformat": 4,
 "nbformat_minor": 5
}
